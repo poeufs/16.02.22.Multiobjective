{
 "cells": [
  {
   "cell_type": "markdown",
   "metadata": {
    "pycharm": {
     "name": "#%% md\n"
    }
   },
   "source": [
    "# Optimization notebook\n",
    "This notebook is to run a multi-objective optimization with the Zambezi model. Two alternatives will be given to that end. First implementation is with the Platypus library which has a fairly simple interface. The second implementation is the EMA Workbench which additionally offers parallelization functionality"
   ]
  },
  {
   "cell_type": "code",
   "execution_count": 1,
   "metadata": {
    "ExecuteTime": {
     "end_time": "2023-09-11T23:59:32.562025200Z",
     "start_time": "2023-09-11T23:59:32.544026600Z"
    }
   },
   "outputs": [],
   "source": [
    "import pandas as pd\n",
    "import numpy as np\n",
    "import os\n",
    "os.chdir('../src')\n",
    "from model_zambezi_OPT import model_zambezi\n",
    "\n",
    "from platypus import NSGAII, Problem, Real"
   ]
  },
  {
   "cell_type": "code",
   "execution_count": 2,
   "metadata": {
    "ExecuteTime": {
     "end_time": "2023-09-11T23:59:32.659554200Z",
     "start_time": "2023-09-11T23:59:32.552026700Z"
    }
   },
   "outputs": [],
   "source": [
    "ZambeziProblem = model_zambezi()"
   ]
  },
  {
   "cell_type": "markdown",
   "metadata": {},
   "source": [
    "## Platypus (NSGAII)"
   ]
  },
  {
   "cell_type": "code",
   "execution_count": 3,
   "metadata": {
    "ExecuteTime": {
     "end_time": "2023-09-12T00:42:30.788181900Z",
     "start_time": "2023-09-11T23:59:32.663555100Z"
    }
   },
   "outputs": [],
   "source": [
    "problem = Problem(ZambeziProblem.Nvar, ZambeziProblem.Nobj)\n",
    "problem.types[:] = Real(0, 1)\n",
    "problem.function = ZambeziProblem.evaluate\n",
    "\n",
    "algorithm = NSGAII(problem=problem, population_size=20)\n",
    "algorithm.run(100)"
   ]
  },
  {
   "cell_type": "code",
   "execution_count": 4,
   "metadata": {
    "ExecuteTime": {
     "end_time": "2023-09-12T00:42:30.837694400Z",
     "start_time": "2023-09-12T00:42:30.816693200Z"
    }
   },
   "outputs": [],
   "source": [
    "objectives_outcome = dict()\n",
    "for i, column_name in enumerate(['Hydropower','Environment','Irrigation']):\n",
    "    objectives_outcome[column_name] = [s.objectives[i] for s in algorithm.result]\n",
    "\n",
    "objectives_df = pd.DataFrame(objectives_outcome)\n"
   ]
  },
  {
   "cell_type": "code",
   "execution_count": 5,
   "metadata": {
    "ExecuteTime": {
     "end_time": "2023-09-12T00:42:34.943563900Z",
     "start_time": "2023-09-12T00:42:30.835695700Z"
    }
   },
   "outputs": [
    {
     "name": "stdout",
     "output_type": "stream",
     "text": [
      "    Hydropower   Environment  Irrigation\n",
      "0    15.510580  2.784769e+06    1.013334\n",
      "1    14.228917  3.972904e+06    1.683687\n",
      "2    15.929588  2.350741e+06    2.813271\n",
      "3    16.596866  2.277155e+06    2.774887\n",
      "4    17.540535  2.453705e+06    1.190322\n",
      "5    14.675349  3.518300e+06    1.693567\n",
      "6    15.231850  2.794933e+06    1.242961\n",
      "7    17.464224  2.455910e+06    1.157568\n",
      "8    16.889858  2.315323e+06    2.140472\n",
      "9    16.789886  2.418906e+06    1.970405\n",
      "10   16.862590  2.408533e+06    1.456068\n",
      "11   16.626252  2.280497e+06    2.273390\n",
      "12   15.035113  2.405980e+06    2.554789\n",
      "13   16.086162  2.363632e+06    2.675050\n",
      "14   14.978454  2.792946e+06    1.704016\n",
      "15   15.495462  2.435764e+06    2.216868\n",
      "16   14.949365  2.378213e+06    2.640432\n",
      "17   15.698612  2.444640e+06    1.699472\n",
      "18   17.469172  2.454862e+06    1.099878\n",
      "19   15.027633  2.405705e+06    2.555526\n"
     ]
    },
    {
     "ename": "AttributeError",
     "evalue": "'DataFrame' object has no attribute 'append'",
     "output_type": "error",
     "traceback": [
      "\u001b[1;31m---------------------------------------------------------------------------\u001b[0m",
      "\u001b[1;31mAttributeError\u001b[0m                            Traceback (most recent call last)",
      "\u001b[1;32mc:\\Users\\dakoluk\\Documents\\16.02.22.Multiobjective\\Multiobjective-multi-reservoir-control-d50e4da0f6a9a9c852b4904e640299adc96714bb\\ZambeziSmashPython\\notebooks\\Optimization.ipynb Cell 7\u001b[0m line \u001b[0;36m3\n\u001b[0;32m      <a href='vscode-notebook-cell:/c%3A/Users/dakoluk/Documents/16.02.22.Multiobjective/Multiobjective-multi-reservoir-control-d50e4da0f6a9a9c852b4904e640299adc96714bb/ZambeziSmashPython/notebooks/Optimization.ipynb#W6sZmlsZQ%3D%3D?line=0'>1</a>\u001b[0m \u001b[39mprint\u001b[39m(objectives_df)\n\u001b[0;32m      <a href='vscode-notebook-cell:/c%3A/Users/dakoluk/Documents/16.02.22.Multiobjective/Multiobjective-multi-reservoir-control-d50e4da0f6a9a9c852b4904e640299adc96714bb/ZambeziSmashPython/notebooks/Optimization.ipynb#W6sZmlsZQ%3D%3D?line=1'>2</a>\u001b[0m \u001b[39mfrom\u001b[39;00m \u001b[39mvarious_plots\u001b[39;00m \u001b[39mimport\u001b[39;00m parallel_plots\n\u001b[1;32m----> <a href='vscode-notebook-cell:/c%3A/Users/dakoluk/Documents/16.02.22.Multiobjective/Multiobjective-multi-reservoir-control-d50e4da0f6a9a9c852b4904e640299adc96714bb/ZambeziSmashPython/notebooks/Optimization.ipynb#W6sZmlsZQ%3D%3D?line=2'>3</a>\u001b[0m parallel_plots(objectives_df)\n",
      "File \u001b[1;32mc:\\Users\\dakoluk\\Documents\\16.02.22.Multiobjective\\Multiobjective-multi-reservoir-control-d50e4da0f6a9a9c852b4904e640299adc96714bb\\ZambeziSmashPython\\src\\various_plots.py:28\u001b[0m, in \u001b[0;36mparallel_plots\u001b[1;34m(objectives_df)\u001b[0m\n\u001b[0;32m     26\u001b[0m objectives_df[\u001b[39m'\u001b[39m\u001b[39mName\u001b[39m\u001b[39m'\u001b[39m] \u001b[39m=\u001b[39m \u001b[39m\"\u001b[39m\u001b[39mAll Solutions\u001b[39m\u001b[39m\"\u001b[39m\n\u001b[0;32m     27\u001b[0m \u001b[39mfor\u001b[39;00m column \u001b[39min\u001b[39;00m names:\n\u001b[1;32m---> 28\u001b[0m     objectives_df \u001b[39m=\u001b[39m objectives_df\u001b[39m.\u001b[39;49mappend(objectives_df\u001b[39m.\u001b[39mloc[objectives_df[column] \u001b[39m==\u001b[39m \u001b[39m1\u001b[39m, :], ignore_index\u001b[39m=\u001b[39m\u001b[39mTrue\u001b[39;00m)\n\u001b[0;32m     29\u001b[0m     objectives_df\u001b[39m.\u001b[39miloc[\u001b[39m-\u001b[39m\u001b[39m1\u001b[39m, \u001b[39m-\u001b[39m\u001b[39m1\u001b[39m] \u001b[39m=\u001b[39m \u001b[39m\"\u001b[39m\u001b[39mBest \u001b[39m\u001b[39m\"\u001b[39m \u001b[39m+\u001b[39m column\n\u001b[0;32m     31\u001b[0m fig \u001b[39m=\u001b[39m plt\u001b[39m.\u001b[39mfigure()\n",
      "File \u001b[1;32mc:\\Users\\dakoluk\\AppData\\Local\\Programs\\Python\\Python310\\lib\\site-packages\\pandas\\core\\generic.py:5989\u001b[0m, in \u001b[0;36mNDFrame.__getattr__\u001b[1;34m(self, name)\u001b[0m\n\u001b[0;32m   5982\u001b[0m \u001b[39mif\u001b[39;00m (\n\u001b[0;32m   5983\u001b[0m     name \u001b[39mnot\u001b[39;00m \u001b[39min\u001b[39;00m \u001b[39mself\u001b[39m\u001b[39m.\u001b[39m_internal_names_set\n\u001b[0;32m   5984\u001b[0m     \u001b[39mand\u001b[39;00m name \u001b[39mnot\u001b[39;00m \u001b[39min\u001b[39;00m \u001b[39mself\u001b[39m\u001b[39m.\u001b[39m_metadata\n\u001b[0;32m   5985\u001b[0m     \u001b[39mand\u001b[39;00m name \u001b[39mnot\u001b[39;00m \u001b[39min\u001b[39;00m \u001b[39mself\u001b[39m\u001b[39m.\u001b[39m_accessors\n\u001b[0;32m   5986\u001b[0m     \u001b[39mand\u001b[39;00m \u001b[39mself\u001b[39m\u001b[39m.\u001b[39m_info_axis\u001b[39m.\u001b[39m_can_hold_identifiers_and_holds_name(name)\n\u001b[0;32m   5987\u001b[0m ):\n\u001b[0;32m   5988\u001b[0m     \u001b[39mreturn\u001b[39;00m \u001b[39mself\u001b[39m[name]\n\u001b[1;32m-> 5989\u001b[0m \u001b[39mreturn\u001b[39;00m \u001b[39mobject\u001b[39;49m\u001b[39m.\u001b[39;49m\u001b[39m__getattribute__\u001b[39;49m(\u001b[39mself\u001b[39;49m, name)\n",
      "\u001b[1;31mAttributeError\u001b[0m: 'DataFrame' object has no attribute 'append'"
     ]
    }
   ],
   "source": [
    "print(objectives_df)\n",
    "from various_plots import parallel_plots\n",
    "parallel_plots(objectives_df)"
   ]
  },
  {
   "cell_type": "markdown",
   "metadata": {},
   "source": [
    "## EMA Workbench"
   ]
  },
  {
   "cell_type": "code",
   "execution_count": null,
   "metadata": {
    "ExecuteTime": {
     "end_time": "2023-09-12T00:42:34.957606800Z",
     "start_time": "2023-09-12T00:42:34.943563900Z"
    }
   },
   "outputs": [],
   "source": [
    "def model_wrapper(**kwargs):\n",
    "    input = [kwargs['v' + str(i)] for i in range(len(kwargs))]\n",
    "    Hydropower, Environment, Irrigation = tuple(ZambeziProblem.evaluate(np.array(input)))\n",
    "    return Hydropower, Environment, Irrigation\n"
   ]
  },
  {
   "cell_type": "code",
   "execution_count": null,
   "metadata": {
    "ExecuteTime": {
     "end_time": "2023-09-12T09:18:25.552516200Z",
     "start_time": "2023-09-12T09:18:25.303470300Z"
    }
   },
   "outputs": [],
   "source": [
    "from ema_workbench import (RealParameter, ScalarOutcome, Constant,\n",
    "                           Model)\n",
    "\n",
    "model = Model('zambeziproblem', function=model_wrapper)\n",
    "\n",
    "model.levers = [RealParameter('v' + str(i), -1, 1) for i in range(ZambeziProblem.Nvar)]\n",
    "\n",
    "#specify outcomes\n",
    "model.outcomes = [ScalarOutcome('Hydropower', ScalarOutcome.MINIMIZE),\n",
    "                  ScalarOutcome('Environment', ScalarOutcome.MINIMIZE),\n",
    "                  ScalarOutcome('Irrigation', ScalarOutcome.MINIMIZE)]"
   ]
  },
  {
   "cell_type": "code",
   "execution_count": null,
   "metadata": {},
   "outputs": [
    {
     "name": "stdout",
     "output_type": "stream",
     "text": [
      "3\n"
     ]
    },
    {
     "ename": "KeyError",
     "evalue": "10",
     "output_type": "error",
     "traceback": [
      "\u001b[1;31m---------------------------------------------------------------------------\u001b[0m",
      "\u001b[1;31mKeyError\u001b[0m                                  Traceback (most recent call last)",
      "\u001b[1;32mc:\\Users\\dakoluk\\Documents\\16.02.22.Multiobjective\\Multiobjective-multi-reservoir-control-d50e4da0f6a9a9c852b4904e640299adc96714bb\\ZambeziSmashPython\\notebooks\\Optimization.ipynb Cell 11\u001b[0m line \u001b[0;36m2\n\u001b[0;32m      <a href='vscode-notebook-cell:/c%3A/Users/dakoluk/Documents/16.02.22.Multiobjective/Multiobjective-multi-reservoir-control-d50e4da0f6a9a9c852b4904e640299adc96714bb/ZambeziSmashPython/notebooks/Optimization.ipynb#X16sZmlsZQ%3D%3D?line=0'>1</a>\u001b[0m \u001b[39mprint\u001b[39m(\u001b[39mlen\u001b[39m(model\u001b[39m.\u001b[39moutcomes))\n\u001b[1;32m----> <a href='vscode-notebook-cell:/c%3A/Users/dakoluk/Documents/16.02.22.Multiobjective/Multiobjective-multi-reservoir-control-d50e4da0f6a9a9c852b4904e640299adc96714bb/ZambeziSmashPython/notebooks/Optimization.ipynb#X16sZmlsZQ%3D%3D?line=1'>2</a>\u001b[0m \u001b[39mprint\u001b[39m(model\u001b[39m.\u001b[39;49moutcomes[\u001b[39m10\u001b[39;49m])\n\u001b[0;32m      <a href='vscode-notebook-cell:/c%3A/Users/dakoluk/Documents/16.02.22.Multiobjective/Multiobjective-multi-reservoir-control-d50e4da0f6a9a9c852b4904e640299adc96714bb/ZambeziSmashPython/notebooks/Optimization.ipynb#X16sZmlsZQ%3D%3D?line=2'>3</a>\u001b[0m \u001b[39mprint\u001b[39m(model\u001b[39m.\u001b[39moutcomes\u001b[39m*\u001b[39m\u001b[39m0.1\u001b[39m)\n",
      "File \u001b[1;32mc:\\Users\\dakoluk\\AppData\\Local\\Programs\\Python\\Python310\\lib\\site-packages\\ema_workbench\\em_framework\\util.py:91\u001b[0m, in \u001b[0;36mNamedObjectMap.__getitem__\u001b[1;34m(self, key)\u001b[0m\n\u001b[0;32m     89\u001b[0m         \u001b[39mif\u001b[39;00m i \u001b[39m==\u001b[39m key:\n\u001b[0;32m     90\u001b[0m             \u001b[39mreturn\u001b[39;00m v\n\u001b[1;32m---> 91\u001b[0m     \u001b[39mraise\u001b[39;00m \u001b[39mKeyError\u001b[39;00m(key)\n\u001b[0;32m     92\u001b[0m \u001b[39melse\u001b[39;00m:\n\u001b[0;32m     93\u001b[0m     \u001b[39mreturn\u001b[39;00m \u001b[39mself\u001b[39m\u001b[39m.\u001b[39m_data[key]\n",
      "\u001b[1;31mKeyError\u001b[0m: 10"
     ]
    }
   ],
   "source": [
    "print(len(model.outcomes))"
   ]
  },
  {
   "cell_type": "code",
   "execution_count": null,
   "metadata": {},
   "outputs": [],
   "source": [
    "from ema_workbench import MultiprocessingEvaluator, SequentialEvaluator, ema_logging\n",
    "import dill\n",
    "\n",
    "ema_logging.log_to_stderr(ema_logging.INFO)\n",
    "\n",
    "with MultiprocessingEvaluator(model) as evaluator:\n",
    "    results = evaluator.optimize(nfe=100,  searchover='levers', epsilons=[0.1, 0.1, 0.1])"
   ]
  },
  {
   "cell_type": "code",
   "execution_count": null,
   "metadata": {
    "ExecuteTime": {
     "end_time": "2023-09-12T09:10:44.076457700Z",
     "start_time": "2023-09-12T09:10:43.416997300Z"
    }
   },
   "outputs": [
    {
     "name": "stdout",
     "output_type": "stream",
     "text": [
      "Waiting for connection file: ~\\.ipython\\profile_default\\security\\ipcontroller-client.json\n"
     ]
    },
    {
     "ename": "OSError",
     "evalue": "Connection file '~\\\\.ipython\\\\profile_default\\\\security\\\\ipcontroller-client.json' not found.\nYou have attempted to connect to an IPython Cluster but no Controller could be found.\nPlease double-check your configuration and ensure that a cluster is running.",
     "output_type": "error",
     "traceback": [
      "\u001b[1;31m---------------------------------------------------------------------------\u001b[0m",
      "\u001b[1;31mOSError\u001b[0m                                   Traceback (most recent call last)",
      "\u001b[1;32mc:\\Users\\dakoluk\\Documents\\16.02.22.Multiobjective\\Multiobjective-multi-reservoir-control-d50e4da0f6a9a9c852b4904e640299adc96714bb\\ZambeziSmashPython\\notebooks\\Optimization.ipynb Cell 11\u001b[0m line \u001b[0;36m8\n\u001b[0;32m      <a href='vscode-notebook-cell:/c%3A/Users/dakoluk/Documents/16.02.22.Multiobjective/Multiobjective-multi-reservoir-control-d50e4da0f6a9a9c852b4904e640299adc96714bb/ZambeziSmashPython/notebooks/Optimization.ipynb#X13sZmlsZQ%3D%3D?line=3'>4</a>\u001b[0m \u001b[39mimport\u001b[39;00m \u001b[39mdill\u001b[39;00m\n\u001b[0;32m      <a href='vscode-notebook-cell:/c%3A/Users/dakoluk/Documents/16.02.22.Multiobjective/Multiobjective-multi-reservoir-control-d50e4da0f6a9a9c852b4904e640299adc96714bb/ZambeziSmashPython/notebooks/Optimization.ipynb#X13sZmlsZQ%3D%3D?line=4'>5</a>\u001b[0m \u001b[39mfrom\u001b[39;00m \u001b[39mipyparallel\u001b[39;00m \u001b[39mimport\u001b[39;00m Client\n\u001b[1;32m----> <a href='vscode-notebook-cell:/c%3A/Users/dakoluk/Documents/16.02.22.Multiobjective/Multiobjective-multi-reservoir-control-d50e4da0f6a9a9c852b4904e640299adc96714bb/ZambeziSmashPython/notebooks/Optimization.ipynb#X13sZmlsZQ%3D%3D?line=7'>8</a>\u001b[0m rc \u001b[39m=\u001b[39m Client()\n\u001b[0;32m     <a href='vscode-notebook-cell:/c%3A/Users/dakoluk/Documents/16.02.22.Multiobjective/Multiobjective-multi-reservoir-control-d50e4da0f6a9a9c852b4904e640299adc96714bb/ZambeziSmashPython/notebooks/Optimization.ipynb#X13sZmlsZQ%3D%3D?line=9'>10</a>\u001b[0m ema_logging\u001b[39m.\u001b[39mlog_to_stderr(ema_logging\u001b[39m.\u001b[39mINFO)\n\u001b[0;32m     <a href='vscode-notebook-cell:/c%3A/Users/dakoluk/Documents/16.02.22.Multiobjective/Multiobjective-multi-reservoir-control-d50e4da0f6a9a9c852b4904e640299adc96714bb/ZambeziSmashPython/notebooks/Optimization.ipynb#X13sZmlsZQ%3D%3D?line=11'>12</a>\u001b[0m \u001b[39mwith\u001b[39;00m IpyparallelEvaluator(model, client\u001b[39m=\u001b[39mrc) \u001b[39mas\u001b[39;00m evaluator:\n",
      "File \u001b[1;32mc:\\Users\\dakoluk\\AppData\\Local\\Programs\\Python\\Python310\\lib\\site-packages\\ipyparallel\\client\\client.py:454\u001b[0m, in \u001b[0;36mClient.__init__\u001b[1;34m(self, connection_info, url_file, profile, profile_dir, ipython_dir, context, debug, sshserver, sshkey, password, paramiko, timeout, cluster_id, cluster, **extra_args)\u001b[0m\n\u001b[0;32m    452\u001b[0m \u001b[39mif\u001b[39;00m \u001b[39mnot\u001b[39;00m os\u001b[39m.\u001b[39mpath\u001b[39m.\u001b[39mexists(connection_file):\n\u001b[0;32m    453\u001b[0m     msg \u001b[39m=\u001b[39m \u001b[39m'\u001b[39m\u001b[39m\\n\u001b[39;00m\u001b[39m'\u001b[39m\u001b[39m.\u001b[39mjoin([\u001b[39mf\u001b[39m\u001b[39m\"\u001b[39m\u001b[39mConnection file \u001b[39m\u001b[39m{\u001b[39;00mshort\u001b[39m!r}\u001b[39;00m\u001b[39m not found.\u001b[39m\u001b[39m\"\u001b[39m, no_file_msg])\n\u001b[1;32m--> 454\u001b[0m     \u001b[39mraise\u001b[39;00m \u001b[39mOSError\u001b[39;00m(msg)\n\u001b[0;32m    456\u001b[0m \u001b[39mwith\u001b[39;00m \u001b[39mopen\u001b[39m(connection_file) \u001b[39mas\u001b[39;00m f:\n\u001b[0;32m    457\u001b[0m     connection_info \u001b[39m=\u001b[39m json\u001b[39m.\u001b[39mload(f)\n",
      "\u001b[1;31mOSError\u001b[0m: Connection file '~\\\\.ipython\\\\profile_default\\\\security\\\\ipcontroller-client.json' not found.\nYou have attempted to connect to an IPython Cluster but no Controller could be found.\nPlease double-check your configuration and ensure that a cluster is running."
     ]
    }
   ],
   "source": [
    "from ema_workbench import MultiprocessingEvaluator, SequentialEvaluator, IpyparallelEvaluator, ema_logging\n",
    "from ema_workbench.em_framework.ema_ipyparallel import (start_logwatcher, set_engine_logger,\n",
    "                                  initialize_engines, cleanup, _run_experiment)\n",
    "import dill\n",
    "from ipyparallel import Client\n",
    "\n",
    "\n",
    "rc = Client()\n",
    "\n",
    "ema_logging.log_to_stderr(ema_logging.INFO)\n",
    "\n",
    "with IpyparallelEvaluator(model, client=rc) as evaluator:\n",
    "    results = evaluator.optimize(nfe=100, searchover='levers',\n",
    "    epsilons=[0.1,]*len(model.outcomes))"
   ]
  },
  {
   "cell_type": "code",
   "execution_count": null,
   "metadata": {
    "collapsed": false,
    "jupyter": {
     "outputs_hidden": false
    }
   },
   "outputs": [],
   "source": []
  }
 ],
 "metadata": {
  "interpreter": {
   "hash": "aee8b7b246df8f9039afb4144a1f6fd8d2ca17a180786b69acc140d282b71a49"
  },
  "kernelspec": {
   "display_name": "Python 3 (ipykernel)",
   "language": "python",
   "name": "python3"
  },
  "language_info": {
   "codemirror_mode": {
    "name": "ipython",
    "version": 3
   },
   "file_extension": ".py",
   "mimetype": "text/x-python",
   "name": "python",
   "nbconvert_exporter": "python",
   "pygments_lexer": "ipython3",
   "version": "3.10.7"
  }
 },
 "nbformat": 4,
 "nbformat_minor": 4
}
