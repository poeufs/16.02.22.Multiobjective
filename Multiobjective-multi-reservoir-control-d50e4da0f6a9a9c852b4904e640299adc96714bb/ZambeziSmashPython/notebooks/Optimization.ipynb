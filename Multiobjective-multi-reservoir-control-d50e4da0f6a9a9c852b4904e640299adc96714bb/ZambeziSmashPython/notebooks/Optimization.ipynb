{
 "cells": [
  {
   "cell_type": "markdown",
   "metadata": {
    "pycharm": {
     "name": "#%% md\n"
    }
   },
   "source": [
    "# Optimization notebook\n",
    "This notebook is to run a multi-objective optimization with the Zambezi model. Two alternatives will be given to that end. First implementation is with the Platypus library which has a fairly simple interface. The second implementation is the EMA Workbench which additionally offers parallelization functionality"
   ]
  },
  {
   "cell_type": "code",
   "execution_count": 1,
   "metadata": {
    "ExecuteTime": {
     "end_time": "2023-09-11T23:59:32.562025200Z",
     "start_time": "2023-09-11T23:59:32.544026600Z"
    }
   },
   "outputs": [],
   "source": [
    "import pandas as pd\n",
    "import numpy as np\n",
    "import os\n",
    "os.chdir('../src')\n",
    "from model_zambezi_OPT import model_zambezi\n",
    "\n",
    "from platypus import NSGAII, Problem, Real"
   ]
  },
  {
   "cell_type": "code",
   "execution_count": 2,
   "metadata": {
    "ExecuteTime": {
     "end_time": "2023-09-11T23:59:32.659554200Z",
     "start_time": "2023-09-11T23:59:32.552026700Z"
    }
   },
   "outputs": [],
   "source": [
    "ZambeziProblem = model_zambezi()"
   ]
  },
  {
   "cell_type": "markdown",
   "metadata": {},
   "source": [
    "## Platypus (NSGAII)"
   ]
  },
  {
   "cell_type": "code",
   "execution_count": null,
   "metadata": {
    "ExecuteTime": {
     "end_time": "2023-09-12T00:42:30.788181900Z",
     "start_time": "2023-09-11T23:59:32.663555100Z"
    }
   },
   "outputs": [],
   "source": [
    "problem = Problem(ZambeziProblem.Nvar, ZambeziProblem.Nobj)\n",
    "problem.types[:] = Real(0, 1)\n",
    "problem.function = ZambeziProblem.evaluate\n",
    "\n",
    "algorithm = NSGAII(problem=problem, population_size=20)\n",
    "algorithm.run(100)"
   ]
  },
  {
   "cell_type": "code",
   "execution_count": 3,
   "metadata": {
    "ExecuteTime": {
     "end_time": "2023-09-12T00:42:30.837694400Z",
     "start_time": "2023-09-12T00:42:30.816693200Z"
    }
   },
   "outputs": [
    {
     "ename": "NameError",
     "evalue": "name 'algorithm' is not defined",
     "output_type": "error",
     "traceback": [
      "\u001b[1;31m---------------------------------------------------------------------------\u001b[0m",
      "\u001b[1;31mNameError\u001b[0m                                 Traceback (most recent call last)",
      "\u001b[1;32mc:\\Users\\dakoluk\\Documents\\16.02.22.Multiobjective\\Multiobjective-multi-reservoir-control-d50e4da0f6a9a9c852b4904e640299adc96714bb\\ZambeziSmashPython\\notebooks\\Optimization.ipynb Cell 6\u001b[0m line \u001b[0;36m3\n\u001b[0;32m      <a href='vscode-notebook-cell:/c%3A/Users/dakoluk/Documents/16.02.22.Multiobjective/Multiobjective-multi-reservoir-control-d50e4da0f6a9a9c852b4904e640299adc96714bb/ZambeziSmashPython/notebooks/Optimization.ipynb#W5sZmlsZQ%3D%3D?line=0'>1</a>\u001b[0m objectives_outcome \u001b[39m=\u001b[39m \u001b[39mdict\u001b[39m()\n\u001b[0;32m      <a href='vscode-notebook-cell:/c%3A/Users/dakoluk/Documents/16.02.22.Multiobjective/Multiobjective-multi-reservoir-control-d50e4da0f6a9a9c852b4904e640299adc96714bb/ZambeziSmashPython/notebooks/Optimization.ipynb#W5sZmlsZQ%3D%3D?line=1'>2</a>\u001b[0m \u001b[39mfor\u001b[39;00m i, column_name \u001b[39min\u001b[39;00m \u001b[39menumerate\u001b[39m([\u001b[39m'\u001b[39m\u001b[39mHydropower\u001b[39m\u001b[39m'\u001b[39m,\u001b[39m'\u001b[39m\u001b[39mEnvironment\u001b[39m\u001b[39m'\u001b[39m,\u001b[39m'\u001b[39m\u001b[39mIrrigation\u001b[39m\u001b[39m'\u001b[39m]):\n\u001b[1;32m----> <a href='vscode-notebook-cell:/c%3A/Users/dakoluk/Documents/16.02.22.Multiobjective/Multiobjective-multi-reservoir-control-d50e4da0f6a9a9c852b4904e640299adc96714bb/ZambeziSmashPython/notebooks/Optimization.ipynb#W5sZmlsZQ%3D%3D?line=2'>3</a>\u001b[0m     objectives_outcome[column_name] \u001b[39m=\u001b[39m [s\u001b[39m.\u001b[39mobjectives[i] \u001b[39mfor\u001b[39;00m s \u001b[39min\u001b[39;00m algorithm\u001b[39m.\u001b[39mresult]\n\u001b[0;32m      <a href='vscode-notebook-cell:/c%3A/Users/dakoluk/Documents/16.02.22.Multiobjective/Multiobjective-multi-reservoir-control-d50e4da0f6a9a9c852b4904e640299adc96714bb/ZambeziSmashPython/notebooks/Optimization.ipynb#W5sZmlsZQ%3D%3D?line=4'>5</a>\u001b[0m objectives_df \u001b[39m=\u001b[39m pd\u001b[39m.\u001b[39mDataFrame(objectives_outcome)\n",
      "\u001b[1;31mNameError\u001b[0m: name 'algorithm' is not defined"
     ]
    }
   ],
   "source": [
    "objectives_outcome = dict()\n",
    "for i, column_name in enumerate(['Hydropower','Environment','Irrigation']):\n",
    "    objectives_outcome[column_name] = [s.objectives[i] for s in algorithm.result]\n",
    "\n",
    "objectives_df = pd.DataFrame(objectives_outcome)\n"
   ]
  },
  {
   "cell_type": "code",
   "execution_count": 4,
   "metadata": {
    "ExecuteTime": {
     "end_time": "2023-09-12T00:42:34.943563900Z",
     "start_time": "2023-09-12T00:42:30.835695700Z"
    }
   },
   "outputs": [
    {
     "ename": "NameError",
     "evalue": "name 'objectives_df' is not defined",
     "output_type": "error",
     "traceback": [
      "\u001b[1;31m---------------------------------------------------------------------------\u001b[0m",
      "\u001b[1;31mNameError\u001b[0m                                 Traceback (most recent call last)",
      "\u001b[1;32mc:\\Users\\dakoluk\\Documents\\16.02.22.Multiobjective\\Multiobjective-multi-reservoir-control-d50e4da0f6a9a9c852b4904e640299adc96714bb\\ZambeziSmashPython\\notebooks\\Optimization.ipynb Cell 7\u001b[0m line \u001b[0;36m1\n\u001b[1;32m----> <a href='vscode-notebook-cell:/c%3A/Users/dakoluk/Documents/16.02.22.Multiobjective/Multiobjective-multi-reservoir-control-d50e4da0f6a9a9c852b4904e640299adc96714bb/ZambeziSmashPython/notebooks/Optimization.ipynb#W6sZmlsZQ%3D%3D?line=0'>1</a>\u001b[0m \u001b[39mprint\u001b[39m(objectives_df)\n\u001b[0;32m      <a href='vscode-notebook-cell:/c%3A/Users/dakoluk/Documents/16.02.22.Multiobjective/Multiobjective-multi-reservoir-control-d50e4da0f6a9a9c852b4904e640299adc96714bb/ZambeziSmashPython/notebooks/Optimization.ipynb#W6sZmlsZQ%3D%3D?line=1'>2</a>\u001b[0m \u001b[39mfrom\u001b[39;00m \u001b[39msrc\u001b[39;00m\u001b[39m.\u001b[39;00m\u001b[39mvarious_plots\u001b[39;00m \u001b[39mimport\u001b[39;00m parallel_plots\n\u001b[0;32m      <a href='vscode-notebook-cell:/c%3A/Users/dakoluk/Documents/16.02.22.Multiobjective/Multiobjective-multi-reservoir-control-d50e4da0f6a9a9c852b4904e640299adc96714bb/ZambeziSmashPython/notebooks/Optimization.ipynb#W6sZmlsZQ%3D%3D?line=2'>3</a>\u001b[0m parallel_plots(objectives_df)\n",
      "\u001b[1;31mNameError\u001b[0m: name 'objectives_df' is not defined"
     ]
    }
   ],
   "source": [
    "print(objectives_df)\n",
    "from src.various_plots import parallel_plots\n",
    "parallel_plots(objectives_df)"
   ]
  },
  {
   "cell_type": "markdown",
   "metadata": {},
   "source": [
    "## EMA Workbench"
   ]
  },
  {
   "cell_type": "code",
   "execution_count": 5,
   "metadata": {
    "ExecuteTime": {
     "end_time": "2023-09-12T00:42:34.957606800Z",
     "start_time": "2023-09-12T00:42:34.943563900Z"
    }
   },
   "outputs": [],
   "source": [
    "def model_wrapper(**kwargs):\n",
    "    input = [kwargs['v' + str(i)] for i in range(len(kwargs))]\n",
    "    Hydropower, Environment, Irrigation = tuple(ZambeziProblem.evaluate(np.array(input)))\n",
    "    return Hydropower, Environment, Irrigation\n"
   ]
  },
  {
   "cell_type": "code",
   "execution_count": 6,
   "metadata": {
    "ExecuteTime": {
     "end_time": "2023-09-12T09:18:25.552516200Z",
     "start_time": "2023-09-12T09:18:25.303470300Z"
    }
   },
   "outputs": [],
   "source": [
    "from ema_workbench import (RealParameter, ScalarOutcome, Constant,\n",
    "                           Model)\n",
    "\n",
    "model = Model('zambeziproblem', function=model_wrapper)\n",
    "\n",
    "model.levers = [RealParameter('v' + str(i), -1, 1) for i in range(ZambeziProblem.Nvar)]\n",
    "\n",
    "#specify outcomes\n",
    "model.outcomes = [ScalarOutcome('Hydropower', ScalarOutcome.MINIMIZE),\n",
    "                  ScalarOutcome('Environment', ScalarOutcome.MINIMIZE),\n",
    "                  ScalarOutcome('Irrigation', ScalarOutcome.MINIMIZE)]"
   ]
  },
  {
   "cell_type": "markdown",
   "metadata": {},
   "source": [
    "## First trying with SequentialEvaluator"
   ]
  },
  {
   "cell_type": "code",
   "execution_count": null,
   "metadata": {},
   "outputs": [],
   "source": [
    "from ema_workbench import MultiprocessingEvaluator, SequentialEvaluator, ema_logging\n",
    "import dill\n",
    "\n",
    "ema_logging.log_to_stderr(ema_logging.INFO)\n",
    "\n",
    "with SequentialEvaluator(model) as evaluator:\n",
    "    results = evaluator.optimize(nfe=100,  searchover='levers', epsilons=[0.1, 0.1, 0.1])"
   ]
  },
  {
   "cell_type": "markdown",
   "metadata": {},
   "source": [
    "## MultiprocessingEvaluator"
   ]
  },
  {
   "cell_type": "code",
   "execution_count": 16,
   "metadata": {},
   "outputs": [],
   "source": [
    "from ema_workbench import MultiprocessingEvaluator, SequentialEvaluator, ema_logging\n",
    "import dill\n",
    "\n",
    "ema_logging.log_to_stderr(ema_logging.INFO)\n",
    "\n",
    "with MultiprocessingEvaluator(model) as evaluator:\n",
    "    results = evaluator.optimize(nfe=100,  searchover='levers', epsilons=[0.1, 0.1, 0.1])"
   ]
  },
  {
   "cell_type": "markdown",
   "metadata": {},
   "source": [
    "## Just giving different epsilon values with SequentialEvaluator"
   ]
  },
  {
   "cell_type": "code",
   "execution_count": 8,
   "metadata": {},
   "outputs": [
    {
     "name": "stderr",
     "output_type": "stream",
     "text": [
      "  0%|                                                  | 0/100 [00:00<?, ?it/s]c:\\Users\\dakoluk\\Documents\\16.02.22.Multiobjective\\Multiobjective-multi-reservoir-control-d50e4da0f6a9a9c852b4904e640299adc96714bb\\ZambeziSmashPython\\src\\alternative_policy_structures.py:33: RuntimeWarning: divide by zero encountered in double_scalars\n",
      "  y = min(input_inflow,input_w*(pow(input_inflow/hdg_dn,m)))\n",
      "c:\\Users\\dakoluk\\Documents\\16.02.22.Multiobjective\\Multiobjective-multi-reservoir-control-d50e4da0f6a9a9c852b4904e640299adc96714bb\\ZambeziSmashPython\\src\\alternative_policy_structures.py:33: RuntimeWarning: invalid value encountered in double_scalars\n",
      "  y = min(input_inflow,input_w*(pow(input_inflow/hdg_dn,m)))\n",
      "100%|████████████████████████████████████████| 100/100 [30:24<00:00, 18.24s/it]\n",
      "[MainProcess/INFO] optimization completed, found 3 solutions\n"
     ]
    }
   ],
   "source": [
    "from ema_workbench import MultiprocessingEvaluator, SequentialEvaluator, ema_logging\n",
    "import dill\n",
    "\n",
    "ema_logging.log_to_stderr(ema_logging.INFO)\n",
    "\n",
    "with SequentialEvaluator(model) as evaluator:\n",
    "    results = evaluator.optimize(nfe=100,  searchover='levers', epsilons=[0.1,]*len(model.outcomes))"
   ]
  },
  {
   "cell_type": "markdown",
   "metadata": {},
   "source": [
    "## Just giving different epsilon values with MultiprocessingEvaluator"
   ]
  },
  {
   "cell_type": "code",
   "execution_count": null,
   "metadata": {},
   "outputs": [],
   "source": [
    "from ema_workbench import MultiprocessingEvaluator, ema_logging\n",
    "import dill\n",
    "\n",
    "ema_logging.log_to_stderr(ema_logging.INFO)\n",
    "\n",
    "with MultiprocessingEvaluator(model) as evaluator:\n",
    "    results = evaluator.optimize(nfe=100,  searchover='levers', epsilons=[0.1,]*len(model.outcomes))"
   ]
  },
  {
   "cell_type": "markdown",
   "metadata": {},
   "source": [
    "## IpyparallelEvaluator is not gonna work"
   ]
  },
  {
   "cell_type": "code",
   "execution_count": null,
   "metadata": {
    "ExecuteTime": {
     "end_time": "2023-09-12T09:10:44.076457700Z",
     "start_time": "2023-09-12T09:10:43.416997300Z"
    }
   },
   "outputs": [],
   "source": [
    "from ema_workbench import MultiprocessingEvaluator, SequentialEvaluator, IpyparallelEvaluator, ema_logging\n",
    "from ema_workbench.em_framework.ema_ipyparallel import (start_logwatcher, set_engine_logger,\n",
    "                                  initialize_engines, cleanup, _run_experiment)\n",
    "import dill\n",
    "from ipyparallel import Client\n",
    "\n",
    "\n",
    "rc = Client()\n",
    "\n",
    "ema_logging.log_to_stderr(ema_logging.INFO)\n",
    "\n",
    "with IpyparallelEvaluator(model, client=rc) as evaluator:\n",
    "    results = evaluator.optimize(nfe=100, searchover='levers',\n",
    "    epsilons=[0.1,]*len(model.outcomes))"
   ]
  }
 ],
 "metadata": {
  "interpreter": {
   "hash": "aee8b7b246df8f9039afb4144a1f6fd8d2ca17a180786b69acc140d282b71a49"
  },
  "kernelspec": {
   "display_name": "Python 3 (ipykernel)",
   "language": "python",
   "name": "python3"
  },
  "language_info": {
   "codemirror_mode": {
    "name": "ipython",
    "version": 3
   },
   "file_extension": ".py",
   "mimetype": "text/x-python",
   "name": "python",
   "nbconvert_exporter": "python",
   "pygments_lexer": "ipython3",
   "version": "3.10.7"
  }
 },
 "nbformat": 4,
 "nbformat_minor": 4
}
