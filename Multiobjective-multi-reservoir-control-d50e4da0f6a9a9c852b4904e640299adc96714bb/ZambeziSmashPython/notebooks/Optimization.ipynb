{
 "cells": [
  {
   "cell_type": "markdown",
   "metadata": {
    "pycharm": {
     "name": "#%% md\n"
    }
   },
   "source": [
    "# Optimization notebook\n",
    "This notebook is to run a multi-objective optimization with the Zambezi model. Two alternatives will be given to that end. First implementation is with the Platypus library which has a fairly simple interface. The second implementation is the EMA Workbench which additionally offers parallelization functionality"
   ]
  },
  {
   "cell_type": "code",
   "execution_count": 4,
   "metadata": {
    "ExecuteTime": {
     "end_time": "2023-09-11T23:59:32.562025200Z",
     "start_time": "2023-09-11T23:59:32.544026600Z"
    }
   },
   "outputs": [],
   "source": [
    "import pandas as pd\n",
    "import numpy as np\n",
    "import os\n",
    "os.chdir('../src')\n",
    "from model_zambezi_OPT import model_zambezi\n",
    "\n",
    "from platypus import NSGAII, Problem, Real"
   ]
  },
  {
   "cell_type": "code",
   "execution_count": 5,
   "metadata": {
    "ExecuteTime": {
     "end_time": "2023-09-11T23:59:32.659554200Z",
     "start_time": "2023-09-11T23:59:32.552026700Z"
    }
   },
   "outputs": [],
   "source": [
    "ZambeziProblem = model_zambezi()"
   ]
  },
  {
   "cell_type": "markdown",
   "metadata": {},
   "source": [
    "## Platypus (NSGAII)"
   ]
  },
  {
   "cell_type": "code",
   "execution_count": 3,
   "metadata": {
    "ExecuteTime": {
     "end_time": "2023-09-12T00:42:30.788181900Z",
     "start_time": "2023-09-11T23:59:32.663555100Z"
    }
   },
   "outputs": [
    {
     "name": "stderr",
     "output_type": "stream",
     "text": [
      "c:\\Users\\dakoluk\\AppData\\Local\\Programs\\Python\\Python310\\lib\\site-packages\\platypus\\algorithms.py:1048: SyntaxWarning: \"is\" with a literal. Did you mean \"==\"?\n",
      "  if indicator is \"hypervolume\":\n",
      "c:\\Users\\dakoluk\\AppData\\Local\\Programs\\Python\\Python310\\lib\\site-packages\\platypus\\algorithms.py:1048: SyntaxWarning: \"is\" with a literal. Did you mean \"==\"?\n",
      "  if indicator is \"hypervolume\":\n",
      "c:\\Users\\dakoluk\\AppData\\Local\\Programs\\Python\\Python310\\lib\\site-packages\\platypus\\algorithms.py:1048: SyntaxWarning: \"is\" with a literal. Did you mean \"==\"?\n",
      "  if indicator is \"hypervolume\":\n",
      "c:\\Users\\dakoluk\\AppData\\Local\\Programs\\Python\\Python310\\lib\\site-packages\\platypus\\algorithms.py:1048: SyntaxWarning: \"is\" with a literal. Did you mean \"==\"?\n",
      "  if indicator is \"hypervolume\":\n"
     ]
    },
    {
     "ename": "KeyboardInterrupt",
     "evalue": "",
     "output_type": "error",
     "traceback": [
      "\u001b[1;31m---------------------------------------------------------------------------\u001b[0m",
      "\u001b[1;31mKeyboardInterrupt\u001b[0m                         Traceback (most recent call last)",
      "\u001b[1;32mc:\\Users\\dakoluk\\Documents\\16.02.22.Multiobjective\\Multiobjective-multi-reservoir-control-d50e4da0f6a9a9c852b4904e640299adc96714bb\\ZambeziSmashPython\\notebooks\\Optimization.ipynb Cell 5\u001b[0m line \u001b[0;36m6\n\u001b[0;32m      <a href='vscode-notebook-cell:/c%3A/Users/dakoluk/Documents/16.02.22.Multiobjective/Multiobjective-multi-reservoir-control-d50e4da0f6a9a9c852b4904e640299adc96714bb/ZambeziSmashPython/notebooks/Optimization.ipynb#W4sZmlsZQ%3D%3D?line=2'>3</a>\u001b[0m problem\u001b[39m.\u001b[39mfunction \u001b[39m=\u001b[39m ZambeziProblem\u001b[39m.\u001b[39mevaluate\n\u001b[0;32m      <a href='vscode-notebook-cell:/c%3A/Users/dakoluk/Documents/16.02.22.Multiobjective/Multiobjective-multi-reservoir-control-d50e4da0f6a9a9c852b4904e640299adc96714bb/ZambeziSmashPython/notebooks/Optimization.ipynb#W4sZmlsZQ%3D%3D?line=4'>5</a>\u001b[0m algorithm \u001b[39m=\u001b[39m NSGAII(problem\u001b[39m=\u001b[39mproblem, population_size\u001b[39m=\u001b[39m\u001b[39m20\u001b[39m)\n\u001b[1;32m----> <a href='vscode-notebook-cell:/c%3A/Users/dakoluk/Documents/16.02.22.Multiobjective/Multiobjective-multi-reservoir-control-d50e4da0f6a9a9c852b4904e640299adc96714bb/ZambeziSmashPython/notebooks/Optimization.ipynb#W4sZmlsZQ%3D%3D?line=5'>6</a>\u001b[0m algorithm\u001b[39m.\u001b[39;49mrun(\u001b[39m100\u001b[39;49m)\n",
      "File \u001b[1;32mc:\\Users\\dakoluk\\AppData\\Local\\Programs\\Python\\Python310\\lib\\site-packages\\platypus\\core.py:305\u001b[0m, in \u001b[0;36mAlgorithm.run\u001b[1;34m(self, condition, callback)\u001b[0m\n\u001b[0;32m    302\u001b[0m LOGGER\u001b[39m.\u001b[39mlog(logging\u001b[39m.\u001b[39mINFO, \u001b[39m\"\u001b[39m\u001b[39m%s\u001b[39;00m\u001b[39m starting\u001b[39m\u001b[39m\"\u001b[39m, \u001b[39mtype\u001b[39m(\u001b[39mself\u001b[39m)\u001b[39m.\u001b[39m\u001b[39m__name__\u001b[39m)\n\u001b[0;32m    304\u001b[0m \u001b[39mwhile\u001b[39;00m \u001b[39mnot\u001b[39;00m condition(\u001b[39mself\u001b[39m):\n\u001b[1;32m--> 305\u001b[0m     \u001b[39mself\u001b[39;49m\u001b[39m.\u001b[39;49mstep()\n\u001b[0;32m    307\u001b[0m     \u001b[39mif\u001b[39;00m \u001b[39mself\u001b[39m\u001b[39m.\u001b[39mlog_frequency \u001b[39mis\u001b[39;00m \u001b[39mnot\u001b[39;00m \u001b[39mNone\u001b[39;00m \u001b[39mand\u001b[39;00m \u001b[39mself\u001b[39m\u001b[39m.\u001b[39mnfe \u001b[39m>\u001b[39m\u001b[39m=\u001b[39m last_log \u001b[39m+\u001b[39m \u001b[39mself\u001b[39m\u001b[39m.\u001b[39mlog_frequency:\n\u001b[0;32m    308\u001b[0m         LOGGER\u001b[39m.\u001b[39mlog(logging\u001b[39m.\u001b[39mINFO,\n\u001b[0;32m    309\u001b[0m                    \u001b[39m\"\u001b[39m\u001b[39m%s\u001b[39;00m\u001b[39m running; NFE Complete: \u001b[39m\u001b[39m%d\u001b[39;00m\u001b[39m, Elapsed Time: \u001b[39m\u001b[39m%s\u001b[39;00m\u001b[39m\"\u001b[39m,\n\u001b[0;32m    310\u001b[0m                    \u001b[39mtype\u001b[39m(\u001b[39mself\u001b[39m)\u001b[39m.\u001b[39m\u001b[39m__name__\u001b[39m,\n\u001b[0;32m    311\u001b[0m                    \u001b[39mself\u001b[39m\u001b[39m.\u001b[39mnfe,\n\u001b[0;32m    312\u001b[0m                    datetime\u001b[39m.\u001b[39mtimedelta(seconds\u001b[39m=\u001b[39mtime\u001b[39m.\u001b[39mtime()\u001b[39m-\u001b[39mstart_time))\n",
      "File \u001b[1;32mc:\\Users\\dakoluk\\AppData\\Local\\Programs\\Python\\Python310\\lib\\site-packages\\platypus\\algorithms.py:177\u001b[0m, in \u001b[0;36mNSGAII.step\u001b[1;34m(self)\u001b[0m\n\u001b[0;32m    175\u001b[0m     \u001b[39mself\u001b[39m\u001b[39m.\u001b[39minitialize()\n\u001b[0;32m    176\u001b[0m \u001b[39melse\u001b[39;00m:\n\u001b[1;32m--> 177\u001b[0m     \u001b[39mself\u001b[39;49m\u001b[39m.\u001b[39;49miterate()\n\u001b[0;32m    179\u001b[0m \u001b[39mif\u001b[39;00m \u001b[39mself\u001b[39m\u001b[39m.\u001b[39marchive \u001b[39mis\u001b[39;00m \u001b[39mnot\u001b[39;00m \u001b[39mNone\u001b[39;00m:\n\u001b[0;32m    180\u001b[0m     \u001b[39mself\u001b[39m\u001b[39m.\u001b[39mresult \u001b[39m=\u001b[39m \u001b[39mself\u001b[39m\u001b[39m.\u001b[39marchive\n",
      "File \u001b[1;32mc:\\Users\\dakoluk\\AppData\\Local\\Programs\\Python\\Python310\\lib\\site-packages\\platypus\\algorithms.py:200\u001b[0m, in \u001b[0;36mNSGAII.iterate\u001b[1;34m(self)\u001b[0m\n\u001b[0;32m    197\u001b[0m     parents \u001b[39m=\u001b[39m \u001b[39mself\u001b[39m\u001b[39m.\u001b[39mselector\u001b[39m.\u001b[39mselect(\u001b[39mself\u001b[39m\u001b[39m.\u001b[39mvariator\u001b[39m.\u001b[39marity, \u001b[39mself\u001b[39m\u001b[39m.\u001b[39mpopulation)\n\u001b[0;32m    198\u001b[0m     offspring\u001b[39m.\u001b[39mextend(\u001b[39mself\u001b[39m\u001b[39m.\u001b[39mvariator\u001b[39m.\u001b[39mevolve(parents))\n\u001b[1;32m--> 200\u001b[0m \u001b[39mself\u001b[39;49m\u001b[39m.\u001b[39;49mevaluate_all(offspring)\n\u001b[0;32m    202\u001b[0m offspring\u001b[39m.\u001b[39mextend(\u001b[39mself\u001b[39m\u001b[39m.\u001b[39mpopulation)\n\u001b[0;32m    203\u001b[0m nondominated_sort(offspring)\n",
      "File \u001b[1;32mc:\\Users\\dakoluk\\AppData\\Local\\Programs\\Python\\Python310\\lib\\site-packages\\platypus\\core.py:278\u001b[0m, in \u001b[0;36mAlgorithm.evaluate_all\u001b[1;34m(self, solutions)\u001b[0m\n\u001b[0;32m    275\u001b[0m unevaluated \u001b[39m=\u001b[39m [s \u001b[39mfor\u001b[39;00m s \u001b[39min\u001b[39;00m solutions \u001b[39mif\u001b[39;00m \u001b[39mnot\u001b[39;00m s\u001b[39m.\u001b[39mevaluated]\n\u001b[0;32m    277\u001b[0m jobs \u001b[39m=\u001b[39m [_EvaluateJob(s) \u001b[39mfor\u001b[39;00m s \u001b[39min\u001b[39;00m unevaluated]\n\u001b[1;32m--> 278\u001b[0m results \u001b[39m=\u001b[39m \u001b[39mself\u001b[39;49m\u001b[39m.\u001b[39;49mevaluator\u001b[39m.\u001b[39;49mevaluate_all(jobs)\n\u001b[0;32m    280\u001b[0m \u001b[39m# if needed, update the original solution with the results\u001b[39;00m\n\u001b[0;32m    281\u001b[0m \u001b[39mfor\u001b[39;00m i, result \u001b[39min\u001b[39;00m \u001b[39menumerate\u001b[39m(results):\n",
      "File \u001b[1;32mc:\\Users\\dakoluk\\AppData\\Local\\Programs\\Python\\Python310\\lib\\site-packages\\platypus\\evaluator.py:88\u001b[0m, in \u001b[0;36mMapEvaluator.evaluate_all\u001b[1;34m(self, jobs, **kwargs)\u001b[0m\n\u001b[0;32m     85\u001b[0m log_frequency \u001b[39m=\u001b[39m kwargs\u001b[39m.\u001b[39mget(\u001b[39m\"\u001b[39m\u001b[39mlog_frequency\u001b[39m\u001b[39m\"\u001b[39m, \u001b[39mNone\u001b[39;00m)\n\u001b[0;32m     87\u001b[0m \u001b[39mif\u001b[39;00m log_frequency \u001b[39mis\u001b[39;00m \u001b[39mNone\u001b[39;00m:\n\u001b[1;32m---> 88\u001b[0m     \u001b[39mreturn\u001b[39;00m \u001b[39mlist\u001b[39;49m(\u001b[39mself\u001b[39;49m\u001b[39m.\u001b[39;49mmap_func(run_job, jobs))\n\u001b[0;32m     89\u001b[0m \u001b[39melse\u001b[39;00m:\n\u001b[0;32m     90\u001b[0m     result \u001b[39m=\u001b[39m []\n",
      "File \u001b[1;32mc:\\Users\\dakoluk\\AppData\\Local\\Programs\\Python\\Python310\\lib\\site-packages\\platypus\\evaluator.py:55\u001b[0m, in \u001b[0;36mrun_job\u001b[1;34m(job)\u001b[0m\n\u001b[0;32m     54\u001b[0m \u001b[39mdef\u001b[39;00m \u001b[39mrun_job\u001b[39m(job):\n\u001b[1;32m---> 55\u001b[0m     job\u001b[39m.\u001b[39;49mrun()\n\u001b[0;32m     56\u001b[0m     \u001b[39mreturn\u001b[39;00m job\n",
      "File \u001b[1;32mc:\\Users\\dakoluk\\AppData\\Local\\Programs\\Python\\Python310\\lib\\site-packages\\platypus\\core.py:245\u001b[0m, in \u001b[0;36m_EvaluateJob.run\u001b[1;34m(self)\u001b[0m\n\u001b[0;32m    244\u001b[0m \u001b[39mdef\u001b[39;00m \u001b[39mrun\u001b[39m(\u001b[39mself\u001b[39m):\n\u001b[1;32m--> 245\u001b[0m     \u001b[39mself\u001b[39;49m\u001b[39m.\u001b[39;49msolution\u001b[39m.\u001b[39;49mevaluate()\n",
      "File \u001b[1;32mc:\\Users\\dakoluk\\AppData\\Local\\Programs\\Python\\Python310\\lib\\site-packages\\platypus\\core.py:394\u001b[0m, in \u001b[0;36mSolution.evaluate\u001b[1;34m(self)\u001b[0m\n\u001b[0;32m    393\u001b[0m \u001b[39mdef\u001b[39;00m \u001b[39mevaluate\u001b[39m(\u001b[39mself\u001b[39m):\n\u001b[1;32m--> 394\u001b[0m     \u001b[39mself\u001b[39;49m\u001b[39m.\u001b[39;49mproblem(\u001b[39mself\u001b[39;49m)\n",
      "File \u001b[1;32mc:\\Users\\dakoluk\\AppData\\Local\\Programs\\Python\\Python310\\lib\\site-packages\\platypus\\core.py:109\u001b[0m, in \u001b[0;36mProblem.__call__\u001b[1;34m(self, solution)\u001b[0m\n\u001b[0;32m    106\u001b[0m problem \u001b[39m=\u001b[39m solution\u001b[39m.\u001b[39mproblem\n\u001b[0;32m    107\u001b[0m solution\u001b[39m.\u001b[39mvariables[:] \u001b[39m=\u001b[39m [problem\u001b[39m.\u001b[39mtypes[i]\u001b[39m.\u001b[39mdecode(solution\u001b[39m.\u001b[39mvariables[i]) \u001b[39mfor\u001b[39;00m i \u001b[39min\u001b[39;00m \u001b[39mrange\u001b[39m(problem\u001b[39m.\u001b[39mnvars)]\n\u001b[1;32m--> 109\u001b[0m \u001b[39mself\u001b[39;49m\u001b[39m.\u001b[39;49mevaluate(solution)\n\u001b[0;32m    111\u001b[0m solution\u001b[39m.\u001b[39mvariables[:] \u001b[39m=\u001b[39m [problem\u001b[39m.\u001b[39mtypes[i]\u001b[39m.\u001b[39mencode(solution\u001b[39m.\u001b[39mvariables[i]) \u001b[39mfor\u001b[39;00m i \u001b[39min\u001b[39;00m \u001b[39mrange\u001b[39m(problem\u001b[39m.\u001b[39mnvars)]\n\u001b[0;32m    112\u001b[0m solution\u001b[39m.\u001b[39mconstraint_violation \u001b[39m=\u001b[39m \u001b[39msum\u001b[39m([\u001b[39mabs\u001b[39m(f(x)) \u001b[39mfor\u001b[39;00m (f, x) \u001b[39min\u001b[39;00m \u001b[39mzip\u001b[39m(solution\u001b[39m.\u001b[39mproblem\u001b[39m.\u001b[39mconstraints, solution\u001b[39m.\u001b[39mconstraints)])\n",
      "File \u001b[1;32mc:\\Users\\dakoluk\\AppData\\Local\\Programs\\Python\\Python310\\lib\\site-packages\\platypus\\core.py:123\u001b[0m, in \u001b[0;36mProblem.evaluate\u001b[1;34m(self, solution)\u001b[0m\n\u001b[0;32m    121\u001b[0m     (objs, constrs) \u001b[39m=\u001b[39m \u001b[39mself\u001b[39m\u001b[39m.\u001b[39mfunction(solution\u001b[39m.\u001b[39mvariables)\n\u001b[0;32m    122\u001b[0m \u001b[39melse\u001b[39;00m:\n\u001b[1;32m--> 123\u001b[0m     objs \u001b[39m=\u001b[39m \u001b[39mself\u001b[39;49m\u001b[39m.\u001b[39;49mfunction(solution\u001b[39m.\u001b[39;49mvariables)\n\u001b[0;32m    124\u001b[0m     constrs \u001b[39m=\u001b[39m []\n\u001b[0;32m    126\u001b[0m \u001b[39mif\u001b[39;00m \u001b[39mnot\u001b[39;00m \u001b[39mhasattr\u001b[39m(objs, \u001b[39m\"\u001b[39m\u001b[39m__getitem__\u001b[39m\u001b[39m\"\u001b[39m):\n",
      "File \u001b[1;32mc:\\Users\\dakoluk\\Documents\\16.02.22.Multiobjective\\Multiobjective-multi-reservoir-control-d50e4da0f6a9a9c852b4904e640299adc96714bb\\ZambeziSmashPython\\src\\model_zambezi_OPT.py:281\u001b[0m, in \u001b[0;36mmodel_zambezi.evaluate\u001b[1;34m(self, var)\u001b[0m\n\u001b[0;32m    278\u001b[0m \u001b[39mself\u001b[39m\u001b[39m.\u001b[39moverarching_policy\u001b[39m.\u001b[39massign_free_parameters(var)\n\u001b[0;32m    280\u001b[0m \u001b[39mif\u001b[39;00m (\u001b[39mself\u001b[39m\u001b[39m.\u001b[39mNsim \u001b[39m<\u001b[39m \u001b[39m2\u001b[39m): \u001b[39m# single simulation\u001b[39;00m\n\u001b[1;32m--> 281\u001b[0m     J \u001b[39m=\u001b[39m \u001b[39mself\u001b[39;49m\u001b[39m.\u001b[39;49msimulate()\n\u001b[0;32m    282\u001b[0m     obj \u001b[39m=\u001b[39m J\n\u001b[0;32m    284\u001b[0m \u001b[39melse\u001b[39;00m: \u001b[39m# MC Simulation to be adjusted\u001b[39;00m\n",
      "File \u001b[1;32mc:\\Users\\dakoluk\\Documents\\16.02.22.Multiobjective\\Multiobjective-multi-reservoir-control-d50e4da0f6a9a9c852b4904e640299adc96714bb\\ZambeziSmashPython\\src\\model_zambezi_OPT.py:434\u001b[0m, in \u001b[0;36mmodel_zambezi.simulate\u001b[1;34m(self)\u001b[0m\n\u001b[0;32m    431\u001b[0m r_irr5[t\u001b[39m+\u001b[39m\u001b[39m1\u001b[39m] \u001b[39m=\u001b[39m \u001b[39mself\u001b[39m\u001b[39m.\u001b[39moverarching_policy\u001b[39m.\u001b[39mfunctions[\u001b[39m\"\u001b[39m\u001b[39mirrigation\u001b[39m\u001b[39m\"\u001b[39m]\u001b[39m.\u001b[39mget_output([r_kgl[t\u001b[39m+\u001b[39m\u001b[39m1\u001b[39m],\u001b[39mself\u001b[39m\u001b[39m.\u001b[39mirr_demand_dict[\u001b[39m\"\u001b[39m\u001b[39mirr_demand5\u001b[39m\u001b[39m\"\u001b[39m][moy[t]\u001b[39m-\u001b[39m\u001b[39m1\u001b[39m],\u001b[39m5\u001b[39m,\u001b[39mself\u001b[39m\u001b[39m.\u001b[39mirr_district_idx]) \u001b[39m# compute the irrigation water diversion volume [m3/s] # \u001b[39;00m\n\u001b[0;32m    432\u001b[0m r_irr6[t\u001b[39m+\u001b[39m\u001b[39m1\u001b[39m] \u001b[39m=\u001b[39m \u001b[39mself\u001b[39m\u001b[39m.\u001b[39moverarching_policy\u001b[39m.\u001b[39mfunctions[\u001b[39m\"\u001b[39m\u001b[39mirrigation\u001b[39m\u001b[39m\"\u001b[39m]\u001b[39m.\u001b[39mget_output([r_ka[t\u001b[39m+\u001b[39m\u001b[39m1\u001b[39m]\u001b[39m-\u001b[39mr_irr3[t\u001b[39m+\u001b[39m\u001b[39m1\u001b[39m]\u001b[39m+\u001b[39mr_kgl[t\u001b[39m+\u001b[39m\u001b[39m1\u001b[39m]\u001b[39m-\u001b[39mr_irr5[t\u001b[39m+\u001b[39m\u001b[39m1\u001b[39m],\u001b[39mself\u001b[39m\u001b[39m.\u001b[39mirr_demand_dict[\u001b[39m\"\u001b[39m\u001b[39mirr_demand6\u001b[39m\u001b[39m\"\u001b[39m][moy[t]\u001b[39m-\u001b[39m\u001b[39m1\u001b[39m],\u001b[39m6\u001b[39m,\u001b[39mself\u001b[39m\u001b[39m.\u001b[39mirr_district_idx]) \u001b[39m# compute the irrigation water diversion volume [m3/s] # \u001b[39;00m\n\u001b[1;32m--> 434\u001b[0m sd_rd \u001b[39m=\u001b[39m \u001b[39mself\u001b[39;49m\u001b[39m.\u001b[39;49mCahoraBassa\u001b[39m.\u001b[39;49mintegration(\u001b[39m12\u001b[39;49m\u001b[39m*\u001b[39;49m\u001b[39mself\u001b[39;49m\u001b[39m.\u001b[39;49mintegrationStep[moy[t]\u001b[39m-\u001b[39;49m\u001b[39m1\u001b[39;49m],t,s_cb[t],u_cb[t],q_Cb\u001b[39m+\u001b[39;49mr_kgl[t\u001b[39m+\u001b[39;49m\u001b[39m1\u001b[39;49m]\u001b[39m+\u001b[39;49mr_ka[t\u001b[39m+\u001b[39;49m\u001b[39m1\u001b[39;49m]\u001b[39m-\u001b[39;49m(r_irr3[t\u001b[39m+\u001b[39;49m\u001b[39m1\u001b[39;49m]\u001b[39m+\u001b[39;49mr_irr5[t\u001b[39m+\u001b[39;49m\u001b[39m1\u001b[39;49m]\u001b[39m+\u001b[39;49mr_irr6[t\u001b[39m+\u001b[39;49m\u001b[39m1\u001b[39;49m]),moy[t])\n\u001b[0;32m    435\u001b[0m s_cb[t\u001b[39m+\u001b[39m\u001b[39m1\u001b[39m] \u001b[39m=\u001b[39m sd_rd[\u001b[39m0\u001b[39m] \u001b[39m# \u001b[39;00m\n\u001b[0;32m    436\u001b[0m r_cb[t\u001b[39m+\u001b[39m\u001b[39m1\u001b[39m] \u001b[39m=\u001b[39m sd_rd[\u001b[39m1\u001b[39m] \u001b[39m# \u001b[39;00m\n",
      "File \u001b[1;32mc:\\Users\\dakoluk\\Documents\\16.02.22.Multiobjective\\Multiobjective-multi-reservoir-control-d50e4da0f6a9a9c852b4904e640299adc96714bb\\ZambeziSmashPython\\src\\lake.py:163\u001b[0m, in \u001b[0;36mlake.integration\u001b[1;34m(self, HH, tt, s0, uu, n_sim, cmonth)\u001b[0m\n\u001b[0;32m    159\u001b[0m \u001b[39mself\u001b[39m\u001b[39m.\u001b[39ms[\u001b[39m0\u001b[39m] \u001b[39m=\u001b[39m s0\n\u001b[0;32m    161\u001b[0m \u001b[39mfor\u001b[39;00m i \u001b[39min\u001b[39;00m \u001b[39mrange\u001b[39m(HH):\n\u001b[0;32m    162\u001b[0m     \u001b[39m# compute actual release - NO FLOW AUGMENTATION\u001b[39;00m\n\u001b[1;32m--> 163\u001b[0m     \u001b[39mself\u001b[39m\u001b[39m.\u001b[39mr[i] \u001b[39m=\u001b[39m \u001b[39mself\u001b[39;49m\u001b[39m.\u001b[39;49mactual_release_MEF(uu, \u001b[39mself\u001b[39;49m\u001b[39m.\u001b[39;49ms[i], cmonth, n_sim, \u001b[39mself\u001b[39;49m\u001b[39m.\u001b[39;49mMEF)\n\u001b[0;32m    165\u001b[0m     \u001b[39m# compute evaporation\u001b[39;00m\n\u001b[0;32m    166\u001b[0m     \u001b[39mif\u001b[39;00m (\u001b[39mself\u001b[39m\u001b[39m.\u001b[39mEV \u001b[39m==\u001b[39m \u001b[39m1\u001b[39m):\n",
      "File \u001b[1;32mc:\\Users\\dakoluk\\Documents\\16.02.22.Multiobjective\\Multiobjective-multi-reservoir-control-d50e4da0f6a9a9c852b4904e640299adc96714bb\\ZambeziSmashPython\\src\\lake.py:137\u001b[0m, in \u001b[0;36mlake.actual_release_MEF\u001b[1;34m(self, uu, s, cmonth, n_sim, MEF)\u001b[0m\n\u001b[0;32m    134\u001b[0m \u001b[39melse\u001b[39;00m:\n\u001b[0;32m    135\u001b[0m \u001b[39m# min-Max storage-discharge relationship\u001b[39;00m\n\u001b[0;32m    136\u001b[0m     qm \u001b[39m=\u001b[39m \u001b[39mself\u001b[39m\u001b[39m.\u001b[39mmin_release( s )\n\u001b[1;32m--> 137\u001b[0m     qM \u001b[39m=\u001b[39m \u001b[39mself\u001b[39;49m\u001b[39m.\u001b[39;49mmax_release( s )\n\u001b[0;32m    139\u001b[0m     \u001b[39m# actual release\u001b[39;00m\n\u001b[0;32m    140\u001b[0m     rr \u001b[39m=\u001b[39m \u001b[39mmin\u001b[39m( qM , \u001b[39mmax\u001b[39m( qm , uu ) )\n",
      "File \u001b[1;32mc:\\Users\\dakoluk\\Documents\\16.02.22.Multiobjective\\Multiobjective-multi-reservoir-control-d50e4da0f6a9a9c852b4904e640299adc96714bb\\ZambeziSmashPython\\src\\lake.py:104\u001b[0m, in \u001b[0;36mlake.max_release\u001b[1;34m(self, s)\u001b[0m\n\u001b[0;32m    102\u001b[0m q \u001b[39m=\u001b[39m \u001b[39m0.0\u001b[39m\n\u001b[0;32m    103\u001b[0m \u001b[39mif\u001b[39;00m(\u001b[39mself\u001b[39m\u001b[39m.\u001b[39mrating_curve\u001b[39m.\u001b[39msize\u001b[39m>\u001b[39m\u001b[39m0\u001b[39m):\n\u001b[1;32m--> 104\u001b[0m     q \u001b[39m=\u001b[39m utils\u001b[39m.\u001b[39minterp_lin(\u001b[39mself\u001b[39m\u001b[39m.\u001b[39mrating_curve[\u001b[39m0\u001b[39m],\u001b[39mself\u001b[39m\u001b[39m.\u001b[39mrating_curve[\u001b[39m2\u001b[39m],\u001b[39mself\u001b[39;49m\u001b[39m.\u001b[39;49mstorageToLevel(s))\n\u001b[0;32m    105\u001b[0m \u001b[39melse\u001b[39;00m:\n\u001b[0;32m    106\u001b[0m     \u001b[39mprint\u001b[39m(\u001b[39mself\u001b[39m\u001b[39m.\u001b[39mLakeName, \u001b[39m\"\u001b[39m\u001b[39m rating curve not defined\u001b[39m\u001b[39m\"\u001b[39m)\n",
      "File \u001b[1;32mc:\\Users\\dakoluk\\Documents\\16.02.22.Multiobjective\\Multiobjective-multi-reservoir-control-d50e4da0f6a9a9c852b4904e640299adc96714bb\\ZambeziSmashPython\\src\\lake.py:47\u001b[0m, in \u001b[0;36mlake.storageToLevel\u001b[1;34m(self, s)\u001b[0m\n\u001b[0;32m     44\u001b[0m \u001b[39mdef\u001b[39;00m \u001b[39mstorageToLevel\u001b[39m(\u001b[39mself\u001b[39m, s):\n\u001b[0;32m     45\u001b[0m     \u001b[39m# interpolation when lsv_rel exists\u001b[39;00m\n\u001b[0;32m     46\u001b[0m     \u001b[39mif\u001b[39;00m(\u001b[39mself\u001b[39m\u001b[39m.\u001b[39mlsv_rel\u001b[39m.\u001b[39msize\u001b[39m>\u001b[39m\u001b[39m0\u001b[39m):\n\u001b[1;32m---> 47\u001b[0m         h \u001b[39m=\u001b[39m utils\u001b[39m.\u001b[39;49minterp_lin(\u001b[39mself\u001b[39;49m\u001b[39m.\u001b[39;49mlsv_rel[\u001b[39m2\u001b[39;49m],\u001b[39mself\u001b[39;49m\u001b[39m.\u001b[39;49mlsv_rel[\u001b[39m0\u001b[39;49m],s)\n\u001b[0;32m     48\u001b[0m     \u001b[39m# approximating with volume and cross section\u001b[39;00m\n\u001b[0;32m     49\u001b[0m     \u001b[39melse\u001b[39;00m:\n\u001b[0;32m     50\u001b[0m         h \u001b[39m=\u001b[39m s\u001b[39m/\u001b[39m\u001b[39mself\u001b[39m\u001b[39m.\u001b[39mA\n",
      "File \u001b[1;32mc:\\Users\\dakoluk\\Documents\\16.02.22.Multiobjective\\Multiobjective-multi-reservoir-control-d50e4da0f6a9a9c852b4904e640299adc96714bb\\ZambeziSmashPython\\src\\utils.py:177\u001b[0m, in \u001b[0;36mutils.interp_lin\u001b[1;34m(X, Y, x)\u001b[0m\n\u001b[0;32m    174\u001b[0m min_d \u001b[39m=\u001b[39m \u001b[39m100000000000.0\u001b[39m\n\u001b[0;32m    175\u001b[0m j \u001b[39m=\u001b[39m \u001b[39m-\u001b[39m\u001b[39m99\u001b[39m\n\u001b[1;32m--> 177\u001b[0m \u001b[39mfor\u001b[39;00m i \u001b[39min\u001b[39;00m \u001b[39mrange\u001b[39;49m(X\u001b[39m.\u001b[39;49msize):\n\u001b[0;32m    178\u001b[0m     \u001b[39mif\u001b[39;00m (X[i] \u001b[39m==\u001b[39m x):\n\u001b[0;32m    179\u001b[0m         y \u001b[39m=\u001b[39m Y[i]\n",
      "\u001b[1;31mKeyboardInterrupt\u001b[0m: "
     ]
    }
   ],
   "source": [
    "problem = Problem(ZambeziProblem.Nvar, ZambeziProblem.Nobj)\n",
    "problem.types[:] = Real(0, 1)\n",
    "problem.function = ZambeziProblem.evaluate\n",
    "\n",
    "algorithm = NSGAII(problem=problem, population_size=20)\n",
    "algorithm.run(100)"
   ]
  },
  {
   "cell_type": "code",
   "execution_count": 6,
   "metadata": {
    "ExecuteTime": {
     "end_time": "2023-09-12T00:42:30.837694400Z",
     "start_time": "2023-09-12T00:42:30.816693200Z"
    }
   },
   "outputs": [],
   "source": [
    "objectives_outcome = dict()\n",
    "for i, column_name in enumerate(['Hydropower','Environment','Irrigation']):\n",
    "    objectives_outcome[column_name] = [s.objectives[i] for s in algorithm.result]\n",
    "\n",
    "objectives_df = pd.DataFrame(objectives_outcome)\n"
   ]
  },
  {
   "cell_type": "code",
   "execution_count": 7,
   "metadata": {
    "ExecuteTime": {
     "end_time": "2023-09-12T00:42:34.943563900Z",
     "start_time": "2023-09-12T00:42:30.835695700Z"
    }
   },
   "outputs": [
    {
     "name": "stdout",
     "output_type": "stream",
     "text": [
      "    Hydropower   Environment  Irrigation\n",
      "0    15.178700  3.289746e+06    3.594867\n",
      "1    14.921654  3.733126e+06    1.962184\n",
      "2    17.575309  2.423616e+06    1.636896\n",
      "3    16.183941  2.299253e+06    3.502703\n",
      "4    15.426513  3.098156e+06    2.916923\n",
      "5    16.699791  2.380324e+06    2.327759\n",
      "6    16.970426  2.433317e+06    1.836414\n",
      "7    16.217340  2.307791e+06    2.769851\n",
      "8    15.235513  3.263515e+06    3.348402\n",
      "9    15.243236  3.368377e+06    1.761276\n",
      "10   17.029598  2.420962e+06    1.872167\n",
      "11   16.832802  2.317158e+06    2.137552\n",
      "12   16.869286  2.326919e+06    1.910599\n",
      "13   16.972212  2.428629e+06    1.689669\n",
      "14   16.964694  2.423462e+06    1.870241\n",
      "15   16.852162  2.309749e+06    1.940196\n",
      "16   16.950459  2.383191e+06    2.380581\n",
      "17   16.352100  2.398968e+06    3.684423\n",
      "18   15.246359  3.372396e+06    1.950270\n",
      "19   16.993899  2.427232e+06    1.896631\n"
     ]
    },
    {
     "ename": "ModuleNotFoundError",
     "evalue": "No module named 'src'",
     "output_type": "error",
     "traceback": [
      "\u001b[1;31m---------------------------------------------------------------------------\u001b[0m",
      "\u001b[1;31mModuleNotFoundError\u001b[0m                       Traceback (most recent call last)",
      "\u001b[1;32mc:\\Users\\dakoluk\\Documents\\16.02.22.Multiobjective\\Multiobjective-multi-reservoir-control-d50e4da0f6a9a9c852b4904e640299adc96714bb\\ZambeziSmashPython\\notebooks\\Optimization.ipynb Cell 7\u001b[0m line \u001b[0;36m2\n\u001b[0;32m      <a href='vscode-notebook-cell:/c%3A/Users/dakoluk/Documents/16.02.22.Multiobjective/Multiobjective-multi-reservoir-control-d50e4da0f6a9a9c852b4904e640299adc96714bb/ZambeziSmashPython/notebooks/Optimization.ipynb#W6sZmlsZQ%3D%3D?line=0'>1</a>\u001b[0m \u001b[39mprint\u001b[39m(objectives_df)\n\u001b[1;32m----> <a href='vscode-notebook-cell:/c%3A/Users/dakoluk/Documents/16.02.22.Multiobjective/Multiobjective-multi-reservoir-control-d50e4da0f6a9a9c852b4904e640299adc96714bb/ZambeziSmashPython/notebooks/Optimization.ipynb#W6sZmlsZQ%3D%3D?line=1'>2</a>\u001b[0m \u001b[39mfrom\u001b[39;00m \u001b[39msrc\u001b[39;00m\u001b[39m.\u001b[39;00m\u001b[39mvarious_plots\u001b[39;00m \u001b[39mimport\u001b[39;00m parallel_plots\n\u001b[0;32m      <a href='vscode-notebook-cell:/c%3A/Users/dakoluk/Documents/16.02.22.Multiobjective/Multiobjective-multi-reservoir-control-d50e4da0f6a9a9c852b4904e640299adc96714bb/ZambeziSmashPython/notebooks/Optimization.ipynb#W6sZmlsZQ%3D%3D?line=2'>3</a>\u001b[0m parallel_plots(objectives_df)\n",
      "\u001b[1;31mModuleNotFoundError\u001b[0m: No module named 'src'"
     ]
    }
   ],
   "source": [
    "print(objectives_df)\n",
    "from src.various_plots import parallel_plots\n",
    "parallel_plots(objectives_df)"
   ]
  },
  {
   "cell_type": "markdown",
   "metadata": {},
   "source": [
    "## EMA Workbench"
   ]
  },
  {
   "cell_type": "code",
   "execution_count": 8,
   "metadata": {
    "ExecuteTime": {
     "end_time": "2023-09-12T00:42:34.957606800Z",
     "start_time": "2023-09-12T00:42:34.943563900Z"
    }
   },
   "outputs": [],
   "source": [
    "def model_wrapper(**kwargs):\n",
    "    input = [kwargs['v' + str(i)] for i in range(len(kwargs))]\n",
    "    Hydropower, Environment, Irrigation = tuple(ZambeziProblem.evaluate(np.array(input)))\n",
    "    return Hydropower, Environment, Irrigation\n"
   ]
  },
  {
   "cell_type": "code",
   "execution_count": 9,
   "metadata": {
    "ExecuteTime": {
     "end_time": "2023-09-12T09:18:25.552516200Z",
     "start_time": "2023-09-12T09:18:25.303470300Z"
    }
   },
   "outputs": [],
   "source": [
    "from ema_workbench import (RealParameter, ScalarOutcome, Constant,\n",
    "                           Model)\n",
    "\n",
    "model = Model('zambeziproblem', function=model_wrapper)\n",
    "\n",
    "model.levers = [RealParameter('v' + str(i), -1, 1) for i in range(ZambeziProblem.Nvar)]\n",
    "\n",
    "#specify outcomes\n",
    "model.outcomes = [ScalarOutcome('Hydropower', ScalarOutcome.MINIMIZE),\n",
    "                  ScalarOutcome('Environment', ScalarOutcome.MINIMIZE),\n",
    "                  ScalarOutcome('Irrigation', ScalarOutcome.MINIMIZE)]"
   ]
  },
  {
   "cell_type": "markdown",
   "metadata": {},
   "source": [
    "## First trying with SequentialEvaluator"
   ]
  },
  {
   "cell_type": "code",
   "execution_count": 10,
   "metadata": {},
   "outputs": [
    {
     "name": "stderr",
     "output_type": "stream",
     "text": [
      "  0%|                                                  | 0/100 [00:00<?, ?it/s]c:\\Users\\dakoluk\\Documents\\16.02.22.Multiobjective\\Multiobjective-multi-reservoir-control-d50e4da0f6a9a9c852b4904e640299adc96714bb\\ZambeziSmashPython\\src\\alternative_policy_structures.py:33: RuntimeWarning: divide by zero encountered in double_scalars\n",
      "  y = min(input_inflow,input_w*(pow(input_inflow/hdg_dn,m)))\n",
      "c:\\Users\\dakoluk\\Documents\\16.02.22.Multiobjective\\Multiobjective-multi-reservoir-control-d50e4da0f6a9a9c852b4904e640299adc96714bb\\ZambeziSmashPython\\src\\alternative_policy_structures.py:33: RuntimeWarning: invalid value encountered in double_scalars\n",
      "  y = min(input_inflow,input_w*(pow(input_inflow/hdg_dn,m)))\n",
      "100%|████████████████████████████████████████| 100/100 [45:36<00:00, 27.37s/it]\n",
      "[MainProcess/INFO] optimization completed, found 13 solutions\n"
     ]
    }
   ],
   "source": [
    "from ema_workbench import MultiprocessingEvaluator, SequentialEvaluator, ema_logging\n",
    "import dill\n",
    "\n",
    "ema_logging.log_to_stderr(ema_logging.INFO)\n",
    "\n",
    "with SequentialEvaluator(model) as evaluator:\n",
    "    results = evaluator.optimize(nfe=100,  searchover='levers', epsilons=[0.1, 0.1, 0.1])"
   ]
  },
  {
   "cell_type": "markdown",
   "metadata": {},
   "source": [
    "## MultiprocessingEvaluator"
   ]
  },
  {
   "cell_type": "code",
   "execution_count": 11,
   "metadata": {},
   "outputs": [],
   "source": [
    "from ema_workbench import MultiprocessingEvaluator, SequentialEvaluator, ema_logging\n",
    "import dill\n",
    "\n",
    "ema_logging.log_to_stderr(ema_logging.INFO)\n",
    "\n",
    "with MultiprocessingEvaluator(model) as evaluator:\n",
    "    results = evaluator.optimize(nfe=100,  searchover='levers', epsilons=[0.1, 0.1, 0.1])"
   ]
  },
  {
   "cell_type": "markdown",
   "metadata": {},
   "source": [
    "## Just giving different epsilon values with SequentialEvaluator"
   ]
  },
  {
   "cell_type": "code",
   "execution_count": null,
   "metadata": {},
   "outputs": [],
   "source": [
    "from ema_workbench import MultiprocessingEvaluator, SequentialEvaluator, ema_logging\n",
    "import dill\n",
    "\n",
    "ema_logging.log_to_stderr(ema_logging.INFO)\n",
    "\n",
    "with SequentialEvaluator(model) as evaluator:\n",
    "    results = evaluator.optimize(nfe=100,  searchover='levers', epsilons=[0.1,]*len(model.outcomes))"
   ]
  },
  {
   "cell_type": "markdown",
   "metadata": {},
   "source": [
    "## Just giving different epsilon values with MultiprocessingEvaluator"
   ]
  },
  {
   "cell_type": "code",
   "execution_count": null,
   "metadata": {},
   "outputs": [],
   "source": [
    "from ema_workbench import MultiprocessingEvaluator, ema_logging\n",
    "import dill\n",
    "\n",
    "ema_logging.log_to_stderr(ema_logging.INFO)\n",
    "\n",
    "with MultiprocessingEvaluator(model) as evaluator:\n",
    "    results = evaluator.optimize(nfe=100,  searchover='levers', epsilons=[0.1,]*len(model.outcomes))"
   ]
  },
  {
   "cell_type": "markdown",
   "metadata": {},
   "source": [
    "## IpyparallelEvaluator is not gonna work"
   ]
  },
  {
   "cell_type": "code",
   "execution_count": null,
   "metadata": {
    "ExecuteTime": {
     "end_time": "2023-09-12T09:10:44.076457700Z",
     "start_time": "2023-09-12T09:10:43.416997300Z"
    }
   },
   "outputs": [
    {
     "name": "stdout",
     "output_type": "stream",
     "text": [
      "Waiting for connection file: ~\\.ipython\\profile_default\\security\\ipcontroller-client.json\n"
     ]
    },
    {
     "ename": "OSError",
     "evalue": "Connection file '~\\\\.ipython\\\\profile_default\\\\security\\\\ipcontroller-client.json' not found.\nYou have attempted to connect to an IPython Cluster but no Controller could be found.\nPlease double-check your configuration and ensure that a cluster is running.",
     "output_type": "error",
     "traceback": [
      "\u001b[1;31m---------------------------------------------------------------------------\u001b[0m",
      "\u001b[1;31mOSError\u001b[0m                                   Traceback (most recent call last)",
      "\u001b[1;32mc:\\Users\\dakoluk\\Documents\\16.02.22.Multiobjective\\Multiobjective-multi-reservoir-control-d50e4da0f6a9a9c852b4904e640299adc96714bb\\ZambeziSmashPython\\notebooks\\Optimization.ipynb Cell 11\u001b[0m line \u001b[0;36m8\n\u001b[0;32m      <a href='vscode-notebook-cell:/c%3A/Users/dakoluk/Documents/16.02.22.Multiobjective/Multiobjective-multi-reservoir-control-d50e4da0f6a9a9c852b4904e640299adc96714bb/ZambeziSmashPython/notebooks/Optimization.ipynb#X13sZmlsZQ%3D%3D?line=3'>4</a>\u001b[0m \u001b[39mimport\u001b[39;00m \u001b[39mdill\u001b[39;00m\n\u001b[0;32m      <a href='vscode-notebook-cell:/c%3A/Users/dakoluk/Documents/16.02.22.Multiobjective/Multiobjective-multi-reservoir-control-d50e4da0f6a9a9c852b4904e640299adc96714bb/ZambeziSmashPython/notebooks/Optimization.ipynb#X13sZmlsZQ%3D%3D?line=4'>5</a>\u001b[0m \u001b[39mfrom\u001b[39;00m \u001b[39mipyparallel\u001b[39;00m \u001b[39mimport\u001b[39;00m Client\n\u001b[1;32m----> <a href='vscode-notebook-cell:/c%3A/Users/dakoluk/Documents/16.02.22.Multiobjective/Multiobjective-multi-reservoir-control-d50e4da0f6a9a9c852b4904e640299adc96714bb/ZambeziSmashPython/notebooks/Optimization.ipynb#X13sZmlsZQ%3D%3D?line=7'>8</a>\u001b[0m rc \u001b[39m=\u001b[39m Client()\n\u001b[0;32m     <a href='vscode-notebook-cell:/c%3A/Users/dakoluk/Documents/16.02.22.Multiobjective/Multiobjective-multi-reservoir-control-d50e4da0f6a9a9c852b4904e640299adc96714bb/ZambeziSmashPython/notebooks/Optimization.ipynb#X13sZmlsZQ%3D%3D?line=9'>10</a>\u001b[0m ema_logging\u001b[39m.\u001b[39mlog_to_stderr(ema_logging\u001b[39m.\u001b[39mINFO)\n\u001b[0;32m     <a href='vscode-notebook-cell:/c%3A/Users/dakoluk/Documents/16.02.22.Multiobjective/Multiobjective-multi-reservoir-control-d50e4da0f6a9a9c852b4904e640299adc96714bb/ZambeziSmashPython/notebooks/Optimization.ipynb#X13sZmlsZQ%3D%3D?line=11'>12</a>\u001b[0m \u001b[39mwith\u001b[39;00m IpyparallelEvaluator(model, client\u001b[39m=\u001b[39mrc) \u001b[39mas\u001b[39;00m evaluator:\n",
      "File \u001b[1;32mc:\\Users\\dakoluk\\AppData\\Local\\Programs\\Python\\Python310\\lib\\site-packages\\ipyparallel\\client\\client.py:454\u001b[0m, in \u001b[0;36mClient.__init__\u001b[1;34m(self, connection_info, url_file, profile, profile_dir, ipython_dir, context, debug, sshserver, sshkey, password, paramiko, timeout, cluster_id, cluster, **extra_args)\u001b[0m\n\u001b[0;32m    452\u001b[0m \u001b[39mif\u001b[39;00m \u001b[39mnot\u001b[39;00m os\u001b[39m.\u001b[39mpath\u001b[39m.\u001b[39mexists(connection_file):\n\u001b[0;32m    453\u001b[0m     msg \u001b[39m=\u001b[39m \u001b[39m'\u001b[39m\u001b[39m\\n\u001b[39;00m\u001b[39m'\u001b[39m\u001b[39m.\u001b[39mjoin([\u001b[39mf\u001b[39m\u001b[39m\"\u001b[39m\u001b[39mConnection file \u001b[39m\u001b[39m{\u001b[39;00mshort\u001b[39m!r}\u001b[39;00m\u001b[39m not found.\u001b[39m\u001b[39m\"\u001b[39m, no_file_msg])\n\u001b[1;32m--> 454\u001b[0m     \u001b[39mraise\u001b[39;00m \u001b[39mOSError\u001b[39;00m(msg)\n\u001b[0;32m    456\u001b[0m \u001b[39mwith\u001b[39;00m \u001b[39mopen\u001b[39m(connection_file) \u001b[39mas\u001b[39;00m f:\n\u001b[0;32m    457\u001b[0m     connection_info \u001b[39m=\u001b[39m json\u001b[39m.\u001b[39mload(f)\n",
      "\u001b[1;31mOSError\u001b[0m: Connection file '~\\\\.ipython\\\\profile_default\\\\security\\\\ipcontroller-client.json' not found.\nYou have attempted to connect to an IPython Cluster but no Controller could be found.\nPlease double-check your configuration and ensure that a cluster is running."
     ]
    }
   ],
   "source": [
    "from ema_workbench import MultiprocessingEvaluator, SequentialEvaluator, IpyparallelEvaluator, ema_logging\n",
    "from ema_workbench.em_framework.ema_ipyparallel import (start_logwatcher, set_engine_logger,\n",
    "                                  initialize_engines, cleanup, _run_experiment)\n",
    "import dill\n",
    "from ipyparallel import Client\n",
    "\n",
    "\n",
    "rc = Client()\n",
    "\n",
    "ema_logging.log_to_stderr(ema_logging.INFO)\n",
    "\n",
    "with IpyparallelEvaluator(model, client=rc) as evaluator:\n",
    "    results = evaluator.optimize(nfe=100, searchover='levers',\n",
    "    epsilons=[0.1,]*len(model.outcomes))"
   ]
  }
 ],
 "metadata": {
  "interpreter": {
   "hash": "aee8b7b246df8f9039afb4144a1f6fd8d2ca17a180786b69acc140d282b71a49"
  },
  "kernelspec": {
   "display_name": "Python 3 (ipykernel)",
   "language": "python",
   "name": "python3"
  },
  "language_info": {
   "codemirror_mode": {
    "name": "ipython",
    "version": 3
   },
   "file_extension": ".py",
   "mimetype": "text/x-python",
   "name": "python",
   "nbconvert_exporter": "python",
   "pygments_lexer": "ipython3",
   "version": "3.10.7"
  }
 },
 "nbformat": 4,
 "nbformat_minor": 4
}
