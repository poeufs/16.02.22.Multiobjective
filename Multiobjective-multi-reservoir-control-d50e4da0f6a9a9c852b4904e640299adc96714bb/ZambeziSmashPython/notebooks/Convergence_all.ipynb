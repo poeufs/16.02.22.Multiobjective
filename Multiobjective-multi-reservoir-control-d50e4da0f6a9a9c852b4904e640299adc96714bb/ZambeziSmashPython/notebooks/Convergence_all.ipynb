{
 "cells": [
  {
   "cell_type": "markdown",
   "id": "9bd0a595-8fe4-49a2-99cc-94c9e4206a5e",
   "metadata": {},
   "source": [
    "# Convergence"
   ]
  },
  {
   "cell_type": "code",
   "execution_count": 109,
   "id": "00453cf3-45d7-471a-8246-63229df26363",
   "metadata": {},
   "outputs": [
    {
     "data": {
      "text/plain": [
       "'C:\\\\Users\\\\whitl\\\\OneDrive\\\\Documenten\\\\MASTER\\\\Year 2\\\\THESIS\\\\16.02.22.Multiobjective\\\\Multiobjective-multi-reservoir-control-d50e4da0f6a9a9c852b4904e640299adc96714bb\\\\ZambeziSmashPython\\\\src'"
      ]
     },
     "execution_count": 109,
     "metadata": {},
     "output_type": "execute_result"
    }
   ],
   "source": [
    "import pandas as pd \n",
    "import matplotlib.pyplot as plt\n",
    "import seaborn as sns\n",
    "import os\n",
    "import numpy as np\n",
    "from ema_workbench import (MultiprocessingEvaluator, ema_logging, RealParameter, ScalarOutcome, Constant,\n",
    "                           Model, HypervolumeMetric, save_results)\n",
    "from ema_workbench.em_framework.optimization import (GenerationalBorg, epsilon_nondominated, to_problem, ArchiveLogger,\n",
    "                                                     EpsilonProgress)\n",
    "\n",
    "if not os.path.exists(\"../src\"):\n",
    "    os.chdir(\"../../src\")\n",
    "else:\n",
    "    os.chdir('../src')\n",
    "os.getcwd()\n"
   ]
  },
  {
   "cell_type": "markdown",
   "id": "dfb187a8-b40c-4400-a546-98732ce82031",
   "metadata": {},
   "source": [
    "### BASE CASE"
   ]
  },
  {
   "cell_type": "code",
   "execution_count": 110,
   "id": "2dfb014f-6bd6-4e56-8e5c-396777db62c2",
   "metadata": {},
   "outputs": [],
   "source": [
    "# Model definition\n",
    "\n",
    "from model_zambezi_OPT import ModelZambezi\n",
    "\n",
    "ZambeziProblem = ModelZambezi()\n",
    "\n",
    "def model_wrapper(**kwargs):\n",
    "    input = [kwargs['v' + str(i)] for i in range(len(kwargs))]\n",
    "    # print('len kwargs is', len(kwargs)) = 230\n",
    "    Hydropower, Environment, Irrigation = tuple(ZambeziProblem.evaluate(np.array(input)))\n",
    "    return Hydropower, Environment, Irrigation\n",
    "\n",
    "# specify model\n",
    "model = Model('zambeziproblem', function=model_wrapper)\n",
    "\n",
    "# levers\n",
    "model.levers = [RealParameter('v' + str(i), -1, 1) for i in range(ZambeziProblem.Nvar)]\n",
    "\n",
    "# specify outcomes\n",
    "model.outcomes = [ScalarOutcome('Hydropower', ScalarOutcome.MINIMIZE),  # Minimize, because deficits\n",
    "                  ScalarOutcome('Environment', ScalarOutcome.MINIMIZE),\n",
    "                  ScalarOutcome('Irrigation', ScalarOutcome.MINIMIZE)]\n",
    "\n",
    "\n",
    "#Problem definition\n",
    "problem = to_problem(model, searchover=\"levers\")\n"
   ]
  },
  {
   "cell_type": "code",
   "execution_count": 111,
   "id": "885e2c78-0097-49e3-9e91-32c9599df547",
   "metadata": {},
   "outputs": [
    {
     "data": {
      "text/plain": [
       "'C:\\\\Users\\\\whitl\\\\OneDrive\\\\Documenten\\\\MASTER\\\\Year 2\\\\THESIS\\\\16.02.22.Multiobjective\\\\Multiobjective-multi-reservoir-control-d50e4da0f6a9a9c852b4904e640299adc96714bb\\\\ZambeziSmashPython\\\\runs\\\\BC_200000nfe_5seed'"
      ]
     },
     "execution_count": 111,
     "metadata": {},
     "output_type": "execute_result"
    }
   ],
   "source": [
    "#Run definition\n",
    "\n",
    "nfe = 200000 #\n",
    "seeds = 5\n",
    "run_comment = 'BC'\n",
    "run_label = f\"{run_comment}_{nfe}nfe_{seeds}seed\"\n",
    "\n",
    "os.chdir(f'../runs/{run_label}')\n",
    "os.getcwd()\n"
   ]
  },
  {
   "cell_type": "code",
   "execution_count": 112,
   "id": "573841fb-7c65-4cfe-86a9-ccd414117259",
   "metadata": {},
   "outputs": [],
   "source": [
    "#Change the load archives method of the ArchiveLogger class\n",
    "\n",
    "import tarfile\n",
    "import os\n",
    "import pandas as pd\n",
    "\n",
    "def alternative_load_archives(filename):\n",
    "    archives = {}\n",
    "    with tarfile.open(os.path.abspath(filename)) as fh:\n",
    "        for entry in fh.getmembers():\n",
    "            if entry.name.endswith(\"csv\"):\n",
    "                key = entry.name.split(\"/\")[1][:-4]\n",
    "                #print(entry.name)\n",
    "                df = pd.read_csv(fh.extractfile(entry), index_col=0)\n",
    "                if not df.empty:\n",
    "                    archives[int(key)] = df\n",
    "    #print(archives)\n",
    "    return archives\n",
    "\n",
    "ArchiveLogger.load_archives = alternative_load_archives\n"
   ]
  },
  {
   "cell_type": "code",
   "execution_count": 113,
   "id": "1e8cdd49-43bc-40af-8697-8fc20d984f25",
   "metadata": {
    "jupyter": {
     "source_hidden": true
    }
   },
   "outputs": [],
   "source": [
    "#Merge convergences \n",
    "\n",
    "convergences = []\n",
    "for i in range(seeds):\n",
    "    df = pd.read_csv(f\"convergence{i}.csv\")\n",
    "    convergences.append(df)\n",
    "    #f'convergence{i}' = pd.read_csv(f\"{run_name}/convergence{i}.csv\") \n",
    "    #print(f'convergence{i}')\n",
    "\n",
    "# Load the archives\n",
    "all_archives = []\n",
    "for i in range(seeds):\n",
    "    archives = ArchiveLogger.load_archives(f\"archives/{i}.csv\")\n",
    "        #archives.items()[nfe] =\n",
    "        #archives = archives.loc[:, ~archives.columns.str.contains('^Unnamed')]\n",
    "    all_archives.append(archives)\n",
    "\n",
    "\n",
    "column_names = ['Hydropower', 'Environment', 'Irrigation']\n",
    "\n",
    "results_list = []\n",
    "for i in range(seeds):\n",
    "    result = pd.read_csv(f\"results_seed{i}.csv\") # Create the results list, containing dataframes with the results per seed \n",
    "    globals()[f'df_{i}'] = pd.read_csv(f\"results_seed{i}.csv\", usecols = column_names) # create dataframes per seed with results for analysis\n",
    "        #archives.items()[nfe] =\n",
    "        #archives = archives.loc[:, ~archives.columns.str.contains('^Unnamed')]\n",
    "    results_list.append(result)\n",
    "\n"
   ]
  },
  {
   "cell_type": "code",
   "execution_count": 6,
   "id": "06166a22-2e23-4e46-b953-39775736c2b5",
   "metadata": {},
   "outputs": [
    {
     "data": {
      "text/plain": [
       "126"
      ]
     },
     "execution_count": 6,
     "metadata": {},
     "output_type": "execute_result"
    }
   ],
   "source": [
    "# Define the reference list\n",
    "reference_set = epsilon_nondominated(results_list, [0.4] * len(model.outcomes), problem)  # [0.05]\n",
    "len(reference_set)\n",
    "#print('reference_set type is', type(reference_set))"
   ]
  },
  {
   "cell_type": "code",
   "execution_count": 7,
   "id": "dd089b22-f073-4f38-aae9-d8a5489eb57c",
   "metadata": {},
   "outputs": [
    {
     "name": "stdout",
     "output_type": "stream",
     "text": [
      "time before is 2024-02-26 11:38:18.741572\n"
     ]
    }
   ],
   "source": [
    "#Define the hypervolumemetric\n",
    "hv = HypervolumeMetric(reference_set, problem)\n",
    "\n",
    "from datetime import datetime\n",
    "\n",
    "before = datetime.now()\n",
    "print(\"time before is\", before)"
   ]
  },
  {
   "cell_type": "code",
   "execution_count": 14,
   "id": "9ae6c316-fc7f-4d03-867e-862df45ede3a",
   "metadata": {},
   "outputs": [],
   "source": [
    "# Calculate the metrics\n",
    "metrics_by_seed = []\n",
    "for archives in all_archives:\n",
    "    metrics = []\n",
    "    for nfe, archive in archives.items():\n",
    "        scores = {\n",
    "            \"hypervolume\": hv.calculate(archive),\n",
    "            \"nfe\": int(nfe),\n",
    "        }\n",
    "        metrics.append(scores)\n",
    "    metrics = pd.DataFrame.from_dict(metrics)\n",
    "    metrics.sort_values(by=\"nfe\", inplace=True)\n",
    "    metrics_name = 'metrics.csv'\n",
    "    #metrics.to_csv(os.path.join(cwd, metrics_name))\n",
    "\n",
    "    metrics_by_seed.append(metrics)\n"
   ]
  },
  {
   "cell_type": "code",
   "execution_count": 15,
   "id": "f4253438-bffd-4271-8388-32a4e7ae8231",
   "metadata": {},
   "outputs": [
    {
     "data": {
      "image/png": "[encoded data removed]",
      "text/plain": [
       "<Figure size 800x1200 with 2 Axes>"
      ]
     },
     "metadata": {},
     "output_type": "display_data"
    },
    {
     "name": "stdout",
     "output_type": "stream",
     "text": [
      "It took 0:06:04.575362 time to do 99705 nfes\n"
     ]
    }
   ],
   "source": [
    "# Visualize convergence metrics\n",
    "sns.set_style(\"white\")\n",
    "fig, axes = plt.subplots(nrows=2, figsize=(8, 12), sharex=True)\n",
    "\n",
    "ax1, ax2 = axes\n",
    "import matplotlib.pyplot as plt\n",
    "\n",
    "for metrics, convergence in zip(metrics_by_seed, convergences):\n",
    "    #plt.rcParams[\"font.family\"] = \"sans-serif\"\n",
    "    ax1.plot(convergence.nfe, convergence.epsilon_progress)\n",
    "    ax1.set_ylabel(\"$\\epsilon$ progress\")    \n",
    "    \n",
    "    ax2.plot(metrics.nfe, metrics.hypervolume)\n",
    "    ax2.set_ylabel(\"hypervolume\")\n",
    "    \n",
    "sns.despine(fig)\n",
    "\n",
    "\n",
    "plt.show()\n",
    "\n",
    "after = datetime.now()\n",
    "print(f\"It took {after - before} time to do {nfe} nfes\")"
   ]
  },
  {
   "cell_type": "code",
   "execution_count": 11,
   "id": "cb5567e5-c8f1-44d1-8769-fd175448e296",
   "metadata": {},
   "outputs": [],
   "source": [
    "#Hypervolume hvwfg\n",
    "\n",
    "import sys\n",
    "sys.path\n",
    "path = r'C:\\users\\whitl\\appdata\\local\\packages\\pythonsoftwarefoundation.python.3.11_qbz5n2kfra8p0\\localcache\\local-packages\\python311\\site-packages'\n",
    "sys.path.append(path)\n",
    "sys.path\n",
    "\n",
    "import hvwfg"
   ]
  },
  {
   "cell_type": "markdown",
   "id": "44dd8f8b-10f7-4f46-b29b-d5783cad3542",
   "metadata": {},
   "source": [
    "array_df0 = df_0.values.copy()\n",
    "array_df0\n",
    "\n",
    "array_ref_set = ref_set.values.copy()\n",
    "\n",
    "arr_df0 = df_0.values.to_numpy().copy()\n",
    "arr_df0\n"
   ]
  },
  {
   "cell_type": "markdown",
   "id": "e6b94519-5480-41a5-81c3-364e758cead5",
   "metadata": {},
   "source": [
    "seed_keys = []\n",
    "result_values = []\n",
    "for key, value in archives.items():\n",
    "    seed_keys.append(key)\n",
    "    for i in range(len(seed_keys)):\n",
    "        #print(\"Key:\", key)#, \"Value:\", value)\n",
    "\n",
    "hvwfg.wfg(arr_df0, array_ref_set)"
   ]
  },
  {
   "cell_type": "code",
   "execution_count": 12,
   "id": "920feb3f-f8b1-4aba-a43c-4900270539b6",
   "metadata": {},
   "outputs": [
    {
     "data": {
      "text/plain": [
       "0.6400000000000001"
      ]
     },
     "execution_count": 12,
     "metadata": {},
     "output_type": "execute_result"
    }
   ],
   "source": [
    "# Fitness vector assuming minimization\n",
    "obj = np.array([[0.3, 0.6],\n",
    "                [0.4, 0.4],\n",
    "                [0.6, 0.2]])\n",
    "\n",
    "ref = np.array([1.1, 1.1])\n",
    "\n",
    "hvwfg.wfg(obj, ref)\n"
   ]
  },
  {
   "cell_type": "code",
   "execution_count": 123,
   "id": "ee3ddc52-80ff-4478-a3b7-db6077d690ec",
   "metadata": {},
   "outputs": [],
   "source": [
    "# Get the worst values (Nadir point)\n",
    "\n",
    "# Load the merged results\n",
    "column_names = ['Hydropower', 'Environment', 'Irrigation']\n",
    "df_bc = pd.read_csv(f\"merged_results.csv\", usecols = column_names)#, index_col=0) #, usecols = column_names)\n",
    "\n",
    "worst_hyd = df_bc.Hydropower.max()\n",
    "worst_irr = df_bc.Irrigation.max()\n",
    "worst_env = df_bc.Environment.max()\n",
    "\n",
    "worst_list = []\n",
    "worst_list.append(worst_hyd)\n",
    "worst_list.append(worst_env)\n",
    "worst_list.append(worst_irr)\n",
    "\n",
    "worst_array = np.asarray(worst_list)\n",
    "worst_array\n",
    "\n",
    "best_hyd = df_bc.Hydropower.min()\n",
    "best_irr = df_bc.Irrigation.min()\n",
    "best_env = df_bc.Environment.min()\n",
    "\n",
    "best_list = []\n",
    "best_list.append(best_hyd)\n",
    "best_list.append(best_env)\n",
    "best_list.append(best_irr)"
   ]
  },
  {
   "cell_type": "code",
   "execution_count": 115,
   "id": "070d47e3-df23-4d90-840a-e5cfad70b4f8",
   "metadata": {},
   "outputs": [
    {
     "name": "stdout",
     "output_type": "stream",
     "text": [
      "[20.17937625072075, 3214070.319504687, 3.074369590148062]\n"
     ]
    }
   ],
   "source": [
    "print(worst_list)"
   ]
  },
  {
   "cell_type": "code",
   "execution_count": 116,
   "id": "9a85e0ed-4c6d-4641-a917-f77cfac12059",
   "metadata": {},
   "outputs": [],
   "source": [
    "import tarfile\n",
    "import os\n",
    "import pandas as pd\n",
    "\n",
    "column_names = ['Hydropower', 'Environment', 'Irrigation']\n",
    "\n",
    "def alternative_load_archives(filename):\n",
    "    archives = {}\n",
    "    normalized_archives = {}\n",
    "    with tarfile.open(os.path.abspath(filename)) as fh:\n",
    "        for entry in fh.getmembers():\n",
    "            if entry.name.endswith(\"csv\"):\n",
    "                key = entry.name.split(\"/\")[1][:-4]\n",
    "                #print(entry.name)\n",
    "                df = pd.read_csv(fh.extractfile(entry), usecols = column_names)#, index_col=0\n",
    "                normalized_df=(df-df.min())/(df.max()-df.min())\n",
    "                norm_df=(df['Hydropower']-df.min())/(df.max()-df.min())\n",
    "                if not df.empty:\n",
    "                    archives[int(key)] = df\n",
    "                if not normalized_df.empty:\n",
    "                    normalized_archives[int(key)] = normalized_df\n",
    "                    #print(df)\n",
    "    return archives, normalized_archives\n",
    "\n",
    "ArchiveLogger.load_archives = alternative_load_archives\n"
   ]
  },
  {
   "cell_type": "code",
   "execution_count": 117,
   "id": "8bb613c7-dc5e-491a-9628-ac269211dc23",
   "metadata": {},
   "outputs": [],
   "source": [
    "#zeros = [0.0,0.0,0.0]\n",
    "worst_array = np.ascontiguousarray([30.17937625072075, 4214070.319504687, 4.074369590148062])\n",
    "    #[0.0,0.0,0.0])\n",
    "norm_worst_array = np.ascontiguousarray([1.0, 1.0, 1.0])\n",
    "    #30.17937625072075, 4214070.319504687, 4.074369590148062])\n",
    "#worst_array = np.asarray(zeros)"
   ]
  },
  {
   "cell_type": "code",
   "execution_count": 118,
   "id": "e594f182-4b08-4bc6-8e7a-a77fd2b9d3e6",
   "metadata": {},
   "outputs": [],
   "source": [
    "#NORMALIZATION?\n",
    "#normalized_archives"
   ]
  },
  {
   "cell_type": "code",
   "execution_count": 119,
   "id": "7e3ebe66-5cee-40a3-9a1f-744c16cd975f",
   "metadata": {},
   "outputs": [
    {
     "name": "stdout",
     "output_type": "stream",
     "text": [
      "hv:: 83860138.16570936\n",
      "norm_hv:: 0.5165752271909221\n",
      "all hvs for seed 0 : [0.5165752271909221, 0.5765643204832139, 0.6861416443037728, 0.5603416468453569, 0.6314023129113105, 0.589255815985033, 0.6246548091400476, 0.6675264294869815, 0.7511103563164061, 0.5949112438445575, 0.6152895251678968, 0.6979967391471961, 0.6848131545306164, 0.6859645761664251, 0.6619539383149534, 0.6769316460973612, 0.7022441531339703, 0.6482391284118546, 0.646364729338134, 0.6316495671638402, 0.6463349451622372, 0.6397277382445936, 0.661663906425231, 0.6666008504488913, 0.6754410007795948, 0.689210054436527, 0.7252806037764846, 0.7309740888589378, 0.6962753015999398, 0.689664855667487, 0.7209858575350561, 0.7617079777269168, 0.7208187532673425, 0.7156210353284166, 0.7207306279257117, 0.6438866164849314, 0.6456053994669357, 0.6289485870208769, 0.6364805089204064, 0.6412627572463521, 0.6421169369007487, 0.6408199608913038, 0.6451426647078666, 0.6460239862072931, 0.6236808163662514, 0.6369860500224565, 0.6264067820480591, 0.608337896543513, 0.6228916161951162, 0.6126542203652696, 0.6751731144781123, 0.6534647574313577, 0.6629571874483983, 0.6675730555412482, 0.6701226118554334, 0.6659623106653912, 0.664007289288399, 0.6790460603592007, 0.6780419165973879, 0.680248771587254, 0.6927295580130398, 0.6945764994983671, 0.6988553415516273, 0.7015584794906388, 0.7081725719646218, 0.7029708270501982, 0.7178678479415364, 0.7111147968609943, 0.7052233365733754, 0.7059755684671893, 0.7105392808383877, 0.7088854449005727, 0.7103916372771533, 0.7103904766649126, 0.7103896469402389, 0.7090557051517891, 0.7105395975010032, 0.7108403585373554, 0.7107194068859086, 0.7093210014679542, 0.6989830229709997, 0.6905406109608001, 0.6961132293053934, 0.6937869957920811, 0.6962728444274207, 0.6793513709721937, 0.6718184603849873, 0.6723582847041526, 0.6744083931576875, 0.6742962954218769, 0.6746233356977209, 0.6751278893011706, 0.6775005998720048, 0.6852758875143552, 0.6855934691552146, 0.7065715178191782, 0.7076251669588236, 0.7082194367348718, 0.7197350573823889, 0.7193309272852966, 0.7124326721614267, 0.7119034758400666, 0.7118149878445403, 0.7145504506000092, 0.7061933626721888, 0.7066999278350462, 0.7015520420336693, 0.6994634939205786, 0.6997303753766927, 0.7019358534203287, 0.7020604904582619, 0.7103662601982336, 0.7105028486195757, 0.7099146796550015, 0.6902658921054053, 0.6874386014273388, 0.6894471323299958, 0.6860769699880889, 0.6862257177930094, 0.687140887207908, 0.6805436267167219, 0.6808173436291606, 0.6860000033165382, 0.685996324632493, 0.6862484406910286, 0.681892463322518, 0.6838281930573328, 0.6844198419933881, 0.6850685608293942, 0.6854552557477352, 0.6859070483072219, 0.6862687260497552, 0.6854923247969708, 0.6859797413407978, 0.6840994573315484, 0.6842066667979945, 0.6844188985254441, 0.6845785357599791, 0.684790960868153, 0.6844079092763343, 0.680796697008494, 0.6820538615828848, 0.6820362508910407, 0.6821207785699411, 0.6821397208460446, 0.6822053126641741, 0.6825221192005558, 0.6825560399169422, 0.682079020713259, 0.6820747012514251, 0.6823585307548604, 0.6823810554276252, 0.6824031345800874, 0.6824702392749645, 0.6825014006187957, 0.682605075322944, 0.6848606993926912, 0.6824257524613916, 0.682529352886316, 0.6828162697315108]\n",
      "hv:: 79814774.85685518\n",
      "norm_hv:: 0.6108357244295325\n",
      "all hvs for seed 1 : [0.6108357244295325, 0.6401085850182741, 0.6427911556436262, 0.6803641904854761, 0.6385989842456908, 0.6098135800743012, 0.6294149633378285, 0.5730986967608283, 0.5759753300671538, 0.6181877738718519, 0.5514253708100126, 0.5508597136651467, 0.5491218422267979, 0.5552352887962735, 0.5724530532048852, 0.5853596720636354, 0.5698403987462655, 0.5772693738645627, 0.5807319939280521, 0.563819427278369, 0.5714551661049924, 0.5743951240938515, 0.5632111678632146, 0.6089112995381578, 0.6140924024035915, 0.6190816265594051, 0.6257699550341892, 0.6319369393742242, 0.6363075934479782, 0.6445825783239804, 0.6447089727720524, 0.5942899092168433, 0.5922667166913831, 0.5759377450162442, 0.578545618349955, 0.5680499291080406, 0.5960462419707385, 0.6008406746620181, 0.6081071098858317, 0.606967907369638, 0.6063789044955112, 0.6124466198272659, 0.6154023082882094, 0.6250619369612459, 0.6257890699714116, 0.6320029374187227, 0.6282416089106121, 0.6318409624188486, 0.6334845167719053, 0.6063837604705918, 0.6010677089521013, 0.6022431301398978, 0.6195982675075311, 0.6114961095633692, 0.6143091253159875, 0.6205784234518534, 0.6236902009311611, 0.6271279084932957, 0.6274877255625094, 0.6287541246821002, 0.6415472887304731, 0.6329067805930747, 0.6581109263970498, 0.6517384368265837, 0.6619968757582618, 0.6608129973603186, 0.6850791107888565, 0.6844925192951395, 0.6982699502060368, 0.6783167305601701, 0.6929832724270051, 0.704139081335964, 0.7109740061926516, 0.7179707843863952, 0.7229215169332828, 0.6538200443095205, 0.6574243243712956, 0.6599837311977926, 0.6656747927233111, 0.6750838707972449, 0.6825584524566739, 0.6829816031602324, 0.6873700407264661, 0.6985176986030542, 0.5864595603011996, 0.6151393021188191, 0.6497391201733648, 0.6492558134679816, 0.6398104841750223, 0.6469579371743541, 0.6560525305646004, 0.6545307551780299, 0.6692673467654636, 0.6698410533899384, 0.6684169700380932, 0.6546319212531309, 0.6567982658736705, 0.6678796482193615, 0.660572785064416, 0.6685930269686884, 0.6733838857114077, 0.6704059895466263, 0.6786912435901136, 0.6739803003464935, 0.6666703857839271, 0.6708456226973487, 0.6652185525987756, 0.6655212284765346, 0.6658765772454563, 0.6800323281390487, 0.6807423794806251, 0.6892427421190594, 0.6895240498166954, 0.6900360220486026, 0.6905346267453041, 0.6907802619577297, 0.6908111761347534, 0.6843623550704938, 0.6880474217638052, 0.6875313787476691, 0.6867653183305555, 0.6881560381275812, 0.688473172625888, 0.6892893041511609, 0.7204485970476399, 0.7216524216089114, 0.724649941455789, 0.7254212613633854, 0.7255869959375875, 0.7257895084769985, 0.7263698460182358, 0.7263362784814303, 0.7262931221101085, 0.7156670994283473, 0.7154578256975018, 0.7157416595837847, 0.7133430892188433, 0.7134194294140391, 0.7146869339456889, 0.7187941064223567, 0.7194094396873476, 0.7205863408374263, 0.7332225164380215, 0.7336537666411569, 0.7333496432029425, 0.7339840477345742, 0.7852289735709216, 0.790890799844179, 0.7887289951858901, 0.7862238600451157, 0.7874787087813349, 0.7753016302127032, 0.7760889885370676, 0.7986394839378667, 0.7984597110785937]\n",
      "hv:: 81128604.10807915\n",
      "norm_hv:: 0.5941230513391216\n",
      "all hvs for seed 2 : [0.5941230513391216, 0.5358837763479205, 0.44856586900552314, 0.5839918837212198, 0.5359757204328374, 0.5616732822663627, 0.5694116896040168, 0.5213405046414121, 0.5901937466806128, 0.44619012869413816, 0.4500880715800771, 0.46740656051587787, 0.4467018727099885, 0.43158311482050615, 0.5411105447081848, 0.5002850038046863, 0.4973301932971532, 0.5082881729597414, 0.5615838101179389, 0.5808171125157942, 0.5807650775176898, 0.5909485674497359, 0.5712732663442928, 0.5830917742047065, 0.6063300446091078, 0.5957269370632496, 0.6051122126585279, 0.6042931656644043, 0.608721420590849, 0.6485919505292287, 0.6520466075649959, 0.6316343479605311, 0.6382469342622946, 0.6434399335766423, 0.6329929944870035, 0.6312717631451391, 0.6327639451477731, 0.6356746391112084, 0.6598662386469225, 0.6531185027490941, 0.6510374634033421, 0.658301625931979, 0.6465126551182032, 0.6592998131106579, 0.6536185282025584, 0.6640306511349692, 0.6638139371208227, 0.6579626838246989, 0.6582383035760311, 0.6520115225635219, 0.6535871503656813, 0.6199838352412244, 0.6185751102180046, 0.6376411228737615, 0.6429089744822791, 0.6415707063732795, 0.642445680648555, 0.6466695753735189, 0.6470212655212669, 0.6571755393538992, 0.6407516989257979, 0.637409606878612, 0.6772294885142873, 0.6818698050728281, 0.6829672740512799, 0.6867238887465911, 0.6826700131649475, 0.6835828468077443, 0.6841323031218584, 0.6905027016923785, 0.6860883249019396, 0.6867329073029452, 0.6873185487568018, 0.6591607220644051, 0.6604147907057445, 0.6612220768245687, 0.6627494711610212, 0.6635536361149539, 0.6640462702634918, 0.6648863157882138, 0.6653113765992382, 0.669831785472951, 0.6697616573872048, 0.6766128606467502, 0.6771269810214706, 0.6782916321525309, 0.6806006886460826, 0.6800809294159086, 0.6803797906413143, 0.7107462584677707, 0.7134703496178468, 0.7112501182590977, 0.7121443321790973, 0.7130933747492637, 0.7243207583602551, 0.7255239315398655, 0.7265041061188274, 0.7277998574550525, 0.7279665262245755, 0.728055251177354, 0.7344048624122351, 0.736645747069954, 0.7367588567538754, 0.736922276583885, 0.7367245427404985, 0.7382366000147954, 0.7403375662341698, 0.7395973799916411, 0.7450699021861862, 0.7461928657007956, 0.7461705983747209, 0.7426043492775325, 0.742581567291534, 0.7428192604900234, 0.7465579189159126, 0.746895071723335, 0.7467644430403879, 0.74690892868873, 0.7466908595329304, 0.7410721977058922, 0.740740713402361, 0.7401689808747097, 0.7415482792561441, 0.7418740647890684, 0.7423204646211686, 0.7436734748271872, 0.7439527620831468, 0.7438261466177997, 0.7441816254732873, 0.7439202000043271, 0.7435885406599377, 0.7603296276994538, 0.7563335531568682, 0.7568911615494814, 0.7567972536308164, 0.7705064559189589, 0.7701507238668742, 0.7689136636798557, 0.7675119893826325, 0.7678592301214353, 0.7681680055381351, 0.7679850621565559, 0.768068951174211, 0.7703320113003198, 0.7677662957384395, 0.7678128464012963, 0.7428706571971455, 0.7428554583248737, 0.7428386491153408, 0.7431272772967108, 0.7432687274335079, 0.7433518824722108, 0.7434043956993236, 0.742980466843312, 0.7431252855350465, 0.7431836178940302]\n",
      "hv:: 85240000.68456593\n",
      "norm_hv:: 0.5642353289263103\n",
      "all hvs for seed 3 : [0.5642353289263103, 0.6798989862476615, 0.6216795537497448, 0.6503023462885122, 0.5410504371538022, 0.5124500248193288, 0.49337327984418466, 0.531235341212021, 0.5044890391777094, 0.49246113776988776, 0.5021342636887551, 0.5129656422943301, 0.4966945309188448, 0.5381524052387806, 0.5597494740809098, 0.538223186082999, 0.5489463700411221, 0.5467930783614151, 0.6023879484459892, 0.5965016973106756, 0.6488232276099754, 0.6689874991249909, 0.6388200324170795, 0.6372497145333369, 0.6376636588300908, 0.6691821655804476, 0.651611851990229, 0.6485728440399867, 0.6473420523656186, 0.6535318670964708, 0.6567201651141139, 0.6551766789428742, 0.6519804326392237, 0.6635932073828636, 0.6674629049465148, 0.6692002857984392, 0.6258891322657799, 0.6313042999854693, 0.6315838943227102, 0.6346638161286583, 0.6388999023127047, 0.6294421608703248, 0.6358159196757793, 0.674591087376365, 0.6743396444101132, 0.676196181027468, 0.6763684701614783, 0.6892559985920569, 0.6884215181816321, 0.6930928835860362, 0.6993808521102748, 0.6687236124669611, 0.6759841072840826, 0.6703973536709369, 0.6748156255430753, 0.6704788302973499, 0.6726320638992688, 0.6767102141973002, 0.669951486713236, 0.6796130799125357, 0.6759418377876842, 0.6760776763526163, 0.6840840133492365, 0.6834531986496041, 0.6911172677685069, 0.6937561739703825, 0.6909785359612691, 0.689546449309863, 0.6913282679584194, 0.6984381021852284, 0.7001748019773124, 0.7003942215602326, 0.70129789676024, 0.7001180632407494, 0.6934867249595777, 0.691825709745768, 0.6939670100031995, 0.6916806530309754, 0.6917287377820747, 0.6862523644210006, 0.6830796624298602, 0.6827729410176677, 0.6885225032788322, 0.6939076888160689, 0.6942053589409383, 0.6980681982361596, 0.6981500886385862, 0.6970916700492407, 0.6923690716106876, 0.680685779271151, 0.7006498889231553, 0.7008538258478199, 0.7035809650286687, 0.7011323846357395, 0.6933791797618832, 0.6873803410215202, 0.6847515472360496, 0.6825510013032999, 0.6827625794560439, 0.6834180152288938, 0.6835404624611175, 0.694618566334662, 0.689120663168635, 0.6892872843732193, 0.6857667313820789, 0.6869180880423075, 0.68714385475681, 0.6859041201734607, 0.7108586316293906, 0.71111087298478, 0.7115364158094555, 0.7164469104664468, 0.7168895951146413, 0.7166956708563802, 0.7208416080301523, 0.7191563937911177, 0.7220963526130331, 0.7277445857255898, 0.7281652897193853, 0.727128169073032, 0.7263443138319384, 0.7274968117665389, 0.7234977483077982, 0.7231972212573018, 0.7231842826362819, 0.7246269716628618, 0.7250594328111989, 0.7226950648496593, 0.7239474843069643, 0.7235823420369585, 0.7302426926361769, 0.7304830592841938, 0.7308819050649119, 0.7309096641636207, 0.7311811830703825, 0.7316388021443322, 0.7457105525921033, 0.7341097845933261, 0.7335271343743379, 0.7336401544685629, 0.7332437936289571, 0.733442393110591, 0.7294133733926298, 0.7294930072298045, 0.7279994456952623, 0.7280736634214996, 0.7282628910501646, 0.7282354379832002, 0.7207118257667497, 0.7202216129169063, 0.7199018225447218, 0.7300395134750076, 0.7308332045628351, 0.7315811194679078, 0.7297864608795345, 0.7266572433522018, 0.7313252251706753, 0.7318787941173833, 0.7322526702996359, 0.7324872828065323, 0.7331822681816862, 0.7305182870944055, 0.7314535058506672, 0.7316252796229084]\n",
      "hv:: 81005761.7384615\n",
      "norm_hv:: 0.44773064525309375\n",
      "all hvs for seed 4 : [0.44773064525309375, 0.6007351373365, 0.549282163458072, 0.6189077526067067, 0.6359635181844709, 0.38529296931312457, 0.4494716411350065, 0.4763488042001672, 0.4772789121374467, 0.46854622043134786, 0.4989567511336081, 0.4945797873199294, 0.4748364858598308, 0.49689426836815287, 0.5084276314870343, 0.5085374568268899, 0.5350653666795618, 0.5540241628476866, 0.5786512134838885, 0.5230224252827974, 0.5849295899311177, 0.624264709208002, 0.6170876029511895, 0.6308027109229363, 0.6302716538642587, 0.6249112815855538, 0.6408121186153976, 0.6508128588009919, 0.641863532325176, 0.6516291142422856, 0.6343035034568412, 0.6420463767482039, 0.6767368975875528, 0.6746894832727433, 0.6783404650901053, 0.6798050388424683, 0.6844951790243057, 0.6909015646738602, 0.6909058903685457, 0.6745581138809575, 0.6990273828437331, 0.7089539952057312, 0.7162275003434357, 0.7312700181116248, 0.7182839910852735, 0.7040151095817931, 0.69214134626225, 0.710135497705222, 0.7095292399744582, 0.7074100088742036, 0.7114818119738567, 0.7395724176625854, 0.7318478957021728, 0.7380222516102124, 0.7399517720045425, 0.7346760659622097, 0.7499648568308953, 0.7519219663317414, 0.7464573427285284, 0.7417016845725669, 0.7675154213080627, 0.7667155234301808, 0.7446719967358612, 0.7493097880871169, 0.7491240062365826, 0.745433082644685, 0.7451832257254446, 0.7541506089739298, 0.7545699104969824, 0.7550967231340169, 0.7561951248416415, 0.7458663274940824, 0.7577776880942504, 0.7591377415790368, 0.7429391472454813, 0.7432146366417792, 0.74430481468462, 0.7359994346657491, 0.7366325714125519, 0.7368084537047118, 0.7369682341552739, 0.7409781825584784, 0.7413336561126699, 0.7403766465167134, 0.7597461604019562, 0.749558127330346, 0.7490196998955423, 0.747348361584913, 0.7481132384068895, 0.7479494313329835, 0.7485374669350218, 0.7474880157359772, 0.747897881544102, 0.7479311750757139, 0.743298286761201, 0.7444066055570929, 0.7445256926323212, 0.7444905603806723, 0.7502799351322177, 0.7504547017608448, 0.750100301360023, 0.7537685727751107, 0.7543414927025774, 0.7555338188679335, 0.7557523934474148, 0.7614873516361693, 0.7616756230318438, 0.7608830513994548, 0.760905571264153, 0.7566484700593398, 0.7566734659046281, 0.7699759986262483, 0.7699811395640246, 0.7651368871747978, 0.7702811240308987, 0.7458563513688261, 0.7446204347635773, 0.7426810945813664, 0.7427537180558365, 0.7391615012170821, 0.7540310257760893, 0.7523759695794713, 0.765661102026481, 0.7648991378866727, 0.765685668299461, 0.7428517625072106, 0.7436020831880086, 0.7463660404526481, 0.7444529192077727, 0.7458886317484653, 0.7460300082735588, 0.7457844953598335, 0.746391206325842, 0.7570933720379776, 0.7528883467374702, 0.7332331504496038, 0.7327969362529556, 0.7332462213192352, 0.7341484776517407, 0.7352937527686766, 0.7337409999175872, 0.7346133738025525, 0.7346493915171277, 0.7369035947489654, 0.7342190336276772, 0.734387333434697, 0.7336318994759906, 0.733991058894717, 0.7347492275364635, 0.7350505856074906, 0.7359776708522613, 0.7356271831565776, 0.7365421750574881, 0.7367335035667807, 0.737355502626621, 0.738006065955083, 0.7350449917854224, 0.7436830422233608, 0.745272651515927, 0.7460804955058153, 0.7462619353391234, 0.7410207661020172, 0.7419874931030906, 0.7431500340195665, 0.7431775185124101, 0.7430705900186699, 0.7360000233897737, 0.7358456842505778, 0.736186674789985, 0.7364992329412717, 0.748292079720295, 0.759650230434018, 0.759309787948021, 0.7603471540607593, 0.7610260969491179, 0.7621606527716532, 0.7522140444705948, 0.7360077253402738, 0.737431169520466, 0.744236138384376, 0.7438380434697043, 0.7455171195284792, 0.7490016581236812, 0.7493484305415218, 0.7642735366706925]\n"
     ]
    },
    {
     "data": {
      "text/plain": [
       "{100: 0.5165752271909221,\n",
       " 1188: 0.5765643204832139,\n",
       " 2279: 0.6861416443037728,\n",
       " 3373: 0.5603416468453569,\n",
       " 4467: 0.6314023129113105,\n",
       " 5559: 0.589255815985033,\n",
       " 6659: 0.6246548091400476,\n",
       " 7757: 0.6675264294869815,\n",
       " 8855: 0.7511103563164061,\n",
       " 9856: 0.5949112438445575,\n",
       " 10856: 0.6152895251678968,\n",
       " 11859: 0.6979967391471961,\n",
       " 12958: 0.6848131545306164,\n",
       " 13958: 0.6859645761664251,\n",
       " 14960: 0.6619539383149534,\n",
       " 15963: 0.6769316460973612,\n",
       " 17060: 0.7022441531339703,\n",
       " 18061: 0.6482391284118546,\n",
       " 19161: 0.646364729338134,\n",
       " 20361: 0.6316495671638402,\n",
       " 21505: 0.6463349451622372,\n",
       " 22642: 0.6397277382445936,\n",
       " 23784: 0.661663906425231,\n",
       " 24922: 0.6666008504488913,\n",
       " 26060: 0.6754410007795948,\n",
       " 27198: 0.689210054436527,\n",
       " 28338: 0.7252806037764846,\n",
       " 29481: 0.7309740888589378,\n",
       " 30623: 0.6962753015999398,\n",
       " 31765: 0.689664855667487,\n",
       " 32903: 0.7209858575350561,\n",
       " 34046: 0.7617079777269168,\n",
       " 35188: 0.7208187532673425,\n",
       " 36328: 0.7156210353284166,\n",
       " 37465: 0.7207306279257117,\n",
       " 38606: 0.6438866164849314,\n",
       " 39750: 0.6456053994669357,\n",
       " 40892: 0.6289485870208769,\n",
       " 42035: 0.6364805089204064,\n",
       " 43241: 0.6412627572463521,\n",
       " 44416: 0.6421169369007487,\n",
       " 45590: 0.6408199608913038,\n",
       " 46765: 0.6451426647078666,\n",
       " 47940: 0.6460239862072931,\n",
       " 49117: 0.6236808163662514,\n",
       " 50292: 0.6369860500224565,\n",
       " 51468: 0.6264067820480591,\n",
       " 52637: 0.608337896543513,\n",
       " 53814: 0.6228916161951162,\n",
       " 54992: 0.6126542203652696,\n",
       " 56168: 0.6751731144781123,\n",
       " 57345: 0.6534647574313577,\n",
       " 58520: 0.6629571874483983,\n",
       " 59697: 0.6675730555412482,\n",
       " 60875: 0.6701226118554334,\n",
       " 62051: 0.6659623106653912,\n",
       " 63227: 0.664007289288399,\n",
       " 64404: 0.6790460603592007,\n",
       " 65582: 0.6780419165973879,\n",
       " 66758: 0.680248771587254,\n",
       " 67934: 0.6927295580130398,\n",
       " 69108: 0.6945764994983671,\n",
       " 70281: 0.6988553415516273,\n",
       " 71459: 0.7015584794906388,\n",
       " 72637: 0.7081725719646218,\n",
       " 73813: 0.7029708270501982,\n",
       " 74989: 0.7178678479415364,\n",
       " 76166: 0.7111147968609943,\n",
       " 77343: 0.7052233365733754,\n",
       " 78519: 0.7059755684671893,\n",
       " 79697: 0.7105392808383877,\n",
       " 80875: 0.7088854449005727,\n",
       " 82051: 0.7103916372771533,\n",
       " 83639: 0.7103904766649126,\n",
       " 85006: 0.7103896469402389,\n",
       " 86373: 0.7090557051517891,\n",
       " 87739: 0.7105395975010032,\n",
       " 89107: 0.7108403585373554,\n",
       " 90475: 0.7107194068859086,\n",
       " 91843: 0.7093210014679542,\n",
       " 93212: 0.6989830229709997,\n",
       " 94580: 0.6905406109608001,\n",
       " 95948: 0.6961132293053934,\n",
       " 97316: 0.6937869957920811,\n",
       " 98684: 0.6962728444274207,\n",
       " 100051: 0.6793513709721937,\n",
       " 101415: 0.6718184603849873,\n",
       " 102783: 0.6723582847041526,\n",
       " 104150: 0.6744083931576875,\n",
       " 105516: 0.6742962954218769,\n",
       " 106883: 0.6746233356977209,\n",
       " 108249: 0.6751278893011706,\n",
       " 109617: 0.6775005998720048,\n",
       " 110986: 0.6852758875143552,\n",
       " 112356: 0.6855934691552146,\n",
       " 113725: 0.7065715178191782,\n",
       " 115093: 0.7076251669588236,\n",
       " 116461: 0.7082194367348718,\n",
       " 117827: 0.7197350573823889,\n",
       " 119195: 0.7193309272852966,\n",
       " 120564: 0.7124326721614267,\n",
       " 121931: 0.7119034758400666,\n",
       " 123300: 0.7118149878445403,\n",
       " 124668: 0.7145504506000092,\n",
       " 126036: 0.7061933626721888,\n",
       " 127406: 0.7066999278350462,\n",
       " 128773: 0.7015520420336693,\n",
       " 130142: 0.6994634939205786,\n",
       " 131512: 0.6997303753766927,\n",
       " 132882: 0.7019358534203287,\n",
       " 134249: 0.7020604904582619,\n",
       " 135618: 0.7103662601982336,\n",
       " 136984: 0.7105028486195757,\n",
       " 138352: 0.7099146796550015,\n",
       " 139720: 0.6902658921054053,\n",
       " 141085: 0.6874386014273388,\n",
       " 142454: 0.6894471323299958,\n",
       " 143823: 0.6860769699880889,\n",
       " 145189: 0.6862257177930094,\n",
       " 146557: 0.687140887207908,\n",
       " 147925: 0.6805436267167219,\n",
       " 149294: 0.6808173436291606,\n",
       " 150660: 0.6860000033165382,\n",
       " 152030: 0.685996324632493,\n",
       " 153396: 0.6862484406910286,\n",
       " 154764: 0.681892463322518,\n",
       " 156131: 0.6838281930573328,\n",
       " 157499: 0.6844198419933881,\n",
       " 158865: 0.6850685608293942,\n",
       " 160233: 0.6854552557477352,\n",
       " 161602: 0.6859070483072219,\n",
       " 162971: 0.6862687260497552,\n",
       " 164337: 0.6854923247969708,\n",
       " 165705: 0.6859797413407978,\n",
       " 167074: 0.6840994573315484,\n",
       " 168443: 0.6842066667979945,\n",
       " 169812: 0.6844188985254441,\n",
       " 171178: 0.6845785357599791,\n",
       " 172546: 0.684790960868153,\n",
       " 173913: 0.6844079092763343,\n",
       " 175279: 0.680796697008494,\n",
       " 176647: 0.6820538615828848,\n",
       " 178016: 0.6820362508910407,\n",
       " 179384: 0.6821207785699411,\n",
       " 180751: 0.6821397208460446,\n",
       " 182119: 0.6822053126641741,\n",
       " 183487: 0.6825221192005558,\n",
       " 184855: 0.6825560399169422,\n",
       " 186223: 0.682079020713259,\n",
       " 187591: 0.6820747012514251,\n",
       " 188958: 0.6823585307548604,\n",
       " 190327: 0.6823810554276252,\n",
       " 191694: 0.6824031345800874,\n",
       " 193061: 0.6824702392749645,\n",
       " 194429: 0.6825014006187957,\n",
       " 195798: 0.682605075322944,\n",
       " 197164: 0.6848606993926912,\n",
       " 198531: 0.6824257524613916,\n",
       " 199899: 0.682529352886316,\n",
       " 200581: 0.6828162697315108}"
      ]
     },
     "execution_count": 119,
     "metadata": {},
     "output_type": "execute_result"
    }
   ],
   "source": [
    "# Load the archives\n",
    "#all_archives = []\n",
    "#all_hvs = {}\n",
    "all_norm_hvs = []\n",
    "norm_hvs_dict = {}\n",
    "norm_hvs_dict_0 = {}\n",
    "norm_hvs_dict_1 = {}\n",
    "norm_hvs_dict_2 = {}\n",
    "norm_hvs_dict_3 = {}\n",
    "norm_hvs_dict_4 = {}\n",
    "norm_hvs_dict_5 = {}\n",
    "\n",
    "hvs_dict_0 = {}\n",
    "hvs_dict_1 = {}\n",
    "hvs_dict_2 = {}\n",
    "hvs_dict_3 = {}\n",
    "hvs_dict_4 = {}\n",
    "hvs_dict_5 = {}\n",
    "\n",
    "for i in range(seeds):\n",
    "    norm_hvs_this_seed = []\n",
    "    archives, normalized_archives = ArchiveLogger.load_archives(f\"archives/{i}.csv\")\n",
    "        #archives = archives.loc[:, ~archives.columns.str.contains('^Unnamed')]\n",
    "    #print(archives)\n",
    "    #all_archives.append(archives)\n",
    "    sorted_archives = dict(sorted(archives.items()))\n",
    "    for key, value in sorted_archives.items():\n",
    "        #print(type(value))\n",
    "        normalized_value=(value-value.min())/(value.max()-value.min())\n",
    "        o = value.values\n",
    "        norm_o = normalized_value.values\n",
    "        #print(type(o))\n",
    "        #print(value)\n",
    "        objs = np.ascontiguousarray(o)\n",
    "        norm_objs = np.ascontiguousarray(norm_o)\n",
    "        if key < 100:\n",
    "            print('objs::',o)\n",
    "            print('norm objs::',norm_o)\n",
    "            print('worst array::', worst_array)\n",
    "        #print(objs.shape)\n",
    "        #array_reference_set = reference_set.values.copy()\n",
    "        hv = hvwfg.wfg(objs, \n",
    "                       worst_array)\n",
    "        norm_hv = hvwfg.wfg(norm_objs, \n",
    "                       norm_worst_array)\n",
    "        if key < 110:\n",
    "            print('hv::',hv)\n",
    "            print('norm_hv::',norm_hv)\n",
    "        all_hvs.append(hv)\n",
    "        norm_hvs_this_seed.append(norm_hv)\n",
    "        \n",
    "        if i == 0 :\n",
    "            norm_hvs_dict_0[int(key)] = norm_hv\n",
    "            hvs_dict_0[int(key)] = hv\n",
    "        if i == 1 :\n",
    "            norm_hvs_dict_1[int(key)] = norm_hv\n",
    "            hvs_dict_1[int(key)] = hv\n",
    "        if i == 2 :\n",
    "            norm_hvs_dict_2[int(key)] = norm_hv\n",
    "            hvs_dict_2[int(key)] = hv\n",
    "        if i == 3 :\n",
    "            norm_hvs_dict_3[int(key)] = norm_hv\n",
    "            hvs_dict_3[int(key)] = hv\n",
    "        if i == 4 :\n",
    "            norm_hvs_dict_4[int(key)] = norm_hv\n",
    "            hvs_dict_4[int(key)] = hv\n",
    "        if i == 5 :\n",
    "            norm_hvs_dict_5[int(key)] = norm_hv\n",
    "            hvs_dict_5[int(key)] = hv\n",
    "\n",
    "    print('all hvs for seed', i, ':', norm_hvs_this_seed)\n",
    "            #print(\"Key:\", hv)#, \"Value:\", value)\n",
    "norm_hvs_dict_0\n",
    "    #all_hvs\n",
    "#all_norm_hvs\n",
    "    #for i in range(len(all_archives)):\n",
    "#    print(i)\n",
    "#print(all_archives)"
   ]
  },
  {
   "cell_type": "code",
   "execution_count": 120,
   "id": "31dbae2b-16ef-49b4-b855-83ab606c830a",
   "metadata": {},
   "outputs": [
    {
     "data": {
      "image/png": "[encoded data removed]",
      "text/plain": [
       "<Figure size 640x480 with 1 Axes>"
      ]
     },
     "metadata": {},
     "output_type": "display_data"
    }
   ],
   "source": [
    "hvs_dicts = [hvs_dict_0, hvs_dict_1, hvs_dict_2, hvs_dict_3, hvs_dict_4]\n",
    "\n",
    "# Iterate through dictionaries and plot lines\n",
    "for i, hvs_dict in enumerate(hvs_dicts, start=1):\n",
    "    lists = hvs_dict.items()\n",
    "    x, y = zip(*lists)\n",
    "    plt.plot(x, y, label=f'Line {i-1}')\n",
    "\n",
    "# Show legend to differentiate between lines\n",
    "plt.legend()\n",
    "\n",
    "# Show the plot\n",
    "plt.show()"
   ]
  },
  {
   "cell_type": "markdown",
   "id": "e1712627-f302-425f-ac16-a0bdd3620835",
   "metadata": {},
   "source": [
    "for key, value in sorted_archives.items():\n",
    "    o = value\n",
    "    print(o.type)\n",
    "    #objs = np.ascontiguousarray(o)\n",
    "    #print(objs.shape)\n",
    "    #array_reference_set = reference_set.values.copy()\n",
    "    #hv = hvwfg.wfg(objs, \n",
    "    #               worst_array)\n",
    "    #print(\"Key:\", hv)#, \"Value:\", value)"
   ]
  },
  {
   "cell_type": "code",
   "execution_count": 121,
   "id": "9480ca1e-7158-42b5-9ed9-71f580258689",
   "metadata": {},
   "outputs": [
    {
     "data": {
      "image/png": "[encoded data removed]",
      "text/plain": [
       "<Figure size 640x480 with 1 Axes>"
      ]
     },
     "metadata": {},
     "output_type": "display_data"
    }
   ],
   "source": [
    "norm_hvs_dicts = [norm_hvs_dict_0, norm_hvs_dict_1, norm_hvs_dict_2, norm_hvs_dict_3, norm_hvs_dict_4]\n",
    "\n",
    "# Iterate through dictionaries and plot lines\n",
    "for i, norm_hvs_dict in enumerate(norm_hvs_dicts, start=1):\n",
    "    lists = norm_hvs_dict.items()\n",
    "    x, y = zip(*lists)\n",
    "    plt.plot(x, y, label=f'Line {i-1}')\n",
    "\n",
    "# Show legend to differentiate between lines\n",
    "plt.legend()\n",
    "\n",
    "# Show the plot\n",
    "plt.show()\n"
   ]
  },
  {
   "cell_type": "code",
   "execution_count": null,
   "id": "02be7d1f-8ff3-4dbc-8f71-e8c80533ec9d",
   "metadata": {
    "collapsed": false,
    "jupyter": {
     "outputs_hidden": false
    },
    "tags": []
   },
   "outputs": [],
   "source": [
    "os.getcwd()"
   ]
  },
  {
   "cell_type": "markdown",
   "id": "b75e50c8-eb29-4610-8a82-215f0d002394",
   "metadata": {},
   "source": [
    "# IRRIGATION CASE"
   ]
  },
  {
   "cell_type": "code",
   "execution_count": 84,
   "id": "96191412-60bc-4d74-8739-c1c8bfe2fdf2",
   "metadata": {
    "tags": []
   },
   "outputs": [
    {
     "data": {
      "text/plain": [
       "'C:\\\\Users\\\\whitl\\\\OneDrive\\\\Documenten\\\\MASTER\\\\Year 2\\\\THESIS\\\\16.02.22.Multiobjective\\\\Multiobjective-multi-reservoir-control-d50e4da0f6a9a9c852b4904e640299adc96714bb\\\\ZambeziSmashPython\\\\src'"
      ]
     },
     "execution_count": 84,
     "metadata": {},
     "output_type": "execute_result"
    }
   ],
   "source": [
    "if not os.path.exists(\"../src\"):\n",
    "    os.chdir(\"../../src\")\n",
    "else:\n",
    "    os.chdir('../src')\n",
    "os.getcwd()"
   ]
  },
  {
   "cell_type": "code",
   "execution_count": 85,
   "id": "2b1f00c4-3efa-44c0-9ed5-4bbe2803d61b",
   "metadata": {
    "collapsed": false,
    "jupyter": {
     "outputs_hidden": false
    },
    "tags": []
   },
   "outputs": [],
   "source": [
    "from model_zambezi_OPT_irr import ModelZambezi\n",
    "\n",
    "ZambeziProblem = ModelZambezi()\n",
    "\n",
    "def model_wrapper(**kwargs):\n",
    "    input = [kwargs['v' + str(i)] for i in range(len(kwargs))]\n",
    "    Hydropower, Environment, Irrigation, Irrigation2, Irrigation3, Irrigation4, Irrigation5, Irrigation6, Irrigation7, \\\n",
    "        Irrigation8, Irrigation9 = tuple(ZambeziProblem.evaluate(np.array(input)))\n",
    "    return Hydropower, Environment, Irrigation, Irrigation2, Irrigation3, Irrigation4, Irrigation5, Irrigation6, \\\n",
    "        Irrigation7, Irrigation8, Irrigation9\n",
    "# specify model\n",
    "model = Model('zambeziproblem', function=model_wrapper)\n",
    "\n",
    "# levers\n",
    "model.levers = [RealParameter('v' + str(i), -1, 1) for i in range(ZambeziProblem.Nvar)]\n",
    "\n",
    "# specify outcomes\n",
    "model.outcomes = [ScalarOutcome('Hydropower', ScalarOutcome.MINIMIZE),  # Minimize, because deficits\n",
    "                  ScalarOutcome('Environment', ScalarOutcome.MINIMIZE),\n",
    "                  ScalarOutcome('Irrigation', ScalarOutcome.MINIMIZE),\n",
    "                  ScalarOutcome('Irrigation2', ScalarOutcome.MINIMIZE),\n",
    "                  ScalarOutcome('Irrigation3', ScalarOutcome.MINIMIZE),\n",
    "                  ScalarOutcome('Irrigation4', ScalarOutcome.MINIMIZE),\n",
    "                  ScalarOutcome('Irrigation5', ScalarOutcome.MINIMIZE),\n",
    "                  ScalarOutcome('Irrigation6', ScalarOutcome.MINIMIZE),\n",
    "                  ScalarOutcome('Irrigation7', ScalarOutcome.MINIMIZE),\n",
    "                  ScalarOutcome('Irrigation8', ScalarOutcome.MINIMIZE),\n",
    "                  ScalarOutcome('Irrigation9', ScalarOutcome.MINIMIZE),\n",
    "                  ]\n"
   ]
  },
  {
   "cell_type": "code",
   "execution_count": 86,
   "id": "a27f409a-5434-47cf-8a00-7fcd696116f9",
   "metadata": {
    "collapsed": false,
    "jupyter": {
     "outputs_hidden": false
    },
    "tags": []
   },
   "outputs": [],
   "source": [
    "#Problem definitionv\n",
    "problem = to_problem(model, searchover=\"levers\")"
   ]
  },
  {
   "cell_type": "markdown",
   "id": "4befa55d-5b36-4e61-86ea-224c9d69220a",
   "metadata": {},
   "source": [
    "Run definition"
   ]
  },
  {
   "cell_type": "code",
   "execution_count": 87,
   "id": "f82b1d0b-e10c-4c7c-8130-aeb2d30b3aa7",
   "metadata": {
    "tags": []
   },
   "outputs": [
    {
     "data": {
      "text/plain": [
       "'C:\\\\Users\\\\whitl\\\\OneDrive\\\\Documenten\\\\MASTER\\\\Year 2\\\\THESIS\\\\16.02.22.Multiobjective\\\\Multiobjective-multi-reservoir-control-d50e4da0f6a9a9c852b4904e640299adc96714bb\\\\ZambeziSmashPython\\\\src'"
      ]
     },
     "execution_count": 87,
     "metadata": {},
     "output_type": "execute_result"
    }
   ],
   "source": [
    "os.getcwd()"
   ]
  },
  {
   "cell_type": "code",
   "execution_count": 88,
   "id": "0ba7b17b-2883-4e47-8651-835ab7994a1e",
   "metadata": {
    "collapsed": false,
    "jupyter": {
     "outputs_hidden": false
    },
    "tags": []
   },
   "outputs": [
    {
     "data": {
      "text/plain": [
       "'C:\\\\Users\\\\whitl\\\\OneDrive\\\\Documenten\\\\MASTER\\\\Year 2\\\\THESIS\\\\16.02.22.Multiobjective\\\\Multiobjective-multi-reservoir-control-d50e4da0f6a9a9c852b4904e640299adc96714bb\\\\ZambeziSmashPython\\\\runs\\\\IR_hv_feb_10000nfe_1seed'"
      ]
     },
     "execution_count": 88,
     "metadata": {},
     "output_type": "execute_result"
    }
   ],
   "source": [
    "if not os.path.exists(\"../src\"):\n",
    "    os.chdir(\"../../src\")\n",
    "else:\n",
    "    os.chdir('../src')\n",
    "os.getcwd()\n",
    "\n",
    "\n",
    "nfe = 10000 #\n",
    "seeds = 1\n",
    "run_comment = 'hv_feb'\n",
    "run_label = f\"IR_{run_comment}_{nfe}nfe_{seeds}seed\"\n",
    "\n",
    "os.chdir(f'../runs/{run_label}')\n",
    "os.getcwd()"
   ]
  },
  {
   "cell_type": "markdown",
   "id": "ec90cabb-7389-451f-9e8a-45fd9f552689",
   "metadata": {},
   "source": [
    "Change the load archives method of the ArchiveLogger class"
   ]
  },
  {
   "cell_type": "code",
   "execution_count": 89,
   "id": "b1f78272-c98a-49cf-aca1-99b88b58edae",
   "metadata": {
    "collapsed": false,
    "jupyter": {
     "outputs_hidden": false
    },
    "tags": []
   },
   "outputs": [],
   "source": [
    "import tarfile\n",
    "import os\n",
    "import pandas as pd\n",
    "\n",
    "def alternative_load_archives(filename):\n",
    "    archives = {}\n",
    "    with tarfile.open(os.path.abspath(filename)) as fh:\n",
    "        for entry in fh.getmembers():\n",
    "            if entry.name.endswith(\"csv\"):\n",
    "                key = entry.name.split(\"/\")[1][:-4]\n",
    "                print(key)\n",
    "                df = pd.read_csv(fh.extractfile(entry), index_col=0)\n",
    "                #df = df.loc[:, ~df.columns.str.contains('^Unnamed')]\n",
    "                if not df.empty:\n",
    "                    archives[int(key)] = df\n",
    "    #print(archives)\n",
    "    return archives\n",
    "\n",
    "ArchiveLogger.load_archives = alternative_load_archives"
   ]
  },
  {
   "cell_type": "markdown",
   "id": "b0f6b8ef-49e1-4f57-baae-0adf996e69bc",
   "metadata": {},
   "source": [
    "Merge convergences "
   ]
  },
  {
   "cell_type": "code",
   "execution_count": 90,
   "id": "c0a8141e-b73d-408f-b489-699260f5308f",
   "metadata": {
    "collapsed": false,
    "jupyter": {
     "outputs_hidden": false
    },
    "tags": []
   },
   "outputs": [],
   "source": [
    "convergences = []\n",
    "for i in range(seeds):\n",
    "    df = pd.read_csv(f\"convergence{i}.csv\")\n",
    "    convergences.append(df)\n",
    "    #f'convergence{i}' = pd.read_csv(f\"{run_name}/convergence{i}.csv\") "
   ]
  },
  {
   "cell_type": "code",
   "execution_count": 91,
   "id": "f46b12ce-0c7d-4804-9669-4b349d4873b5",
   "metadata": {
    "collapsed": false,
    "jupyter": {
     "outputs_hidden": false
    },
    "tags": []
   },
   "outputs": [
    {
     "name": "stdout",
     "output_type": "stream",
     "text": [
      "0\n",
      "100\n",
      "10056\n",
      "1177\n",
      "2274\n",
      "3371\n",
      "4465\n",
      "5563\n",
      "6661\n",
      "7760\n",
      "8761\n",
      "9857\n",
      "{100:          v0        v1        v2        v3        v4        v5        v6  \\\n",
      "0  0.928945  0.160364  0.037497  0.144293  0.142200  0.458481 -0.137220   \n",
      "1  0.347099  0.860539 -0.887489  0.762720  0.016786 -0.429451 -0.930741   \n",
      "2  0.923747  0.805610  0.773875 -0.694815  0.523367  0.315194 -0.097212   \n",
      "3 -0.386424 -0.371589  0.981151  0.057387  0.550802  0.703063  0.158640   \n",
      "4 -0.760580  0.031873 -0.529644  0.343297  0.688832 -0.965012 -0.511506   \n",
      "5  0.353912 -0.785565  0.286437 -0.138169 -0.989073 -0.140371 -0.989279   \n",
      "6 -0.222727 -0.151684  0.470355  0.207460  0.399557  0.355663 -0.938816   \n",
      "7  0.278010 -0.748475  0.152119  0.592442 -0.347368  0.986776 -0.830709   \n",
      "\n",
      "         v7        v8        v9  ...   Environment  Irrigation  Irrigation2  \\\n",
      "0 -0.965516  0.929522  0.095980  ...  2.241699e+06    1.274334     0.207649   \n",
      "1  0.241618  0.416322  0.420400  ...  2.164708e+06    2.066547     0.500889   \n",
      "2 -0.711462 -0.711311  0.814027  ...  2.218492e+06    2.677324     0.715710   \n",
      "3 -0.530978 -0.483622  0.279174  ...  2.745285e+06    1.454329     0.023072   \n",
      "4  0.089008 -0.001428  0.322221  ...  1.701495e+06    1.591999     0.023072   \n",
      "5  0.473805 -0.075328  0.920194  ...  2.203898e+06    1.396192     0.002152   \n",
      "6  0.947811 -0.503503 -0.320365  ...  3.272001e+06    1.289674     0.023072   \n",
      "7  0.645311 -0.711214 -0.078360  ...  2.187906e+06    1.723647     0.006346   \n",
      "\n",
      "   Irrigation3  Irrigation4  Irrigation5  Irrigation6  Irrigation7  \\\n",
      "0     0.009835     0.083163     0.088623     0.024129        0.500   \n",
      "1     0.305924     0.001956     0.108427     0.274348        0.500   \n",
      "2     0.298415     0.193532     0.088623     0.115385        0.500   \n",
      "3     0.016560     0.457571     0.086262     0.001825        0.500   \n",
      "4     0.254624     0.001162     0.228613     0.215550        0.500   \n",
      "5     0.342777     0.001954     0.113203     0.152497        0.500   \n",
      "6     0.067395     0.186385     0.088623     0.002964        0.475   \n",
      "7     0.404800     0.001954     0.111006     0.141003        0.500   \n",
      "\n",
      "   Irrigation8  Irrigation9  \n",
      "0     0.351712     0.009222  \n",
      "1     0.365781     0.009222  \n",
      "2     0.760775     0.004885  \n",
      "3     0.359816     0.009222  \n",
      "4     0.359756     0.009222  \n",
      "5     0.283609     0.000000  \n",
      "6     0.437013     0.009222  \n",
      "7     0.375573     0.182965  \n",
      "\n",
      "[8 rows x 241 columns], 10056:           v0        v1        v2        v3        v4        v5        v6  \\\n",
      "0  -0.050565  0.687491  0.082658 -0.514827 -0.746274 -0.415616  0.202702   \n",
      "1   0.563101 -0.107928  0.645993  0.425998  0.364493 -0.339550 -0.050143   \n",
      "2   0.478764  0.167398  0.340328  0.190278  0.203319 -0.059717  0.284049   \n",
      "3   0.593935  0.347059  0.683318  0.282404  0.780833  0.491252  0.508376   \n",
      "4   0.505667  0.139576  0.299409  0.197210  0.246359 -0.074477  0.275949   \n",
      "5   0.478542  0.213140 -0.304341  0.167214  0.622696  0.333580  0.483237   \n",
      "6   0.764433  0.417154  0.553042  0.532121  0.564427  0.459184  0.619273   \n",
      "7   0.558707  0.151614  0.414623  0.566212  0.562580  0.266238  0.669429   \n",
      "8   0.693086  0.272534  0.633944  0.374220  0.725416  0.120745  0.482585   \n",
      "9   0.593462  0.187960  0.567824  0.099407  0.388930  0.681421  0.497958   \n",
      "10  1.000000  0.862557  1.000000  1.000000  0.860804  0.846463  0.790795   \n",
      "11  0.871467  0.211292  0.373822  0.164127  0.622696  0.737631  0.494785   \n",
      "12  0.443848  0.871062  0.876726 -0.165894  0.711831  0.793696  0.751631   \n",
      "13  1.000000  0.862557  1.000000  1.000000  0.860804  0.993218  0.790795   \n",
      "14 -0.806507  0.030476 -0.443899  0.353904  0.765489 -0.797524 -0.404854   \n",
      "15 -0.687475  0.057665 -0.468681  0.349808  0.709890 -0.879526 -0.470284   \n",
      "16  0.871467  0.211292  0.381184  0.164127  0.622696  0.738404  0.979231   \n",
      "17  1.000000  0.798442  1.000000  1.000000  0.904355  1.000000  0.866259   \n",
      "18  0.666928  0.178254  0.467949  0.341769  0.759124  0.686863  0.824129   \n",
      "19  0.877137  0.830567  0.959604  0.959842  0.846641  0.762707  0.747333   \n",
      "20 -0.552933 -0.885864  0.417826 -0.087805  0.860927  0.103916 -0.225466   \n",
      "21  0.197334 -1.000000  0.829156  0.045432  0.725073  0.263437 -0.268272   \n",
      "22  0.423879  0.057665 -0.468681  0.349808  0.709958  0.086009 -0.470284   \n",
      "23  0.941020  0.688001  0.982082  0.989771  0.980435  0.879038  0.833739   \n",
      "24  0.358203  0.274507  1.000000  0.879281  1.000000  0.993698  0.475753   \n",
      "25  0.492212  0.101147 -0.446366  0.368436  0.662237  0.190729 -0.466229   \n",
      "26  0.396386 -0.099612 -0.583809  0.322279  0.757232 -0.074030 -0.627056   \n",
      "27  0.941854  0.510115  0.959412  0.937629  1.000000  0.755992  0.717261   \n",
      "\n",
      "          v7        v8        v9  ...   Environment  Irrigation  Irrigation2  \\\n",
      "0  -0.107227 -0.098959  0.541185  ...  2.933452e+06    0.981053     0.023072   \n",
      "1   0.359994 -0.010719 -0.092529  ...  3.969801e+06    1.206169     0.019408   \n",
      "2   0.034019  0.226567 -0.105400  ...  2.327463e+06    1.159713     0.163240   \n",
      "3   0.223236  0.650451  0.369690  ...  2.314256e+06    2.492963     0.298840   \n",
      "4  -0.956617  0.277822 -0.119270  ...  2.365840e+06    1.041291     0.136146   \n",
      "5   0.371154  0.590439  0.130970  ...  3.306098e+06    1.670147     0.192284   \n",
      "6  -0.044677  0.648592  0.517128  ...  2.435258e+06    2.291132     0.451618   \n",
      "7   0.230694  0.466048  0.489902  ...  3.066008e+06    1.769511     0.162205   \n",
      "8   0.196587  0.644668  0.277374  ...  2.648496e+06    1.880425     0.260707   \n",
      "9  -0.862052  0.352435  0.874796  ...  2.778187e+06    1.346998     0.199103   \n",
      "10  0.978649  1.000000  0.743655  ...  2.700123e+06    4.723952     0.755918   \n",
      "11  0.984256  0.999322  0.130970  ...  3.121620e+06    2.218048     0.236548   \n",
      "12  0.201800  0.562944  0.628951  ...  2.300157e+06    2.542919     0.587457   \n",
      "13  0.978649  1.000000  0.743655  ...  2.293281e+06    4.788517     0.755918   \n",
      "14  0.193550  0.022228  0.326325  ...  1.566383e+06    1.531218     0.023072   \n",
      "15  0.070856  0.025953  0.307440  ...  1.462068e+06    1.728220     0.023072   \n",
      "16  0.999680  0.999322  0.846799  ...  2.960505e+06    2.811608     0.236548   \n",
      "17  1.000000  1.000000  0.644581  ...  2.249632e+06    4.798529     0.730673   \n",
      "18  0.728787  0.596597  0.422012  ...  2.197142e+06    2.657607     0.201194   \n",
      "19  0.948238  0.996560  0.653148  ...  2.641305e+06    4.536643     0.713041   \n",
      "20  0.198475 -0.070537  1.000000  ...  2.448486e+06    0.947847     0.023072   \n",
      "21  1.000000  0.749239 -0.286754  ...  5.384436e+06    0.901386     0.012898   \n",
      "22  0.534361  0.025953  0.307440  ...  1.755068e+06    1.423092     0.033273   \n",
      "23  0.977903  1.000000  0.735264  ...  3.560097e+06    4.873307     0.672469   \n",
      "24  0.969148  0.926825  0.143716  ...  3.694635e+06    2.489859     0.197922   \n",
      "25  0.610748  0.027071  0.285238  ...  2.023614e+06    1.183765     0.072211   \n",
      "26  0.519094  0.030040  0.210115  ...  1.603305e+06    1.595350     0.020305   \n",
      "27  0.979138  0.930187  0.679172  ...  2.651781e+06    4.422373     0.580177   \n",
      "\n",
      "    Irrigation3  Irrigation4  Irrigation5  Irrigation6  Irrigation7  \\\n",
      "0      0.008260     0.000797     0.086223     0.001766     0.500000   \n",
      "1      0.195068     0.001081     0.113284     0.007591     0.500000   \n",
      "2      0.035981     0.000762     0.089382     0.000609     0.500000   \n",
      "3      0.401499     0.330188     0.132842     0.192776     0.425000   \n",
      "4      0.034876     0.000752     0.026362     0.000534     0.462500   \n",
      "5      0.009103     0.161498     0.172135     0.020936     0.500000   \n",
      "6      0.216500     0.244800     0.086090     0.193134     0.475000   \n",
      "7      0.170182     0.106202     0.164320     0.118120     0.500000   \n",
      "8      0.127967     0.042297     0.126946     0.062012     0.458333   \n",
      "9      0.024552     0.279815     0.000060     0.138838     0.400000   \n",
      "10     0.565892     0.611852     0.421976     0.386873     0.337500   \n",
      "11     0.036685     0.433171     0.319223     0.034900     0.500000   \n",
      "12     0.000666     0.559550     0.153869     0.189424     0.404167   \n",
      "13     0.565597     0.689164     0.419279     0.386761     0.354167   \n",
      "14     0.242678     0.001161     0.216091     0.177865     0.500000   \n",
      "15     0.347303     0.001162     0.220244     0.263573     0.500000   \n",
      "16     0.038222     0.434117     0.498323     0.452430     0.500000   \n",
      "17     0.548996     0.711352     0.422119     0.325584     0.420833   \n",
      "18     0.398584     0.466280     0.339416     0.214093     0.462500   \n",
      "19     0.516071     0.551843     0.405535     0.324084     0.400000   \n",
      "20     0.004160     0.053357     0.092693     0.007123     0.500000   \n",
      "21     0.021219     0.183420     0.088623     0.006275     0.487500   \n",
      "22     0.283641     0.036268     0.094417     0.100232     0.500000   \n",
      "23     0.571367     0.662157     0.433038     0.390034     0.500000   \n",
      "24     0.542510     0.742914     0.301339     0.038508     0.500000   \n",
      "25     0.046785     0.108510     0.088623     0.006719     0.500000   \n",
      "26     0.327883     0.001476     0.117567     0.251638     0.500000   \n",
      "27     0.500362     0.596079     0.397799     0.320320     0.437500   \n",
      "\n",
      "    Irrigation8  Irrigation9  \n",
      "0      0.351712     0.009222  \n",
      "1      0.356920     0.012816  \n",
      "2      0.349733     0.020008  \n",
      "3      0.343142     0.368675  \n",
      "4      0.356357     0.023764  \n",
      "5      0.351712     0.262478  \n",
      "6      0.349471     0.274517  \n",
      "7      0.344665     0.203817  \n",
      "8      0.345493     0.456670  \n",
      "9      0.304630     0.000000  \n",
      "10     0.916667     0.727275  \n",
      "11     0.351712     0.305808  \n",
      "12     0.503618     0.144170  \n",
      "13     0.916667     0.700964  \n",
      "14     0.361127     0.009222  \n",
      "15     0.363642     0.009222  \n",
      "16     0.351712     0.300258  \n",
      "17     0.916667     0.722305  \n",
      "18     0.350864     0.224676  \n",
      "19     0.916667     0.709402  \n",
      "20     0.258219     0.009222  \n",
      "21     0.087500     0.013951  \n",
      "22     0.366052     0.009210  \n",
      "23     0.914844     0.729398  \n",
      "24     0.166667     0.000000  \n",
      "25     0.351712     0.009203  \n",
      "26     0.367258     0.009222  \n",
      "27     0.916667     0.673469  \n",
      "\n",
      "[28 rows x 241 columns], 1177:           v0        v1        v2        v3        v4        v5        v6  \\\n",
      "0   0.928945  0.160364  0.037497  0.144293  0.142200  0.458481 -0.137220   \n",
      "1  -0.760580  0.031873 -0.529644  0.343297  0.688832 -0.965012 -0.511506   \n",
      "2  -0.050565  0.687491  0.082658 -0.514827 -0.746274 -0.415616  0.202702   \n",
      "3  -0.760580  0.031873 -0.529644  0.343297  0.688832 -0.965012 -0.027734   \n",
      "4   0.002491 -0.035595  0.596902  0.219064  0.477594  0.222554  0.014055   \n",
      "5  -0.753720  0.044683 -0.519679  0.328040  0.668502 -0.991655 -0.581457   \n",
      "6  -0.753720  0.069718 -0.519679  0.328040  0.441593 -0.991655 -0.581457   \n",
      "7   0.474635  0.157912  0.337712  0.190660  0.213301 -0.058321  0.287135   \n",
      "8   0.227831  0.418283  0.675434 -0.368347  0.260781 -0.389042  0.126818   \n",
      "9   0.691548 -0.166320 -0.846627 -0.297851  0.370824 -0.618674 -0.385762   \n",
      "10  0.563101 -0.107928  0.645993  0.425998  0.364493 -0.339550 -0.050143   \n",
      "11  0.259991  0.078448 -0.733948  0.912987  0.789448 -0.420216 -0.164852   \n",
      "12 -0.280653  0.325646  1.000000 -0.097137  0.828659  0.675553  0.176702   \n",
      "\n",
      "          v7        v8        v9  ...   Environment  Irrigation  Irrigation2  \\\n",
      "0  -0.965516  0.929522  0.095980  ...  2.241699e+06    1.274334     0.207649   \n",
      "1   0.089008 -0.001428  0.322221  ...  1.701495e+06    1.591999     0.023072   \n",
      "2  -0.107227 -0.098959  0.541185  ...  2.933452e+06    0.981053     0.023072   \n",
      "3   0.089008 -0.001428  0.322221  ...  1.576536e+06    1.784700     0.023072   \n",
      "4   0.106652  0.039820 -0.025662  ...  2.868424e+06    1.182731     0.023072   \n",
      "5   0.154115  0.023347  0.307084  ...  1.796630e+06    1.476471     0.023072   \n",
      "6   0.154115  0.023347  0.307084  ...  1.925639e+06    1.423654     0.023072   \n",
      "7   0.042370  0.224505 -0.093563  ...  2.348292e+06    1.146717     0.150073   \n",
      "8  -0.516580  0.648496 -0.828072  ...  2.565363e+06    0.994377     0.203543   \n",
      "9  -0.331086  1.000000 -0.424563  ...  2.528377e+06    0.833115     0.012029   \n",
      "10  0.359994 -0.010719 -0.092529  ...  3.969801e+06    1.206169     0.019408   \n",
      "11  0.234148  0.478554  0.339463  ...  2.061988e+06    1.535988     0.032146   \n",
      "12 -0.911687  0.464038  0.878815  ...  2.776153e+06    2.226932     0.023072   \n",
      "\n",
      "    Irrigation3  Irrigation4  Irrigation5  Irrigation6  Irrigation7  \\\n",
      "0      0.009835     0.083163     0.088623     0.024129     0.500000   \n",
      "1      0.254624     0.001162     0.228613     0.215550     0.500000   \n",
      "2      0.008260     0.000797     0.086223     0.001766     0.500000   \n",
      "3      0.320898     0.001162     0.322797     0.237117     0.500000   \n",
      "4      0.089845     0.065175     0.088623     0.000635     0.500000   \n",
      "5      0.180892     0.001162     0.253355     0.153168     0.500000   \n",
      "6      0.148850     0.001170     0.253205     0.136421     0.500000   \n",
      "7      0.036205     0.000762     0.090123     0.000609     0.500000   \n",
      "8      0.000079     0.001930     0.145210     0.017726     0.333333   \n",
      "9      0.010955     0.001844     0.215970     0.012261     0.266667   \n",
      "10     0.195068     0.001081     0.113284     0.007591     0.500000   \n",
      "11     0.193290     0.001161     0.207764     0.240912     0.500000   \n",
      "12     0.001794     0.548750     0.081853     0.220803     0.500000   \n",
      "\n",
      "    Irrigation8  Irrigation9  \n",
      "0      0.351712     0.009222  \n",
      "1      0.359756     0.009222  \n",
      "2      0.351712     0.009222  \n",
      "3      0.371072     0.008581  \n",
      "4      0.394050     0.021331  \n",
      "5      0.355598     0.009222  \n",
      "6      0.351712     0.009222  \n",
      "7      0.349733     0.019212  \n",
      "8      0.283333     0.009222  \n",
      "9      0.304167     0.009222  \n",
      "10     0.356920     0.012816  \n",
      "11     0.351712     0.009003  \n",
      "12     0.287500     0.563159  \n",
      "\n",
      "[13 rows x 241 columns], 2274:           v0        v1        v2        v3        v4        v5        v6  \\\n",
      "0   0.928945  0.160364  0.037497  0.144293  0.142200  0.458481 -0.137220   \n",
      "1  -0.760580  0.031873 -0.529644  0.343297  0.688832 -0.965012 -0.511506   \n",
      "2  -0.050565  0.687491  0.082658 -0.514827 -0.746274 -0.415616  0.202702   \n",
      "3   0.002491 -0.035595  0.596902  0.219064  0.477594  0.222554  0.014055   \n",
      "4  -0.753720  0.044683 -0.519679  0.328040  0.668502 -0.991655 -0.581457   \n",
      "5  -0.753720  0.069718 -0.519679  0.328040  0.441593 -0.991655 -0.581457   \n",
      "6   0.227831  0.418283  0.675434 -0.368347  0.260781 -0.389042  0.126818   \n",
      "7   0.691548 -0.166320 -0.846627 -0.297851  0.370824 -0.618674 -0.385762   \n",
      "8   0.563101 -0.107928  0.645993  0.425998  0.364493 -0.339550 -0.050143   \n",
      "9   0.259991  0.078448 -0.733948  0.912987  0.789448 -0.420216 -0.164852   \n",
      "10 -0.280653  0.325646  1.000000 -0.097137  0.828659  0.675553  0.176702   \n",
      "11  0.478764  0.167398  0.340328  0.190278  0.203319 -0.059717  0.284049   \n",
      "12  0.434124  0.031873 -0.529644  0.343297  0.684026 -0.968542 -0.027734   \n",
      "13  0.682527  0.318556  1.000000 -0.120029  0.828659  0.675553  0.176702   \n",
      "14  0.438930 -0.107928  0.645993  0.425998  0.364493 -0.339550 -0.050143   \n",
      "15  0.369474  0.110215  0.914643  0.228692  0.419515  0.660400  0.052760   \n",
      "16  0.759732  0.877565 -0.152390 -0.072465  0.943004  0.731443 -0.039185   \n",
      "17  0.369474  0.110215  0.914643  0.228692  0.419515  0.660400  0.052760   \n",
      "18  0.525545  0.439491  0.187335  0.724492  0.305763  0.264879  0.262136   \n",
      "19 -0.098579  0.198339  1.000000  0.220458  0.513239  1.000000  0.513557   \n",
      "20  0.593935  0.347059  0.683318  0.282404  0.780833  0.491252  0.508376   \n",
      "\n",
      "          v7        v8        v9  ...   Environment  Irrigation  Irrigation2  \\\n",
      "0  -0.965516  0.929522  0.095980  ...  2.241699e+06    1.274334     0.207649   \n",
      "1   0.089008 -0.001428  0.322221  ...  1.701495e+06    1.591999     0.023072   \n",
      "2  -0.107227 -0.098959  0.541185  ...  2.933452e+06    0.981053     0.023072   \n",
      "3   0.106652  0.039820 -0.025662  ...  2.868424e+06    1.182731     0.023072   \n",
      "4   0.154115  0.023347  0.307084  ...  1.796630e+06    1.476471     0.023072   \n",
      "5   0.154115  0.023347  0.307084  ...  1.925639e+06    1.423654     0.023072   \n",
      "6  -0.516580  0.648496 -0.828072  ...  2.565363e+06    0.994377     0.203543   \n",
      "7  -0.331086  1.000000 -0.424563  ...  2.528377e+06    0.833115     0.012029   \n",
      "8   0.359994 -0.010719 -0.092529  ...  3.969801e+06    1.206169     0.019408   \n",
      "9   0.234148  0.478554  0.339463  ...  2.061988e+06    1.535988     0.032146   \n",
      "10 -0.911687  0.464038  0.878815  ...  2.776153e+06    2.226932     0.023072   \n",
      "11  0.034019  0.226567 -0.105400  ...  2.327463e+06    1.159713     0.163240   \n",
      "12  0.089008 -0.001428  0.322221  ...  1.574785e+06    1.564779     0.026434   \n",
      "13 -0.911687  0.464038  0.878815  ...  2.770844e+06    2.603108     0.301591   \n",
      "14  0.359994 -0.010719 -0.092529  ...  2.867596e+06    1.113091     0.019977   \n",
      "15 -0.093520  0.541271  0.228571  ...  2.116568e+06    1.890585     0.068722   \n",
      "16 -0.737920  0.605952  0.605126  ...  2.523894e+06    2.721107     0.699804   \n",
      "17 -0.093520  0.541271  0.228571  ...  2.116238e+06    2.045971     0.068722   \n",
      "18  0.433439  0.462431  0.135122  ...  3.898474e+06    1.501423     0.356431   \n",
      "19  1.000000  0.475250  0.677602  ...  3.534971e+06    2.905108     0.023072   \n",
      "20  0.223236  0.650451  0.369690  ...  2.314256e+06    2.492963     0.298840   \n",
      "\n",
      "    Irrigation3  Irrigation4  Irrigation5  Irrigation6  Irrigation7  \\\n",
      "0      0.009835     0.083163     0.088623     0.024129     0.500000   \n",
      "1      0.254624     0.001162     0.228613     0.215550     0.500000   \n",
      "2      0.008260     0.000797     0.086223     0.001766     0.500000   \n",
      "3      0.089845     0.065175     0.088623     0.000635     0.500000   \n",
      "4      0.180892     0.001162     0.253355     0.153168     0.500000   \n",
      "5      0.148850     0.001170     0.253205     0.136421     0.500000   \n",
      "6      0.000079     0.001930     0.145210     0.017726     0.333333   \n",
      "7      0.010955     0.001844     0.215970     0.012261     0.266667   \n",
      "8      0.195068     0.001081     0.113284     0.007591     0.500000   \n",
      "9      0.193290     0.001161     0.207764     0.240912     0.500000   \n",
      "10     0.001794     0.548750     0.081853     0.220803     0.500000   \n",
      "11     0.035981     0.000762     0.089382     0.000609     0.500000   \n",
      "12     0.207908     0.001162     0.310442     0.157690     0.500000   \n",
      "13     0.001331     0.548750     0.081853     0.218855     0.500000   \n",
      "14     0.194848     0.001081     0.117435     0.007617     0.475000   \n",
      "15     0.395674     0.296756     0.088187     0.118390     0.483333   \n",
      "16     0.305086     0.564612     0.088623     0.319324     0.245833   \n",
      "17     0.395674     0.296756     0.088187     0.118887     0.483333   \n",
      "18     0.084027     0.067721     0.122622     0.021980     0.491667   \n",
      "19     0.125654     0.570793     0.314530     0.213087     0.500000   \n",
      "20     0.401499     0.330188     0.132842     0.192776     0.425000   \n",
      "\n",
      "    Irrigation8  Irrigation9  \n",
      "0      0.351712     0.009222  \n",
      "1      0.359756     0.009222  \n",
      "2      0.351712     0.009222  \n",
      "3      0.394050     0.021331  \n",
      "4      0.355598     0.009222  \n",
      "5      0.351712     0.009222  \n",
      "6      0.283333     0.009222  \n",
      "7      0.304167     0.009222  \n",
      "8      0.356920     0.012816  \n",
      "9      0.351712     0.009003  \n",
      "10     0.287500     0.563159  \n",
      "11     0.349733     0.020008  \n",
      "12     0.352563     0.008580  \n",
      "13     0.342333     0.608394  \n",
      "14     0.278795     0.018338  \n",
      "15     0.372446     0.067077  \n",
      "16     0.467070     0.030755  \n",
      "17     0.372446     0.221966  \n",
      "18     0.347753     0.009222  \n",
      "19     0.504641     0.653330  \n",
      "20     0.343142     0.368675  \n",
      "\n",
      "[21 rows x 241 columns], 3371:           v0        v1        v2        v3        v4        v5        v6  \\\n",
      "0   0.928945  0.160364  0.037497  0.144293  0.142200  0.458481 -0.137220   \n",
      "1  -0.760580  0.031873 -0.529644  0.343297  0.688832 -0.965012 -0.511506   \n",
      "2  -0.050565  0.687491  0.082658 -0.514827 -0.746274 -0.415616  0.202702   \n",
      "3   0.002491 -0.035595  0.596902  0.219064  0.477594  0.222554  0.014055   \n",
      "4  -0.753720  0.044683 -0.519679  0.328040  0.668502 -0.991655 -0.581457   \n",
      "5  -0.753720  0.069718 -0.519679  0.328040  0.441593 -0.991655 -0.581457   \n",
      "6   0.227831  0.418283  0.675434 -0.368347  0.260781 -0.389042  0.126818   \n",
      "7   0.563101 -0.107928  0.645993  0.425998  0.364493 -0.339550 -0.050143   \n",
      "8   0.259991  0.078448 -0.733948  0.912987  0.789448 -0.420216 -0.164852   \n",
      "9   0.478764  0.167398  0.340328  0.190278  0.203319 -0.059717  0.284049   \n",
      "10  0.438930 -0.107928  0.645993  0.425998  0.364493 -0.339550 -0.050143   \n",
      "11  0.369474  0.110215  0.914643  0.228692  0.419515  0.660400  0.052760   \n",
      "12  0.369474  0.110215  0.914643  0.228692  0.419515  0.660400  0.052760   \n",
      "13  0.593935  0.347059  0.683318  0.282404  0.780833  0.491252  0.508376   \n",
      "14  0.505667  0.139576  0.299409  0.197210  0.246359 -0.074477  0.275949   \n",
      "15  0.689383 -0.317125 -0.743601 -0.358897  0.325996 -0.889287 -0.403365   \n",
      "16 -0.687475  0.057665 -0.468681  0.349808  0.709890 -0.879526 -0.470284   \n",
      "17  0.478542  0.213140 -0.304341  0.167214  0.622696  0.333580  0.483237   \n",
      "18  0.558707  0.151614  0.414623  0.566212  0.562580  0.266238  0.669429   \n",
      "19  0.871467  0.203489 -0.274297  0.167214  0.622696  0.737631  0.483237   \n",
      "20  0.764433  0.417154  0.553042  0.532121  0.564427  0.459184  0.619273   \n",
      "\n",
      "          v7        v8        v9  ...   Environment  Irrigation  Irrigation2  \\\n",
      "0  -0.965516  0.929522  0.095980  ...  2.241699e+06    1.274334     0.207649   \n",
      "1   0.089008 -0.001428  0.322221  ...  1.701495e+06    1.591999     0.023072   \n",
      "2  -0.107227 -0.098959  0.541185  ...  2.933452e+06    0.981053     0.023072   \n",
      "3   0.106652  0.039820 -0.025662  ...  2.868424e+06    1.182731     0.023072   \n",
      "4   0.154115  0.023347  0.307084  ...  1.796630e+06    1.476471     0.023072   \n",
      "5   0.154115  0.023347  0.307084  ...  1.925639e+06    1.423654     0.023072   \n",
      "6  -0.516580  0.648496 -0.828072  ...  2.565363e+06    0.994377     0.203543   \n",
      "7   0.359994 -0.010719 -0.092529  ...  3.969801e+06    1.206169     0.019408   \n",
      "8   0.234148  0.478554  0.339463  ...  2.061988e+06    1.535988     0.032146   \n",
      "9   0.034019  0.226567 -0.105400  ...  2.327463e+06    1.159713     0.163240   \n",
      "10  0.359994 -0.010719 -0.092529  ...  2.867596e+06    1.113091     0.019977   \n",
      "11 -0.093520  0.541271  0.228571  ...  2.116568e+06    1.890585     0.068722   \n",
      "12 -0.093520  0.541271  0.228571  ...  2.116238e+06    2.045971     0.068722   \n",
      "13  0.223236  0.650451  0.369690  ...  2.314256e+06    2.492963     0.298840   \n",
      "14 -0.956617  0.277822 -0.119270  ...  2.365840e+06    1.041291     0.136146   \n",
      "15 -0.543976  0.986439 -0.517705  ...  2.527413e+06    0.876205     0.000842   \n",
      "16  0.070856  0.025953  0.307440  ...  1.568413e+06    1.710732     0.023072   \n",
      "17  0.371154  0.590439  0.130970  ...  3.306098e+06    1.670147     0.192284   \n",
      "18  0.229885  0.466048  0.489902  ...  2.993301e+06    1.783260     0.162205   \n",
      "19  0.984111  0.590439  0.130970  ...  3.272987e+06    2.129289     0.234048   \n",
      "20 -0.044677  0.648592  0.517128  ...  2.435258e+06    2.291132     0.451618   \n",
      "\n",
      "    Irrigation3  Irrigation4  Irrigation5  Irrigation6  Irrigation7  \\\n",
      "0      0.009835     0.083163     0.088623     0.024129     0.500000   \n",
      "1      0.254624     0.001162     0.228613     0.215550     0.500000   \n",
      "2      0.008260     0.000797     0.086223     0.001766     0.500000   \n",
      "3      0.089845     0.065175     0.088623     0.000635     0.500000   \n",
      "4      0.180892     0.001162     0.253355     0.153168     0.500000   \n",
      "5      0.148850     0.001170     0.253205     0.136421     0.500000   \n",
      "6      0.000079     0.001930     0.145210     0.017726     0.333333   \n",
      "7      0.195068     0.001081     0.113284     0.007591     0.500000   \n",
      "8      0.193290     0.001161     0.207764     0.240912     0.500000   \n",
      "9      0.035981     0.000762     0.089382     0.000609     0.500000   \n",
      "10     0.194848     0.001081     0.117435     0.007617     0.475000   \n",
      "11     0.395674     0.296756     0.088187     0.118390     0.483333   \n",
      "12     0.395674     0.296756     0.088187     0.118887     0.483333   \n",
      "13     0.401499     0.330188     0.132842     0.192776     0.425000   \n",
      "14     0.034876     0.000752     0.026362     0.000534     0.462500   \n",
      "15     0.014093     0.001847     0.232506     0.013528     0.295833   \n",
      "16     0.326229     0.001162     0.244987     0.250460     0.500000   \n",
      "17     0.009103     0.161498     0.172135     0.020936     0.500000   \n",
      "18     0.170182     0.111345     0.165995     0.122981     0.500000   \n",
      "19     0.009103     0.433039     0.319209     0.020355     0.500000   \n",
      "20     0.216500     0.244800     0.086090     0.193134     0.475000   \n",
      "\n",
      "    Irrigation8  Irrigation9  \n",
      "0      0.351712     0.009222  \n",
      "1      0.359756     0.009222  \n",
      "2      0.351712     0.009222  \n",
      "3      0.394050     0.021331  \n",
      "4      0.355598     0.009222  \n",
      "5      0.351712     0.009222  \n",
      "6      0.283333     0.009222  \n",
      "7      0.356920     0.012816  \n",
      "8      0.351712     0.009003  \n",
      "9      0.349733     0.020008  \n",
      "10     0.278795     0.018338  \n",
      "11     0.372446     0.067077  \n",
      "12     0.372446     0.221966  \n",
      "13     0.343142     0.368675  \n",
      "14     0.356357     0.023764  \n",
      "15     0.308333     0.009222  \n",
      "16     0.355598     0.009222  \n",
      "17     0.351712     0.262478  \n",
      "18     0.345578     0.204975  \n",
      "19     0.351712     0.261822  \n",
      "20     0.349471     0.274517  \n",
      "\n",
      "[21 rows x 241 columns], 4465:           v0        v1        v2        v3        v4        v5        v6  \\\n",
      "0   0.928945  0.160364  0.037497  0.144293  0.142200  0.458481 -0.137220   \n",
      "1  -0.760580  0.031873 -0.529644  0.343297  0.688832 -0.965012 -0.511506   \n",
      "2  -0.050565  0.687491  0.082658 -0.514827 -0.746274 -0.415616  0.202702   \n",
      "3  -0.753720  0.044683 -0.519679  0.328040  0.668502 -0.991655 -0.581457   \n",
      "4  -0.753720  0.069718 -0.519679  0.328040  0.441593 -0.991655 -0.581457   \n",
      "5   0.227831  0.418283  0.675434 -0.368347  0.260781 -0.389042  0.126818   \n",
      "6   0.563101 -0.107928  0.645993  0.425998  0.364493 -0.339550 -0.050143   \n",
      "7   0.259991  0.078448 -0.733948  0.912987  0.789448 -0.420216 -0.164852   \n",
      "8   0.478764  0.167398  0.340328  0.190278  0.203319 -0.059717  0.284049   \n",
      "9   0.369474  0.110215  0.914643  0.228692  0.419515  0.660400  0.052760   \n",
      "10  0.369474  0.110215  0.914643  0.228692  0.419515  0.660400  0.052760   \n",
      "11  0.593935  0.347059  0.683318  0.282404  0.780833  0.491252  0.508376   \n",
      "12  0.505667  0.139576  0.299409  0.197210  0.246359 -0.074477  0.275949   \n",
      "13  0.689383 -0.317125 -0.743601 -0.358897  0.325996 -0.889287 -0.403365   \n",
      "14 -0.687475  0.057665 -0.468681  0.349808  0.709890 -0.879526 -0.470284   \n",
      "15  0.478542  0.213140 -0.304341  0.167214  0.622696  0.333580  0.483237   \n",
      "16  0.871467  0.203489 -0.274297  0.167214  0.622696  0.737631  0.483237   \n",
      "17  0.764433  0.417154  0.553042  0.532121  0.564427  0.459184  0.619273   \n",
      "18 -0.729762  0.011728 -0.455071  0.367563  0.739291 -0.786904 -0.449702   \n",
      "19  0.558707  0.151614  0.414623  0.566212  0.562580  0.266238  0.669429   \n",
      "20  0.871467  0.211292  0.373822  0.164127  0.622696  0.737631  0.494785   \n",
      "21  0.693086  0.272534  0.633944  0.374220  0.725416  0.120745  0.482585   \n",
      "22  0.593462  0.187960  0.567824  0.099407  0.388930  0.681421  0.497958   \n",
      "\n",
      "          v7        v8        v9  ...   Environment  Irrigation  Irrigation2  \\\n",
      "0  -0.965516  0.929522  0.095980  ...  2.241699e+06    1.274334     0.207649   \n",
      "1   0.089008 -0.001428  0.322221  ...  1.701495e+06    1.591999     0.023072   \n",
      "2  -0.107227 -0.098959  0.541185  ...  2.933452e+06    0.981053     0.023072   \n",
      "3   0.154115  0.023347  0.307084  ...  1.796630e+06    1.476471     0.023072   \n",
      "4   0.154115  0.023347  0.307084  ...  1.925639e+06    1.423654     0.023072   \n",
      "5  -0.516580  0.648496 -0.828072  ...  2.565363e+06    0.994377     0.203543   \n",
      "6   0.359994 -0.010719 -0.092529  ...  3.969801e+06    1.206169     0.019408   \n",
      "7   0.234148  0.478554  0.339463  ...  2.061988e+06    1.535988     0.032146   \n",
      "8   0.034019  0.226567 -0.105400  ...  2.327463e+06    1.159713     0.163240   \n",
      "9  -0.093520  0.541271  0.228571  ...  2.116568e+06    1.890585     0.068722   \n",
      "10 -0.093520  0.541271  0.228571  ...  2.116238e+06    2.045971     0.068722   \n",
      "11  0.223236  0.650451  0.369690  ...  2.314256e+06    2.492963     0.298840   \n",
      "12 -0.956617  0.277822 -0.119270  ...  2.365840e+06    1.041291     0.136146   \n",
      "13 -0.543976  0.986439 -0.517705  ...  2.527413e+06    0.876205     0.000842   \n",
      "14  0.070856  0.025953  0.307440  ...  1.568413e+06    1.710732     0.023072   \n",
      "15  0.371154  0.590439  0.130970  ...  3.306098e+06    1.670147     0.192284   \n",
      "16  0.984111  0.590439  0.130970  ...  3.272987e+06    2.129289     0.234048   \n",
      "17 -0.044677  0.648592  0.517128  ...  2.435258e+06    2.291132     0.451618   \n",
      "18  0.108739  0.020138  0.380326  ...  2.162156e+06    1.234857     0.023072   \n",
      "19  0.230694  0.466048  0.489902  ...  3.066008e+06    1.769511     0.162205   \n",
      "20  0.984256  0.999322  0.130970  ...  3.250917e+06    2.623973     0.236548   \n",
      "21  0.196587  0.644668  0.277374  ...  2.648496e+06    1.880425     0.260707   \n",
      "22 -0.862052  0.352435  0.874796  ...  2.778187e+06    1.346998     0.199103   \n",
      "\n",
      "    Irrigation3  Irrigation4  Irrigation5  Irrigation6  Irrigation7  \\\n",
      "0      0.009835     0.083163     0.088623     0.024129     0.500000   \n",
      "1      0.254624     0.001162     0.228613     0.215550     0.500000   \n",
      "2      0.008260     0.000797     0.086223     0.001766     0.500000   \n",
      "3      0.180892     0.001162     0.253355     0.153168     0.500000   \n",
      "4      0.148850     0.001170     0.253205     0.136421     0.500000   \n",
      "5      0.000079     0.001930     0.145210     0.017726     0.333333   \n",
      "6      0.195068     0.001081     0.113284     0.007591     0.500000   \n",
      "7      0.193290     0.001161     0.207764     0.240912     0.500000   \n",
      "8      0.035981     0.000762     0.089382     0.000609     0.500000   \n",
      "9      0.395674     0.296756     0.088187     0.118390     0.483333   \n",
      "10     0.395674     0.296756     0.088187     0.118887     0.483333   \n",
      "11     0.401499     0.330188     0.132842     0.192776     0.425000   \n",
      "12     0.034876     0.000752     0.026362     0.000534     0.462500   \n",
      "13     0.014093     0.001847     0.232506     0.013528     0.295833   \n",
      "14     0.326229     0.001162     0.244987     0.250460     0.500000   \n",
      "15     0.009103     0.161498     0.172135     0.020936     0.500000   \n",
      "16     0.009103     0.433039     0.319209     0.020355     0.500000   \n",
      "17     0.216500     0.244800     0.086090     0.193134     0.475000   \n",
      "18     0.104288     0.001161     0.224395     0.020486     0.500000   \n",
      "19     0.170182     0.106202     0.164320     0.118120     0.500000   \n",
      "20     0.033140     0.433510     0.319643     0.035013     0.500000   \n",
      "21     0.127967     0.042297     0.126946     0.062012     0.458333   \n",
      "22     0.024552     0.279815     0.000060     0.138838     0.400000   \n",
      "\n",
      "    Irrigation8  Irrigation9  \n",
      "0      0.351712     0.009222  \n",
      "1      0.359756     0.009222  \n",
      "2      0.351712     0.009222  \n",
      "3      0.355598     0.009222  \n",
      "4      0.351712     0.009222  \n",
      "5      0.283333     0.009222  \n",
      "6      0.356920     0.012816  \n",
      "7      0.351712     0.009003  \n",
      "8      0.349733     0.020008  \n",
      "9      0.372446     0.067077  \n",
      "10     0.372446     0.221966  \n",
      "11     0.343142     0.368675  \n",
      "12     0.356357     0.023764  \n",
      "13     0.308333     0.009222  \n",
      "14     0.355598     0.009222  \n",
      "15     0.351712     0.262478  \n",
      "16     0.351712     0.261822  \n",
      "17     0.349471     0.274517  \n",
      "18     0.352233     0.009222  \n",
      "19     0.344665     0.203817  \n",
      "20     0.351712     0.714407  \n",
      "21     0.345493     0.456670  \n",
      "22     0.304630     0.000000  \n",
      "\n",
      "[23 rows x 241 columns], 5563:           v0        v1        v2        v3        v4        v5        v6  \\\n",
      "0   0.928945  0.160364  0.037497  0.144293  0.142200  0.458481 -0.137220   \n",
      "1  -0.050565  0.687491  0.082658 -0.514827 -0.746274 -0.415616  0.202702   \n",
      "2  -0.753720  0.044683 -0.519679  0.328040  0.668502 -0.991655 -0.581457   \n",
      "3  -0.753720  0.069718 -0.519679  0.328040  0.441593 -0.991655 -0.581457   \n",
      "4   0.227831  0.418283  0.675434 -0.368347  0.260781 -0.389042  0.126818   \n",
      "5   0.563101 -0.107928  0.645993  0.425998  0.364493 -0.339550 -0.050143   \n",
      "6   0.259991  0.078448 -0.733948  0.912987  0.789448 -0.420216 -0.164852   \n",
      "7   0.478764  0.167398  0.340328  0.190278  0.203319 -0.059717  0.284049   \n",
      "8   0.369474  0.110215  0.914643  0.228692  0.419515  0.660400  0.052760   \n",
      "9   0.369474  0.110215  0.914643  0.228692  0.419515  0.660400  0.052760   \n",
      "10  0.593935  0.347059  0.683318  0.282404  0.780833  0.491252  0.508376   \n",
      "11  0.505667  0.139576  0.299409  0.197210  0.246359 -0.074477  0.275949   \n",
      "12  0.689383 -0.317125 -0.743601 -0.358897  0.325996 -0.889287 -0.403365   \n",
      "13 -0.687475  0.057665 -0.468681  0.349808  0.709890 -0.879526 -0.470284   \n",
      "14  0.478542  0.213140 -0.304341  0.167214  0.622696  0.333580  0.483237   \n",
      "15  0.764433  0.417154  0.553042  0.532121  0.564427  0.459184  0.619273   \n",
      "16  0.558707  0.151614  0.414623  0.566212  0.562580  0.266238  0.669429   \n",
      "17  0.693086  0.272534  0.633944  0.374220  0.725416  0.120745  0.482585   \n",
      "18  0.593462  0.187960  0.567824  0.099407  0.388930  0.681421  0.497958   \n",
      "19 -0.707399  0.960192 -0.568108  0.330638  0.718095 -0.978888 -0.549525   \n",
      "20  0.568266  0.945018 -0.100671 -0.039749  1.000000  1.000000  0.469955   \n",
      "21 -0.666574 -0.053090 -0.425350  0.398805  0.750526 -0.823218 -0.477318   \n",
      "22  1.000000  0.862557  1.000000  1.000000  0.860804  0.846463  0.790795   \n",
      "23  0.871467  0.211292  0.373822  0.164127  0.622696  0.737631  0.494785   \n",
      "24  1.000000  0.442471  0.681651  0.312178  0.816890  0.388722  0.123996   \n",
      "25  0.443848  0.871062  0.876726 -0.165894  0.711831  0.793696  0.751631   \n",
      "26  1.000000  0.862557  1.000000  1.000000  0.860804  0.993218  0.790795   \n",
      "\n",
      "          v7        v8        v9  ...   Environment  Irrigation  Irrigation2  \\\n",
      "0  -0.965516  0.929522  0.095980  ...  2.241699e+06    1.274334     0.207649   \n",
      "1  -0.107227 -0.098959  0.541185  ...  2.933452e+06    0.981053     0.023072   \n",
      "2   0.154115  0.023347  0.307084  ...  1.796630e+06    1.476471     0.023072   \n",
      "3   0.154115  0.023347  0.307084  ...  1.925639e+06    1.423654     0.023072   \n",
      "4  -0.516580  0.648496 -0.828072  ...  2.565363e+06    0.994377     0.203543   \n",
      "5   0.359994 -0.010719 -0.092529  ...  3.969801e+06    1.206169     0.019408   \n",
      "6   0.234148  0.478554  0.339463  ...  2.061988e+06    1.535988     0.032146   \n",
      "7   0.034019  0.226567 -0.105400  ...  2.327463e+06    1.159713     0.163240   \n",
      "8  -0.093520  0.541271  0.228571  ...  2.116568e+06    1.890585     0.068722   \n",
      "9  -0.093520  0.541271  0.228571  ...  2.116238e+06    2.045971     0.068722   \n",
      "10  0.223236  0.650451  0.369690  ...  2.314256e+06    2.492963     0.298840   \n",
      "11 -0.956617  0.277822 -0.119270  ...  2.365840e+06    1.041291     0.136146   \n",
      "12 -0.543976  0.986439 -0.517705  ...  2.527413e+06    0.876205     0.000842   \n",
      "13  0.070856  0.025953  0.307440  ...  1.568413e+06    1.710732     0.023072   \n",
      "14  0.371154  0.590439  0.130970  ...  3.306098e+06    1.670147     0.192284   \n",
      "15 -0.044677  0.648592  0.517128  ...  2.435258e+06    2.291132     0.451618   \n",
      "16  0.230694  0.466048  0.489902  ...  3.066008e+06    1.769511     0.162205   \n",
      "17  0.196587  0.644668  0.277374  ...  2.648496e+06    1.880425     0.260707   \n",
      "18 -0.862052  0.352435  0.874796  ...  2.778187e+06    1.346998     0.199103   \n",
      "19  0.062382 -0.023560  0.285716  ...  1.580932e+06    1.618498     0.023072   \n",
      "20  1.000000  1.000000  0.769667  ...  2.115167e+06    3.122171     0.658570   \n",
      "21  0.132848  0.055895  0.270679  ...  2.080126e+06    1.216734     0.023072   \n",
      "22  0.978649  1.000000  0.743655  ...  2.700123e+06    4.723952     0.755918   \n",
      "23  0.984256  0.999322  0.130970  ...  3.121620e+06    2.218048     0.236548   \n",
      "24  0.450492  0.715209  1.000000  ...  2.023990e+06    3.128395     0.540455   \n",
      "25  0.201800  0.562944  0.628951  ...  2.300157e+06    2.542919     0.587457   \n",
      "26  0.978649  1.000000  0.743655  ...  2.293281e+06    4.788517     0.755918   \n",
      "\n",
      "    Irrigation3  Irrigation4  Irrigation5  Irrigation6  Irrigation7  \\\n",
      "0      0.009835     0.083163     0.088623     0.024129     0.500000   \n",
      "1      0.008260     0.000797     0.086223     0.001766     0.500000   \n",
      "2      0.180892     0.001162     0.253355     0.153168     0.500000   \n",
      "3      0.148850     0.001170     0.253205     0.136421     0.500000   \n",
      "4      0.000079     0.001930     0.145210     0.017726     0.333333   \n",
      "5      0.195068     0.001081     0.113284     0.007591     0.500000   \n",
      "6      0.193290     0.001161     0.207764     0.240912     0.500000   \n",
      "7      0.035981     0.000762     0.089382     0.000609     0.500000   \n",
      "8      0.395674     0.296756     0.088187     0.118390     0.483333   \n",
      "9      0.395674     0.296756     0.088187     0.118887     0.483333   \n",
      "10     0.401499     0.330188     0.132842     0.192776     0.425000   \n",
      "11     0.034876     0.000752     0.026362     0.000534     0.462500   \n",
      "12     0.014093     0.001847     0.232506     0.013528     0.295833   \n",
      "13     0.326229     0.001162     0.244987     0.250460     0.500000   \n",
      "14     0.009103     0.161498     0.172135     0.020936     0.500000   \n",
      "15     0.216500     0.244800     0.086090     0.193134     0.475000   \n",
      "16     0.170182     0.106202     0.164320     0.118120     0.500000   \n",
      "17     0.127967     0.042297     0.126946     0.062012     0.458333   \n",
      "18     0.024552     0.279815     0.000060     0.138838     0.400000   \n",
      "19     0.242078     0.001162     0.220310     0.177311     0.500000   \n",
      "20     0.305086     0.758106     0.294977     0.558709     0.308333   \n",
      "21     0.063248     0.001161     0.244906     0.025408     0.500000   \n",
      "22     0.565892     0.611852     0.421976     0.386873     0.337500   \n",
      "23     0.036685     0.433171     0.319223     0.034900     0.500000   \n",
      "24     0.382670     0.315382     0.108016     0.560414     0.225000   \n",
      "25     0.000666     0.559550     0.153869     0.189424     0.404167   \n",
      "26     0.565597     0.689164     0.419279     0.386761     0.354167   \n",
      "\n",
      "    Irrigation8  Irrigation9  \n",
      "0      0.351712     0.009222  \n",
      "1      0.351712     0.009222  \n",
      "2      0.355598     0.009222  \n",
      "3      0.351712     0.009222  \n",
      "4      0.283333     0.009222  \n",
      "5      0.356920     0.012816  \n",
      "6      0.351712     0.009003  \n",
      "7      0.349733     0.020008  \n",
      "8      0.372446     0.067077  \n",
      "9      0.372446     0.221966  \n",
      "10     0.343142     0.368675  \n",
      "11     0.356357     0.023764  \n",
      "12     0.308333     0.009222  \n",
      "13     0.355598     0.009222  \n",
      "14     0.351712     0.262478  \n",
      "15     0.349471     0.274517  \n",
      "16     0.344665     0.203817  \n",
      "17     0.345493     0.456670  \n",
      "18     0.304630     0.000000  \n",
      "19     0.351712     0.102852  \n",
      "20     0.229167     0.009222  \n",
      "21     0.349716     0.009222  \n",
      "22     0.916667     0.727275  \n",
      "23     0.351712     0.305808  \n",
      "24     0.246986     0.749472  \n",
      "25     0.503618     0.144170  \n",
      "26     0.916667     0.700964  \n",
      "\n",
      "[27 rows x 241 columns], 6661:           v0        v1        v2        v3        v4        v5        v6  \\\n",
      "0   0.928945  0.160364  0.037497  0.144293  0.142200  0.458481 -0.137220   \n",
      "1  -0.050565  0.687491  0.082658 -0.514827 -0.746274 -0.415616  0.202702   \n",
      "2  -0.753720  0.044683 -0.519679  0.328040  0.668502 -0.991655 -0.581457   \n",
      "3  -0.753720  0.069718 -0.519679  0.328040  0.441593 -0.991655 -0.581457   \n",
      "4   0.227831  0.418283  0.675434 -0.368347  0.260781 -0.389042  0.126818   \n",
      "5   0.563101 -0.107928  0.645993  0.425998  0.364493 -0.339550 -0.050143   \n",
      "6   0.259991  0.078448 -0.733948  0.912987  0.789448 -0.420216 -0.164852   \n",
      "7   0.478764  0.167398  0.340328  0.190278  0.203319 -0.059717  0.284049   \n",
      "8   0.369474  0.110215  0.914643  0.228692  0.419515  0.660400  0.052760   \n",
      "9   0.369474  0.110215  0.914643  0.228692  0.419515  0.660400  0.052760   \n",
      "10  0.593935  0.347059  0.683318  0.282404  0.780833  0.491252  0.508376   \n",
      "11  0.505667  0.139576  0.299409  0.197210  0.246359 -0.074477  0.275949   \n",
      "12  0.689383 -0.317125 -0.743601 -0.358897  0.325996 -0.889287 -0.403365   \n",
      "13  0.478542  0.213140 -0.304341  0.167214  0.622696  0.333580  0.483237   \n",
      "14  0.764433  0.417154  0.553042  0.532121  0.564427  0.459184  0.619273   \n",
      "15  0.558707  0.151614  0.414623  0.566212  0.562580  0.266238  0.669429   \n",
      "16  0.693086  0.272534  0.633944  0.374220  0.725416  0.120745  0.482585   \n",
      "17  0.593462  0.187960  0.567824  0.099407  0.388930  0.681421  0.497958   \n",
      "18  0.568266  0.945018 -0.100671 -0.039749  1.000000  1.000000  0.469955   \n",
      "19 -0.666574 -0.053090 -0.425350  0.398805  0.750526 -0.823218 -0.477318   \n",
      "20  1.000000  0.862557  1.000000  1.000000  0.860804  0.846463  0.790795   \n",
      "21  0.871467  0.211292  0.373822  0.164127  0.622696  0.737631  0.494785   \n",
      "22  1.000000  0.442471  0.681651  0.312178  0.816890  0.388722  0.123996   \n",
      "23  0.443848  0.871062  0.876726 -0.165894  0.711831  0.793696  0.751631   \n",
      "24  1.000000  0.862557  1.000000  1.000000  0.860804  0.993218  0.790795   \n",
      "25  1.000000  0.813367  0.885257  1.000000  0.803556  0.790932  0.952917   \n",
      "26 -0.806507  0.030476 -0.443899  0.353904  0.765489 -0.797524 -0.404854   \n",
      "27 -0.687475  0.057665 -0.468681  0.349808  0.709890 -0.879526 -0.470284   \n",
      "28  0.871467  0.211292  0.381184  0.164127  0.622696  0.738404  0.979231   \n",
      "29  1.000000  0.798442  1.000000  1.000000  0.904355  1.000000  0.866259   \n",
      "30  0.666928  0.178254  0.467949  0.341769  0.759124  0.686863  0.824129   \n",
      "31  0.743374 -0.201582 -0.801309 -0.078804  0.482202 -0.720406 -0.119100   \n",
      "\n",
      "          v7        v8        v9  ...   Environment  Irrigation  Irrigation2  \\\n",
      "0  -0.965516  0.929522  0.095980  ...  2.241699e+06    1.274334     0.207649   \n",
      "1  -0.107227 -0.098959  0.541185  ...  2.933452e+06    0.981053     0.023072   \n",
      "2   0.154115  0.023347  0.307084  ...  1.796630e+06    1.476471     0.023072   \n",
      "3   0.154115  0.023347  0.307084  ...  1.925639e+06    1.423654     0.023072   \n",
      "4  -0.516580  0.648496 -0.828072  ...  2.565363e+06    0.994377     0.203543   \n",
      "5   0.359994 -0.010719 -0.092529  ...  3.969801e+06    1.206169     0.019408   \n",
      "6   0.234148  0.478554  0.339463  ...  2.061988e+06    1.535988     0.032146   \n",
      "7   0.034019  0.226567 -0.105400  ...  2.327463e+06    1.159713     0.163240   \n",
      "8  -0.093520  0.541271  0.228571  ...  2.116568e+06    1.890585     0.068722   \n",
      "9  -0.093520  0.541271  0.228571  ...  2.116238e+06    2.045971     0.068722   \n",
      "10  0.223236  0.650451  0.369690  ...  2.314256e+06    2.492963     0.298840   \n",
      "11 -0.956617  0.277822 -0.119270  ...  2.365840e+06    1.041291     0.136146   \n",
      "12 -0.543976  0.986439 -0.517705  ...  2.527413e+06    0.876205     0.000842   \n",
      "13  0.371154  0.590439  0.130970  ...  3.306098e+06    1.670147     0.192284   \n",
      "14 -0.044677  0.648592  0.517128  ...  2.435258e+06    2.291132     0.451618   \n",
      "15  0.230694  0.466048  0.489902  ...  3.066008e+06    1.769511     0.162205   \n",
      "16  0.196587  0.644668  0.277374  ...  2.648496e+06    1.880425     0.260707   \n",
      "17 -0.862052  0.352435  0.874796  ...  2.778187e+06    1.346998     0.199103   \n",
      "18  1.000000  1.000000  0.769667  ...  2.115167e+06    3.122171     0.658570   \n",
      "19  0.132848  0.055895  0.270679  ...  2.080126e+06    1.216734     0.023072   \n",
      "20  0.978649  1.000000  0.743655  ...  2.700123e+06    4.723952     0.755918   \n",
      "21  0.984256  0.999322  0.130970  ...  3.121620e+06    2.218048     0.236548   \n",
      "22  0.450492  0.715209  1.000000  ...  2.023990e+06    3.128395     0.540455   \n",
      "23  0.201800  0.562944  0.628951  ...  2.300157e+06    2.542919     0.587457   \n",
      "24  0.978649  1.000000  0.743655  ...  2.293281e+06    4.788517     0.755918   \n",
      "25  1.000000  0.988275  0.799034  ...  2.828481e+06    4.664551     0.734455   \n",
      "26  0.193550  0.022228  0.326325  ...  1.566383e+06    1.531218     0.023072   \n",
      "27  0.070856  0.025953  0.307440  ...  1.462068e+06    1.728220     0.023072   \n",
      "28  0.999680  0.999322  0.846799  ...  2.960505e+06    2.811608     0.236548   \n",
      "29  1.000000  1.000000  0.644581  ...  2.249632e+06    4.798529     0.730673   \n",
      "30  0.728787  0.596597  0.422012  ...  2.197142e+06    2.657607     0.201194   \n",
      "31 -0.735502  0.949056 -0.333519  ...  2.512936e+06    0.773511     0.001825   \n",
      "\n",
      "    Irrigation3  Irrigation4  Irrigation5  Irrigation6  Irrigation7  \\\n",
      "0      0.009835     0.083163     0.088623     0.024129     0.500000   \n",
      "1      0.008260     0.000797     0.086223     0.001766     0.500000   \n",
      "2      0.180892     0.001162     0.253355     0.153168     0.500000   \n",
      "3      0.148850     0.001170     0.253205     0.136421     0.500000   \n",
      "4      0.000079     0.001930     0.145210     0.017726     0.333333   \n",
      "5      0.195068     0.001081     0.113284     0.007591     0.500000   \n",
      "6      0.193290     0.001161     0.207764     0.240912     0.500000   \n",
      "7      0.035981     0.000762     0.089382     0.000609     0.500000   \n",
      "8      0.395674     0.296756     0.088187     0.118390     0.483333   \n",
      "9      0.395674     0.296756     0.088187     0.118887     0.483333   \n",
      "10     0.401499     0.330188     0.132842     0.192776     0.425000   \n",
      "11     0.034876     0.000752     0.026362     0.000534     0.462500   \n",
      "12     0.014093     0.001847     0.232506     0.013528     0.295833   \n",
      "13     0.009103     0.161498     0.172135     0.020936     0.500000   \n",
      "14     0.216500     0.244800     0.086090     0.193134     0.475000   \n",
      "15     0.170182     0.106202     0.164320     0.118120     0.500000   \n",
      "16     0.127967     0.042297     0.126946     0.062012     0.458333   \n",
      "17     0.024552     0.279815     0.000060     0.138838     0.400000   \n",
      "18     0.305086     0.758106     0.294977     0.558709     0.308333   \n",
      "19     0.063248     0.001161     0.244906     0.025408     0.500000   \n",
      "20     0.565892     0.611852     0.421976     0.386873     0.337500   \n",
      "21     0.036685     0.433171     0.319223     0.034900     0.500000   \n",
      "22     0.382670     0.315382     0.108016     0.560414     0.225000   \n",
      "23     0.000666     0.559550     0.153869     0.189424     0.404167   \n",
      "24     0.565597     0.689164     0.419279     0.386761     0.354167   \n",
      "25     0.552017     0.559329     0.494871     0.437827     0.312500   \n",
      "26     0.242678     0.001161     0.216091     0.177865     0.500000   \n",
      "27     0.347303     0.001162     0.220244     0.263573     0.500000   \n",
      "28     0.038222     0.434117     0.498323     0.452430     0.500000   \n",
      "29     0.548996     0.711352     0.422119     0.325584     0.420833   \n",
      "30     0.398584     0.466280     0.339416     0.214093     0.462500   \n",
      "31     0.009103     0.001833     0.137865     0.043978     0.200000   \n",
      "\n",
      "    Irrigation8  Irrigation9  \n",
      "0      0.351712     0.009222  \n",
      "1      0.351712     0.009222  \n",
      "2      0.355598     0.009222  \n",
      "3      0.351712     0.009222  \n",
      "4      0.283333     0.009222  \n",
      "5      0.356920     0.012816  \n",
      "6      0.351712     0.009003  \n",
      "7      0.349733     0.020008  \n",
      "8      0.372446     0.067077  \n",
      "9      0.372446     0.221966  \n",
      "10     0.343142     0.368675  \n",
      "11     0.356357     0.023764  \n",
      "12     0.308333     0.009222  \n",
      "13     0.351712     0.262478  \n",
      "14     0.349471     0.274517  \n",
      "15     0.344665     0.203817  \n",
      "16     0.345493     0.456670  \n",
      "17     0.304630     0.000000  \n",
      "18     0.229167     0.009222  \n",
      "19     0.349716     0.009222  \n",
      "20     0.916667     0.727275  \n",
      "21     0.351712     0.305808  \n",
      "22     0.246986     0.749472  \n",
      "23     0.503618     0.144170  \n",
      "24     0.916667     0.700964  \n",
      "25     0.866000     0.707552  \n",
      "26     0.361127     0.009222  \n",
      "27     0.363642     0.009222  \n",
      "28     0.351712     0.300258  \n",
      "29     0.916667     0.722305  \n",
      "30     0.350864     0.224676  \n",
      "31     0.369685     0.009222  \n",
      "\n",
      "[32 rows x 241 columns], 7760:           v0        v1        v2        v3        v4        v5        v6  \\\n",
      "0   0.928945  0.160364  0.037497  0.144293  0.142200  0.458481 -0.137220   \n",
      "1  -0.050565  0.687491  0.082658 -0.514827 -0.746274 -0.415616  0.202702   \n",
      "2   0.563101 -0.107928  0.645993  0.425998  0.364493 -0.339550 -0.050143   \n",
      "3   0.478764  0.167398  0.340328  0.190278  0.203319 -0.059717  0.284049   \n",
      "4   0.369474  0.110215  0.914643  0.228692  0.419515  0.660400  0.052760   \n",
      "5   0.369474  0.110215  0.914643  0.228692  0.419515  0.660400  0.052760   \n",
      "6   0.593935  0.347059  0.683318  0.282404  0.780833  0.491252  0.508376   \n",
      "7   0.505667  0.139576  0.299409  0.197210  0.246359 -0.074477  0.275949   \n",
      "8   0.478542  0.213140 -0.304341  0.167214  0.622696  0.333580  0.483237   \n",
      "9   0.764433  0.417154  0.553042  0.532121  0.564427  0.459184  0.619273   \n",
      "10  0.558707  0.151614  0.414623  0.566212  0.562580  0.266238  0.669429   \n",
      "11  0.693086  0.272534  0.633944  0.374220  0.725416  0.120745  0.482585   \n",
      "12  0.593462  0.187960  0.567824  0.099407  0.388930  0.681421  0.497958   \n",
      "13  1.000000  0.862557  1.000000  1.000000  0.860804  0.846463  0.790795   \n",
      "14  0.871467  0.211292  0.373822  0.164127  0.622696  0.737631  0.494785   \n",
      "15  0.443848  0.871062  0.876726 -0.165894  0.711831  0.793696  0.751631   \n",
      "16  1.000000  0.862557  1.000000  1.000000  0.860804  0.993218  0.790795   \n",
      "17 -0.806507  0.030476 -0.443899  0.353904  0.765489 -0.797524 -0.404854   \n",
      "18 -0.687475  0.057665 -0.468681  0.349808  0.709890 -0.879526 -0.470284   \n",
      "19  0.871467  0.211292  0.381184  0.164127  0.622696  0.738404  0.979231   \n",
      "20  1.000000  0.798442  1.000000  1.000000  0.904355  1.000000  0.866259   \n",
      "21  0.666928  0.178254  0.467949  0.341769  0.759124  0.686863  0.824129   \n",
      "22  0.877137  0.830567  0.959604  0.959842  0.846641  0.762707  0.747333   \n",
      "23 -0.552933 -0.885864  0.417826 -0.087805  0.860927  0.103916 -0.225466   \n",
      "24  0.197334 -1.000000  0.829156  0.045432  0.725073  0.263437 -0.268272   \n",
      "25  0.423879  0.057665 -0.468681  0.349808  0.709958  0.086009 -0.470284   \n",
      "\n",
      "          v7        v8        v9  ...   Environment  Irrigation  Irrigation2  \\\n",
      "0  -0.965516  0.929522  0.095980  ...  2.241699e+06    1.274334     0.207649   \n",
      "1  -0.107227 -0.098959  0.541185  ...  2.933452e+06    0.981053     0.023072   \n",
      "2   0.359994 -0.010719 -0.092529  ...  3.969801e+06    1.206169     0.019408   \n",
      "3   0.034019  0.226567 -0.105400  ...  2.327463e+06    1.159713     0.163240   \n",
      "4  -0.093520  0.541271  0.228571  ...  2.116568e+06    1.890585     0.068722   \n",
      "5  -0.093520  0.541271  0.228571  ...  2.116238e+06    2.045971     0.068722   \n",
      "6   0.223236  0.650451  0.369690  ...  2.314256e+06    2.492963     0.298840   \n",
      "7  -0.956617  0.277822 -0.119270  ...  2.365840e+06    1.041291     0.136146   \n",
      "8   0.371154  0.590439  0.130970  ...  3.306098e+06    1.670147     0.192284   \n",
      "9  -0.044677  0.648592  0.517128  ...  2.435258e+06    2.291132     0.451618   \n",
      "10  0.230694  0.466048  0.489902  ...  3.066008e+06    1.769511     0.162205   \n",
      "11  0.196587  0.644668  0.277374  ...  2.648496e+06    1.880425     0.260707   \n",
      "12 -0.862052  0.352435  0.874796  ...  2.778187e+06    1.346998     0.199103   \n",
      "13  0.978649  1.000000  0.743655  ...  2.700123e+06    4.723952     0.755918   \n",
      "14  0.984256  0.999322  0.130970  ...  3.121620e+06    2.218048     0.236548   \n",
      "15  0.201800  0.562944  0.628951  ...  2.300157e+06    2.542919     0.587457   \n",
      "16  0.978649  1.000000  0.743655  ...  2.293281e+06    4.788517     0.755918   \n",
      "17  0.193550  0.022228  0.326325  ...  1.566383e+06    1.531218     0.023072   \n",
      "18  0.070856  0.025953  0.307440  ...  1.462068e+06    1.728220     0.023072   \n",
      "19  0.999680  0.999322  0.846799  ...  2.960505e+06    2.811608     0.236548   \n",
      "20  1.000000  1.000000  0.644581  ...  2.249632e+06    4.798529     0.730673   \n",
      "21  0.728787  0.596597  0.422012  ...  2.197142e+06    2.657607     0.201194   \n",
      "22  0.948238  0.996560  0.653148  ...  2.641305e+06    4.536643     0.713041   \n",
      "23  0.198475 -0.070537  1.000000  ...  2.448486e+06    0.947847     0.023072   \n",
      "24  1.000000  0.749239 -0.286754  ...  5.384436e+06    0.901386     0.012898   \n",
      "25  0.534361  0.025953  0.307440  ...  1.755068e+06    1.423092     0.033273   \n",
      "\n",
      "    Irrigation3  Irrigation4  Irrigation5  Irrigation6  Irrigation7  \\\n",
      "0      0.009835     0.083163     0.088623     0.024129     0.500000   \n",
      "1      0.008260     0.000797     0.086223     0.001766     0.500000   \n",
      "2      0.195068     0.001081     0.113284     0.007591     0.500000   \n",
      "3      0.035981     0.000762     0.089382     0.000609     0.500000   \n",
      "4      0.395674     0.296756     0.088187     0.118390     0.483333   \n",
      "5      0.395674     0.296756     0.088187     0.118887     0.483333   \n",
      "6      0.401499     0.330188     0.132842     0.192776     0.425000   \n",
      "7      0.034876     0.000752     0.026362     0.000534     0.462500   \n",
      "8      0.009103     0.161498     0.172135     0.020936     0.500000   \n",
      "9      0.216500     0.244800     0.086090     0.193134     0.475000   \n",
      "10     0.170182     0.106202     0.164320     0.118120     0.500000   \n",
      "11     0.127967     0.042297     0.126946     0.062012     0.458333   \n",
      "12     0.024552     0.279815     0.000060     0.138838     0.400000   \n",
      "13     0.565892     0.611852     0.421976     0.386873     0.337500   \n",
      "14     0.036685     0.433171     0.319223     0.034900     0.500000   \n",
      "15     0.000666     0.559550     0.153869     0.189424     0.404167   \n",
      "16     0.565597     0.689164     0.419279     0.386761     0.354167   \n",
      "17     0.242678     0.001161     0.216091     0.177865     0.500000   \n",
      "18     0.347303     0.001162     0.220244     0.263573     0.500000   \n",
      "19     0.038222     0.434117     0.498323     0.452430     0.500000   \n",
      "20     0.548996     0.711352     0.422119     0.325584     0.420833   \n",
      "21     0.398584     0.466280     0.339416     0.214093     0.462500   \n",
      "22     0.516071     0.551843     0.405535     0.324084     0.400000   \n",
      "23     0.004160     0.053357     0.092693     0.007123     0.500000   \n",
      "24     0.021219     0.183420     0.088623     0.006275     0.487500   \n",
      "25     0.283641     0.036268     0.094417     0.100232     0.500000   \n",
      "\n",
      "    Irrigation8  Irrigation9  \n",
      "0      0.351712     0.009222  \n",
      "1      0.351712     0.009222  \n",
      "2      0.356920     0.012816  \n",
      "3      0.349733     0.020008  \n",
      "4      0.372446     0.067077  \n",
      "5      0.372446     0.221966  \n",
      "6      0.343142     0.368675  \n",
      "7      0.356357     0.023764  \n",
      "8      0.351712     0.262478  \n",
      "9      0.349471     0.274517  \n",
      "10     0.344665     0.203817  \n",
      "11     0.345493     0.456670  \n",
      "12     0.304630     0.000000  \n",
      "13     0.916667     0.727275  \n",
      "14     0.351712     0.305808  \n",
      "15     0.503618     0.144170  \n",
      "16     0.916667     0.700964  \n",
      "17     0.361127     0.009222  \n",
      "18     0.363642     0.009222  \n",
      "19     0.351712     0.300258  \n",
      "20     0.916667     0.722305  \n",
      "21     0.350864     0.224676  \n",
      "22     0.916667     0.709402  \n",
      "23     0.258219     0.009222  \n",
      "24     0.087500     0.013951  \n",
      "25     0.366052     0.009210  \n",
      "\n",
      "[26 rows x 241 columns], 8761:           v0        v1        v2        v3        v4        v5        v6  \\\n",
      "0   0.928945  0.160364  0.037497  0.144293  0.142200  0.458481 -0.137220   \n",
      "1  -0.050565  0.687491  0.082658 -0.514827 -0.746274 -0.415616  0.202702   \n",
      "2   0.563101 -0.107928  0.645993  0.425998  0.364493 -0.339550 -0.050143   \n",
      "3   0.478764  0.167398  0.340328  0.190278  0.203319 -0.059717  0.284049   \n",
      "4   0.369474  0.110215  0.914643  0.228692  0.419515  0.660400  0.052760   \n",
      "5   0.369474  0.110215  0.914643  0.228692  0.419515  0.660400  0.052760   \n",
      "6   0.593935  0.347059  0.683318  0.282404  0.780833  0.491252  0.508376   \n",
      "7   0.505667  0.139576  0.299409  0.197210  0.246359 -0.074477  0.275949   \n",
      "8   0.478542  0.213140 -0.304341  0.167214  0.622696  0.333580  0.483237   \n",
      "9   0.764433  0.417154  0.553042  0.532121  0.564427  0.459184  0.619273   \n",
      "10  0.558707  0.151614  0.414623  0.566212  0.562580  0.266238  0.669429   \n",
      "11  0.693086  0.272534  0.633944  0.374220  0.725416  0.120745  0.482585   \n",
      "12  0.593462  0.187960  0.567824  0.099407  0.388930  0.681421  0.497958   \n",
      "13  1.000000  0.862557  1.000000  1.000000  0.860804  0.846463  0.790795   \n",
      "14  0.871467  0.211292  0.373822  0.164127  0.622696  0.737631  0.494785   \n",
      "15  0.443848  0.871062  0.876726 -0.165894  0.711831  0.793696  0.751631   \n",
      "16  1.000000  0.862557  1.000000  1.000000  0.860804  0.993218  0.790795   \n",
      "17 -0.806507  0.030476 -0.443899  0.353904  0.765489 -0.797524 -0.404854   \n",
      "18 -0.687475  0.057665 -0.468681  0.349808  0.709890 -0.879526 -0.470284   \n",
      "19  0.871467  0.211292  0.381184  0.164127  0.622696  0.738404  0.979231   \n",
      "20  1.000000  0.798442  1.000000  1.000000  0.904355  1.000000  0.866259   \n",
      "21  0.666928  0.178254  0.467949  0.341769  0.759124  0.686863  0.824129   \n",
      "22  0.877137  0.830567  0.959604  0.959842  0.846641  0.762707  0.747333   \n",
      "23 -0.552933 -0.885864  0.417826 -0.087805  0.860927  0.103916 -0.225466   \n",
      "24  0.197334 -1.000000  0.829156  0.045432  0.725073  0.263437 -0.268272   \n",
      "25  0.423879  0.057665 -0.468681  0.349808  0.709958  0.086009 -0.470284   \n",
      "26  0.941020  0.688001  0.982082  0.989771  0.980435  0.879038  0.833739   \n",
      "\n",
      "          v7        v8        v9  ...   Environment  Irrigation  Irrigation2  \\\n",
      "0  -0.965516  0.929522  0.095980  ...  2.241699e+06    1.274334     0.207649   \n",
      "1  -0.107227 -0.098959  0.541185  ...  2.933452e+06    0.981053     0.023072   \n",
      "2   0.359994 -0.010719 -0.092529  ...  3.969801e+06    1.206169     0.019408   \n",
      "3   0.034019  0.226567 -0.105400  ...  2.327463e+06    1.159713     0.163240   \n",
      "4  -0.093520  0.541271  0.228571  ...  2.116568e+06    1.890585     0.068722   \n",
      "5  -0.093520  0.541271  0.228571  ...  2.116238e+06    2.045971     0.068722   \n",
      "6   0.223236  0.650451  0.369690  ...  2.314256e+06    2.492963     0.298840   \n",
      "7  -0.956617  0.277822 -0.119270  ...  2.365840e+06    1.041291     0.136146   \n",
      "8   0.371154  0.590439  0.130970  ...  3.306098e+06    1.670147     0.192284   \n",
      "9  -0.044677  0.648592  0.517128  ...  2.435258e+06    2.291132     0.451618   \n",
      "10  0.230694  0.466048  0.489902  ...  3.066008e+06    1.769511     0.162205   \n",
      "11  0.196587  0.644668  0.277374  ...  2.648496e+06    1.880425     0.260707   \n",
      "12 -0.862052  0.352435  0.874796  ...  2.778187e+06    1.346998     0.199103   \n",
      "13  0.978649  1.000000  0.743655  ...  2.700123e+06    4.723952     0.755918   \n",
      "14  0.984256  0.999322  0.130970  ...  3.121620e+06    2.218048     0.236548   \n",
      "15  0.201800  0.562944  0.628951  ...  2.300157e+06    2.542919     0.587457   \n",
      "16  0.978649  1.000000  0.743655  ...  2.293281e+06    4.788517     0.755918   \n",
      "17  0.193550  0.022228  0.326325  ...  1.566383e+06    1.531218     0.023072   \n",
      "18  0.070856  0.025953  0.307440  ...  1.462068e+06    1.728220     0.023072   \n",
      "19  0.999680  0.999322  0.846799  ...  2.960505e+06    2.811608     0.236548   \n",
      "20  1.000000  1.000000  0.644581  ...  2.249632e+06    4.798529     0.730673   \n",
      "21  0.728787  0.596597  0.422012  ...  2.197142e+06    2.657607     0.201194   \n",
      "22  0.948238  0.996560  0.653148  ...  2.641305e+06    4.536643     0.713041   \n",
      "23  0.198475 -0.070537  1.000000  ...  2.448486e+06    0.947847     0.023072   \n",
      "24  1.000000  0.749239 -0.286754  ...  5.384436e+06    0.901386     0.012898   \n",
      "25  0.534361  0.025953  0.307440  ...  1.755068e+06    1.423092     0.033273   \n",
      "26  0.977903  1.000000  0.735264  ...  3.560097e+06    4.873307     0.672469   \n",
      "\n",
      "    Irrigation3  Irrigation4  Irrigation5  Irrigation6  Irrigation7  \\\n",
      "0      0.009835     0.083163     0.088623     0.024129     0.500000   \n",
      "1      0.008260     0.000797     0.086223     0.001766     0.500000   \n",
      "2      0.195068     0.001081     0.113284     0.007591     0.500000   \n",
      "3      0.035981     0.000762     0.089382     0.000609     0.500000   \n",
      "4      0.395674     0.296756     0.088187     0.118390     0.483333   \n",
      "5      0.395674     0.296756     0.088187     0.118887     0.483333   \n",
      "6      0.401499     0.330188     0.132842     0.192776     0.425000   \n",
      "7      0.034876     0.000752     0.026362     0.000534     0.462500   \n",
      "8      0.009103     0.161498     0.172135     0.020936     0.500000   \n",
      "9      0.216500     0.244800     0.086090     0.193134     0.475000   \n",
      "10     0.170182     0.106202     0.164320     0.118120     0.500000   \n",
      "11     0.127967     0.042297     0.126946     0.062012     0.458333   \n",
      "12     0.024552     0.279815     0.000060     0.138838     0.400000   \n",
      "13     0.565892     0.611852     0.421976     0.386873     0.337500   \n",
      "14     0.036685     0.433171     0.319223     0.034900     0.500000   \n",
      "15     0.000666     0.559550     0.153869     0.189424     0.404167   \n",
      "16     0.565597     0.689164     0.419279     0.386761     0.354167   \n",
      "17     0.242678     0.001161     0.216091     0.177865     0.500000   \n",
      "18     0.347303     0.001162     0.220244     0.263573     0.500000   \n",
      "19     0.038222     0.434117     0.498323     0.452430     0.500000   \n",
      "20     0.548996     0.711352     0.422119     0.325584     0.420833   \n",
      "21     0.398584     0.466280     0.339416     0.214093     0.462500   \n",
      "22     0.516071     0.551843     0.405535     0.324084     0.400000   \n",
      "23     0.004160     0.053357     0.092693     0.007123     0.500000   \n",
      "24     0.021219     0.183420     0.088623     0.006275     0.487500   \n",
      "25     0.283641     0.036268     0.094417     0.100232     0.500000   \n",
      "26     0.571367     0.662157     0.433038     0.390034     0.500000   \n",
      "\n",
      "    Irrigation8  Irrigation9  \n",
      "0      0.351712     0.009222  \n",
      "1      0.351712     0.009222  \n",
      "2      0.356920     0.012816  \n",
      "3      0.349733     0.020008  \n",
      "4      0.372446     0.067077  \n",
      "5      0.372446     0.221966  \n",
      "6      0.343142     0.368675  \n",
      "7      0.356357     0.023764  \n",
      "8      0.351712     0.262478  \n",
      "9      0.349471     0.274517  \n",
      "10     0.344665     0.203817  \n",
      "11     0.345493     0.456670  \n",
      "12     0.304630     0.000000  \n",
      "13     0.916667     0.727275  \n",
      "14     0.351712     0.305808  \n",
      "15     0.503618     0.144170  \n",
      "16     0.916667     0.700964  \n",
      "17     0.361127     0.009222  \n",
      "18     0.363642     0.009222  \n",
      "19     0.351712     0.300258  \n",
      "20     0.916667     0.722305  \n",
      "21     0.350864     0.224676  \n",
      "22     0.916667     0.709402  \n",
      "23     0.258219     0.009222  \n",
      "24     0.087500     0.013951  \n",
      "25     0.366052     0.009210  \n",
      "26     0.914844     0.729398  \n",
      "\n",
      "[27 rows x 241 columns], 9857:           v0        v1        v2        v3        v4        v5        v6  \\\n",
      "0  -0.050565  0.687491  0.082658 -0.514827 -0.746274 -0.415616  0.202702   \n",
      "1   0.563101 -0.107928  0.645993  0.425998  0.364493 -0.339550 -0.050143   \n",
      "2   0.478764  0.167398  0.340328  0.190278  0.203319 -0.059717  0.284049   \n",
      "3   0.593935  0.347059  0.683318  0.282404  0.780833  0.491252  0.508376   \n",
      "4   0.505667  0.139576  0.299409  0.197210  0.246359 -0.074477  0.275949   \n",
      "5   0.478542  0.213140 -0.304341  0.167214  0.622696  0.333580  0.483237   \n",
      "6   0.764433  0.417154  0.553042  0.532121  0.564427  0.459184  0.619273   \n",
      "7   0.558707  0.151614  0.414623  0.566212  0.562580  0.266238  0.669429   \n",
      "8   0.693086  0.272534  0.633944  0.374220  0.725416  0.120745  0.482585   \n",
      "9   0.593462  0.187960  0.567824  0.099407  0.388930  0.681421  0.497958   \n",
      "10  1.000000  0.862557  1.000000  1.000000  0.860804  0.846463  0.790795   \n",
      "11  0.871467  0.211292  0.373822  0.164127  0.622696  0.737631  0.494785   \n",
      "12  0.443848  0.871062  0.876726 -0.165894  0.711831  0.793696  0.751631   \n",
      "13  1.000000  0.862557  1.000000  1.000000  0.860804  0.993218  0.790795   \n",
      "14 -0.806507  0.030476 -0.443899  0.353904  0.765489 -0.797524 -0.404854   \n",
      "15 -0.687475  0.057665 -0.468681  0.349808  0.709890 -0.879526 -0.470284   \n",
      "16  0.871467  0.211292  0.381184  0.164127  0.622696  0.738404  0.979231   \n",
      "17  1.000000  0.798442  1.000000  1.000000  0.904355  1.000000  0.866259   \n",
      "18  0.666928  0.178254  0.467949  0.341769  0.759124  0.686863  0.824129   \n",
      "19  0.877137  0.830567  0.959604  0.959842  0.846641  0.762707  0.747333   \n",
      "20 -0.552933 -0.885864  0.417826 -0.087805  0.860927  0.103916 -0.225466   \n",
      "21  0.197334 -1.000000  0.829156  0.045432  0.725073  0.263437 -0.268272   \n",
      "22  0.423879  0.057665 -0.468681  0.349808  0.709958  0.086009 -0.470284   \n",
      "23  0.941020  0.688001  0.982082  0.989771  0.980435  0.879038  0.833739   \n",
      "24  0.358203  0.274507  1.000000  0.879281  1.000000  0.993698  0.475753   \n",
      "25  0.492212  0.101147 -0.446366  0.368436  0.662237  0.190729 -0.466229   \n",
      "26  0.396386 -0.099612 -0.583809  0.322279  0.757232 -0.074030 -0.627056   \n",
      "27  0.941854  0.510115  0.959412  0.937629  1.000000  0.755992  0.717261   \n",
      "\n",
      "          v7        v8        v9  ...   Environment  Irrigation  Irrigation2  \\\n",
      "0  -0.107227 -0.098959  0.541185  ...  2.933452e+06    0.981053     0.023072   \n",
      "1   0.359994 -0.010719 -0.092529  ...  3.969801e+06    1.206169     0.019408   \n",
      "2   0.034019  0.226567 -0.105400  ...  2.327463e+06    1.159713     0.163240   \n",
      "3   0.223236  0.650451  0.369690  ...  2.314256e+06    2.492963     0.298840   \n",
      "4  -0.956617  0.277822 -0.119270  ...  2.365840e+06    1.041291     0.136146   \n",
      "5   0.371154  0.590439  0.130970  ...  3.306098e+06    1.670147     0.192284   \n",
      "6  -0.044677  0.648592  0.517128  ...  2.435258e+06    2.291132     0.451618   \n",
      "7   0.230694  0.466048  0.489902  ...  3.066008e+06    1.769511     0.162205   \n",
      "8   0.196587  0.644668  0.277374  ...  2.648496e+06    1.880425     0.260707   \n",
      "9  -0.862052  0.352435  0.874796  ...  2.778187e+06    1.346998     0.199103   \n",
      "10  0.978649  1.000000  0.743655  ...  2.700123e+06    4.723952     0.755918   \n",
      "11  0.984256  0.999322  0.130970  ...  3.121620e+06    2.218048     0.236548   \n",
      "12  0.201800  0.562944  0.628951  ...  2.300157e+06    2.542919     0.587457   \n",
      "13  0.978649  1.000000  0.743655  ...  2.293281e+06    4.788517     0.755918   \n",
      "14  0.193550  0.022228  0.326325  ...  1.566383e+06    1.531218     0.023072   \n",
      "15  0.070856  0.025953  0.307440  ...  1.462068e+06    1.728220     0.023072   \n",
      "16  0.999680  0.999322  0.846799  ...  2.960505e+06    2.811608     0.236548   \n",
      "17  1.000000  1.000000  0.644581  ...  2.249632e+06    4.798529     0.730673   \n",
      "18  0.728787  0.596597  0.422012  ...  2.197142e+06    2.657607     0.201194   \n",
      "19  0.948238  0.996560  0.653148  ...  2.641305e+06    4.536643     0.713041   \n",
      "20  0.198475 -0.070537  1.000000  ...  2.448486e+06    0.947847     0.023072   \n",
      "21  1.000000  0.749239 -0.286754  ...  5.384436e+06    0.901386     0.012898   \n",
      "22  0.534361  0.025953  0.307440  ...  1.755068e+06    1.423092     0.033273   \n",
      "23  0.977903  1.000000  0.735264  ...  3.560097e+06    4.873307     0.672469   \n",
      "24  0.969148  0.926825  0.143716  ...  3.694635e+06    2.489859     0.197922   \n",
      "25  0.610748  0.027071  0.285238  ...  2.023614e+06    1.183765     0.072211   \n",
      "26  0.519094  0.030040  0.210115  ...  1.603305e+06    1.595350     0.020305   \n",
      "27  0.979138  0.930187  0.679172  ...  2.651781e+06    4.422373     0.580177   \n",
      "\n",
      "    Irrigation3  Irrigation4  Irrigation5  Irrigation6  Irrigation7  \\\n",
      "0      0.008260     0.000797     0.086223     0.001766     0.500000   \n",
      "1      0.195068     0.001081     0.113284     0.007591     0.500000   \n",
      "2      0.035981     0.000762     0.089382     0.000609     0.500000   \n",
      "3      0.401499     0.330188     0.132842     0.192776     0.425000   \n",
      "4      0.034876     0.000752     0.026362     0.000534     0.462500   \n",
      "5      0.009103     0.161498     0.172135     0.020936     0.500000   \n",
      "6      0.216500     0.244800     0.086090     0.193134     0.475000   \n",
      "7      0.170182     0.106202     0.164320     0.118120     0.500000   \n",
      "8      0.127967     0.042297     0.126946     0.062012     0.458333   \n",
      "9      0.024552     0.279815     0.000060     0.138838     0.400000   \n",
      "10     0.565892     0.611852     0.421976     0.386873     0.337500   \n",
      "11     0.036685     0.433171     0.319223     0.034900     0.500000   \n",
      "12     0.000666     0.559550     0.153869     0.189424     0.404167   \n",
      "13     0.565597     0.689164     0.419279     0.386761     0.354167   \n",
      "14     0.242678     0.001161     0.216091     0.177865     0.500000   \n",
      "15     0.347303     0.001162     0.220244     0.263573     0.500000   \n",
      "16     0.038222     0.434117     0.498323     0.452430     0.500000   \n",
      "17     0.548996     0.711352     0.422119     0.325584     0.420833   \n",
      "18     0.398584     0.466280     0.339416     0.214093     0.462500   \n",
      "19     0.516071     0.551843     0.405535     0.324084     0.400000   \n",
      "20     0.004160     0.053357     0.092693     0.007123     0.500000   \n",
      "21     0.021219     0.183420     0.088623     0.006275     0.487500   \n",
      "22     0.283641     0.036268     0.094417     0.100232     0.500000   \n",
      "23     0.571367     0.662157     0.433038     0.390034     0.500000   \n",
      "24     0.542510     0.742914     0.301339     0.038508     0.500000   \n",
      "25     0.046785     0.108510     0.088623     0.006719     0.500000   \n",
      "26     0.327883     0.001476     0.117567     0.251638     0.500000   \n",
      "27     0.500362     0.596079     0.397799     0.320320     0.437500   \n",
      "\n",
      "    Irrigation8  Irrigation9  \n",
      "0      0.351712     0.009222  \n",
      "1      0.356920     0.012816  \n",
      "2      0.349733     0.020008  \n",
      "3      0.343142     0.368675  \n",
      "4      0.356357     0.023764  \n",
      "5      0.351712     0.262478  \n",
      "6      0.349471     0.274517  \n",
      "7      0.344665     0.203817  \n",
      "8      0.345493     0.456670  \n",
      "9      0.304630     0.000000  \n",
      "10     0.916667     0.727275  \n",
      "11     0.351712     0.305808  \n",
      "12     0.503618     0.144170  \n",
      "13     0.916667     0.700964  \n",
      "14     0.361127     0.009222  \n",
      "15     0.363642     0.009222  \n",
      "16     0.351712     0.300258  \n",
      "17     0.916667     0.722305  \n",
      "18     0.350864     0.224676  \n",
      "19     0.916667     0.709402  \n",
      "20     0.258219     0.009222  \n",
      "21     0.087500     0.013951  \n",
      "22     0.366052     0.009210  \n",
      "23     0.914844     0.729398  \n",
      "24     0.166667     0.000000  \n",
      "25     0.351712     0.009203  \n",
      "26     0.367258     0.009222  \n",
      "27     0.916667     0.673469  \n",
      "\n",
      "[28 rows x 241 columns]}\n"
     ]
    }
   ],
   "source": [
    "# Load the archives\n",
    "all_archives = []\n",
    "for i in range(seeds):\n",
    "    archives = ArchiveLogger.load_archives(f\"archives/{i}.csv\")\n",
    "    print(archives)\n",
    "    all_archives.append(archives)"
   ]
  },
  {
   "cell_type": "code",
   "execution_count": 111,
   "id": "94c458ff-5ce5-45be-b3c2-ce8e155c358c",
   "metadata": {
    "collapsed": false,
    "jupyter": {
     "outputs_hidden": false
    },
    "tags": []
   },
   "outputs": [],
   "source": [
    "# Create the results list\n",
    "results_list = []\n",
    "for i in range(seeds):\n",
    "    result = pd.read_csv(f\"results_seed{i}.csv\")\n",
    "        #archives.items()[nfe] =\n",
    "        #archives = archives.loc[:, ~archives.columns.str.contains('^Unnamed')]\n",
    "    results_list.append(result)"
   ]
  },
  {
   "cell_type": "code",
   "execution_count": 116,
   "id": "56ffe06f-02aa-46d4-b656-20f7c887857d",
   "metadata": {
    "collapsed": false,
    "jupyter": {
     "outputs_hidden": false
    },
    "tags": []
   },
   "outputs": [
    {
     "name": "stdout",
     "output_type": "stream",
     "text": [
      "Index(['v0', 'v1', 'v2', 'v3', 'v4', 'v5', 'v6', 'v7', 'v8', 'v9',\n",
      "       ...\n",
      "       'Environment', 'Irrigation', 'Irrigation2', 'Irrigation3',\n",
      "       'Irrigation4', 'Irrigation5', 'Irrigation6', 'Irrigation7',\n",
      "       'Irrigation8', 'Irrigation9'],\n",
      "      dtype='object', length=241)\n"
     ]
    },
    {
     "ename": "EMAError",
     "evalue": "The number of columns in the archive (241) does not match the expected number of decision variables and objectives (233).",
     "output_type": "error",
     "traceback": [
      "\u001b[1;31m---------------------------------------------------------------------------\u001b[0m",
      "\u001b[1;31mEMAError\u001b[0m                                  Traceback (most recent call last)",
      "Cell \u001b[1;32mIn[116], line 2\u001b[0m\n\u001b[0;32m      1\u001b[0m \u001b[38;5;66;03m# Define the reference list\u001b[39;00m\n\u001b[1;32m----> 2\u001b[0m reference_set \u001b[38;5;241m=\u001b[39m \u001b[43mepsilon_nondominated\u001b[49m\u001b[43m(\u001b[49m\u001b[43mresults_list\u001b[49m\u001b[43m,\u001b[49m\u001b[43m \u001b[49m\u001b[43m[\u001b[49m\u001b[38;5;241;43m0.05\u001b[39;49m\u001b[43m]\u001b[49m\u001b[43m \u001b[49m\u001b[38;5;241;43m*\u001b[39;49m\u001b[43m \u001b[49m\u001b[38;5;28;43mlen\u001b[39;49m\u001b[43m(\u001b[49m\u001b[43mmodel\u001b[49m\u001b[38;5;241;43m.\u001b[39;49m\u001b[43moutcomes\u001b[49m\u001b[43m)\u001b[49m\u001b[43m,\u001b[49m\u001b[43m \u001b[49m\u001b[43mproblem\u001b[49m\u001b[43m)\u001b[49m\n",
      "File \u001b[1;32m~\\anaconda3\\lib\\site-packages\\ema_workbench\\em_framework\\optimization.py:781\u001b[0m, in \u001b[0;36mepsilon_nondominated\u001b[1;34m(results, epsilons, problem)\u001b[0m\n\u001b[0;32m    776\u001b[0m     \u001b[38;5;167;01mValueError\u001b[39;00m(\n\u001b[0;32m    777\u001b[0m         \u001b[38;5;124mf\u001b[39m\u001b[38;5;124m\"\u001b[39m\u001b[38;5;124mthe number of epsilon values (\u001b[39m\u001b[38;5;132;01m{\u001b[39;00m\u001b[38;5;28mlen\u001b[39m(epsilons)\u001b[38;5;132;01m}\u001b[39;00m\u001b[38;5;124m) must match the number of objectives \u001b[39m\u001b[38;5;132;01m{\u001b[39;00mproblem\u001b[38;5;241m.\u001b[39mnobjs\u001b[38;5;132;01m}\u001b[39;00m\u001b[38;5;124m\"\u001b[39m\n\u001b[0;32m    778\u001b[0m     )\n\u001b[0;32m    780\u001b[0m results \u001b[38;5;241m=\u001b[39m pd\u001b[38;5;241m.\u001b[39mconcat(results, ignore_index\u001b[38;5;241m=\u001b[39m\u001b[38;5;28;01mTrue\u001b[39;00m)\n\u001b[1;32m--> 781\u001b[0m solutions \u001b[38;5;241m=\u001b[39m \u001b[43mrebuild_platypus_population\u001b[49m\u001b[43m(\u001b[49m\u001b[43mresults\u001b[49m\u001b[43m,\u001b[49m\u001b[43m \u001b[49m\u001b[43mproblem\u001b[49m\u001b[43m)\u001b[49m\n\u001b[0;32m    782\u001b[0m archive \u001b[38;5;241m=\u001b[39m EpsilonBoxArchive(epsilons)\n\u001b[0;32m    783\u001b[0m archive \u001b[38;5;241m+\u001b[39m\u001b[38;5;241m=\u001b[39m solutions\n",
      "File \u001b[1;32m~\\anaconda3\\lib\\site-packages\\ema_workbench\\em_framework\\optimization.py:883\u001b[0m, in \u001b[0;36mrebuild_platypus_population\u001b[1;34m(archive, problem)\u001b[0m\n\u001b[0;32m    881\u001b[0m \u001b[38;5;28;01mif\u001b[39;00m actual_columns \u001b[38;5;241m!=\u001b[39m expected_columns:\n\u001b[0;32m    882\u001b[0m     \u001b[38;5;28mprint\u001b[39m(archive\u001b[38;5;241m.\u001b[39mcolumns)\n\u001b[1;32m--> 883\u001b[0m     \u001b[38;5;28;01mraise\u001b[39;00m EMAError(\n\u001b[0;32m    884\u001b[0m         \u001b[38;5;124mf\u001b[39m\u001b[38;5;124m\"\u001b[39m\u001b[38;5;124mThe number of columns in the archive (\u001b[39m\u001b[38;5;132;01m{\u001b[39;00mactual_columns\u001b[38;5;132;01m}\u001b[39;00m\u001b[38;5;124m) does not match the \u001b[39m\u001b[38;5;124m\"\u001b[39m\n\u001b[0;32m    885\u001b[0m         \u001b[38;5;124mf\u001b[39m\u001b[38;5;124m\"\u001b[39m\u001b[38;5;124mexpected number of decision variables and objectives (\u001b[39m\u001b[38;5;132;01m{\u001b[39;00mexpected_columns\u001b[38;5;132;01m}\u001b[39;00m\u001b[38;5;124m).\u001b[39m\u001b[38;5;124m\"\u001b[39m\n\u001b[0;32m    886\u001b[0m     )\n\u001b[0;32m    888\u001b[0m solutions \u001b[38;5;241m=\u001b[39m []\n\u001b[0;32m    889\u001b[0m \u001b[38;5;28;01mfor\u001b[39;00m row \u001b[38;5;129;01min\u001b[39;00m archive\u001b[38;5;241m.\u001b[39mitertuples():\n",
      "\u001b[1;31mEMAError\u001b[0m: The number of columns in the archive (241) does not match the expected number of decision variables and objectives (233)."
     ]
    }
   ],
   "source": [
    "# Define the reference list\n",
    "reference_set = epsilon_nondominated(results_list, [0.05] * len(model.outcomes), problem)  # [0.05]\n",
    "#print('reference_set', reference_set)\n",
    "#print('reference_set type is', type(reference_set))"
   ]
  },
  {
   "cell_type": "code",
   "execution_count": null,
   "id": "876f7fd4-ba77-47a0-9436-adc48c4fdbf1",
   "metadata": {},
   "outputs": [],
   "source": [
    "\n",
    "hv = HypervolumeMetric(reference_set, problem)\n",
    "gd = GenerationalDistanceMetric(reference_set, problem, d=1)\n",
    "ei = EpsilonIndicatorMetric(reference_set, problem)\n",
    "ig = InvertedGenerationalDistanceMetric(reference_set, problem, d=1)\n",
    "sm = SpacingMetric(problem)\n",
    "\n",
    "\n",
    "metrics_by_seed = []\n",
    "for archives in all_archives:\n",
    "    metrics = []\n",
    "    for nfe, archive in archives.items():\n",
    "        scores = {\n",
    "            \"generational_distance\": gd.calculate(archive),\n",
    "            \"hypervolume\": hv.calculate(archive),\n",
    "            \"epsilon_indicator\": ei.calculate(archive),\n",
    "            \"inverted_gd\": ig.calculate(archive),\n",
    "            \"spacing\": sm.calculate(archive),\n",
    "            \"nfe\": int(nfe),\n",
    "        }\n",
    "        metrics.append(scores)\n",
    "    metrics = pd.DataFrame.from_dict(metrics)\n",
    "\n",
    "    # sort metrics by number of function evaluations\n",
    "    metrics.sort_values(by=\"nfe\", inplace=True)\n",
    "    metrics_by_seed.append(metrics)"
   ]
  },
  {
   "cell_type": "code",
   "execution_count": 65,
   "id": "4721beb2-f4b1-49a6-abc2-3b50422f6191",
   "metadata": {
    "collapsed": false,
    "jupyter": {
     "outputs_hidden": false
    },
    "tags": []
   },
   "outputs": [],
   "source": [
    "#Define the hypervolumemetric\n",
    "hv = HypervolumeMetric(reference_set, problem)"
   ]
  },
  {
   "cell_type": "code",
   "execution_count": 67,
   "id": "e3abd962-83c4-4706-8a1b-d3f82ecf31ef",
   "metadata": {},
   "outputs": [
    {
     "name": "stdout",
     "output_type": "stream",
     "text": [
      "time before is 2024-02-17 00:46:56.123919\n"
     ]
    }
   ],
   "source": [
    "from datetime import datetime\n",
    "\n",
    "before = datetime.now()\n",
    "print(\"time before is\", before)"
   ]
  },
  {
   "cell_type": "code",
   "execution_count": 68,
   "id": "a807400d-b7d9-4abf-a400-722dac872629",
   "metadata": {
    "collapsed": false,
    "jupyter": {
     "outputs_hidden": false
    },
    "tags": []
   },
   "outputs": [
    {
     "ename": "KeyboardInterrupt",
     "evalue": "",
     "output_type": "error",
     "traceback": [
      "\u001b[1;31m---------------------------------------------------------------------------\u001b[0m",
      "\u001b[1;31mKeyboardInterrupt\u001b[0m                         Traceback (most recent call last)",
      "Cell \u001b[1;32mIn[68], line 7\u001b[0m\n\u001b[0;32m      4\u001b[0m metrics \u001b[38;5;241m=\u001b[39m []\n\u001b[0;32m      5\u001b[0m \u001b[38;5;28;01mfor\u001b[39;00m nfe, archive \u001b[38;5;129;01min\u001b[39;00m archives\u001b[38;5;241m.\u001b[39mitems():\n\u001b[0;32m      6\u001b[0m     scores \u001b[38;5;241m=\u001b[39m {\n\u001b[1;32m----> 7\u001b[0m         \u001b[38;5;124m\"\u001b[39m\u001b[38;5;124mhypervolume\u001b[39m\u001b[38;5;124m\"\u001b[39m: \u001b[43mhv\u001b[49m\u001b[38;5;241;43m.\u001b[39;49m\u001b[43mcalculate\u001b[49m\u001b[43m(\u001b[49m\u001b[43marchive\u001b[49m\u001b[43m)\u001b[49m,\n\u001b[0;32m      8\u001b[0m         \u001b[38;5;124m\"\u001b[39m\u001b[38;5;124mnfe\u001b[39m\u001b[38;5;124m\"\u001b[39m: \u001b[38;5;28mint\u001b[39m(nfe),\n\u001b[0;32m      9\u001b[0m     }\n\u001b[0;32m     10\u001b[0m     metrics\u001b[38;5;241m.\u001b[39mappend(scores)\n\u001b[0;32m     11\u001b[0m metrics \u001b[38;5;241m=\u001b[39m pd\u001b[38;5;241m.\u001b[39mDataFrame\u001b[38;5;241m.\u001b[39mfrom_dict(metrics)\n",
      "File \u001b[1;32m~\\anaconda3\\lib\\site-packages\\ema_workbench\\em_framework\\optimization.py:515\u001b[0m, in \u001b[0;36mMetricWrapper.calculate\u001b[1;34m(self, archive)\u001b[0m\n\u001b[0;32m    513\u001b[0m \u001b[38;5;28;01mdef\u001b[39;00m \u001b[38;5;21mcalculate\u001b[39m(\u001b[38;5;28mself\u001b[39m, archive):\n\u001b[0;32m    514\u001b[0m     solutions \u001b[38;5;241m=\u001b[39m rebuild_platypus_population(archive, \u001b[38;5;28mself\u001b[39m\u001b[38;5;241m.\u001b[39mproblem)\n\u001b[1;32m--> 515\u001b[0m     \u001b[38;5;28;01mreturn\u001b[39;00m \u001b[38;5;28;43msuper\u001b[39;49m\u001b[43m(\u001b[49m\u001b[43m)\u001b[49m\u001b[38;5;241;43m.\u001b[39;49m\u001b[43mcalculate\u001b[49m\u001b[43m(\u001b[49m\u001b[43msolutions\u001b[49m\u001b[43m)\u001b[49m\n",
      "File \u001b[1;32m~\\anaconda3\\lib\\site-packages\\platypus\\indicators.py:210\u001b[0m, in \u001b[0;36mHypervolume.calculate\u001b[1;34m(self, set)\u001b[0m\n\u001b[0;32m    207\u001b[0m \u001b[38;5;28;01mfor\u001b[39;00m s \u001b[38;5;129;01min\u001b[39;00m feasible:\n\u001b[0;32m    208\u001b[0m     \u001b[38;5;28mself\u001b[39m\u001b[38;5;241m.\u001b[39minvert(s)\n\u001b[1;32m--> 210\u001b[0m \u001b[38;5;28;01mreturn\u001b[39;00m \u001b[38;5;28;43mself\u001b[39;49m\u001b[38;5;241;43m.\u001b[39;49m\u001b[43mcalc_internal\u001b[49m\u001b[43m(\u001b[49m\u001b[43mfeasible\u001b[49m\u001b[43m,\u001b[49m\u001b[43m \u001b[49m\u001b[38;5;28;43mlen\u001b[39;49m\u001b[43m(\u001b[49m\u001b[43mfeasible\u001b[49m\u001b[43m)\u001b[49m\u001b[43m,\u001b[49m\u001b[43m \u001b[49m\u001b[38;5;28;43mset\u001b[39;49m\u001b[43m[\u001b[49m\u001b[38;5;241;43m0\u001b[39;49m\u001b[43m]\u001b[49m\u001b[38;5;241;43m.\u001b[39;49m\u001b[43mproblem\u001b[49m\u001b[38;5;241;43m.\u001b[39;49m\u001b[43mnobjs\u001b[49m\u001b[43m)\u001b[49m\n",
      "File \u001b[1;32m~\\anaconda3\\lib\\site-packages\\platypus\\indicators.py:190\u001b[0m, in \u001b[0;36mHypervolume.calc_internal\u001b[1;34m(self, solutions, nsols, nobjs)\u001b[0m\n\u001b[0;32m    188\u001b[0m     temp_volume \u001b[38;5;241m=\u001b[39m solutions[\u001b[38;5;241m0\u001b[39m]\u001b[38;5;241m.\u001b[39mnormalized_objectives[\u001b[38;5;241m0\u001b[39m]\n\u001b[0;32m    189\u001b[0m \u001b[38;5;28;01melse\u001b[39;00m:\n\u001b[1;32m--> 190\u001b[0m     temp_volume \u001b[38;5;241m=\u001b[39m \u001b[38;5;28;43mself\u001b[39;49m\u001b[38;5;241;43m.\u001b[39;49m\u001b[43mcalc_internal\u001b[49m\u001b[43m(\u001b[49m\u001b[43msolutions\u001b[49m\u001b[43m,\u001b[49m\u001b[43m \u001b[49m\u001b[43mnnondom\u001b[49m\u001b[43m,\u001b[49m\u001b[43m \u001b[49m\u001b[43mnobjs\u001b[49m\u001b[38;5;241;43m-\u001b[39;49m\u001b[38;5;241;43m1\u001b[39;49m\u001b[43m)\u001b[49m\n\u001b[0;32m    192\u001b[0m temp_distance \u001b[38;5;241m=\u001b[39m \u001b[38;5;28mself\u001b[39m\u001b[38;5;241m.\u001b[39msurface_unchanged_to(solutions, n, nobjs\u001b[38;5;241m-\u001b[39m\u001b[38;5;241m1\u001b[39m)\n\u001b[0;32m    193\u001b[0m volume \u001b[38;5;241m+\u001b[39m\u001b[38;5;241m=\u001b[39m temp_volume \u001b[38;5;241m*\u001b[39m (temp_distance \u001b[38;5;241m-\u001b[39m distance)\n",
      "File \u001b[1;32m~\\anaconda3\\lib\\site-packages\\platypus\\indicators.py:190\u001b[0m, in \u001b[0;36mHypervolume.calc_internal\u001b[1;34m(self, solutions, nsols, nobjs)\u001b[0m\n\u001b[0;32m    188\u001b[0m     temp_volume \u001b[38;5;241m=\u001b[39m solutions[\u001b[38;5;241m0\u001b[39m]\u001b[38;5;241m.\u001b[39mnormalized_objectives[\u001b[38;5;241m0\u001b[39m]\n\u001b[0;32m    189\u001b[0m \u001b[38;5;28;01melse\u001b[39;00m:\n\u001b[1;32m--> 190\u001b[0m     temp_volume \u001b[38;5;241m=\u001b[39m \u001b[38;5;28;43mself\u001b[39;49m\u001b[38;5;241;43m.\u001b[39;49m\u001b[43mcalc_internal\u001b[49m\u001b[43m(\u001b[49m\u001b[43msolutions\u001b[49m\u001b[43m,\u001b[49m\u001b[43m \u001b[49m\u001b[43mnnondom\u001b[49m\u001b[43m,\u001b[49m\u001b[43m \u001b[49m\u001b[43mnobjs\u001b[49m\u001b[38;5;241;43m-\u001b[39;49m\u001b[38;5;241;43m1\u001b[39;49m\u001b[43m)\u001b[49m\n\u001b[0;32m    192\u001b[0m temp_distance \u001b[38;5;241m=\u001b[39m \u001b[38;5;28mself\u001b[39m\u001b[38;5;241m.\u001b[39msurface_unchanged_to(solutions, n, nobjs\u001b[38;5;241m-\u001b[39m\u001b[38;5;241m1\u001b[39m)\n\u001b[0;32m    193\u001b[0m volume \u001b[38;5;241m+\u001b[39m\u001b[38;5;241m=\u001b[39m temp_volume \u001b[38;5;241m*\u001b[39m (temp_distance \u001b[38;5;241m-\u001b[39m distance)\n",
      "    \u001b[1;31m[... skipping similar frames: Hypervolume.calc_internal at line 190 (6 times)]\u001b[0m\n",
      "File \u001b[1;32m~\\anaconda3\\lib\\site-packages\\platypus\\indicators.py:190\u001b[0m, in \u001b[0;36mHypervolume.calc_internal\u001b[1;34m(self, solutions, nsols, nobjs)\u001b[0m\n\u001b[0;32m    188\u001b[0m     temp_volume \u001b[38;5;241m=\u001b[39m solutions[\u001b[38;5;241m0\u001b[39m]\u001b[38;5;241m.\u001b[39mnormalized_objectives[\u001b[38;5;241m0\u001b[39m]\n\u001b[0;32m    189\u001b[0m \u001b[38;5;28;01melse\u001b[39;00m:\n\u001b[1;32m--> 190\u001b[0m     temp_volume \u001b[38;5;241m=\u001b[39m \u001b[38;5;28;43mself\u001b[39;49m\u001b[38;5;241;43m.\u001b[39;49m\u001b[43mcalc_internal\u001b[49m\u001b[43m(\u001b[49m\u001b[43msolutions\u001b[49m\u001b[43m,\u001b[49m\u001b[43m \u001b[49m\u001b[43mnnondom\u001b[49m\u001b[43m,\u001b[49m\u001b[43m \u001b[49m\u001b[43mnobjs\u001b[49m\u001b[38;5;241;43m-\u001b[39;49m\u001b[38;5;241;43m1\u001b[39;49m\u001b[43m)\u001b[49m\n\u001b[0;32m    192\u001b[0m temp_distance \u001b[38;5;241m=\u001b[39m \u001b[38;5;28mself\u001b[39m\u001b[38;5;241m.\u001b[39msurface_unchanged_to(solutions, n, nobjs\u001b[38;5;241m-\u001b[39m\u001b[38;5;241m1\u001b[39m)\n\u001b[0;32m    193\u001b[0m volume \u001b[38;5;241m+\u001b[39m\u001b[38;5;241m=\u001b[39m temp_volume \u001b[38;5;241m*\u001b[39m (temp_distance \u001b[38;5;241m-\u001b[39m distance)\n",
      "File \u001b[1;32m~\\anaconda3\\lib\\site-packages\\platypus\\indicators.py:195\u001b[0m, in \u001b[0;36mHypervolume.calc_internal\u001b[1;34m(self, solutions, nsols, nobjs)\u001b[0m\n\u001b[0;32m    193\u001b[0m     volume \u001b[38;5;241m+\u001b[39m\u001b[38;5;241m=\u001b[39m temp_volume \u001b[38;5;241m*\u001b[39m (temp_distance \u001b[38;5;241m-\u001b[39m distance)\n\u001b[0;32m    194\u001b[0m     distance \u001b[38;5;241m=\u001b[39m temp_distance\n\u001b[1;32m--> 195\u001b[0m     n \u001b[38;5;241m=\u001b[39m \u001b[38;5;28mself\u001b[39m\u001b[38;5;241m.\u001b[39mreduce_set(solutions, n, \u001b[43mnobjs\u001b[49m\u001b[38;5;241;43m-\u001b[39;49m\u001b[38;5;241;43m1\u001b[39;49m, distance)\n\u001b[0;32m    197\u001b[0m \u001b[38;5;28;01mreturn\u001b[39;00m volume\n",
      "\u001b[1;31mKeyboardInterrupt\u001b[0m: "
     ]
    }
   ],
   "source": [
    "# Calculate the metrics\n",
    "metrics_by_seed = []\n",
    "for archives in all_archives:\n",
    "    metrics = []\n",
    "    for nfe, archive in archives.items():\n",
    "        scores = {\n",
    "            \"hypervolume\": hv.calculate(archive),\n",
    "            \"nfe\": int(nfe),\n",
    "        }\n",
    "        metrics.append(scores)\n",
    "    metrics = pd.DataFrame.from_dict(metrics)\n",
    "\n",
    "    # sort metrics by number of function evaluations\n",
    "    metrics.sort_values(by=\"nfe\", inplace=True)\n",
    "\n",
    "    metrics_by_seed.append(metrics)"
   ]
  },
  {
   "cell_type": "code",
   "execution_count": null,
   "id": "60bd82fd-0e21-4804-b855-30f172d8beb3",
   "metadata": {
    "collapsed": false,
    "jupyter": {
     "outputs_hidden": false
    },
    "tags": []
   },
   "outputs": [],
   "source": [
    "# Visualize convergence metrics\n",
    "sns.set_style(\"white\")\n",
    "fig, axes = plt.subplots(nrows=2, figsize=(8, 12), sharex=True)\n",
    "\n",
    "ax1, ax2 = axes\n",
    "\n",
    "for metrics, convergence in zip(metrics_by_seed, convergences):\n",
    "    ax1.plot(metrics.nfe, metrics.hypervolume)\n",
    "    ax1.set_ylabel(\"hypervolume\")\n",
    "\n",
    "    ax2.plot(convergence.nfe, convergence.epsilon_progress)\n",
    "    ax2.set_ylabel(\"$\\epsilon$ progress\")\n",
    "    \n",
    "sns.despine(fig)\n",
    "\n",
    "plt.show()"
   ]
  },
  {
   "cell_type": "code",
   "execution_count": null,
   "id": "8bd73f59-3306-40d8-936b-4c883cf6ea43",
   "metadata": {},
   "outputs": [],
   "source": [
    "after = datetime.now()\n",
    "print(f\"It took {after - before} time to do {nfe} nfes\")"
   ]
  },
  {
   "cell_type": "markdown",
   "id": "4a6eded7-5751-46ed-bcd6-375f82127c96",
   "metadata": {},
   "source": [
    "# HYDROPOWER CASE"
   ]
  },
  {
   "cell_type": "code",
   "execution_count": null,
   "id": "83bc8fe7-3c6d-4b32-a1a5-b414ad5bc6c7",
   "metadata": {
    "tags": []
   },
   "outputs": [],
   "source": [
    "if not os.path.exists(\"../src\"):\n",
    "    os.chdir(\"../../src\")\n",
    "else:\n",
    "    os.chdir('../src')\n",
    "os.getcwd()"
   ]
  },
  {
   "cell_type": "code",
   "execution_count": null,
   "id": "522a937f-0d81-404c-bc76-031de2e62d67",
   "metadata": {
    "collapsed": false,
    "jupyter": {
     "outputs_hidden": false
    },
    "tags": []
   },
   "outputs": [],
   "source": [
    "from model_zambezi_OPT_hyd import ModelZambezi\n",
    "\n",
    "ZambeziProblem = ModelZambezi()\n",
    "\n",
    "def model_wrapper(**kwargs):\n",
    "    input = [kwargs['v' + str(i)] for i in range(len(kwargs))]\n",
    "    Hydropower, Environment, Irrigation, HydropowerITT, HydropowerKGU, HydropowerKA, HydropowerCB, HydropowerKGL = tuple(ZambeziProblem.evaluate(np.array(input)))\n",
    "    return Hydropower, Environment, Irrigation, HydropowerITT, HydropowerKGU, HydropowerKA, HydropowerCB, HydropowerKGL\n",
    "# specify model\n",
    "model = Model('zambeziproblem', function=model_wrapper)\n",
    "\n",
    "# levers\n",
    "model.levers = [RealParameter('v' + str(i), -1, 1) for i in range(ZambeziProblem.Nvar)]\n",
    "\n",
    "# specify outcomes\n",
    "model.outcomes = [ScalarOutcome('Hydropower', ScalarOutcome.MINIMIZE),  # Minimize, because deficits\n",
    "                  ScalarOutcome('Environment', ScalarOutcome.MINIMIZE),\n",
    "                  ScalarOutcome('Irrigation', ScalarOutcome.MINIMIZE),\n",
    "                  ScalarOutcome('HydropowerITT', ScalarOutcome.MINIMIZE),\n",
    "                  ScalarOutcome('HydropowerKGU', ScalarOutcome.MINIMIZE),\n",
    "                  ScalarOutcome('HydropowerKA', ScalarOutcome.MINIMIZE),\n",
    "                  ScalarOutcome('HydropowerCB', ScalarOutcome.MINIMIZE),\n",
    "                  ScalarOutcome('HydropowerKGL', ScalarOutcome.MINIMIZE),\n",
    "                  ]\n"
   ]
  },
  {
   "cell_type": "code",
   "execution_count": null,
   "id": "77722814-4f96-4c83-8358-eedf47eafe76",
   "metadata": {
    "collapsed": false,
    "jupyter": {
     "outputs_hidden": false
    },
    "tags": []
   },
   "outputs": [],
   "source": [
    "#Problem definition\n",
    "problem = to_problem(model, searchover=\"levers\")"
   ]
  },
  {
   "cell_type": "markdown",
   "id": "b1bce7b2-dcee-46f9-8afe-83ff12a6ee31",
   "metadata": {},
   "source": [
    "Run definition"
   ]
  },
  {
   "cell_type": "code",
   "execution_count": null,
   "id": "6f35dbfc-85aa-48b4-bff0-449e80534b47",
   "metadata": {
    "tags": []
   },
   "outputs": [],
   "source": [
    "os.getcwd()"
   ]
  },
  {
   "cell_type": "code",
   "execution_count": null,
   "id": "a1df5df6-a7a7-4371-a836-e5bdfa4f3a97",
   "metadata": {
    "collapsed": false,
    "jupyter": {
     "outputs_hidden": false
    },
    "tags": []
   },
   "outputs": [],
   "source": [
    "\n",
    "nfe = 10 #\n",
    "seeds = 1\n",
    "run_comment = 'nobj'\n",
    "run_label = f\"HYD_{run_comment}_{nfe}nfe_{seeds}seed\"\n",
    "\n",
    "os.chdir(f'../runs/{run_label}')\n",
    "os.getcwd()"
   ]
  },
  {
   "cell_type": "markdown",
   "id": "938cfff8-90f6-4f7d-b359-a2e169cf753a",
   "metadata": {},
   "source": [
    "Change the load archives method of the ArchiveLogger class"
   ]
  },
  {
   "cell_type": "code",
   "execution_count": null,
   "id": "197a4dcb-f2ae-46ff-9148-f125d919cd03",
   "metadata": {
    "collapsed": false,
    "jupyter": {
     "outputs_hidden": false
    },
    "tags": []
   },
   "outputs": [],
   "source": [
    "import tarfile \n",
    "def alternative_load_archives(filename): #cls,\n",
    "    archives = {}\n",
    "    with tarfile.open(os.path.abspath(filename)) as fh:\n",
    "        for entry in fh.getmembers():\n",
    "            if entry.name.endswith(\"csv\"):\n",
    "                key = entry.name.split(\"/\")[1][:-4]\n",
    "                archives[int(key)] = pd.read_csv(fh.extractfile(entry), index_col=0)\n",
    "    return archives\n",
    "\n",
    "ArchiveLogger.load_archives = alternative_load_archives"
   ]
  },
  {
   "cell_type": "markdown",
   "id": "09042ee2-2d80-4432-9520-f84a2acc9fd5",
   "metadata": {},
   "source": [
    "Merge convergences "
   ]
  },
  {
   "cell_type": "code",
   "execution_count": null,
   "id": "8a57c7ef-4000-42cd-b709-f4ce1aea44b6",
   "metadata": {
    "collapsed": false,
    "jupyter": {
     "outputs_hidden": false
    },
    "tags": []
   },
   "outputs": [],
   "source": [
    "convergences = []\n",
    "for i in range(seeds):\n",
    "    df = pd.read_csv(f\"convergence{i}.csv\")\n",
    "    convergences.append(df)\n",
    "    #f'convergence{i}' = pd.read_csv(f\"{run_name}/convergence{i}.csv\") "
   ]
  },
  {
   "cell_type": "code",
   "execution_count": null,
   "id": "e5eaf637-cfeb-40cd-bf2a-0e1e59e838e7",
   "metadata": {
    "collapsed": false,
    "jupyter": {
     "outputs_hidden": false
    },
    "tags": []
   },
   "outputs": [],
   "source": [
    "# Load the archives\n",
    "all_archives = []\n",
    "for i in range(seeds):\n",
    "    archives = ArchiveLogger.load_archives(f\"archives/{i}.csv\")\n",
    "        #archives.items()[nfe] =\n",
    "        #archives = archives.loc[:, ~archives.columns.str.contains('^Unnamed')]\n",
    "    all_archives.append(archives)\n",
    "    \n",
    "#print(all_archives)"
   ]
  },
  {
   "cell_type": "code",
   "execution_count": null,
   "id": "a746144d-e779-4651-bc3d-8d227acf84b3",
   "metadata": {
    "collapsed": false,
    "jupyter": {
     "outputs_hidden": false
    },
    "tags": []
   },
   "outputs": [],
   "source": [
    "# Create the results list\n",
    "results_list = []\n",
    "for i in range(seeds):\n",
    "    result = pd.read_csv(f\"results_seed{i}.csv\")\n",
    "        #archives.items()[nfe] =\n",
    "        #archives = archives.loc[:, ~archives.columns.str.contains('^Unnamed')]\n",
    "    results_list.append(result)"
   ]
  },
  {
   "cell_type": "code",
   "execution_count": null,
   "id": "80b68a27-e175-472d-abc1-30ff232ac65a",
   "metadata": {
    "collapsed": false,
    "jupyter": {
     "outputs_hidden": false
    },
    "tags": []
   },
   "outputs": [],
   "source": [
    "# Define the reference list\n",
    "reference_set = epsilon_nondominated(results_list, [0.05] * len(model.outcomes), problem)  # [0.05]\n",
    "#print('reference_set', reference_set)\n",
    "#print('reference_set type is', type(reference_set))"
   ]
  },
  {
   "cell_type": "code",
   "execution_count": null,
   "id": "a365271a-3c7f-4f78-b533-716bc747b80a",
   "metadata": {
    "collapsed": false,
    "jupyter": {
     "outputs_hidden": false
    },
    "tags": []
   },
   "outputs": [],
   "source": [
    "#Define the hypervolumemetric\n",
    "hv = HypervolumeMetric(reference_set, problem)"
   ]
  },
  {
   "cell_type": "code",
   "execution_count": null,
   "id": "104d40b9-89f9-4c8c-9855-5a4c9d611cd1",
   "metadata": {},
   "outputs": [],
   "source": []
  },
  {
   "cell_type": "code",
   "execution_count": null,
   "id": "ef82b938-f8e2-4e99-9303-d105eb7fc122",
   "metadata": {
    "collapsed": false,
    "jupyter": {
     "outputs_hidden": false
    },
    "tags": []
   },
   "outputs": [],
   "source": [
    "from datetime import datetime\n",
    "# Calculate the metrics\n",
    "before = datetime.now()\n",
    "print(\"time before is\", before)\n",
    "\n",
    "metrics_by_seed = []\n",
    "for archives in all_archives:\n",
    "    metrics = []\n",
    "    for nfe, archive in archives.items():\n",
    "        scores = {\n",
    "            \"hypervolume\": hv.calculate(archive),\n",
    "            \"nfe\": int(nfe),\n",
    "        }\n",
    "        metrics.append(scores)\n",
    "    metrics = pd.DataFrame.from_dict(metrics)\n",
    "\n",
    "    # sort metrics by number of function evaluations\n",
    "    metrics.sort_values(by=\"nfe\", inplace=True)\n",
    "\n",
    "    metrics_by_seed.append(metrics)\n",
    "\n",
    "after = datetime.now()\n",
    "print(f\"It took {after - before} time to do {nfe} metrics\")\n"
   ]
  },
  {
   "cell_type": "code",
   "execution_count": null,
   "id": "4127763a-e5bd-4e49-a7a0-633e2f970063",
   "metadata": {
    "collapsed": false,
    "jupyter": {
     "outputs_hidden": false
    },
    "tags": []
   },
   "outputs": [],
   "source": [
    "# Visualize convergence metrics\n",
    "sns.set_style(\"white\")\n",
    "fig, axes = plt.subplots(nrows=2, figsize=(8, 12), sharex=True)\n",
    "\n",
    "ax1, ax2 = axes\n",
    "\n",
    "for metrics, convergence in zip(metrics_by_seed, convergences):\n",
    "    ax1.plot(metrics.nfe, metrics.hypervolume)\n",
    "    ax1.set_ylabel(\"hypervolume\")\n",
    "\n",
    "    ax2.plot(convergence.nfe, convergence.epsilon_progress)\n",
    "    ax2.set_ylabel(\"$\\epsilon$ progress\")\n",
    "    \n",
    "sns.despine(fig)\n",
    "\n",
    "plt.show()"
   ]
  },
  {
   "cell_type": "code",
   "execution_count": null,
   "id": "b08c9155-9350-487d-82ba-a7cbe65f7f70",
   "metadata": {
    "collapsed": false,
    "jupyter": {
     "outputs_hidden": false
    }
   },
   "outputs": [],
   "source": []
  },
  {
   "cell_type": "code",
   "execution_count": null,
   "id": "109afad8-751c-4538-9fc0-ba58ddce22da",
   "metadata": {},
   "outputs": [],
   "source": []
  },
  {
   "cell_type": "code",
   "execution_count": null,
   "id": "89b9af18-a90b-483b-9ad3-943de704540d",
   "metadata": {},
   "outputs": [],
   "source": []
  },
  {
   "cell_type": "markdown",
   "id": "0039ae3c-57fe-4e72-ae66-c1d8e69402ad",
   "metadata": {},
   "source": [
    "# FULL DISAGGREGATION CASE"
   ]
  },
  {
   "cell_type": "code",
   "execution_count": 20,
   "id": "b3ad9037-6de3-4f70-a800-5cbbc983e78a",
   "metadata": {
    "tags": []
   },
   "outputs": [
    {
     "data": {
      "text/plain": [
       "'C:\\\\Users\\\\whitl\\\\OneDrive\\\\Documenten\\\\MASTER\\\\Year 2\\\\THESIS\\\\16.02.22.Multiobjective\\\\Multiobjective-multi-reservoir-control-d50e4da0f6a9a9c852b4904e640299adc96714bb\\\\ZambeziSmashPython\\\\src'"
      ]
     },
     "execution_count": 20,
     "metadata": {},
     "output_type": "execute_result"
    }
   ],
   "source": [
    "if not os.path.exists(\"../src\"):\n",
    "    os.chdir(\"../../src\")\n",
    "else:\n",
    "    os.chdir('../src')\n",
    "os.getcwd()"
   ]
  },
  {
   "cell_type": "code",
   "execution_count": 21,
   "id": "71d3d1d0-310f-4d4a-9fab-40b4dc464af0",
   "metadata": {
    "collapsed": false,
    "jupyter": {
     "outputs_hidden": false
    },
    "tags": []
   },
   "outputs": [],
   "source": [
    "from model_zambezi_OPT_irr import ModelZambezi\n",
    "\n",
    "ZambeziProblem = ModelZambezi()\n",
    "\n",
    "def model_wrapper(**kwargs):\n",
    "    input = [kwargs['v' + str(i)] for i in range(len(kwargs))]\n",
    "    Hydropower, Environment, Irrigation, Irrigation2, Irrigation3, Irrigation4, Irrigation5, Irrigation6, Irrigation7,\\\n",
    "        Irrigation8, Irrigation9, HydropowerITT, HydropowerKGU, HydropowerKA, HydropowerCB, HydropowerKGL = \\\n",
    "        tuple(ZambeziProblem.evaluate(np.array(input)))\n",
    "    return Hydropower, Environment, Irrigation, Irrigation2, Irrigation3, Irrigation4, Irrigation5, Irrigation6, \\\n",
    "        Irrigation7, Irrigation8, Irrigation9, HydropowerITT, HydropowerKGU, HydropowerKA, HydropowerCB, HydropowerKGL\n",
    "\n",
    "# specify model\n",
    "model = Model('zambeziproblem', function=model_wrapper)\n",
    "\n",
    "# levers\n",
    "model.levers = [RealParameter('v' + str(i), -1, 1) for i in range(ZambeziProblem.Nvar)]\n",
    "\n",
    "# specify outcomes\n",
    "model.outcomes = [ScalarOutcome('Hydropower', ScalarOutcome.MINIMIZE),  # Minimize, because deficits\n",
    "                  ScalarOutcome('Environment', ScalarOutcome.MINIMIZE),\n",
    "                  ScalarOutcome('Irrigation', ScalarOutcome.MINIMIZE),\n",
    "                  ScalarOutcome('Irrigation2', ScalarOutcome.MINIMIZE),\n",
    "                  ScalarOutcome('Irrigation3', ScalarOutcome.MINIMIZE),\n",
    "                  ScalarOutcome('Irrigation4', ScalarOutcome.MINIMIZE),\n",
    "                  ScalarOutcome('Irrigation5', ScalarOutcome.MINIMIZE),\n",
    "                  ScalarOutcome('Irrigation6', ScalarOutcome.MINIMIZE),\n",
    "                  ScalarOutcome('Irrigation7', ScalarOutcome.MINIMIZE),\n",
    "                  ScalarOutcome('Irrigation8', ScalarOutcome.MINIMIZE),\n",
    "                  ScalarOutcome('Irrigation9', ScalarOutcome.MINIMIZE),\n",
    "                  ScalarOutcome('HydropowerITT', ScalarOutcome.MINIMIZE),\n",
    "                  ScalarOutcome('HydropowerKGU', ScalarOutcome.MINIMIZE),\n",
    "                  ScalarOutcome('HydropowerKA', ScalarOutcome.MINIMIZE),\n",
    "                  ScalarOutcome('HydropowerCB', ScalarOutcome.MINIMIZE),\n",
    "                  ScalarOutcome('HydropowerKGL', ScalarOutcome.MINIMIZE),\n",
    "                  ]\n"
   ]
  },
  {
   "cell_type": "code",
   "execution_count": 22,
   "id": "669d3edd-aafe-4d24-9e03-783b0f5e6812",
   "metadata": {
    "collapsed": false,
    "jupyter": {
     "outputs_hidden": false
    },
    "tags": []
   },
   "outputs": [],
   "source": [
    "#Problem definitionv\n",
    "problem = to_problem(model, searchover=\"levers\")"
   ]
  },
  {
   "cell_type": "markdown",
   "id": "d4b6d510-b2f8-4a2b-8f74-95f113045ff1",
   "metadata": {},
   "source": [
    "Run definition"
   ]
  },
  {
   "cell_type": "code",
   "execution_count": 23,
   "id": "a0b2f16b-eadb-40f7-b0ee-982117a72d84",
   "metadata": {
    "tags": []
   },
   "outputs": [
    {
     "data": {
      "text/plain": [
       "'C:\\\\Users\\\\whitl\\\\OneDrive\\\\Documenten\\\\MASTER\\\\Year 2\\\\THESIS\\\\16.02.22.Multiobjective\\\\Multiobjective-multi-reservoir-control-d50e4da0f6a9a9c852b4904e640299adc96714bb\\\\ZambeziSmashPython\\\\src'"
      ]
     },
     "execution_count": 23,
     "metadata": {},
     "output_type": "execute_result"
    }
   ],
   "source": [
    "os.getcwd()"
   ]
  },
  {
   "cell_type": "code",
   "execution_count": 24,
   "id": "4e5633ee-6bdc-4754-9587-7ca0519e66c3",
   "metadata": {
    "collapsed": false,
    "jupyter": {
     "outputs_hidden": false
    },
    "tags": []
   },
   "outputs": [
    {
     "data": {
      "text/plain": [
       "'C:\\\\Users\\\\whitl\\\\OneDrive\\\\Documenten\\\\MASTER\\\\Year 2\\\\THESIS\\\\16.02.22.Multiobjective\\\\Multiobjective-multi-reservoir-control-d50e4da0f6a9a9c852b4904e640299adc96714bb\\\\ZambeziSmashPython\\\\runs\\\\IR_hv_feb_10000nfe_1seed'"
      ]
     },
     "execution_count": 24,
     "metadata": {},
     "output_type": "execute_result"
    }
   ],
   "source": [
    "if not os.path.exists(\"../src\"):\n",
    "    os.chdir(\"../../src\")\n",
    "else:\n",
    "    os.chdir('../src')\n",
    "os.getcwd()\n",
    "\n",
    "\n",
    "nfe = 10 #\n",
    "seeds = 1\n",
    "run_comment = 'test'\n",
    "run_label = f\"FULL_{run_comment}_{nfe}nfe_{seeds}seed\"\n",
    "\n",
    "os.chdir(f'../runs/{run_label}')\n",
    "os.getcwd()"
   ]
  },
  {
   "cell_type": "markdown",
   "id": "5bc5347e-31a2-4cfb-a756-4fa9e907cc82",
   "metadata": {},
   "source": [
    "Change the load archives method of the ArchiveLogger class"
   ]
  },
  {
   "cell_type": "code",
   "execution_count": 25,
   "id": "62f3cb26-e1c1-4402-b751-8a6f503dfed6",
   "metadata": {
    "collapsed": false,
    "jupyter": {
     "outputs_hidden": false
    },
    "tags": []
   },
   "outputs": [],
   "source": [
    "import tarfile \n",
    "def alternative_load_archives(filename): #cls,\n",
    "    archives = {}\n",
    "    with tarfile.open(os.path.abspath(filename)) as fh:\n",
    "        for entry in fh.getmembers():\n",
    "            if entry.name.endswith(\"csv\"):\n",
    "                key = entry.name.split(\"/\")[1][:-4]\n",
    "                archives[int(key)] = pd.read_csv(fh.extractfile(entry), index_col=0)\n",
    "    return archives\n",
    "\n",
    "ArchiveLogger.load_archives = alternative_load_archives"
   ]
  },
  {
   "cell_type": "markdown",
   "id": "891a175e-8902-4cdf-ad78-0f3f475212e6",
   "metadata": {},
   "source": [
    "Merge convergences "
   ]
  },
  {
   "cell_type": "code",
   "execution_count": 26,
   "id": "a1046b69-0893-4e20-8cad-20dcf059d142",
   "metadata": {
    "collapsed": false,
    "jupyter": {
     "outputs_hidden": false
    },
    "tags": []
   },
   "outputs": [],
   "source": [
    "convergences = []\n",
    "for i in range(seeds):\n",
    "    df = pd.read_csv(f\"convergence{i}.csv\")\n",
    "    convergences.append(df)\n",
    "    #f'convergence{i}' = pd.read_csv(f\"{run_name}/convergence{i}.csv\") "
   ]
  },
  {
   "cell_type": "code",
   "execution_count": 27,
   "id": "e0f97087-df4a-4cb5-884a-6f7501ea440f",
   "metadata": {
    "collapsed": false,
    "jupyter": {
     "outputs_hidden": false
    },
    "tags": []
   },
   "outputs": [],
   "source": [
    "# Load the archives\n",
    "all_archives = []\n",
    "for i in range(seeds):\n",
    "    archives = ArchiveLogger.load_archives(f\"archives/{i}.csv\")\n",
    "        #archives.items()[nfe] =\n",
    "        #archives = archives.loc[:, ~archives.columns.str.contains('^Unnamed')]\n",
    "    all_archives.append(archives)"
   ]
  },
  {
   "cell_type": "code",
   "execution_count": 28,
   "id": "8764db86-5b51-4bb1-9960-8c738f458bc4",
   "metadata": {
    "collapsed": false,
    "jupyter": {
     "outputs_hidden": false
    },
    "tags": []
   },
   "outputs": [],
   "source": [
    "# Create the results list\n",
    "results_list = []\n",
    "for i in range(seeds):\n",
    "    result = pd.read_csv(f\"results_seed{i}.csv\")\n",
    "        #archives.items()[nfe] =\n",
    "        #archives = archives.loc[:, ~archives.columns.str.contains('^Unnamed')]\n",
    "    results_list.append(result)"
   ]
  },
  {
   "cell_type": "code",
   "execution_count": 29,
   "id": "00ec01a1-1843-4e48-8c5c-546b7c51ff30",
   "metadata": {
    "collapsed": false,
    "jupyter": {
     "outputs_hidden": false
    },
    "tags": []
   },
   "outputs": [],
   "source": [
    "# Define the reference list\n",
    "reference_set = epsilon_nondominated(results_list, [0.05] * len(model.outcomes), problem)  # [0.05]\n",
    "#print('reference_set', reference_set)\n",
    "#print('reference_set type is', type(reference_set))"
   ]
  },
  {
   "cell_type": "code",
   "execution_count": 30,
   "id": "084df623-84a9-4688-9651-0d03fec99279",
   "metadata": {
    "collapsed": false,
    "jupyter": {
     "outputs_hidden": false
    },
    "tags": []
   },
   "outputs": [],
   "source": [
    "#Define the hypervolumemetric\n",
    "hv = HypervolumeMetric(reference_set, problem)"
   ]
  },
  {
   "cell_type": "code",
   "execution_count": null,
   "id": "347649b1-d1ac-4ffa-a548-9aea50dd219c",
   "metadata": {
    "collapsed": false,
    "jupyter": {
     "outputs_hidden": false
    },
    "tags": []
   },
   "outputs": [],
   "source": [
    "# Calculate the metrics\n",
    "metrics_by_seed = []\n",
    "for archives in all_archives:\n",
    "    metrics = []\n",
    "    for nfe, archive in archives.items():\n",
    "        scores = {\n",
    "            \"hypervolume\": hv.calculate(archive),\n",
    "            \"nfe\": int(nfe),\n",
    "        }\n",
    "        metrics.append(scores)\n",
    "    metrics = pd.DataFrame.from_dict(metrics)\n",
    "\n",
    "    # sort metrics by number of function evaluations\n",
    "    metrics.sort_values(by=\"nfe\", inplace=True)\n",
    "\n",
    "    metrics_by_seed.append(metrics)"
   ]
  },
  {
   "cell_type": "code",
   "execution_count": null,
   "id": "af0464c2-9720-43ab-a425-8e446544414c",
   "metadata": {
    "collapsed": false,
    "jupyter": {
     "outputs_hidden": false
    },
    "tags": []
   },
   "outputs": [],
   "source": [
    "# Visualize convergence metrics\n",
    "sns.set_style(\"white\")\n",
    "fig, axes = plt.subplots(nrows=2, figsize=(8, 12), sharex=True)\n",
    "\n",
    "ax1, ax2 = axes\n",
    "\n",
    "for metrics, convergence in zip(metrics_by_seed, convergences):\n",
    "    ax1.plot(metrics.nfe, metrics.hypervolume)\n",
    "    ax1.set_ylabel(\"hypervolume\")\n",
    "\n",
    "    ax2.plot(convergence.nfe, convergence.epsilon_progress)\n",
    "    ax2.set_ylabel(\"$\\epsilon$ progress\")\n",
    "    \n",
    "sns.despine(fig)\n",
    "\n",
    "plt.show()"
   ]
  }
 ],
 "metadata": {
  "kernelspec": {
   "display_name": "Python 3 (ipykernel)",
   "language": "python",
   "name": "python3"
  },
  "language_info": {
   "codemirror_mode": {
    "name": "ipython",
    "version": 3
   },
   "file_extension": ".py",
   "mimetype": "text/x-python",
   "name": "python",
   "nbconvert_exporter": "python",
   "pygments_lexer": "ipython3",
   "version": "3.9.18"
  }
 },
 "nbformat": 4,
 "nbformat_minor": 5
}
