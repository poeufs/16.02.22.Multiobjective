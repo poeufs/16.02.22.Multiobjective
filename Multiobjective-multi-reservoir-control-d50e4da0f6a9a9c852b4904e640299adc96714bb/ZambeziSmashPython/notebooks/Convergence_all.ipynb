{
 "cells": [
  {
   "cell_type": "markdown",
   "id": "9bd0a595-8fe4-49a2-99cc-94c9e4206a5e",
   "metadata": {},
   "source": [
    "# Convergence"
   ]
  },
  {
   "cell_type": "code",
   "execution_count": 109,
   "id": "00453cf3-45d7-471a-8246-63229df26363",
   "metadata": {},
   "outputs": [
    {
     "data": {
      "text/plain": [
       "'C:\\\\Users\\\\whitl\\\\OneDrive\\\\Documenten\\\\MASTER\\\\Year 2\\\\THESIS\\\\16.02.22.Multiobjective\\\\Multiobjective-multi-reservoir-control-d50e4da0f6a9a9c852b4904e640299adc96714bb\\\\ZambeziSmashPython\\\\src'"
      ]
     },
     "execution_count": 109,
     "metadata": {},
     "output_type": "execute_result"
    }
   ],
   "source": [
    "import pandas as pd \n",
    "import matplotlib.pyplot as plt\n",
    "import seaborn as sns\n",
    "import os\n",
    "import numpy as np\n",
    "from ema_workbench import (MultiprocessingEvaluator, ema_logging, RealParameter, ScalarOutcome, Constant,\n",
    "                           Model, HypervolumeMetric, save_results)\n",
    "from ema_workbench.em_framework.optimization import (GenerationalBorg, epsilon_nondominated, to_problem, ArchiveLogger,\n",
    "                                                     EpsilonProgress)\n",
    "\n",
    "if not os.path.exists(\"../src\"):\n",
    "    os.chdir(\"../../src\")\n",
    "else:\n",
    "    os.chdir('../src')\n",
    "os.getcwd()\n"
   ]
  },
  {
   "cell_type": "markdown",
   "id": "dfb187a8-b40c-4400-a546-98732ce82031",
   "metadata": {},
   "source": [
    "### BASE CASE"
   ]
  },
  {
   "cell_type": "code",
   "execution_count": 110,
   "id": "2dfb014f-6bd6-4e56-8e5c-396777db62c2",
   "metadata": {},
   "outputs": [],
   "source": [
    "# Model definition\n",
    "\n",
    "from model_zambezi_OPT import ModelZambezi\n",
    "\n",
    "ZambeziProblem = ModelZambezi()\n",
    "\n",
    "def model_wrapper(**kwargs):\n",
    "    input = [kwargs['v' + str(i)] for i in range(len(kwargs))]\n",
    "    # print('len kwargs is', len(kwargs)) = 230\n",
    "    Hydropower, Environment, Irrigation = tuple(ZambeziProblem.evaluate(np.array(input)))\n",
    "    return Hydropower, Environment, Irrigation\n",
    "\n",
    "# specify model\n",
    "model = Model('zambeziproblem', function=model_wrapper)\n",
    "\n",
    "# levers\n",
    "model.levers = [RealParameter('v' + str(i), -1, 1) for i in range(ZambeziProblem.Nvar)]\n",
    "\n",
    "# specify outcomes\n",
    "model.outcomes = [ScalarOutcome('Hydropower', ScalarOutcome.MINIMIZE),  # Minimize, because deficits\n",
    "                  ScalarOutcome('Environment', ScalarOutcome.MINIMIZE),\n",
    "                  ScalarOutcome('Irrigation', ScalarOutcome.MINIMIZE)]\n",
    "\n",
    "\n",
    "#Problem definition\n",
    "problem = to_problem(model, searchover=\"levers\")\n"
   ]
  },
  {
   "cell_type": "code",
   "execution_count": 111,
   "id": "885e2c78-0097-49e3-9e91-32c9599df547",
   "metadata": {},
   "outputs": [
    {
     "data": {
      "text/plain": [
       "'C:\\\\Users\\\\whitl\\\\OneDrive\\\\Documenten\\\\MASTER\\\\Year 2\\\\THESIS\\\\16.02.22.Multiobjective\\\\Multiobjective-multi-reservoir-control-d50e4da0f6a9a9c852b4904e640299adc96714bb\\\\ZambeziSmashPython\\\\runs\\\\BC_200000nfe_5seed'"
      ]
     },
     "execution_count": 111,
     "metadata": {},
     "output_type": "execute_result"
    }
   ],
   "source": [
    "#Run definition\n",
    "\n",
    "nfe = 200000 #\n",
    "seeds = 5\n",
    "run_comment = 'BC'\n",
    "run_label = f\"{run_comment}_{nfe}nfe_{seeds}seed\"\n",
    "\n",
    "os.chdir(f'../runs/{run_label}')\n",
    "os.getcwd()\n"
   ]
  },
  {
   "cell_type": "code",
   "execution_count": 112,
   "id": "573841fb-7c65-4cfe-86a9-ccd414117259",
   "metadata": {},
   "outputs": [],
   "source": [
    "#Change the load archives method of the ArchiveLogger class\n",
    "\n",
    "import tarfile\n",
    "import os\n",
    "import pandas as pd\n",
    "\n",
    "def alternative_load_archives(filename):\n",
    "    archives = {}\n",
    "    with tarfile.open(os.path.abspath(filename)) as fh:\n",
    "        for entry in fh.getmembers():\n",
    "            if entry.name.endswith(\"csv\"):\n",
    "                key = entry.name.split(\"/\")[1][:-4]\n",
    "                #print(entry.name)\n",
    "                df = pd.read_csv(fh.extractfile(entry), index_col=0)\n",
    "                if not df.empty:\n",
    "                    archives[int(key)] = df\n",
    "    #print(archives)\n",
    "    return archives\n",
    "\n",
    "ArchiveLogger.load_archives = alternative_load_archives\n"
   ]
  },
  {
   "cell_type": "code",
   "execution_count": 113,
   "id": "1e8cdd49-43bc-40af-8697-8fc20d984f25",
   "metadata": {
    "jupyter": {
     "source_hidden": true
    }
   },
   "outputs": [],
   "source": [
    "#Merge convergences \n",
    "\n",
    "convergences = []\n",
    "for i in range(seeds):\n",
    "    df = pd.read_csv(f\"convergence{i}.csv\")\n",
    "    convergences.append(df)\n",
    "    #f'convergence{i}' = pd.read_csv(f\"{run_name}/convergence{i}.csv\") \n",
    "    #print(f'convergence{i}')\n",
    "\n",
    "# Load the archives\n",
    "all_archives = []\n",
    "for i in range(seeds):\n",
    "    archives = ArchiveLogger.load_archives(f\"archives/{i}.csv\")\n",
    "        #archives.items()[nfe] =\n",
    "        #archives = archives.loc[:, ~archives.columns.str.contains('^Unnamed')]\n",
    "    all_archives.append(archives)\n",
    "\n",
    "\n",
    "column_names = ['Hydropower', 'Environment', 'Irrigation']\n",
    "\n",
    "results_list = []\n",
    "for i in range(seeds):\n",
    "    result = pd.read_csv(f\"results_seed{i}.csv\") # Create the results list, containing dataframes with the results per seed \n",
    "    globals()[f'df_{i}'] = pd.read_csv(f\"results_seed{i}.csv\", usecols = column_names) # create dataframes per seed with results for analysis\n",
    "        #archives.items()[nfe] =\n",
    "        #archives = archives.loc[:, ~archives.columns.str.contains('^Unnamed')]\n",
    "    results_list.append(result)\n",
    "\n"
   ]
  },
  {
   "cell_type": "code",
   "execution_count": 6,
   "id": "06166a22-2e23-4e46-b953-39775736c2b5",
   "metadata": {},
   "outputs": [
    {
     "data": {
      "text/plain": [
       "126"
      ]
     },
     "execution_count": 6,
     "metadata": {},
     "output_type": "execute_result"
    }
   ],
   "source": [
    "# Define the reference list\n",
    "reference_set = epsilon_nondominated(results_list, [0.4] * len(model.outcomes), problem)  # [0.05]\n",
    "len(reference_set)\n",
    "#print('reference_set type is', type(reference_set))"
   ]
  },
  {
   "cell_type": "code",
   "execution_count": 7,
   "id": "dd089b22-f073-4f38-aae9-d8a5489eb57c",
   "metadata": {},
   "outputs": [
    {
     "name": "stdout",
     "output_type": "stream",
     "text": [
      "time before is 2024-02-26 11:38:18.741572\n"
     ]
    }
   ],
   "source": [
    "#Define the hypervolumemetric\n",
    "hv = HypervolumeMetric(reference_set, problem)\n",
    "\n",
    "from datetime import datetime\n",
    "\n",
    "before = datetime.now()\n",
    "print(\"time before is\", before)"
   ]
  },
  {
   "cell_type": "code",
   "execution_count": 14,
   "id": "9ae6c316-fc7f-4d03-867e-862df45ede3a",
   "metadata": {},
   "outputs": [],
   "source": [
    "# Calculate the metrics\n",
    "metrics_by_seed = []\n",
    "for archives in all_archives:\n",
    "    metrics = []\n",
    "    for nfe, archive in archives.items():\n",
    "        scores = {\n",
    "            \"hypervolume\": hv.calculate(archive),\n",
    "            \"nfe\": int(nfe),\n",
    "        }\n",
    "        metrics.append(scores)\n",
    "    metrics = pd.DataFrame.from_dict(metrics)\n",
    "    metrics.sort_values(by=\"nfe\", inplace=True)\n",
    "    metrics_name = 'metrics.csv'\n",
    "    #metrics.to_csv(os.path.join(cwd, metrics_name))\n",
    "\n",
    "    metrics_by_seed.append(metrics)\n"
   ]
  },
  {
   "cell_type": "code",
   "execution_count": 15,
   "id": "f4253438-bffd-4271-8388-32a4e7ae8231",
   "metadata": {},
   "outputs": [
    {
     "data": {
      "image/png": "[encoded data removed]",
      "text/plain": [
       "<Figure size 800x1200 with 2 Axes>"
      ]
     },
     "metadata": {},
     "output_type": "display_data"
    },
    {
     "name": "stdout",
     "output_type": "stream",
     "text": [
      "It took 0:06:04.575362 time to do 99705 nfes\n"
     ]
    }
   ],
   "source": [
    "# Visualize convergence metrics\n",
    "sns.set_style(\"white\")\n",
    "fig, axes = plt.subplots(nrows=2, figsize=(8, 12), sharex=True)\n",
    "\n",
    "ax1, ax2 = axes\n",
    "import matplotlib.pyplot as plt\n",
    "\n",
    "for metrics, convergence in zip(metrics_by_seed, convergences):\n",
    "    #plt.rcParams[\"font.family\"] = \"sans-serif\"\n",
    "    ax1.plot(convergence.nfe, convergence.epsilon_progress)\n",
    "    ax1.set_ylabel(\"$\\epsilon$ progress\")    \n",
    "    \n",
    "    ax2.plot(metrics.nfe, metrics.hypervolume)\n",
    "    ax2.set_ylabel(\"hypervolume\")\n",
    "    \n",
    "sns.despine(fig)\n",
    "\n",
    "\n",
    "plt.show()\n",
    "\n",
    "after = datetime.now()\n",
    "print(f\"It took {after - before} time to do {nfe} nfes\")"
   ]
  },
  {
   "cell_type": "code",
   "execution_count": 11,
   "id": "cb5567e5-c8f1-44d1-8769-fd175448e296",
   "metadata": {},
   "outputs": [],
   "source": [
    "#Hypervolume hvwfg\n",
    "\n",
    "import sys\n",
    "sys.path\n",
    "path = r'C:\\users\\whitl\\appdata\\local\\packages\\pythonsoftwarefoundation.python.3.11_qbz5n2kfra8p0\\localcache\\local-packages\\python311\\site-packages'\n",
    "sys.path.append(path)\n",
    "sys.path\n",
    "\n",
    "import hvwfg"
   ]
  },
  {
   "cell_type": "markdown",
   "id": "44dd8f8b-10f7-4f46-b29b-d5783cad3542",
   "metadata": {},
   "source": [
    "array_df0 = df_0.values.copy()\n",
    "array_df0\n",
    "\n",
    "array_ref_set = ref_set.values.copy()\n",
    "\n",
    "arr_df0 = df_0.values.to_numpy().copy()\n",
    "arr_df0\n"
   ]
  },
  {
   "cell_type": "markdown",
   "id": "e6b94519-5480-41a5-81c3-364e758cead5",
   "metadata": {},
   "source": [
    "seed_keys = []\n",
    "result_values = []\n",
    "for key, value in archives.items():\n",
    "    seed_keys.append(key)\n",
    "    for i in range(len(seed_keys)):\n",
    "        #print(\"Key:\", key)#, \"Value:\", value)\n",
    "\n",
    "hvwfg.wfg(arr_df0, array_ref_set)"
   ]
  },
  {
   "cell_type": "code",
   "execution_count": 12,
   "id": "920feb3f-f8b1-4aba-a43c-4900270539b6",
   "metadata": {},
   "outputs": [
    {
     "data": {
      "text/plain": [
       "0.6400000000000001"
      ]
     },
     "execution_count": 12,
     "metadata": {},
     "output_type": "execute_result"
    }
   ],
   "source": [
    "# Fitness vector assuming minimization\n",
    "obj = np.array([[0.3, 0.6],\n",
    "                [0.4, 0.4],\n",
    "                [0.6, 0.2]])\n",
    "\n",
    "ref = np.array([1.1, 1.1])\n",
    "\n",
    "hvwfg.wfg(obj, ref)\n"
   ]
  },
  {
   "cell_type": "code",
   "execution_count": 123,
   "id": "ee3ddc52-80ff-4478-a3b7-db6077d690ec",
   "metadata": {},
   "outputs": [],
   "source": [
    "# Get the worst values (Nadir point)\n",
    "\n",
    "# Load the merged results\n",
    "column_names = ['Hydropower', 'Environment', 'Irrigation']\n",
    "df_bc = pd.read_csv(f\"merged_results.csv\", usecols = column_names)#, index_col=0) #, usecols = column_names)\n",
    "\n",
    "worst_hyd = df_bc.Hydropower.max()\n",
    "worst_irr = df_bc.Irrigation.max()\n",
    "worst_env = df_bc.Environment.max()\n",
    "\n",
    "worst_list = []\n",
    "worst_list.append(worst_hyd)\n",
    "worst_list.append(worst_env)\n",
    "worst_list.append(worst_irr)\n",
    "\n",
    "worst_array = np.asarray(worst_list)\n",
    "worst_array\n",
    "\n",
    "best_hyd = df_bc.Hydropower.min()\n",
    "best_irr = df_bc.Irrigation.min()\n",
    "best_env = df_bc.Environment.min()\n",
    "\n",
    "best_list = []\n",
    "best_list.append(best_hyd)\n",
    "best_list.append(best_env)\n",
    "best_list.append(best_irr)"
   ]
  },
  {
   "cell_type": "code",
   "execution_count": 115,
   "id": "070d47e3-df23-4d90-840a-e5cfad70b4f8",
   "metadata": {},
   "outputs": [
    {
     "name": "stdout",
     "output_type": "stream",
     "text": [
      "[20.17937625072075, 3214070.319504687, 3.074369590148062]\n"
     ]
    }
   ],
   "source": [
    "print(worst_list)"
   ]
  },
  {
   "cell_type": "code",
   "execution_count": 134,
   "id": "9a85e0ed-4c6d-4641-a917-f77cfac12059",
   "metadata": {},
   "outputs": [],
   "source": [
    "import tarfile\n",
    "import os\n",
    "import pandas as pd\n",
    "\n",
    "column_names = ['Hydropower', 'Environment', 'Irrigation']\n",
    "\n",
    "def alternative_load_archives(filename):\n",
    "    archives = {}\n",
    "    normalized_archives = {}\n",
    "    norm_archives = {}\n",
    "    with tarfile.open(os.path.abspath(filename)) as fh:\n",
    "        for entry in fh.getmembers():\n",
    "            if entry.name.endswith(\"csv\"):\n",
    "                key = entry.name.split(\"/\")[1][:-4]\n",
    "                #print(entry.name)\n",
    "                df = pd.read_csv(fh.extractfile(entry), usecols = column_names)#, index_col=0\n",
    "                normalized_df=(df-df.min())/(df.max()-df.min())\n",
    "                norm_df = pd.DataFrame()\n",
    "                norm_df['Hydropower']=(df['Hydropower']-best_hyd)/(worst_hyd-best_hyd)\n",
    "                norm_df['Environment']=(df['Environment']-best_env)/(worst_env-best_env)\n",
    "                norm_df['Irrigation']=(df['Irrigation']-best_irr)/(worst_irr-best_irr)\n",
    "                if not df.empty:\n",
    "                    archives[int(key)] = df\n",
    "                if not normalized_df.empty:\n",
    "                    normalized_archives[int(key)] = normalized_df\n",
    "                    norm_archives[int(key)] = norm_df\n",
    "                    #print(df)\n",
    "    return archives, normalized_archives, norm_archives\n",
    "\n",
    "ArchiveLogger.load_archives = alternative_load_archives\n"
   ]
  },
  {
   "cell_type": "code",
   "execution_count": 135,
   "id": "8bb613c7-dc5e-491a-9628-ac269211dc23",
   "metadata": {},
   "outputs": [],
   "source": [
    "#zeros = [0.0,0.0,0.0]\n",
    "worst_array = np.ascontiguousarray([30.17937625072075, 4214070.319504687, 4.074369590148062])\n",
    "    #[0.0,0.0,0.0])\n",
    "norm_worst_array = np.ascontiguousarray([1.0, 1.0, 1.0])\n",
    "    #30.17937625072075, 4214070.319504687, 4.074369590148062])\n",
    "#worst_array = np.asarray(zeros)"
   ]
  },
  {
   "cell_type": "code",
   "execution_count": 136,
   "id": "e594f182-4b08-4bc6-8e7a-a77fd2b9d3e6",
   "metadata": {},
   "outputs": [],
   "source": [
    "#NORMALIZATION?\n",
    "#normalized_archives"
   ]
  },
  {
   "cell_type": "code",
   "execution_count": 137,
   "id": "7e3ebe66-5cee-40a3-9a1f-744c16cd975f",
   "metadata": {},
   "outputs": [
    {
     "name": "stdout",
     "output_type": "stream",
     "text": [
      "norm_hv:: 0.07330550912985925\n",
      "all hvs for seed 0 : [0.07330550912985925, 0.15488095747651823, 0.18134989834509632, 0.21936289577037313, 0.2231257281040233, 0.2417819324271439, 0.261452320969628, 0.2683027034169202, 0.28894281297230034, 0.3168967193852996, 0.33335055149986886, 0.34697048080541215, 0.3608336267449714, 0.3614604946197512, 0.3742494265377256, 0.39322747160532096, 0.40277416323697063, 0.41119238806197217, 0.42577700438750066, 0.4284727810315721, 0.4354640523115161, 0.4436081094349855, 0.45796021184913427, 0.4723261771673456, 0.4802654160088053, 0.48682486507492295, 0.49308055339071694, 0.49727326932914606, 0.5023724843884422, 0.5073684862314908, 0.5116937566655565, 0.5135056863041487, 0.5147409426184029, 0.5159193865625833, 0.5172602478092634, 0.5175394474148176, 0.5185374622644533, 0.5195162119905261, 0.5210110805928588, 0.5229446731783539, 0.523287625045012, 0.5254053179402502, 0.5272485166207082, 0.5314358030519443, 0.5308973102506557, 0.5326968250239644, 0.5333468211522856, 0.5333502444899277, 0.5351699954613159, 0.53598144183464, 0.5375190600239242, 0.540906504189534, 0.5419098747316995, 0.542822753504106, 0.5435727721374951, 0.5454414069963838, 0.5459660276764927, 0.5468089601299398, 0.5472295733210238, 0.5476142030032506, 0.5484369781855383, 0.5503120052732793, 0.5527981783983092, 0.5534583972651622, 0.553965937568721, 0.5543265999858603, 0.5559511488299995, 0.5537001958523307, 0.5548333272140317, 0.5555137275249126, 0.5559548347119154, 0.5565444583596801, 0.5567798033686081, 0.557113765673012, 0.5571189575482198, 0.5559631293747824, 0.5535769652405161, 0.5540160861998219, 0.554166705033619, 0.5545268367540752, 0.5554819435320305, 0.5555951195329752, 0.5563862072356415, 0.5569779875975456, 0.557440473827278, 0.5576189442988665, 0.5607705641714624, 0.5613463967238125, 0.5614219771497907, 0.5616685835946561, 0.5619742648554875, 0.5623981152137597, 0.5626245574850663, 0.5629993702527427, 0.563224547186253, 0.5635432670488851, 0.5638344039355113, 0.5644096232011868, 0.5655652740060958, 0.5658336261774399, 0.5660827210143733, 0.5665724357505033, 0.566501366988297, 0.566696831363421, 0.5668195207598435, 0.5673078279678033, 0.5674966679545448, 0.5686451012031374, 0.568899435172175, 0.569147323648541, 0.5692554198466482, 0.5694498084804832, 0.5695756457221159, 0.5701715744738358, 0.5703341675802069, 0.5706230558518157, 0.5709943470552651, 0.5711179476670819, 0.5712629656387721, 0.5715492255159474, 0.5711996087525356, 0.5713964884990735, 0.571516046455432, 0.5714914403943397, 0.5716757343846854, 0.5720732497893886, 0.572165484392458, 0.572631618246727, 0.5727149941087638, 0.5731005072023717, 0.5735096195004818, 0.5740429218490013, 0.5741225003217891, 0.5742578649607745, 0.5746402060984327, 0.5747863212029832, 0.5749963329769998, 0.5751192805335212, 0.5753494828334732, 0.5754940237828186, 0.5759104614864875, 0.5762143041654245, 0.5761903310875993, 0.5762550284677713, 0.5762789135041999, 0.5763433911943229, 0.5767621162657526, 0.5768078023639162, 0.5770402151936901, 0.5770300763997325, 0.5772562786093005, 0.5772658169975372, 0.5773053157025219, 0.5773451164689658, 0.5773911879189352, 0.5776254793542098, 0.5776764021397566, 0.5777781973867279, 0.5778600607997006, 0.5779313798524385]\n",
      "norm_hv:: 0.07043240454741297\n",
      "all hvs for seed 1 : [0.07043240454741297, 0.15622958115632526, 0.16859757454418675, 0.1726227909763788, 0.17919724003200183, 0.23887749663880192, 0.2638889190933421, 0.2824288472027819, 0.29344766754090884, 0.3085478939468913, 0.3162766456707504, 0.32754258426598454, 0.3377497972627006, 0.3423029129565467, 0.3470808835412012, 0.35043291208311156, 0.3550240122230822, 0.3589669857708066, 0.35967874462136645, 0.3620895055882987, 0.3669389341501576, 0.36782293735325633, 0.37123755593914354, 0.3769107819719799, 0.39135780495493605, 0.4054328228000381, 0.4104144768932416, 0.43180499932233485, 0.43567824807409494, 0.43799014907281086, 0.4376148966654035, 0.4524368297353618, 0.4643079958651299, 0.47286083400019063, 0.4736856294577298, 0.47802597245583384, 0.48051251003874856, 0.48500556770956565, 0.48966751787960605, 0.48717300901543437, 0.4869852372230302, 0.49426545872349914, 0.49652023201080986, 0.5006688177634027, 0.4983604415665097, 0.5021949901382682, 0.49998128645307566, 0.5026442043012983, 0.5040508871675088, 0.5059234703202777, 0.5074463069887009, 0.5084271183511903, 0.5099406437283225, 0.5108359218329634, 0.5099599317997109, 0.5130179520859007, 0.5137798743288838, 0.5179126691451086, 0.5197231080942092, 0.526622535365289, 0.5314442714707001, 0.5325150422853879, 0.5340872912332002, 0.5316321286620411, 0.5355071277722683, 0.5369786105044929, 0.5514898908623957, 0.5553405517516088, 0.561715750203234, 0.5544119129245597, 0.5658827303715784, 0.5720561698020183, 0.5755717874180254, 0.5776464819368121, 0.5782323658816442, 0.5817237923632249, 0.5843190399602689, 0.5856350824133841, 0.5903592526186076, 0.5960255524055643, 0.6014797977641307, 0.6026552825647326, 0.6057129278220821, 0.6139188990318074, 0.6232596752330232, 0.6296278907448681, 0.6326860510506608, 0.6367203202289128, 0.6393114048379424, 0.6431882050968952, 0.6461398031544967, 0.6478785657506916, 0.65182963533975, 0.6534710513442026, 0.6535080181705716, 0.6556590699196393, 0.6561641446352094, 0.656642451910824, 0.658965697150747, 0.6616345311145079, 0.6613660526432602, 0.6667470063411003, 0.6632539945014411, 0.6633351181711311, 0.6677844826907904, 0.6657516438476477, 0.6720935942962897, 0.6724756504784153, 0.6734435834832699, 0.6745035583756005, 0.674960845237749, 0.675537776531676, 0.6759996837485485, 0.6764223092004784, 0.6763945763910943, 0.6764958436493316, 0.6765621196447467, 0.6768103162632035, 0.6739950403033601, 0.673636769073658, 0.6733756808546517, 0.6737120193585419, 0.673938546988852, 0.6747329851506988, 0.6749846843777171, 0.6755273557252114, 0.6773775836742262, 0.6778702170982607, 0.6780126735899076, 0.6781426944569543, 0.6784140756991655, 0.6775931851744731, 0.6776922533464221, 0.6847404020165904, 0.6848147064958952, 0.6850181292252283, 0.6851261362404834, 0.685190635157499, 0.6857882644037514, 0.686223944352244, 0.6868560763937707, 0.6872799618003697, 0.6874121011380573, 0.6877017481847462, 0.6883271121755515, 0.6881288334742471, 0.6886892841468434, 0.6886765579020512, 0.6881271973069868, 0.6894611291242998, 0.6919182035866001, 0.6932294428803747, 0.6939808528895844, 0.695864267648164, 0.697738669226204]\n",
      "norm_hv:: 0.06123809913602364\n",
      "all hvs for seed 2 : [0.06123809913602364, 0.14773131030506298, 0.18163571523028185, 0.1968795794362387, 0.21073254110950101, 0.24559148497926803, 0.2589269223926346, 0.2651651407265266, 0.28792847723615883, 0.30452852545074166, 0.30687187989168974, 0.33797871215859376, 0.35982350256859646, 0.3616236326033542, 0.364768777149064, 0.3912974096546093, 0.40767354111079857, 0.41365938548547215, 0.4174708893137571, 0.4281251899798248, 0.439209292660867, 0.4487851996265103, 0.45894567044595685, 0.46897956757362735, 0.47811854047989755, 0.48267642059164156, 0.4919825986870794, 0.49908635007716606, 0.5030140963709979, 0.5112788279065675, 0.5144992013618114, 0.5155919631855934, 0.5243577805738676, 0.5276885781811013, 0.5308191037840764, 0.5408037945827352, 0.5470573438461475, 0.550503313969528, 0.5587627229764264, 0.5611093894866581, 0.560026786436287, 0.569072447097567, 0.5788248890282969, 0.5857557883021454, 0.592688695876118, 0.6010004567783915, 0.6148180876909655, 0.6243250108475712, 0.6253874292767229, 0.6286989705363194, 0.6382978174548974, 0.6410789268436283, 0.6433466153479981, 0.6501213931128061, 0.6521720415802149, 0.655104703583025, 0.656081503329255, 0.6577685026666134, 0.6592652312689862, 0.6600929077133589, 0.6614635012182819, 0.6621699222953598, 0.6634672902082732, 0.664758350230071, 0.6677668302877843, 0.6686892861213652, 0.6721762876530429, 0.6731288946158699, 0.6737634645429629, 0.6749461302464828, 0.6752825216115369, 0.675767690483404, 0.677223974318917, 0.6787651356982612, 0.6798655948989242, 0.6805151355326514, 0.6816708772515986, 0.68240647869837, 0.6828339896208242, 0.683117379504649, 0.6842186128180956, 0.6872065247580299, 0.6875973778154897, 0.6878352808120476, 0.6884660582557184, 0.6894095437774123, 0.6895753955185029, 0.689621192815004, 0.6895167695524403, 0.6899884604927327, 0.6896154964153086, 0.688094086474477, 0.69016542361068, 0.6908377338973827, 0.6911035036909925, 0.6925984478718584, 0.693320949239377, 0.6943229452464856, 0.6946553845001234, 0.6949809417608531, 0.6952635637444793, 0.6971787614721939, 0.6973159082496537, 0.6977087738700178, 0.697778897906392, 0.6983830492786113, 0.6995821004934465, 0.7004263164817132, 0.7006441516157637, 0.7014203861805147, 0.7016409762379897, 0.7020012041166822, 0.7023496263680508, 0.7026607619482443, 0.702607860350158, 0.7031056118274596, 0.7029029633854368, 0.703126133393761, 0.7030600876029814, 0.704037571630846, 0.7047722711424067, 0.7049477631933193, 0.7050673846117433, 0.7056972980652957, 0.7055863713677746, 0.7057938665213721, 0.7061008491639127, 0.7062555652184899, 0.7067924943152113, 0.7069952222153892, 0.7069496222612655, 0.7056076398284679, 0.7056673964033031, 0.7061421187190099, 0.7058746492333782, 0.7065253778485269, 0.7068801901575528, 0.7085304766490321, 0.7088013536222441, 0.7088610426589103, 0.7090134372521989, 0.7091291267536355, 0.7092779836317866, 0.7074689570473545, 0.7093459517138053, 0.7094061198866737, 0.7096279100136643, 0.7094365806271626, 0.7094180069246954, 0.7097058227112033, 0.7098726117461653, 0.7099893821374855, 0.710052565458987, 0.7102178284125364, 0.7103812016444347, 0.7104460781611368]\n",
      "norm_hv:: 0.07225884426173886\n",
      "all hvs for seed 3 : [0.07225884426173886, 0.15545464601989464, 0.16902578980511254, 0.17343160917915512, 0.18283928038726274, 0.19522964446326493, 0.2053697479456315, 0.2068098475275289, 0.21291373081023132, 0.2181344553813317, 0.22764104986994912, 0.2375269657774513, 0.25393596221841297, 0.2620934248882908, 0.26426878543572324, 0.27651019265801025, 0.27955463039596307, 0.28384251994012216, 0.29042907546014946, 0.29593172982729604, 0.30387980946368187, 0.3165418588138976, 0.32637341860765856, 0.33387613578687353, 0.3384593206089461, 0.3485336843581336, 0.3534323824723032, 0.3538244717598145, 0.35437408100432327, 0.3574347692384525, 0.359894896537332, 0.3630981280790607, 0.366180495695673, 0.37120280173094594, 0.3731785636296339, 0.37566009530767713, 0.38132508381539554, 0.3830333366700149, 0.385810069139825, 0.3896613839281367, 0.3910261586658961, 0.396471166764545, 0.4044242408846107, 0.41174487003745397, 0.4148948837530116, 0.42206923566699417, 0.42617763088393523, 0.43850729072155514, 0.4431103385677295, 0.449885840303555, 0.45334117901537263, 0.4577109338703059, 0.4631414814473193, 0.4658016960337386, 0.467873449662922, 0.47204679448031317, 0.47659371979848336, 0.4801615417903604, 0.481856803386167, 0.48432529806141, 0.48671369576785295, 0.48682572418127557, 0.4910453213656731, 0.4907560296014822, 0.49283172141611536, 0.4952083476387995, 0.4978455248665154, 0.49748720218304116, 0.49854365281047763, 0.5052638179593321, 0.5100227523694448, 0.5102111757526042, 0.5110662875280857, 0.5109683070732282, 0.5141804372497991, 0.5150137341892312, 0.514923717620212, 0.5156821046540007, 0.5163868513553094, 0.5169759973112794, 0.5142378704342153, 0.5148030832526381, 0.5150329698099009, 0.5198826489366567, 0.5201886448923385, 0.5243886957508229, 0.5249030285767996, 0.5264214749198804, 0.5218878069827636, 0.5221115576755347, 0.522531336721672, 0.5227353454945932, 0.5245821191769775, 0.5250179241040407, 0.5252793793315338, 0.5271394567247569, 0.5278088936880754, 0.5288364232996751, 0.5289523460585157, 0.5292603370165038, 0.5292847402575953, 0.5344228173436595, 0.5345836700984634, 0.5347451539587473, 0.5358953167599659, 0.5359464477806875, 0.5361724110869549, 0.5364094264249343, 0.5365931234360795, 0.5368520089882685, 0.5380947635870447, 0.5383801306014707, 0.5383123907951728, 0.5385566347019499, 0.5385342976303599, 0.5388240245310353, 0.5392066135549342, 0.539389805335784, 0.5398579090984996, 0.5400519558773065, 0.5406525869155357, 0.540817374819608, 0.5408364226182997, 0.5412738988390651, 0.5412498248531584, 0.5416704652057358, 0.5421722234515365, 0.5423521978484167, 0.542589237134066, 0.5426966200784344, 0.542745561760714, 0.543015327285896, 0.543447965261539, 0.5435741943460015, 0.5438217153782045, 0.5439885980521509, 0.5443614056205197, 0.5449228080191703, 0.5458697417645657, 0.5460374634833971, 0.5461523432182586, 0.5462419901264436, 0.5470543620533741, 0.5471337809047206, 0.547513847463664, 0.5476045930960467, 0.5476469818855005, 0.5477327037470996, 0.5384505401168622, 0.5381112494602371, 0.5383252153018941, 0.5387006777987843, 0.5394719188050098, 0.5400217779657347, 0.5403230856878601, 0.5414030600261771, 0.5421745943160904, 0.5426388267266129, 0.5427348454816677, 0.5430078025217211, 0.5437101570803494, 0.5437101570803494, 0.5448597777151389, 0.5452590513174264]\n",
      "norm_hv:: 0.06673664533395814\n",
      "all hvs for seed 4 : [0.06673664533395814, 0.15552765357155446, 0.1880187721951716, 0.20234027978816496, 0.21622256502730364, 0.3020430682245925, 0.3122749438428206, 0.32907514908457103, 0.35009273485396003, 0.35559877282387187, 0.369087711649704, 0.3795297922153527, 0.39327959695155373, 0.39679583936969093, 0.42237531835026887, 0.419947348695082, 0.4309693793985375, 0.4407412063660922, 0.4455902064353883, 0.4494319222599218, 0.4554735188967909, 0.47686910275658345, 0.48751946672394536, 0.49001982765398927, 0.4969015162246383, 0.5002940459704873, 0.5140800221426358, 0.5131107325347952, 0.5143443189724546, 0.5231120552330535, 0.5321704969376677, 0.5347688202810776, 0.5374567063829957, 0.5411801830059106, 0.5467010330258099, 0.5508282876635613, 0.5521337794642263, 0.5554187738150775, 0.5577392272507782, 0.5614594295334182, 0.5662811296434216, 0.5702517023918596, 0.573186648172021, 0.5750483477515117, 0.5765645056378813, 0.5793276253960755, 0.5789390608215848, 0.5799776109559014, 0.5829164311865294, 0.5907823052208586, 0.592600038178983, 0.5946554760177727, 0.6004602166657227, 0.5978473854131248, 0.6002733347369312, 0.603078710977432, 0.6044574471064571, 0.6073819127222492, 0.6094142050708873, 0.6135766545500562, 0.6146112804035203, 0.6160401158546774, 0.6178637105141489, 0.6198650404992759, 0.6201756715081388, 0.621188805223869, 0.621652128847359, 0.6228479146682151, 0.6232142617004497, 0.624303442839561, 0.6255694407099053, 0.6332882834541709, 0.6266041227537325, 0.6276802887888998, 0.631585116916347, 0.6317618454215953, 0.6337062916803466, 0.6344334441062365, 0.6348075944441884, 0.6350134099786213, 0.6355425679698539, 0.6365036679972855, 0.6370360528861442, 0.6374506468718492, 0.637640976059251, 0.6423682995458065, 0.6430476703815949, 0.6432581189032163, 0.6435039752961693, 0.6440180433687216, 0.6444298423738537, 0.6458801506636014, 0.6468246320457384, 0.6469225306845072, 0.6478433201668655, 0.6484274421132992, 0.6484118416901908, 0.6485628643449607, 0.6498913072427309, 0.6501172806199275, 0.6506868909575984, 0.650753393854523, 0.6513272313580099, 0.6517748029497986, 0.6520627944829313, 0.6500789449741269, 0.6502803399776595, 0.6505476743322107, 0.6505879875841802, 0.6521419988831867, 0.6522976882245315, 0.6530251078692678, 0.6551606648651038, 0.656922966033283, 0.6581076035721789, 0.6582168765562327, 0.658954834850949, 0.6598539360991559, 0.659984250749744, 0.6592607704165729, 0.6612091760521505, 0.6622372948183037, 0.6637900797010323, 0.6658289512385658, 0.6664519212452416, 0.6669609078992698, 0.6675063586817997, 0.6679905990369193, 0.668378675737787, 0.670366687860319, 0.6706234699861472, 0.6719756685663041, 0.6727326601145646, 0.6733335836492806, 0.6755623849987042, 0.6770237777434218, 0.6776178015038216, 0.6793113577297832, 0.6799585853764712, 0.6815302579056732, 0.6821284330390674, 0.6830631626558149, 0.6831632643109409, 0.6850758097296171, 0.686294154125153, 0.6869678500484313, 0.6885645301802233, 0.6892012147117783, 0.6900059397153738, 0.6903613069545208, 0.6915416934323481, 0.6917932572481788, 0.6921070843958941, 0.6922880253253888, 0.6927213178703119, 0.693576040671789, 0.693696469635232, 0.688416661192911, 0.6893987718226405, 0.6903617175539039, 0.6904687326303166, 0.6964628186587197, 0.6968254132724322, 0.6977617207526923, 0.6976339414717311, 0.6978036048408821, 0.6980663811727071, 0.6985777321879992, 0.6989204988214321, 0.699148345198126, 0.6997598911064867, 0.7007539659530703, 0.7015083821173319, 0.7026649407951329, 0.7028822917642884, 0.7042218479894251, 0.7054646135976735, 0.7061851586190022, 0.7069838275106435, 0.7079650434555779, 0.7102160218028988, 0.7116000427044694, 0.711624266158523, 0.7120839094892125, 0.7125254953435205]\n"
     ]
    },
    {
     "data": {
      "text/plain": [
       "{100: 0.07330550912985925,\n",
       " 1188: 0.15488095747651823,\n",
       " 2279: 0.18134989834509632,\n",
       " 3373: 0.21936289577037313,\n",
       " 4467: 0.2231257281040233,\n",
       " 5559: 0.2417819324271439,\n",
       " 6659: 0.261452320969628,\n",
       " 7757: 0.2683027034169202,\n",
       " 8855: 0.28894281297230034,\n",
       " 9856: 0.3168967193852996,\n",
       " 10856: 0.33335055149986886,\n",
       " 11859: 0.34697048080541215,\n",
       " 12958: 0.3608336267449714,\n",
       " 13958: 0.3614604946197512,\n",
       " 14960: 0.3742494265377256,\n",
       " 15963: 0.39322747160532096,\n",
       " 17060: 0.40277416323697063,\n",
       " 18061: 0.41119238806197217,\n",
       " 19161: 0.42577700438750066,\n",
       " 20361: 0.4284727810315721,\n",
       " 21505: 0.4354640523115161,\n",
       " 22642: 0.4436081094349855,\n",
       " 23784: 0.45796021184913427,\n",
       " 24922: 0.4723261771673456,\n",
       " 26060: 0.4802654160088053,\n",
       " 27198: 0.48682486507492295,\n",
       " 28338: 0.49308055339071694,\n",
       " 29481: 0.49727326932914606,\n",
       " 30623: 0.5023724843884422,\n",
       " 31765: 0.5073684862314908,\n",
       " 32903: 0.5116937566655565,\n",
       " 34046: 0.5135056863041487,\n",
       " 35188: 0.5147409426184029,\n",
       " 36328: 0.5159193865625833,\n",
       " 37465: 0.5172602478092634,\n",
       " 38606: 0.5175394474148176,\n",
       " 39750: 0.5185374622644533,\n",
       " 40892: 0.5195162119905261,\n",
       " 42035: 0.5210110805928588,\n",
       " 43241: 0.5229446731783539,\n",
       " 44416: 0.523287625045012,\n",
       " 45590: 0.5254053179402502,\n",
       " 46765: 0.5272485166207082,\n",
       " 47940: 0.5314358030519443,\n",
       " 49117: 0.5308973102506557,\n",
       " 50292: 0.5326968250239644,\n",
       " 51468: 0.5333468211522856,\n",
       " 52637: 0.5333502444899277,\n",
       " 53814: 0.5351699954613159,\n",
       " 54992: 0.53598144183464,\n",
       " 56168: 0.5375190600239242,\n",
       " 57345: 0.540906504189534,\n",
       " 58520: 0.5419098747316995,\n",
       " 59697: 0.542822753504106,\n",
       " 60875: 0.5435727721374951,\n",
       " 62051: 0.5454414069963838,\n",
       " 63227: 0.5459660276764927,\n",
       " 64404: 0.5468089601299398,\n",
       " 65582: 0.5472295733210238,\n",
       " 66758: 0.5476142030032506,\n",
       " 67934: 0.5484369781855383,\n",
       " 69108: 0.5503120052732793,\n",
       " 70281: 0.5527981783983092,\n",
       " 71459: 0.5534583972651622,\n",
       " 72637: 0.553965937568721,\n",
       " 73813: 0.5543265999858603,\n",
       " 74989: 0.5559511488299995,\n",
       " 76166: 0.5537001958523307,\n",
       " 77343: 0.5548333272140317,\n",
       " 78519: 0.5555137275249126,\n",
       " 79697: 0.5559548347119154,\n",
       " 80875: 0.5565444583596801,\n",
       " 82051: 0.5567798033686081,\n",
       " 83639: 0.557113765673012,\n",
       " 85006: 0.5571189575482198,\n",
       " 86373: 0.5559631293747824,\n",
       " 87739: 0.5535769652405161,\n",
       " 89107: 0.5540160861998219,\n",
       " 90475: 0.554166705033619,\n",
       " 91843: 0.5545268367540752,\n",
       " 93212: 0.5554819435320305,\n",
       " 94580: 0.5555951195329752,\n",
       " 95948: 0.5563862072356415,\n",
       " 97316: 0.5569779875975456,\n",
       " 98684: 0.557440473827278,\n",
       " 100051: 0.5576189442988665,\n",
       " 101415: 0.5607705641714624,\n",
       " 102783: 0.5613463967238125,\n",
       " 104150: 0.5614219771497907,\n",
       " 105516: 0.5616685835946561,\n",
       " 106883: 0.5619742648554875,\n",
       " 108249: 0.5623981152137597,\n",
       " 109617: 0.5626245574850663,\n",
       " 110986: 0.5629993702527427,\n",
       " 112356: 0.563224547186253,\n",
       " 113725: 0.5635432670488851,\n",
       " 115093: 0.5638344039355113,\n",
       " 116461: 0.5644096232011868,\n",
       " 117827: 0.5655652740060958,\n",
       " 119195: 0.5658336261774399,\n",
       " 120564: 0.5660827210143733,\n",
       " 121931: 0.5665724357505033,\n",
       " 123300: 0.566501366988297,\n",
       " 124668: 0.566696831363421,\n",
       " 126036: 0.5668195207598435,\n",
       " 127406: 0.5673078279678033,\n",
       " 128773: 0.5674966679545448,\n",
       " 130142: 0.5686451012031374,\n",
       " 131512: 0.568899435172175,\n",
       " 132882: 0.569147323648541,\n",
       " 134249: 0.5692554198466482,\n",
       " 135618: 0.5694498084804832,\n",
       " 136984: 0.5695756457221159,\n",
       " 138352: 0.5701715744738358,\n",
       " 139720: 0.5703341675802069,\n",
       " 141085: 0.5706230558518157,\n",
       " 142454: 0.5709943470552651,\n",
       " 143823: 0.5711179476670819,\n",
       " 145189: 0.5712629656387721,\n",
       " 146557: 0.5715492255159474,\n",
       " 147925: 0.5711996087525356,\n",
       " 149294: 0.5713964884990735,\n",
       " 150660: 0.571516046455432,\n",
       " 152030: 0.5714914403943397,\n",
       " 153396: 0.5716757343846854,\n",
       " 154764: 0.5720732497893886,\n",
       " 156131: 0.572165484392458,\n",
       " 157499: 0.572631618246727,\n",
       " 158865: 0.5727149941087638,\n",
       " 160233: 0.5731005072023717,\n",
       " 161602: 0.5735096195004818,\n",
       " 162971: 0.5740429218490013,\n",
       " 164337: 0.5741225003217891,\n",
       " 165705: 0.5742578649607745,\n",
       " 167074: 0.5746402060984327,\n",
       " 168443: 0.5747863212029832,\n",
       " 169812: 0.5749963329769998,\n",
       " 171178: 0.5751192805335212,\n",
       " 172546: 0.5753494828334732,\n",
       " 173913: 0.5754940237828186,\n",
       " 175279: 0.5759104614864875,\n",
       " 176647: 0.5762143041654245,\n",
       " 178016: 0.5761903310875993,\n",
       " 179384: 0.5762550284677713,\n",
       " 180751: 0.5762789135041999,\n",
       " 182119: 0.5763433911943229,\n",
       " 183487: 0.5767621162657526,\n",
       " 184855: 0.5768078023639162,\n",
       " 186223: 0.5770402151936901,\n",
       " 187591: 0.5770300763997325,\n",
       " 188958: 0.5772562786093005,\n",
       " 190327: 0.5772658169975372,\n",
       " 191694: 0.5773053157025219,\n",
       " 193061: 0.5773451164689658,\n",
       " 194429: 0.5773911879189352,\n",
       " 195798: 0.5776254793542098,\n",
       " 197164: 0.5776764021397566,\n",
       " 198531: 0.5777781973867279,\n",
       " 199899: 0.5778600607997006,\n",
       " 200581: 0.5779313798524385}"
      ]
     },
     "execution_count": 137,
     "metadata": {},
     "output_type": "execute_result"
    }
   ],
   "source": [
    "# Load the archives\n",
    "#all_archives = []\n",
    "#all_hvs = {}\n",
    "all_norm_hvs = []\n",
    "norm_hvs_dict = {}\n",
    "norm_hvs_dict_0 = {}\n",
    "norm_hvs_dict_1 = {}\n",
    "norm_hvs_dict_2 = {}\n",
    "norm_hvs_dict_3 = {}\n",
    "norm_hvs_dict_4 = {}\n",
    "norm_hvs_dict_5 = {}\n",
    "\n",
    "hvs_dict_0 = {}\n",
    "hvs_dict_1 = {}\n",
    "hvs_dict_2 = {}\n",
    "hvs_dict_3 = {}\n",
    "hvs_dict_4 = {}\n",
    "hvs_dict_5 = {}\n",
    "\n",
    "for i in range(seeds):\n",
    "    norm_hvs_this_seed = []\n",
    "    archives, normalized_archives, norm_archives = ArchiveLogger.load_archives(f\"archives/{i}.csv\")\n",
    "        #archives = archives.loc[:, ~archives.columns.str.contains('^Unnamed')]\n",
    "    #print(archives)\n",
    "    #all_archives.append(archives)\n",
    "    '''\n",
    "    sorted_archives = dict(sorted(archives.items()))\n",
    "    for key, value in sorted_archives.items():\n",
    "        #print(type(value))\n",
    "        #normalized_value=(value-value.min())/(value.max()-value.min())\n",
    "        o = value.values\n",
    "        norm_o = normalized_value.values\n",
    "        #print(type(o))\n",
    "        #print(value)\n",
    "        objs = np.ascontiguousarray(o)\n",
    "        norm_objs = np.ascontiguousarray(norm_o)\n",
    "        if key < 100:\n",
    "            print('objs::',o)\n",
    "            print('norm objs::',norm_o)\n",
    "            print('worst array::', worst_array)\n",
    "        #print(objs.shape)\n",
    "        #array_reference_set = reference_set.values.copy()\n",
    "        hv = hvwfg.wfg(objs, \n",
    "                       worst_array)\n",
    "        norm_hv = hvwfg.wfg(norm_objs, \n",
    "                       norm_worst_array)\n",
    "        if key < 110:\n",
    "            print('hv::',hv)\n",
    "            print('norm_hv::',norm_hv)\n",
    "        all_hvs.append(hv)\n",
    "        norm_hvs_this_seed.append(norm_hv)\n",
    "        \n",
    "        if i == 0 :\n",
    "            norm_hvs_dict_0[int(key)] = norm_hv\n",
    "            hvs_dict_0[int(key)] = hv\n",
    "        if i == 1 :\n",
    "            norm_hvs_dict_1[int(key)] = norm_hv\n",
    "            hvs_dict_1[int(key)] = hv\n",
    "        if i == 2 :\n",
    "            norm_hvs_dict_2[int(key)] = norm_hv\n",
    "            hvs_dict_2[int(key)] = hv\n",
    "        if i == 3 :\n",
    "            norm_hvs_dict_3[int(key)] = norm_hv\n",
    "            hvs_dict_3[int(key)] = hv\n",
    "        if i == 4 :\n",
    "            norm_hvs_dict_4[int(key)] = norm_hv\n",
    "            hvs_dict_4[int(key)] = hv\n",
    "        if i == 5 :\n",
    "            norm_hvs_dict_5[int(key)] = norm_hv\n",
    "            hvs_dict_5[int(key)] = hv\n",
    "'''\n",
    "    norm_sorted_archives = dict(sorted(norm_archives.items()))\n",
    "    for key, value in norm_sorted_archives.items():\n",
    "\n",
    "        o = value.values\n",
    "\n",
    "        norm_objs = np.ascontiguousarray(o)\n",
    "        if key < 100:\n",
    "            print('objs:', norm_objs)\n",
    "            \n",
    "        norm_hv = hvwfg.wfg(norm_objs, \n",
    "                       norm_worst_array)\n",
    "        if key < 110:\n",
    "            print('norm_hv::',norm_hv)\n",
    "\n",
    "        norm_hvs_this_seed.append(norm_hv)\n",
    "        \n",
    "        if i == 0 :\n",
    "            norm_hvs_dict_0[int(key)] = norm_hv\n",
    "\n",
    "        if i == 1 :\n",
    "            norm_hvs_dict_1[int(key)] = norm_hv\n",
    "\n",
    "        if i == 2 :\n",
    "            norm_hvs_dict_2[int(key)] = norm_hv\n",
    "\n",
    "        if i == 3 :\n",
    "            norm_hvs_dict_3[int(key)] = norm_hv\n",
    "\n",
    "        if i == 4 :\n",
    "            norm_hvs_dict_4[int(key)] = norm_hv\n",
    "\n",
    "        if i == 5 :\n",
    "            norm_hvs_dict_5[int(key)] = norm_hv\n",
    "\n",
    "    \n",
    "    print('all hvs for seed', i, ':', norm_hvs_this_seed)\n",
    "            #print(\"Key:\", hv)#, \"Value:\", value)\n",
    "norm_hvs_dict_0\n",
    "    #all_hvs\n",
    "#all_norm_hvs\n",
    "    #for i in range(len(all_archives)):\n",
    "#    print(i)\n",
    "#print(all_archives)"
   ]
  },
  {
   "cell_type": "code",
   "execution_count": null,
   "id": "31dbae2b-16ef-49b4-b855-83ab606c830a",
   "metadata": {},
   "outputs": [],
   "source": [
    "hvs_dicts = [hvs_dict_0, hvs_dict_1, hvs_dict_2, hvs_dict_3, hvs_dict_4]\n",
    "\n",
    "# Iterate through dictionaries and plot lines\n",
    "for i, hvs_dict in enumerate(hvs_dicts, start=1):\n",
    "    lists = hvs_dict.items()\n",
    "    x, y = zip(*lists)\n",
    "    plt.plot(x, y, label=f'Line {i-1}')\n",
    "\n",
    "# Show legend to differentiate between lines\n",
    "plt.legend()\n",
    "\n",
    "# Show the plot\n",
    "plt.show()"
   ]
  },
  {
   "cell_type": "markdown",
   "id": "e1712627-f302-425f-ac16-a0bdd3620835",
   "metadata": {},
   "source": [
    "for key, value in sorted_archives.items():\n",
    "    o = value\n",
    "    print(o.type)\n",
    "    #objs = np.ascontiguousarray(o)\n",
    "    #print(objs.shape)\n",
    "    #array_reference_set = reference_set.values.copy()\n",
    "    #hv = hvwfg.wfg(objs, \n",
    "    #               worst_array)\n",
    "    #print(\"Key:\", hv)#, \"Value:\", value)"
   ]
  },
  {
   "cell_type": "code",
   "execution_count": 138,
   "id": "9480ca1e-7158-42b5-9ed9-71f580258689",
   "metadata": {},
   "outputs": [
    {
     "data": {
      "image/png": "[encoded data removed]",
      "text/plain": [
       "<Figure size 640x480 with 1 Axes>"
      ]
     },
     "metadata": {},
     "output_type": "display_data"
    }
   ],
   "source": [
    "norm_hvs_dicts = [norm_hvs_dict_0, norm_hvs_dict_1, norm_hvs_dict_2, norm_hvs_dict_3, norm_hvs_dict_4]\n",
    "\n",
    "# Iterate through dictionaries and plot lines\n",
    "for i, norm_hvs_dict in enumerate(norm_hvs_dicts, start=1):\n",
    "    lists = norm_hvs_dict.items()\n",
    "    x, y = zip(*lists)\n",
    "    plt.plot(x, y, label=f'Seed {i-1}')\n",
    "\n",
    "# Show legend to differentiate between lines\n",
    "plt.legend()\n",
    "\n",
    "# Show the plot\n",
    "plt.show()\n"
   ]
  },
  {
   "cell_type": "code",
   "execution_count": null,
   "id": "02be7d1f-8ff3-4dbc-8f71-e8c80533ec9d",
   "metadata": {
    "collapsed": false,
    "jupyter": {
     "outputs_hidden": false
    },
    "tags": []
   },
   "outputs": [],
   "source": [
    "os.getcwd()"
   ]
  },
  {
   "cell_type": "markdown",
   "id": "b75e50c8-eb29-4610-8a82-215f0d002394",
   "metadata": {},
   "source": [
    "# IRRIGATION CASE"
   ]
  },
  {
   "cell_type": "code",
   "execution_count": 202,
   "id": "96191412-60bc-4d74-8739-c1c8bfe2fdf2",
   "metadata": {
    "tags": []
   },
   "outputs": [
    {
     "data": {
      "text/plain": [
       "'C:\\\\Users\\\\whitl\\\\OneDrive\\\\Documenten\\\\MASTER\\\\Year 2\\\\THESIS\\\\16.02.22.Multiobjective\\\\Multiobjective-multi-reservoir-control-d50e4da0f6a9a9c852b4904e640299adc96714bb\\\\ZambeziSmashPython\\\\src'"
      ]
     },
     "execution_count": 202,
     "metadata": {},
     "output_type": "execute_result"
    }
   ],
   "source": [
    "if not os.path.exists(\"../src\"):\n",
    "    os.chdir(\"../../src\")\n",
    "else:\n",
    "    os.chdir('../src')\n",
    "os.getcwd()"
   ]
  },
  {
   "cell_type": "code",
   "execution_count": 203,
   "id": "2b1f00c4-3efa-44c0-9ed5-4bbe2803d61b",
   "metadata": {
    "collapsed": false,
    "jupyter": {
     "outputs_hidden": false
    },
    "tags": []
   },
   "outputs": [],
   "source": [
    "from model_zambezi_OPT_irr import ModelZambezi\n",
    "\n",
    "ZambeziProblem = ModelZambezi()\n",
    "\n",
    "def model_wrapper(**kwargs):\n",
    "    input = [kwargs['v' + str(i)] for i in range(len(kwargs))]\n",
    "    Hydropower, Environment, Irrigation, Irrigation2, Irrigation3, Irrigation4, Irrigation5, Irrigation6, Irrigation7, \\\n",
    "        Irrigation8, Irrigation9 = tuple(ZambeziProblem.evaluate(np.array(input)))\n",
    "    return Hydropower, Environment, Irrigation, Irrigation2, Irrigation3, Irrigation4, Irrigation5, Irrigation6, \\\n",
    "        Irrigation7, Irrigation8, Irrigation9\n",
    "# specify model\n",
    "model = Model('zambeziproblem', function=model_wrapper)\n",
    "\n",
    "# levers\n",
    "model.levers = [RealParameter('v' + str(i), -1, 1) for i in range(ZambeziProblem.Nvar)]\n",
    "\n",
    "# specify outcomes\n",
    "model.outcomes = [ScalarOutcome('Hydropower', ScalarOutcome.MINIMIZE),  # Minimize, because deficits\n",
    "                  ScalarOutcome('Environment', ScalarOutcome.MINIMIZE),\n",
    "                  ScalarOutcome('Irrigation', ScalarOutcome.MINIMIZE),\n",
    "                  ScalarOutcome('Irrigation2', ScalarOutcome.MINIMIZE),\n",
    "                  ScalarOutcome('Irrigation3', ScalarOutcome.MINIMIZE),\n",
    "                  ScalarOutcome('Irrigation4', ScalarOutcome.MINIMIZE),\n",
    "                  ScalarOutcome('Irrigation5', ScalarOutcome.MINIMIZE),\n",
    "                  ScalarOutcome('Irrigation6', ScalarOutcome.MINIMIZE),\n",
    "                  ScalarOutcome('Irrigation7', ScalarOutcome.MINIMIZE),\n",
    "                  ScalarOutcome('Irrigation8', ScalarOutcome.MINIMIZE),\n",
    "                  ScalarOutcome('Irrigation9', ScalarOutcome.MINIMIZE),\n",
    "                  ]\n"
   ]
  },
  {
   "cell_type": "code",
   "execution_count": 204,
   "id": "a27f409a-5434-47cf-8a00-7fcd696116f9",
   "metadata": {
    "collapsed": false,
    "jupyter": {
     "outputs_hidden": false
    },
    "tags": []
   },
   "outputs": [],
   "source": [
    "#Problem definitionv\n",
    "problem = to_problem(model, searchover=\"levers\")"
   ]
  },
  {
   "cell_type": "markdown",
   "id": "4befa55d-5b36-4e61-86ea-224c9d69220a",
   "metadata": {},
   "source": [
    "Run definition"
   ]
  },
  {
   "cell_type": "code",
   "execution_count": 205,
   "id": "f82b1d0b-e10c-4c7c-8130-aeb2d30b3aa7",
   "metadata": {
    "tags": []
   },
   "outputs": [
    {
     "data": {
      "text/plain": [
       "'C:\\\\Users\\\\whitl\\\\OneDrive\\\\Documenten\\\\MASTER\\\\Year 2\\\\THESIS\\\\16.02.22.Multiobjective\\\\Multiobjective-multi-reservoir-control-d50e4da0f6a9a9c852b4904e640299adc96714bb\\\\ZambeziSmashPython\\\\src'"
      ]
     },
     "execution_count": 205,
     "metadata": {},
     "output_type": "execute_result"
    }
   ],
   "source": [
    "os.getcwd()"
   ]
  },
  {
   "cell_type": "code",
   "execution_count": 206,
   "id": "0ba7b17b-2883-4e47-8651-835ab7994a1e",
   "metadata": {
    "collapsed": false,
    "jupyter": {
     "outputs_hidden": false
    },
    "tags": []
   },
   "outputs": [
    {
     "data": {
      "text/plain": [
       "'C:\\\\Users\\\\whitl\\\\OneDrive\\\\Documenten\\\\MASTER\\\\Year 2\\\\THESIS\\\\16.02.22.Multiobjective\\\\Multiobjective-multi-reservoir-control-d50e4da0f6a9a9c852b4904e640299adc96714bb\\\\ZambeziSmashPython\\\\runs\\\\IR_200000nfe_5seed'"
      ]
     },
     "execution_count": 206,
     "metadata": {},
     "output_type": "execute_result"
    }
   ],
   "source": [
    "if not os.path.exists(\"../src\"):\n",
    "    os.chdir(\"../../src\")\n",
    "else:\n",
    "    os.chdir('../src')\n",
    "os.getcwd()\n",
    "\n",
    "\n",
    "nfe = 200000 #\n",
    "seeds = 5\n",
    "run_comment = 'hv_feb'\n",
    "run_label = f\"IR_{nfe}nfe_{seeds}seed\" #{run_comment}_\n",
    "\n",
    "os.chdir(f'../runs/{run_label}')\n",
    "os.getcwd()"
   ]
  },
  {
   "cell_type": "markdown",
   "id": "ec90cabb-7389-451f-9e8a-45fd9f552689",
   "metadata": {},
   "source": [
    "Change the load archives method of the ArchiveLogger class"
   ]
  },
  {
   "cell_type": "code",
   "execution_count": 208,
   "id": "c0a8141e-b73d-408f-b489-699260f5308f",
   "metadata": {
    "collapsed": false,
    "jupyter": {
     "outputs_hidden": false
    },
    "tags": []
   },
   "outputs": [],
   "source": [
    "convergences = []\n",
    "for i in range(seeds):\n",
    "    df = pd.read_csv(f\"convergence{i}.csv\")\n",
    "    convergences.append(df)\n",
    "    #f'convergence{i}' = pd.read_csv(f\"{run_name}/convergence{i}.csv\") \n",
    "\n",
    "# Load the archives\n",
    "all_archives = []\n",
    "for i in range(seeds):\n",
    "    archives = ArchiveLogger.load_archives(f\"archives/{i}.csv\")\n",
    "    #archives, normalized_archives, norm_archives = ArchiveLogger.load_archives(f\"archives/{i}.csv\")\n",
    "    #print(archives)\n",
    "    all_archives.append(archives)\n",
    "\n",
    "# Create the results list\n",
    "results_list = []\n",
    "for i in range(seeds):\n",
    "    result = pd.read_csv(f\"results_seed{i}.csv\")\n",
    "    print(len(result))\n",
    "        #archives.items()[nfe] =\n",
    "        #archives = archives.loc[:, ~archives.columns.str.contains('^Unnamed')]\n",
    "    results_list.append(result)\n",
    "\n",
    "# Define the reference list\n",
    "reference_set = epsilon_nondominated(results_list, [0.65] * len(model.outcomes), problem)  # [0.05]\n",
    "len(reference_set)"
   ]
  },
  {
   "cell_type": "code",
   "execution_count": 218,
   "id": "1e269c07-6d44-48e7-9b5d-9c861d54d722",
   "metadata": {},
   "outputs": [],
   "source": [
    "# Get the worst values (Nadir point)\n",
    "\n",
    "# Load the merged results\n",
    "column_names = ['Hydropower', 'Environment', 'Irrigation', 'Irrigation2', 'Irrigation3', 'Irrigation4', 'Irrigation5', 'Irrigation6', \\\n",
    "        'Irrigation7', 'Irrigation8', 'Irrigation9']\n",
    "df_irr = pd.read_csv(f\"merged_results.csv\", usecols = column_names)#, index_col=0) #, usecols = column_names)\n",
    "\n",
    "worst_hyd = df_irr.Hydropower.max()\n",
    "worst_irr = df_irr.Irrigation.max()\n",
    "worst_env = df_irr.Environment.max()\n",
    "worst_irr2 = df_irr.Irrigation2.max()\n",
    "worst_irr3 = df_irr.Irrigation3.max()\n",
    "worst_irr4 = df_irr.Irrigation4.max()\n",
    "worst_irr5 = df_irr.Irrigation5.max()\n",
    "worst_irr6 = df_irr.Irrigation6.max()\n",
    "worst_irr7 = df_irr.Irrigation7.max()\n",
    "worst_irr8 = df_irr.Irrigation8.max()\n",
    "worst_irr9 = df_irr.Irrigation9.max()\n",
    "\n",
    "worst_list = []\n",
    "worst_list.append(worst_hyd)\n",
    "worst_list.append(worst_env)\n",
    "worst_list.append(worst_irr)\n",
    "worst_list.append(worst_irr2)\n",
    "worst_list.append(worst_irr3)\n",
    "worst_list.append(worst_irr4)\n",
    "worst_list.append(worst_irr5)\n",
    "worst_list.append(worst_irr6)\n",
    "worst_list.append(worst_irr7)\n",
    "worst_list.append(worst_irr8)\n",
    "worst_list.append(worst_irr9)\n",
    "\n",
    "worst_array = np.asarray(worst_list)\n",
    "worst_array\n",
    "\n",
    "best_hyd = df_irr.Hydropower.min()\n",
    "best_irr = df_irr.Irrigation.min()\n",
    "best_env = df_irr.Environment.min()\n",
    "best_irr2 = df_irr.Irrigation2.min()\n",
    "best_irr3 = df_irr.Irrigation3.min()\n",
    "best_irr4 = df_irr.Irrigation4.min()\n",
    "best_irr5 = df_irr.Irrigation5.min()\n",
    "best_irr6 = df_irr.Irrigation6.min()\n",
    "best_irr7 = df_irr.Irrigation7.min()\n",
    "best_irr8 = df_irr.Irrigation8.min()\n",
    "best_irr9 = df_irr.Irrigation9.min()\n",
    "\n",
    "best_list = []\n",
    "best_list.append(best_hyd)\n",
    "best_list.append(best_env)\n",
    "best_list.append(best_irr)"
   ]
  },
  {
   "cell_type": "code",
   "execution_count": 215,
   "id": "292f13ba-552b-4bb4-8298-a9b48a7d469a",
   "metadata": {},
   "outputs": [
    {
     "name": "stdout",
     "output_type": "stream",
     "text": [
      "[25.74081684919041, 4310959.95115732, 5.015280413166653, 0.7919088176780325, 0.8823536420980886, 0.7680897062118321, 0.5210214631927633, 0.7682683518976562, 0.5, 0.9166666666666666, 0.7764201966845683]\n"
     ]
    }
   ],
   "source": [
    "print(worst_list)"
   ]
  },
  {
   "cell_type": "code",
   "execution_count": 219,
   "id": "6927d6da-f177-491d-a717-d59235f67208",
   "metadata": {},
   "outputs": [],
   "source": [
    "import tarfile\n",
    "import os\n",
    "import pandas as pd\n",
    "\n",
    "column_names = ['Hydropower', 'Environment', 'Irrigation','Irrigation2', 'Irrigation3', 'Irrigation4', 'Irrigation5', 'Irrigation6', 'Irrigation7', 'Irrigation8', 'Irrigation9']\n",
    "\n",
    "def alternative_load_archives(filename):\n",
    "    archives = {}\n",
    "    normalized_archives = {}\n",
    "    norm_archives = {}\n",
    "    with tarfile.open(os.path.abspath(filename)) as fh:\n",
    "        for entry in fh.getmembers():\n",
    "            if entry.name.endswith(\"csv\"):\n",
    "                key = entry.name.split(\"/\")[1][:-4]\n",
    "                #print(entry.name)\n",
    "                df = pd.read_csv(fh.extractfile(entry), usecols = column_names)#, index_col=0\n",
    "                normalized_df=(df-df.min())/(df.max()-df.min())\n",
    "                norm_df = pd.DataFrame()\n",
    "                norm_df['Hydropower']=(df['Hydropower']-best_hyd)/(worst_hyd-best_hyd)\n",
    "                norm_df['Environment']=(df['Environment']-best_env)/(worst_env-best_env)\n",
    "                norm_df['Irrigation']=(df['Irrigation']-best_irr)/(worst_irr-best_irr)\n",
    "                norm_df['Irrigation2']=(df['Irrigation2']-best_irr2)/(worst_irr2-best_irr2)\n",
    "                norm_df['Irrigation3']=(df['Irrigation3']-best_irr3)/(worst_irr3-best_irr3)\n",
    "                norm_df['Irrigation4']=(df['Irrigation4']-best_irr4)/(worst_irr4-best_irr4)\n",
    "                norm_df['Irrigation5']=(df['Irrigation5']-best_irr5)/(worst_irr5-best_irr5)\n",
    "                norm_df['Irrigation6']=(df['Irrigation6']-best_irr6)/(worst_irr6-best_irr6)\n",
    "                norm_df['Irrigation7']=(df['Irrigation7']-best_irr7)/(worst_irr7-best_irr7)\n",
    "                norm_df['Irrigation8']=(df['Irrigation8']-best_irr8)/(worst_irr8-best_irr8)\n",
    "                norm_df['Irrigation9']=(df['Irrigation9']-best_irr9)/(worst_irr9-best_irr9)\n",
    "                if not df.empty:\n",
    "                    archives[int(key)] = df\n",
    "                if not normalized_df.empty:\n",
    "                    normalized_archives[int(key)] = normalized_df\n",
    "                    norm_archives[int(key)] = norm_df\n",
    "                    #print(df)\n",
    "    return archives, normalized_archives, norm_archives\n",
    "\n",
    "ArchiveLogger.load_archives = alternative_load_archives\n",
    "\n",
    "#worst_array = np.ascontiguousarray([30.17937625072075, 4214070.319504687, 4.074369590148062])\n",
    "norm_worst_array = np.ascontiguousarray([1.0, 1.0, 1.0, 1.0, 1.0, 1.0, 1.0, 1.0, 1.0, 1.0, 1.0])"
   ]
  },
  {
   "cell_type": "code",
   "execution_count": 220,
   "id": "c4ab6cc3-6468-406d-8bf9-c60250aa2189",
   "metadata": {},
   "outputs": [
    {
     "name": "stdout",
     "output_type": "stream",
     "text": [
      "hv:: 337615.73062103905\n",
      "norm_hv:: 0.015711465635589873\n",
      "all hvs for seed 0 : [0.015711465635589873, 0.001185506384879026, 0.004973244877962248, 0.005025820952347284, 0.005059331092804661, 0.005270040230799812, 0.008301596042182838, 0.008405767345012024, 0.00919214597313109, 0.010179590520295346, 0.011825838508482093, 0.014127110611534821, 0.014416828870250266, 0.014586146784619574, 0.014850816271473244, 0.02562584764195002, 0.029161377849432474, 0.028367549330914517, 0.03840928236788931, 0.03852394600947483, 0.040928638940873424, 0.040361334506959765, 0.04192851001575661, 0.06295781615812839, 0.06420166912620434, 0.06451432688337107, 0.06961722464244895, 0.07312555959178446, 0.08186431313704899, 0.08380293721686986, 0.10730160370393182, 0.10804518054825299, 0.11006586210166285, 0.1216541956204954, 0.14434790457587518, 0.14498774952657087, 0.14508939487982156, 0.14794260510831797, 0.14379443355107469, 0.14393542052258662, 0.14626745578270944, 0.14701924367976288, 0.15050743472622133, 0.15187152545463792, 0.1533439581217255, 0.1616743881767383, 0.196318049590643, 0.20436257311687875, 0.2114460056467535, 0.22663376274333913, 0.2269966841159291, 0.22917806703197716, 0.23268627416656387, 0.23480151556887607, 0.23632203086094478, 0.2378752863354037, 0.23788140866667848, 0.2387769853010221, 0.2403248728366982, 0.2426839553986982, 0.25598090413668817, 0.24905581508186625, 0.26988251888814774, 0.2710605706479778, 0.28538042361198446, 0.2853806360561444, 0.28541672552625225, 0.3018254160994882, 0.30635476683377916, 0.30111519299383915, 0.2974833630235555, 0.298103410716697, 0.30019733689934225, 0.27172420136466696, 0.2785950387216666, 0.28560027149522826, 0.28537959638923077, 0.3012739716718933, 0.2975316647213002, 0.29780213073949496, 0.2991933762708435, 0.30061187537963363, 0.3008654180279654, 0.3043581494648806, 0.29599017840574, 0.29634367640094084, 0.29634581178904923, 0.3132709537243173, 0.31398229603690675, 0.31398269843642623, 0.3156511358657228, 0.3295289222532393, 0.3295293207413714, 0.32952932074226293, 0.3369976675508887, 0.3214796932410973, 0.358755467772848, 0.3563850812975978, 0.36692564487256885, 0.3813741794861435, 0.3974788324578996, 0.39636353684317766, 0.4075205018471478, 0.4073499261113456, 0.39311237506593744, 0.3936464198327789, 0.38569788145874584, 0.38569790191014014, 0.38570065911306384, 0.3857143313771377, 0.41635665037051556, 0.4163930560855526, 0.4204086295430225, 0.4204339401509677, 0.42040784517262864, 0.42040784523724306, 0.41395228622847086, 0.4139853192793348, 0.4170091775520647, 0.4170194189519104, 0.4170470847599552, 0.41707440757241215, 0.4171195995147225, 0.4178425873126238, 0.4178425922905353, 0.4178425922905353, 0.41784743769292276, 0.4178551557051825, 0.41785533989955786, 0.4379827810420465, 0.44376049783409816, 0.44379343108453706, 0.4438000910999762, 0.4436310174609128, 0.44363109661568495, 0.4437022996375458, 0.4437023063399269, 0.443703724307039, 0.4437209791035776, 0.4485164313254816, 0.44930471695378, 0.44932394309205276, 0.44933711134776977]\n",
      "hv:: 136314.16677606996\n",
      "norm_hv:: 0.006343588739205586\n",
      "all hvs for seed 1 : [0.006343588739205586, 0.0006434264080953905, 0.005360066268188086, 0.008017108910976737, 0.02315164575509798, 0.022222256069738707, 0.02486494497613025, 0.027451734463093787, 0.027658858840749697, 0.0289180002906432, 0.029404891137788325, 0.029404891137788325, 0.030198826300603835, 0.030352895032565556, 0.03285927783941908, 0.03547525635858073, 0.03273871169888949, 0.03275284353145378, 0.032750481966690885, 0.03243612222882019, 0.03257068534829007, 0.03304806206913058, 0.033032102008530254, 0.03309502895639043, 0.03735928426620057, 0.039175645456447444, 0.03834482168627662, 0.038351970131178116, 0.039061787021775214, 0.03906955565315011, 0.03935961274252351, 0.04122416370163872, 0.04147549774245171, 0.041465979480430834, 0.043495937435188224, 0.04362761351804543, 0.04014978170082314, 0.04052948316134582, 0.06932762682256308, 0.07180744753431212, 0.0771826395576545, 0.07499764006601034, 0.07502560618560744, 0.08213877618152551, 0.0900471056446117, 0.08969139122648177, 0.08972526965603209, 0.0925395887119527, 0.09270605474424508, 0.09519899711340751, 0.0960327902276899, 0.09604214514349729, 0.09681180829264312, 0.09681195517527368, 0.09637941871692021, 0.09638000441843327, 0.09641567121025887, 0.0964357156232247, 0.09853857780991959, 0.1005324816726578, 0.10131540233815318, 0.10133390489494795, 0.11961206255480114, 0.12219778100169978, 0.12210401046058883, 0.12204242484624998, 0.1303067747587245, 0.13558837912305535, 0.14801863025806883, 0.14801869053178027, 0.14853528128096702, 0.14864690726158478, 0.1510812285321125, 0.1511699623162534, 0.15089959589141713, 0.15107237377985097, 0.1511145945232825, 0.15127203676439574, 0.15127203784379034, 0.1513124305789016, 0.15121698661546515, 0.15121707958828368, 0.15124316183855652, 0.1512420828363417, 0.15641572982166338, 0.19157626775183648, 0.19157626775183648, 0.216628125059149, 0.216628125059149, 0.23242207027266368, 0.2670955018915829, 0.2764076936535406, 0.2764246446895589, 0.27642535944942664, 0.27642536700554, 0.27643297926484384, 0.2764329407125216, 0.2764331454354822, 0.27643134883962367, 0.2764320460718129, 0.27643205784069524, 0.2764732935959444, 0.2764789865076205, 0.2764789855819494, 0.276479018075458, 0.276479018360358, 0.2764827678822999, 0.27648310959449585, 0.27648078855002484, 0.27648078855002484, 0.2764812686798253, 0.27648126795678846, 0.27648126795678846, 0.2764827499032941, 0.27648294005207374, 0.27648306399587536, 0.2764830185101106, 0.27648327691894475, 0.2764833868966069, 0.2764833877579434, 0.2764769476576973, 0.2764769721788055, 0.27647701453285667, 0.2764712882162752, 0.27647178532584127, 0.27647178532584127, 0.2764718705191605, 0.2764718705191605, 0.2764718705191605, 0.27648526644888655, 0.2764854203251488, 0.2764854203251488, 0.27643835853734755, 0.27643835873949024, 0.2764383588654917, 0.27643835932846594, 0.2764383593925207, 0.2764384210756091, 0.2764176441066035, 0.27641838695539844, 0.2917357573876506, 0.29197852325115736, 0.29415899311177696, 0.3133617231699805, 0.3133625445234191, 0.3126480474810006, 0.3129069585023622, 0.3159661438978015, 0.31596076779168863, 0.31596249383823904, 0.3419073090576794, 0.34190791834299367, 0.34190611036275775, 0.34190618483803586, 0.3417864439593819, 0.34179491636707554, 0.34179492515692955, 0.344453771405249, 0.3451275148863859, 0.3451296240085516]\n",
      "hv:: 14217.79063506967\n",
      "norm_hv:: 0.0006616466850226445\n",
      "all hvs for seed 2 : [0.0006616466850226445, 0.03386775448301441, 0.041581872820922086, 0.03400786604461118, 0.05053830226071979, 0.05034008920445161, 0.05049830655081439, 0.05331007665502685, 0.05660616896474044, 0.08455877978810787, 0.10035743165077989, 0.1465040825735463, 0.13757381102820884, 0.1522772085318851, 0.14623797212078748, 0.18351269026262948, 0.18860060503606565, 0.19512011803003487, 0.21497230485526642, 0.2133756889161896, 0.21389622546379386, 0.21565020716032646, 0.21969365724818998, 0.2334315672718252, 0.2089085811040006, 0.22996577401836124, 0.24651404148575976, 0.26719834684752436, 0.27213655987978236, 0.28839830254347826, 0.2940334674935924, 0.29760917945766646, 0.30800598531036083, 0.308148758373341, 0.30983222341824407, 0.30802992008283847, 0.31678486658320515, 0.3170584021188112, 0.3170383252899, 0.317059807189025, 0.3170860981997155, 0.31724231615230236, 0.3189657883845813, 0.318977454747302, 0.3189774548351841, 0.32016448111338724, 0.3200950740112505, 0.32012201645286387, 0.321825743787275, 0.3233230902362878, 0.323323441503133, 0.331712696041554, 0.33718862717993886, 0.33896346096226493, 0.3441799031140629, 0.343413685813998, 0.3441642460668222, 0.34559078977067126, 0.34559083078805153, 0.3456080901019273, 0.3456690769791221, 0.3458298528140527, 0.3459702358486354, 0.3461105186298588, 0.3463909054665789, 0.346486266544643, 0.3465092916115861, 0.34690465401798526, 0.3469215006781341, 0.3469215398666499, 0.34692067605846755, 0.3487216550789057, 0.3487215971861439, 0.3488152497271815, 0.34888232626767424, 0.3546839682445192, 0.35571134049564224, 0.3557283484561112, 0.3571915062468124, 0.35776088028637154, 0.3579658507023394, 0.3580813198324228, 0.35889734787419975, 0.3611767608057124, 0.3612564250978695, 0.3723682041340795, 0.37239572645467434, 0.37294591067151384, 0.3728756057782262, 0.3729133710869034, 0.37281439760618357, 0.3734397991833536, 0.373084171985779, 0.3731702521749889, 0.373170264652904, 0.37336934480332057, 0.3735351592431195, 0.373532449962865, 0.37448013584776313, 0.3746469535590569, 0.37034181246380526, 0.3703425423906012, 0.37035129305973097, 0.37038364590492645, 0.3703869640544855, 0.3707327751936049, 0.370715019438127, 0.3707150055880465, 0.3842643989768296, 0.38501252381340745, 0.38500563961313733, 0.38500563961313733, 0.38500759016287905, 0.3850010062658809, 0.385001641967454, 0.385001641967454, 0.3850016419830275, 0.3845300400469273, 0.3845300409544339, 0.38471078070738735, 0.38467755775383017, 0.3846791408178393, 0.3884821709493359, 0.3886245618663719, 0.3903178217435936, 0.39029466256613427, 0.3903033637152854, 0.38984937399798936, 0.3898451521736405, 0.39006916139948933, 0.39008174428088455, 0.3900821476941493, 0.39008645249315127, 0.39010719501891483, 0.3901103072474055, 0.3901090878441118, 0.39012121278413514, 0.3901168137095215, 0.390129504957964, 0.3904163796781492, 0.3911055513186723, 0.390366651509338]\n",
      "hv:: 123897.18915570849\n",
      "norm_hv:: 0.005765745648715301\n",
      "all hvs for seed 3 : [0.005765745648715301, 0.009376273871127966, 0.010253252076439949, 0.013046104444293214, 0.013491023178024728, 0.013710783991065595, 0.014927988489044067, 0.060953128535987104, 0.0538686263965279, 0.05625054395142653, 0.057271918005470414, 0.08544451143695243, 0.08571854199858556, 0.08801579415294193, 0.09016979710630067, 0.09142951130624914, 0.10412785847363891, 0.11140045541690267, 0.11133969668090553, 0.11222012294234981, 0.12344905647107303, 0.13661875992778685, 0.13666133083967943, 0.13670489977955297, 0.13686823309381868, 0.15547648530130787, 0.1554786267422962, 0.16841610067444135, 0.1775444091508205, 0.17735039096598632, 0.19168208839848927, 0.19781257003162533, 0.21855225680973983, 0.22101332315687364, 0.2208255150798126, 0.2203783313186895, 0.2203293372485818, 0.22497103534316065, 0.2249649582095469, 0.2215790651449335, 0.22158341926075534, 0.22161987225229407, 0.22557055392657033, 0.22585471937966503, 0.22579025052227839, 0.22611773487897802, 0.22859508952195934, 0.22992543650989183, 0.22992592305905407, 0.22993316960971472, 0.22993472670407714, 0.2298860452342593, 0.2297611388353246, 0.23116122998241126, 0.23198135173395587, 0.23199733151453253, 0.2322078465029909, 0.23267679008350114, 0.23110605019343428, 0.2346417122728911, 0.23317074846422373, 0.24143554298663705, 0.24304229564569618, 0.2472457425270506, 0.2455220760045597, 0.2534028296973964, 0.2535784769458508, 0.25367647015490313, 0.253693811628092, 0.25415962650664375, 0.2542476506035738, 0.25432648650100576, 0.2543315253334562, 0.25447908975241373, 0.2551637069740158, 0.25520294873627314, 0.25631165959917296, 0.25645702040005197, 0.2643428046460805, 0.2643880747635701, 0.27830247462581975, 0.2800820688450209, 0.28414528090100916, 0.28518870380665706, 0.2904476960596554, 0.2917795113967925, 0.29472438688915575, 0.29484573221499083, 0.29533055431046074, 0.29535250445205186, 0.2998014389231749, 0.2999553170593997, 0.2999606140621906, 0.3000614582640609, 0.30036755591796616, 0.3005164413945773, 0.30051860956697163, 0.3005811541208004, 0.30062403727012676, 0.30062129492032036, 0.30062628994192764, 0.30074300472716503, 0.30097971037449656, 0.30152545377448703, 0.302403711378032, 0.3024676714864534, 0.30261467798328257, 0.3023966109347825, 0.30234553372924095, 0.3023476716249932, 0.30234876411719885, 0.3024261942564067, 0.30264203518729077, 0.30271925892596196, 0.3040935161267335, 0.30612034626685847, 0.3106828296706183, 0.31142288359155457, 0.3149084236148804, 0.3149099782714012, 0.316583968120486, 0.31757299906647335, 0.32234643139568825, 0.32175150225969973, 0.32229098007521667, 0.3222910240731263, 0.3222947204922622, 0.3232371238230095, 0.32325304619592476, 0.3232534208068409, 0.3234340067703204, 0.325533776836904, 0.3255337768506886, 0.3255337768531577, 0.3257537646043448, 0.32420334588806055, 0.32422643224687436, 0.32549842993079314, 0.32451655831427917, 0.3248393933835651, 0.32477000512527965, 0.32477000512527965]\n",
      "hv:: 235336.5872605056\n",
      "norm_hv:: 0.010951748891377091\n",
      "all hvs for seed 4 : [0.010951748891377091, 0.004226931606968767, 0.013057457812300806, 0.013057457812300806, 0.017770913472522566, 0.0178417152663529, 0.017865091336500372, 0.020625142834484564, 0.029811753736872754, 0.03144532906882398, 0.034335188140863414, 0.03409613152051548, 0.04767654775956377, 0.08139822415710825, 0.08161350587530027, 0.08947076708164291, 0.08820058643911546, 0.08835038214979632, 0.08839151437925458, 0.08839160236885309, 0.0900208705971646, 0.09381213366794029, 0.1036674612026952, 0.11293353360692884, 0.11589417438002761, 0.11591659840952452, 0.1159302311039324, 0.10770884123692132, 0.11179378442853528, 0.12302352561394582, 0.16493077894781613, 0.16544881222526375, 0.1659811060269372, 0.16530238963871038, 0.1673793045846955, 0.1796028259949605, 0.1908644093886591, 0.19294339983030764, 0.19360743180998316, 0.195237626333128, 0.19890390375821557, 0.20056768158486893, 0.22110141002923656, 0.22351604938928096, 0.22756556404214678, 0.228129163344104, 0.22870377699216538, 0.22044155556796954, 0.224060581549778, 0.22415048867682277, 0.2328755722267641, 0.23581232567240198, 0.23545314125479333, 0.2383695289320075, 0.24047511379303216, 0.2562795039194104, 0.2575620470576474, 0.2589265968532337, 0.2602283515815571, 0.2603287932458203, 0.26212579795350266, 0.26189932537987454, 0.2642049594987361, 0.26503591714463165, 0.2650363098058838, 0.26448367539943934, 0.26498543395880736, 0.27419565448381045, 0.27619866722784153, 0.2762677792893043, 0.27661110276933043, 0.2774172944981588, 0.2776450277266743, 0.2792183207936383, 0.2795553129285062, 0.27961193974780313, 0.27991895804849815, 0.28100393941855606, 0.2810117467386648, 0.2810175900532878, 0.2817490895054134, 0.2817491555764416, 0.2821425555197406, 0.2821805775881059, 0.29535775620302746, 0.29569699820706785, 0.2958881843924148, 0.29593779411214527, 0.3059774668334296, 0.3052307243206748, 0.305266498089622, 0.305266498089622, 0.30494223959695926, 0.30492708197460033, 0.296707850361949, 0.3282651901913476, 0.3361878662515542, 0.3364312064021555, 0.33720398024269516, 0.33988425403368167, 0.35554085373856875, 0.35250168724722536, 0.3535453348609957, 0.3535313273411673, 0.3547559259170932, 0.3547488907778506, 0.3547510115267028, 0.35484862411292695, 0.3555977912806468, 0.3554729944851573, 0.35553328256055483, 0.3555338414361085, 0.35562007087195213, 0.3555810380180325, 0.3560896893902024, 0.3568192248800384, 0.35686434032249914, 0.35688116636614836, 0.3568814612781537, 0.3566358993125943, 0.3591409004147897, 0.3625365937891908, 0.3625365937891909, 0.362529454176769, 0.3625294548469119, 0.3625294553206523, 0.3628340336364466, 0.36306328878159533, 0.36315872480981753, 0.3612892986368766, 0.36129024319379904, 0.3611214330865229, 0.36139960564782186, 0.3613996047108377, 0.3619190871723881, 0.3619312676866773, 0.36191755834694095, 0.36191761012574786, 0.3619177190127633, 0.3619177190127633, 0.36417320665927905, 0.3641746019530965, 0.3641746020435429, 0.36427434127470676, 0.36427673635622987, 0.36612436181058605, 0.36688217427414327, 0.3676000725812199, 0.3686760172429975, 0.37302238993165837, 0.3657268977650486, 0.3610941254307909, 0.3631737755810363, 0.36866979336595085, 0.38182752102448164, 0.3935061281430092, 0.3932281904969179, 0.39322926322587504, 0.3942162268774437, 0.3945078321367261, 0.3946621648264379, 0.3944974587787567, 0.39451266483111735]\n"
     ]
    },
    {
     "data": {
      "text/plain": [
       "{100: 0.015711465635589873,\n",
       " 1186: 0.001185506384879026,\n",
       " 2266: 0.004973244877962248,\n",
       " 3351: 0.005025820952347284,\n",
       " 4432: 0.005059331092804661,\n",
       " 5513: 0.005270040230799812,\n",
       " 6601: 0.008301596042182838,\n",
       " 7694: 0.008405767345012024,\n",
       " 8780: 0.00919214597313109,\n",
       " 9876: 0.010179590520295346,\n",
       " 10910: 0.011825838508482093,\n",
       " 11988: 0.014127110611534821,\n",
       " 13065: 0.014416828870250266,\n",
       " 14140: 0.014586146784619574,\n",
       " 15223: 0.014850816271473244,\n",
       " 16305: 0.02562584764195002,\n",
       " 17383: 0.029161377849432474,\n",
       " 18460: 0.028367549330914517,\n",
       " 19540: 0.03840928236788931,\n",
       " 20616: 0.03852394600947483,\n",
       " 21694: 0.040928638940873424,\n",
       " 22771: 0.040361334506959765,\n",
       " 23851: 0.04192851001575661,\n",
       " 24931: 0.06295781615812839,\n",
       " 26013: 0.06420166912620434,\n",
       " 27094: 0.06451432688337107,\n",
       " 28343: 0.06961722464244895,\n",
       " 29734: 0.07312555959178446,\n",
       " 31126: 0.08186431313704899,\n",
       " 32520: 0.08380293721686986,\n",
       " 33908: 0.10730160370393182,\n",
       " 35299: 0.10804518054825299,\n",
       " 36692: 0.11006586210166285,\n",
       " 38086: 0.1216541956204954,\n",
       " 39477: 0.14434790457587518,\n",
       " 40868: 0.14498774952657087,\n",
       " 42261: 0.14508939487982156,\n",
       " 43654: 0.14794260510831797,\n",
       " 45046: 0.14379443355107469,\n",
       " 46437: 0.14393542052258662,\n",
       " 47827: 0.14626745578270944,\n",
       " 49218: 0.14701924367976288,\n",
       " 50608: 0.15050743472622133,\n",
       " 52001: 0.15187152545463792,\n",
       " 53394: 0.1533439581217255,\n",
       " 54788: 0.1616743881767383,\n",
       " 56181: 0.196318049590643,\n",
       " 57575: 0.20436257311687875,\n",
       " 58968: 0.2114460056467535,\n",
       " 60358: 0.22663376274333913,\n",
       " 61747: 0.2269966841159291,\n",
       " 63141: 0.22917806703197716,\n",
       " 64532: 0.23268627416656387,\n",
       " 65925: 0.23480151556887607,\n",
       " 67317: 0.23632203086094478,\n",
       " 68710: 0.2378752863354037,\n",
       " 70101: 0.23788140866667848,\n",
       " 71494: 0.2387769853010221,\n",
       " 72886: 0.2403248728366982,\n",
       " 74276: 0.2426839553986982,\n",
       " 75670: 0.25598090413668817,\n",
       " 77061: 0.24905581508186625,\n",
       " 78452: 0.26988251888814774,\n",
       " 79841: 0.2710605706479778,\n",
       " 81234: 0.28538042361198446,\n",
       " 82624: 0.2853806360561444,\n",
       " 84016: 0.28541672552625225,\n",
       " 85409: 0.3018254160994882,\n",
       " 86800: 0.30635476683377916,\n",
       " 88191: 0.30111519299383915,\n",
       " 89585: 0.2974833630235555,\n",
       " 90978: 0.298103410716697,\n",
       " 92367: 0.30019733689934225,\n",
       " 93755: 0.27172420136466696,\n",
       " 95148: 0.2785950387216666,\n",
       " 96539: 0.28560027149522826,\n",
       " 97929: 0.28537959638923077,\n",
       " 99321: 0.3012739716718933,\n",
       " 100711: 0.2975316647213002,\n",
       " 102103: 0.29780213073949496,\n",
       " 103495: 0.2991933762708435,\n",
       " 104888: 0.30061187537963363,\n",
       " 106282: 0.3008654180279654,\n",
       " 107674: 0.3043581494648806,\n",
       " 109065: 0.29599017840574,\n",
       " 110457: 0.29634367640094084,\n",
       " 111851: 0.29634581178904923,\n",
       " 113243: 0.3132709537243173,\n",
       " 114634: 0.31398229603690675,\n",
       " 116026: 0.31398269843642623,\n",
       " 117420: 0.3156511358657228,\n",
       " 118812: 0.3295289222532393,\n",
       " 120205: 0.3295293207413714,\n",
       " 121739: 0.32952932074226293,\n",
       " 123356: 0.3369976675508887,\n",
       " 124970: 0.3214796932410973,\n",
       " 126586: 0.358755467772848,\n",
       " 128203: 0.3563850812975978,\n",
       " 129818: 0.36692564487256885,\n",
       " 131436: 0.3813741794861435,\n",
       " 133050: 0.3974788324578996,\n",
       " 134666: 0.39636353684317766,\n",
       " 136283: 0.4075205018471478,\n",
       " 137900: 0.4073499261113456,\n",
       " 139516: 0.39311237506593744,\n",
       " 141132: 0.3936464198327789,\n",
       " 142747: 0.38569788145874584,\n",
       " 144362: 0.38569790191014014,\n",
       " 145976: 0.38570065911306384,\n",
       " 147591: 0.3857143313771377,\n",
       " 149208: 0.41635665037051556,\n",
       " 150824: 0.4163930560855526,\n",
       " 152438: 0.4204086295430225,\n",
       " 154054: 0.4204339401509677,\n",
       " 155669: 0.42040784517262864,\n",
       " 157285: 0.42040784523724306,\n",
       " 158896: 0.41395228622847086,\n",
       " 160508: 0.4139853192793348,\n",
       " 162123: 0.4170091775520647,\n",
       " 163739: 0.4170194189519104,\n",
       " 165350: 0.4170470847599552,\n",
       " 166966: 0.41707440757241215,\n",
       " 168581: 0.4171195995147225,\n",
       " 170195: 0.4178425873126238,\n",
       " 171810: 0.4178425922905353,\n",
       " 173425: 0.4178425922905353,\n",
       " 175042: 0.41784743769292276,\n",
       " 176659: 0.4178551557051825,\n",
       " 178274: 0.41785533989955786,\n",
       " 179887: 0.4379827810420465,\n",
       " 181504: 0.44376049783409816,\n",
       " 183119: 0.44379343108453706,\n",
       " 184734: 0.4438000910999762,\n",
       " 186349: 0.4436310174609128,\n",
       " 187966: 0.44363109661568495,\n",
       " 189584: 0.4437022996375458,\n",
       " 191202: 0.4437023063399269,\n",
       " 192819: 0.443703724307039,\n",
       " 194437: 0.4437209791035776,\n",
       " 196054: 0.4485164313254816,\n",
       " 197670: 0.44930471695378,\n",
       " 199286: 0.44932394309205276,\n",
       " 200094: 0.44933711134776977}"
      ]
     },
     "execution_count": 220,
     "metadata": {},
     "output_type": "execute_result"
    }
   ],
   "source": [
    "# Load the archives\n",
    "#all_archives = []\n",
    "#all_hvs = {}\n",
    "all_norm_hvs = []\n",
    "norm_hvs_dict = {}\n",
    "\n",
    "norm_hvs_dict_0 = {}\n",
    "norm_hvs_dict_1 = {}\n",
    "norm_hvs_dict_2 = {}\n",
    "norm_hvs_dict_3 = {}\n",
    "norm_hvs_dict_4 = {}\n",
    "norm_hvs_dict_5 = {}\n",
    "\n",
    "hvs_dict_0 = {}\n",
    "hvs_dict_1 = {}\n",
    "hvs_dict_2 = {}\n",
    "hvs_dict_3 = {}\n",
    "hvs_dict_4 = {}\n",
    "hvs_dict_5 = {}\n",
    "\n",
    "for i in range(seeds):\n",
    "    norm_hvs_this_seed = []\n",
    "    archives, normalized_archives, norm_archives = ArchiveLogger.load_archives(f\"archives/{i}.csv\")\n",
    "\n",
    "    norm_sorted_archives = dict(sorted(norm_archives.items()))\n",
    "    for key, value in norm_sorted_archives.items():\n",
    "\n",
    "        o = value.values\n",
    "\n",
    "        norm_objs = np.ascontiguousarray(o)\n",
    "        if key < 100:\n",
    "            #print('objs:', norm_objs)\n",
    "            \n",
    "        norm_hv = hvwfg.wfg(norm_objs, \n",
    "                       norm_worst_array)\n",
    "        if key < 110:\n",
    "            #print('norm_hv::',norm_hv)\n",
    "\n",
    "        norm_hvs_this_seed.append(norm_hv)\n",
    "        \n",
    "        if i == 0 :\n",
    "            norm_hvs_dict_0[int(key)] = norm_hv\n",
    "\n",
    "        if i == 1 :\n",
    "            norm_hvs_dict_1[int(key)] = norm_hv\n",
    "\n",
    "        if i == 2 :\n",
    "            norm_hvs_dict_2[int(key)] = norm_hv\n",
    "\n",
    "        if i == 3 :\n",
    "            norm_hvs_dict_3[int(key)] = norm_hv\n",
    "\n",
    "        if i == 4 :\n",
    "            norm_hvs_dict_4[int(key)] = norm_hv\n",
    "\n",
    "        if i == 5 :\n",
    "            norm_hvs_dict_5[int(key)] = norm_hv\n",
    "\n",
    "    \n",
    "    print('all hvs for seed', i, ':', norm_hvs_this_seed)\n",
    "norm_hvs_dict_0\n"
   ]
  },
  {
   "cell_type": "code",
   "execution_count": 182,
   "id": "d0633318-c68d-4014-9d4f-e9b67745a21a",
   "metadata": {},
   "outputs": [
    {
     "data": {
      "image/png": "[encoded data removed]",
      "text/plain": [
       "<Figure size 640x480 with 1 Axes>"
      ]
     },
     "metadata": {},
     "output_type": "display_data"
    }
   ],
   "source": [
    "norm_hvs_dicts = [norm_hvs_dict_0, norm_hvs_dict_1, norm_hvs_dict_2, norm_hvs_dict_3, norm_hvs_dict_4]\n",
    "\n",
    "# Iterate through dictionaries and plot lines\n",
    "for i, norm_hvs_dict in enumerate(norm_hvs_dicts, start=1):\n",
    "    lists = norm_hvs_dict.items()\n",
    "    x, y = zip(*lists)\n",
    "    plt.plot(x, y, label=f'Seed {i-1}')\n",
    "\n",
    "plt.title('Hypervolume irrigation case')\n",
    "plt.legend()\n",
    "\n",
    "print(os.getcwd())\n",
    "relative_path = '../../plots'\n",
    "filename = 'irr_hv.png'\n",
    "\n",
    "plt.savefig(os.path.join(relative_path, filename))\n",
    "\n",
    "plt.show()"
   ]
  },
  {
   "cell_type": "code",
   "execution_count": 221,
   "id": "c0cbbd23-3764-441b-a837-00b9776265b8",
   "metadata": {},
   "outputs": [
    {
     "data": {
      "image/png": "[encoded data removed]",
      "text/plain": [
       "<Figure size 640x480 with 1 Axes>"
      ]
     },
     "metadata": {},
     "output_type": "display_data"
    }
   ],
   "source": [
    "hvs_dicts = [hvs_dict_0, hvs_dict_1, hvs_dict_2, hvs_dict_3, hvs_dict_4]\n",
    "\n",
    "# Iterate through dictionaries and plot lines\n",
    "for i, hvs_dict in enumerate(hvs_dicts, start=1):\n",
    "    lists = hvs_dict.items()\n",
    "    x, y = zip(*lists)\n",
    "    plt.plot(x, y, label=f'Seed {i-1}')\n",
    "\n",
    "# Show legend to differentiate between lines\n",
    "plt.legend()\n",
    "\n",
    "# Show the plot\n",
    "plt.show()"
   ]
  },
  {
   "cell_type": "code",
   "execution_count": null,
   "id": "189d22ce-3aeb-4c58-a673-70d1eb7d219c",
   "metadata": {},
   "outputs": [],
   "source": []
  },
  {
   "cell_type": "code",
   "execution_count": null,
   "id": "a5161370-a939-4acb-af46-28da66f80f9e",
   "metadata": {},
   "outputs": [],
   "source": []
  },
  {
   "cell_type": "code",
   "execution_count": null,
   "id": "3574c861-65bb-44c1-b272-bb054d67c73d",
   "metadata": {},
   "outputs": [],
   "source": []
  },
  {
   "cell_type": "markdown",
   "id": "4a6eded7-5751-46ed-bcd6-375f82127c96",
   "metadata": {},
   "source": [
    "# HYDROPOWER CASE"
   ]
  },
  {
   "cell_type": "code",
   "execution_count": 250,
   "id": "83bc8fe7-3c6d-4b32-a1a5-b414ad5bc6c7",
   "metadata": {
    "tags": []
   },
   "outputs": [
    {
     "data": {
      "text/plain": [
       "'C:\\\\Users\\\\whitl\\\\OneDrive\\\\Documenten\\\\MASTER\\\\Year 2\\\\THESIS\\\\16.02.22.Multiobjective\\\\Multiobjective-multi-reservoir-control-d50e4da0f6a9a9c852b4904e640299adc96714bb\\\\ZambeziSmashPython\\\\src'"
      ]
     },
     "execution_count": 250,
     "metadata": {},
     "output_type": "execute_result"
    }
   ],
   "source": [
    "if not os.path.exists(\"../src\"):\n",
    "    os.chdir(\"../../src\")\n",
    "else:\n",
    "    os.chdir('../src')\n",
    "os.getcwd()"
   ]
  },
  {
   "cell_type": "code",
   "execution_count": 251,
   "id": "522a937f-0d81-404c-bc76-031de2e62d67",
   "metadata": {
    "collapsed": false,
    "jupyter": {
     "outputs_hidden": false
    },
    "tags": []
   },
   "outputs": [],
   "source": [
    "from model_zambezi_OPT_hyd import ModelZambezi\n",
    "\n",
    "ZambeziProblem = ModelZambezi()\n",
    "\n",
    "def model_wrapper(**kwargs):\n",
    "    input = [kwargs['v' + str(i)] for i in range(len(kwargs))]\n",
    "    Hydropower, Environment, Irrigation, HydropowerITT, HydropowerKGU, HydropowerKA, HydropowerCB, HydropowerKGL = tuple(ZambeziProblem.evaluate(np.array(input)))\n",
    "    return Hydropower, Environment, Irrigation, HydropowerITT, HydropowerKGU, HydropowerKA, HydropowerCB, HydropowerKGL\n",
    "# specify model\n",
    "model = Model('zambeziproblem', function=model_wrapper)\n",
    "\n",
    "# levers\n",
    "model.levers = [RealParameter('v' + str(i), -1, 1) for i in range(ZambeziProblem.Nvar)]\n",
    "\n",
    "# specify outcomes\n",
    "model.outcomes = [ScalarOutcome('Hydropower', ScalarOutcome.MINIMIZE),  # Minimize, because deficits\n",
    "                  ScalarOutcome('Environment', ScalarOutcome.MINIMIZE),\n",
    "                  ScalarOutcome('Irrigation', ScalarOutcome.MINIMIZE),\n",
    "                  ScalarOutcome('HydropowerITT', ScalarOutcome.MINIMIZE),\n",
    "                  ScalarOutcome('HydropowerKGU', ScalarOutcome.MINIMIZE),\n",
    "                  ScalarOutcome('HydropowerKA', ScalarOutcome.MINIMIZE),\n",
    "                  ScalarOutcome('HydropowerCB', ScalarOutcome.MINIMIZE),\n",
    "                  ScalarOutcome('HydropowerKGL', ScalarOutcome.MINIMIZE),\n",
    "                  ]\n"
   ]
  },
  {
   "cell_type": "code",
   "execution_count": 252,
   "id": "77722814-4f96-4c83-8358-eedf47eafe76",
   "metadata": {
    "collapsed": false,
    "jupyter": {
     "outputs_hidden": false
    },
    "tags": []
   },
   "outputs": [],
   "source": [
    "#Problem definition\n",
    "problem = to_problem(model, searchover=\"levers\")"
   ]
  },
  {
   "cell_type": "markdown",
   "id": "b1bce7b2-dcee-46f9-8afe-83ff12a6ee31",
   "metadata": {},
   "source": [
    "Run definition"
   ]
  },
  {
   "cell_type": "code",
   "execution_count": 253,
   "id": "6f35dbfc-85aa-48b4-bff0-449e80534b47",
   "metadata": {
    "tags": []
   },
   "outputs": [
    {
     "data": {
      "text/plain": [
       "'C:\\\\Users\\\\whitl\\\\OneDrive\\\\Documenten\\\\MASTER\\\\Year 2\\\\THESIS\\\\16.02.22.Multiobjective\\\\Multiobjective-multi-reservoir-control-d50e4da0f6a9a9c852b4904e640299adc96714bb\\\\ZambeziSmashPython\\\\src'"
      ]
     },
     "execution_count": 253,
     "metadata": {},
     "output_type": "execute_result"
    }
   ],
   "source": [
    "os.getcwd()"
   ]
  },
  {
   "cell_type": "code",
   "execution_count": 254,
   "id": "a1df5df6-a7a7-4371-a836-e5bdfa4f3a97",
   "metadata": {
    "collapsed": false,
    "jupyter": {
     "outputs_hidden": false
    },
    "tags": []
   },
   "outputs": [
    {
     "data": {
      "text/plain": [
       "'C:\\\\Users\\\\whitl\\\\OneDrive\\\\Documenten\\\\MASTER\\\\Year 2\\\\THESIS\\\\16.02.22.Multiobjective\\\\Multiobjective-multi-reservoir-control-d50e4da0f6a9a9c852b4904e640299adc96714bb\\\\ZambeziSmashPython\\\\runs\\\\HYD_e4647_200000nfe_5seed'"
      ]
     },
     "execution_count": 254,
     "metadata": {},
     "output_type": "execute_result"
    }
   ],
   "source": [
    "\n",
    "nfe = 200000 #\n",
    "seeds = 5\n",
    "run_comment = 'e4647'\n",
    "run_label = f\"HYD_{run_comment}_{nfe}nfe_{seeds}seed\"\n",
    "\n",
    "os.chdir(f'../runs/{run_label}')\n",
    "os.getcwd()"
   ]
  },
  {
   "cell_type": "markdown",
   "id": "09042ee2-2d80-4432-9520-f84a2acc9fd5",
   "metadata": {},
   "source": [
    "Merge convergences "
   ]
  },
  {
   "cell_type": "code",
   "execution_count": 255,
   "id": "8a57c7ef-4000-42cd-b709-f4ce1aea44b6",
   "metadata": {
    "collapsed": false,
    "jupyter": {
     "outputs_hidden": false
    },
    "tags": []
   },
   "outputs": [],
   "source": [
    "convergences = []\n",
    "for i in range(seeds):\n",
    "    df = pd.read_csv(f\"convergence{i}.csv\")\n",
    "    convergences.append(df)\n",
    "    #f'convergence{i}' = pd.read_csv(f\"{run_name}/convergence{i}.csv\") \n",
    "\n",
    "# Load the archives\n",
    "all_archives = []\n",
    "for i in range(seeds):\n",
    "    archives = ArchiveLogger.load_archives(f\"archives/{i}.csv\")\n",
    "        #archives.items()[nfe] =\n",
    "        #archives = archives.loc[:, ~archives.columns.str.contains('^Unnamed')]\n",
    "    all_archives.append(archives)\n",
    "    \n",
    "#print(all_archives)\n",
    "\n",
    "# Create the results list\n",
    "results_list = []\n",
    "for i in range(seeds):\n",
    "    result = pd.read_csv(f\"results_seed{i}.csv\")\n",
    "        #archives.items()[nfe] =\n",
    "        #archives = archives.loc[:, ~archives.columns.str.contains('^Unnamed')]\n",
    "    results_list.append(result)\n",
    "\n",
    "# Define the reference list\n",
    "reference_set = epsilon_nondominated(results_list, [0.05] * len(model.outcomes), problem)  # [0.05]"
   ]
  },
  {
   "cell_type": "code",
   "execution_count": 265,
   "id": "d14821f3-5726-4cb5-87ad-9503ed177c61",
   "metadata": {},
   "outputs": [],
   "source": [
    "# Get the worst values (Nadir point)\n",
    "\n",
    "# Load the merged results\n",
    "#column_names = ['Hydropower', 'Environment', 'Irrigation']\n",
    "column_names = ['Hydropower', 'Environment', 'Irrigation', 'HydropowerITT', 'HydropowerKGU', 'HydropowerKA', 'HydropowerCB', 'HydropowerKGL']\n",
    "df_hyd = pd.read_csv(f\"merged_results.csv\", usecols = column_names)#, index_col=0) #, usecols = column_names)\n",
    "\n",
    "worst_hyd = df_hyd.Hydropower.max()\n",
    "worst_irr = df_hyd.Irrigation.max()\n",
    "worst_env = df_hyd.Environment.max()\n",
    "worst_hydITT = df_hyd.HydropowerITT.max()\n",
    "worst_hydKGU = df_hyd.HydropowerKGU.max()\n",
    "worst_hydKA = df_hyd.HydropowerKA.max()\n",
    "worst_hydCB = df_hyd.HydropowerCB.max()\n",
    "worst_hydKGL = df_hyd.HydropowerKGL.max()\n",
    "\n",
    "worst_list = []\n",
    "worst_list.append(worst_hyd)\n",
    "worst_list.append(worst_env)\n",
    "worst_list.append(worst_irr)\n",
    "\n",
    "worst_array = np.asarray(worst_list)\n",
    "worst_array\n",
    "\n",
    "best_hyd = df_hyd.Hydropower.min()\n",
    "best_irr = df_hyd.Irrigation.min()\n",
    "best_env = df_hyd.Environment.min()\n",
    "best_hydITT = df_hyd.HydropowerITT.min()\n",
    "best_hydKGU = df_hyd.HydropowerKGU.min()\n",
    "best_hydKA = df_hyd.HydropowerKA.min()\n",
    "best_hydCB = df_hyd.HydropowerCB.min()\n",
    "best_hydKGL = df_hyd.HydropowerKGL.min()\n",
    "\n",
    "best_list = []\n",
    "best_list.append(best_hyd)\n",
    "best_list.append(best_env)\n",
    "best_list.append(best_irr)"
   ]
  },
  {
   "cell_type": "code",
   "execution_count": 266,
   "id": "24b6cb7f-b116-4aba-b5ee-94b7991bd16d",
   "metadata": {},
   "outputs": [
    {
     "name": "stdout",
     "output_type": "stream",
     "text": [
      "[24.39555462582556, 5647555.60499013, 5.596474807484928]\n"
     ]
    }
   ],
   "source": [
    "print(worst_list)"
   ]
  },
  {
   "cell_type": "code",
   "execution_count": 269,
   "id": "48f6e71c-4900-4c3f-808c-69de91d0488f",
   "metadata": {},
   "outputs": [],
   "source": [
    "import tarfile\n",
    "import os\n",
    "import pandas as pd\n",
    "\n",
    "#column_names = ['Hydropower', 'Environment', 'Irrigation']\n",
    "column_names = ['Hydropower', 'Environment', 'Irrigation', 'HydropowerITT', 'HydropowerKGU', 'HydropowerKA', 'HydropowerCB', 'HydropowerKGL']\n",
    "\n",
    "def alternative_load_archives(filename):\n",
    "    archives = {}\n",
    "    normalized_archives = {}\n",
    "    norm_archives = {}\n",
    "    with tarfile.open(os.path.abspath(filename)) as fh:\n",
    "        for entry in fh.getmembers():\n",
    "            if entry.name.endswith(\"csv\"):\n",
    "                key = entry.name.split(\"/\")[1][:-4]\n",
    "                #print(entry.name)\n",
    "                df = pd.read_csv(fh.extractfile(entry), usecols = column_names)#, index_col=0\n",
    "                normalized_df=(df-df.min())/(df.max()-df.min())\n",
    "                norm_df = pd.DataFrame()\n",
    "                norm_df['Hydropower']=(df['Hydropower']-best_hyd)/(worst_hyd-best_hyd)\n",
    "                norm_df['Environment']=(df['Environment']-best_env)/(worst_env-best_env)\n",
    "                norm_df['Irrigation']=(df['Irrigation']-best_irr)/(worst_irr-best_irr)\n",
    "                norm_df['HydropowerITT'] = (df['HydropowerITT'] - best_hydITT) / (worst_hydITT - best_hydITT)\n",
    "                norm_df['HydropowerKGU'] = (df['HydropowerKGU'] - best_hydKGU) / (worst_hydKGU - best_hydKGU)\n",
    "                norm_df['HydropowerKA'] = (df['HydropowerKA'] - best_hydKA) / (worst_hydKA - best_hydKA)\n",
    "                norm_df['HydropowerCB'] = (df['HydropowerCB'] - best_hydCB) / (worst_hydCB - best_hydCB)\n",
    "                norm_df['HydropowerKGL'] = (df['HydropowerKGL'] - best_hydKGL) / (worst_hydKGL - best_hydKGL)\n",
    "\n",
    "                if not df.empty:\n",
    "                    archives[int(key)] = df\n",
    "                if not normalized_df.empty:\n",
    "                    normalized_archives[int(key)] = normalized_df\n",
    "                    norm_archives[int(key)] = norm_df\n",
    "                    #print(df)\n",
    "    return archives, normalized_archives, norm_archives\n",
    "\n",
    "ArchiveLogger.load_archives = alternative_load_archives\n",
    "\n",
    "norm_worst_array = np.ascontiguousarray([1.0, 1.0, 1.0, 1.0, 1.0, 1.0, 1.0, 1.0])"
   ]
  },
  {
   "cell_type": "code",
   "execution_count": 270,
   "id": "dc5f277e-c247-4dc5-a055-07b0454201c4",
   "metadata": {},
   "outputs": [
    {
     "name": "stdout",
     "output_type": "stream",
     "text": [
      "all hvs for seed 0 : [0.05859680804296931, 0.22339904424987242, 0.2431898686676698, 0.2516984972737058, 0.25895542127925864, 0.269439114468086, 0.28318679665388014, 0.29975391223029174, 0.31626680864683215, 0.32293722434984595, 0.3306147713146773, 0.3342472531571058, 0.3492307983403071, 0.3513948734820536, 0.3571366732193635, 0.3607600559568287, 0.3657801253417064, 0.36716172435179206, 0.3706645220400718, 0.37339356823218056, 0.37479804903033526, 0.3769626454220653, 0.37821113615703905, 0.3788823234735423, 0.3791165236678129, 0.3816504577972845, 0.3822224545469284, 0.3821166193583696, 0.38367851778429996, 0.3944922899087597, 0.3955760911873892, 0.3962584518694595, 0.40107768303681307, 0.4015170427306527, 0.402956001684666, 0.40336737519941085, 0.4044105110417618, 0.4076885640403782, 0.4088048132587707, 0.4114660174031965, 0.4115961304473726, 0.4128288633585284, 0.41325106603753853, 0.4136218264080927, 0.4155961658314076, 0.4164565428919157, 0.41941968940162017, 0.42123504399855094, 0.42105243645390145, 0.4235806581220848, 0.4271523873500905, 0.4291101819148922, 0.42931384337188866, 0.429904897357774, 0.43089188938010536, 0.4305132101812698, 0.4340664966317622, 0.43506998680578896, 0.4382759577728412, 0.4397560284803081, 0.44013751688133784, 0.44011255469439775, 0.4411565214804187, 0.44141563358460884, 0.4426835360751927, 0.4438397661223719, 0.4445855507106165, 0.4447672197474699, 0.44604869030585964, 0.4462117116852453, 0.4471889140842513, 0.4495047525707903, 0.44974803745919245, 0.4505878303717267, 0.45271879505669954, 0.45221979123274403, 0.4528667781903443, 0.44718659296373453, 0.4481205770292314, 0.44935235905581017, 0.44938908683716167, 0.44935919706558725, 0.45038643776485676, 0.45052032181838203, 0.4517357270458729, 0.45187734819744496, 0.45203543641419214, 0.4523003271599075, 0.45321827158045863, 0.45336222895334227, 0.4537039569167617, 0.45415020201391776, 0.4558878406662602, 0.4559636077284257, 0.4561862829619154, 0.460356346113319, 0.4609669516431062, 0.46172397445884944, 0.4616894276185748, 0.46201646042132777, 0.46245888493109194, 0.463285582133527, 0.4636372945956948, 0.463968000556821, 0.46538938449554945, 0.46548215728752895, 0.4664918196881579, 0.46674498297502426, 0.4670829961670919, 0.46879575668280415, 0.4695225085804184, 0.4703064453189377, 0.470734921819127, 0.47124325006464607, 0.47252346586703486, 0.4725954535681467, 0.47295151722602424, 0.47333629314947595, 0.47373838801050266, 0.4737431574423862, 0.47329683947616713, 0.4768601721875069, 0.47727427681652224, 0.4779835772645591, 0.47801102826853537, 0.4780838438067598, 0.4785020947137736, 0.47861755919190424, 0.4786646890589793, 0.47873511899605237, 0.47907178226526415, 0.4809917620631825, 0.4810104614399726, 0.48164617199006765, 0.4816721116417656, 0.4816941075535603, 0.4821255038995968, 0.48230800059420775, 0.482343357287012, 0.482757338052108, 0.4827548832244824, 0.48278979781198744, 0.4828670720868792, 0.48317279931264423, 0.48317279931264423, 0.48788196243405363, 0.49253264154893106, 0.49539513594756546, 0.4987384746876717, 0.5038212516203395, 0.5055189646728532, 0.5094571707905952, 0.5119756458174939, 0.5131135951664125, 0.5143618286922801, 0.5156786463123502, 0.515436553170493, 0.517942806773504, 0.5180061643298458, 0.5186773662489326, 0.5192946851433264, 0.5189548214732936, 0.519857222291381, 0.5204404918389112, 0.5201341191392401, 0.5215410310693993, 0.5223765434609884]\n",
      "all hvs for seed 1 : [0.05142891915411997, 0.14895867138548988, 0.19994587243737372, 0.22229365927618824, 0.24791350810568916, 0.2566470234514143, 0.26910552996803505, 0.27872147114179346, 0.27744733548134326, 0.27967282777117636, 0.2841938106175156, 0.2880373811141393, 0.2952415198210821, 0.29869443777693094, 0.3064316673853771, 0.30766516884833656, 0.3198703256531042, 0.32106530337988914, 0.32379197013385136, 0.3274070558370336, 0.32946613010501824, 0.33401724711727404, 0.34066841373577633, 0.34180227380012346, 0.3410082604544807, 0.34718968077010487, 0.35393619716616964, 0.3552221357337818, 0.3567287845646627, 0.35799804427415366, 0.36123957036024934, 0.36287669629780683, 0.36247085206472884, 0.37148611494052486, 0.372480740032898, 0.373371277408003, 0.37399082134243655, 0.3774702557733341, 0.37786043448059325, 0.3801977388761232, 0.3757421258130291, 0.37546197718740254, 0.37769690263285177, 0.3774172266542591, 0.3774172266542591, 0.37817995523392467, 0.3792021566435728, 0.38057528847340216, 0.38659046365451694, 0.384508882918976, 0.3869143108230479, 0.39388136956329806, 0.3961942202210452, 0.39723960683944676, 0.398433064594134, 0.39863594407141295, 0.39964345690157743, 0.4036707120672132, 0.40546874282932, 0.40717050642228164, 0.4093398799172006, 0.4094496737098187, 0.4130095644786588, 0.4148859660692839, 0.4156786117458699, 0.41618679827849975, 0.4195260997684686, 0.4198428869257963, 0.4200257073427548, 0.42016327374845597, 0.42062640306380916, 0.42134378929823074, 0.42201746533789225, 0.422363092054645, 0.42242960666547963, 0.42469231991791334, 0.4247199477893817, 0.4247946554339534, 0.4247915033426252, 0.42514917056257306, 0.42640516736312606, 0.42678534955798736, 0.4266265319906531, 0.4270114466187675, 0.4294902186652006, 0.4293447000753135, 0.4314641213504012, 0.4317758509902286, 0.4308764861767633, 0.4307468017750283, 0.4328536804220923, 0.43271804358220595, 0.4330777651604593, 0.43368567493836174, 0.43660933508041155, 0.4369777946327291, 0.4372331118969262, 0.4387928799888625, 0.4397616781070129, 0.4402172232639352, 0.4421212915436285, 0.44505930281835465, 0.4453050918297133, 0.4458299883822053, 0.44593007222395004, 0.4463377843077496, 0.4476287959991032, 0.4467168484554521, 0.44495510265443794, 0.4445751942422855, 0.44481129519648194, 0.4448299085372474, 0.4449753186855801, 0.4450983925090406, 0.4452450485684752, 0.4452335587206941, 0.4456105725313929, 0.44653674158790035, 0.44691631291052314, 0.4492092433616524, 0.44806643992559597, 0.44886410965738094, 0.44915926296335695, 0.4500139859864941, 0.45229564564804303, 0.45325723631770076, 0.45335454477367737, 0.4541970811843155, 0.4544311325426862, 0.4544455995842704, 0.45546111960743807, 0.45661404566589886, 0.45645283502907374, 0.45819284412800876, 0.45824739773644957, 0.4584288581735205, 0.4578374609917856, 0.45885600530776915, 0.45927136443548106, 0.4604308963503943, 0.4619417147543386]\n",
      "all hvs for seed 2 : [0.06806741650355808, 0.21214642893440477, 0.23883948352871692, 0.26603172881091275, 0.29773922091090954, 0.3239325252479037, 0.3368627057861992, 0.3593946361698377, 0.3830427599939791, 0.3889358915950737, 0.3944389978831233, 0.4072004005102226, 0.40933876987083356, 0.4132281283524704, 0.41872388746301403, 0.4226394739225424, 0.4259374399439603, 0.4259852519821128, 0.431146807293118, 0.4317262453718382, 0.43334072966221, 0.4349381503487432, 0.44012274746857294, 0.4407415220352712, 0.4415825340918496, 0.4419248425734982, 0.4422584314496385, 0.44265878889699356, 0.44269348427882566, 0.44295717419368497, 0.44584968502357597, 0.44639594473256533, 0.44645635464158184, 0.44731911535811575, 0.4473883308709282, 0.44974953827142444, 0.4508083281532983, 0.45154252082878554, 0.4525910399158459, 0.45446701039712717, 0.45515375618163956, 0.45572016411501715, 0.45575613402367854, 0.4559203226549757, 0.45614660141890784, 0.45665320363297945, 0.45705247752762657, 0.45774560597086744, 0.45838456951801376, 0.4584159688853801, 0.4586884390382786, 0.4587041396289783, 0.4594242968969636, 0.4596483836401395, 0.4602257423081766, 0.46043864628465814, 0.4610892605953932, 0.46122988107953933, 0.4587867516232594, 0.4612010021047752, 0.46269010278892775, 0.4646789502662512, 0.4633388650702514, 0.46632144832383543, 0.46832148841356175, 0.4726150040716047, 0.47286099707294726, 0.4748107653464257, 0.47541332515696666, 0.4771325181167866, 0.47766757274705673, 0.4782546281794724, 0.47861778483109935, 0.4789771502485271, 0.4792284816153287, 0.47955335277688077, 0.48020706784877887, 0.4810215291444375, 0.4814818866771263, 0.4833612050718608, 0.4837791700338616, 0.48394556463843874, 0.484284284961652, 0.4845362324912281, 0.48561390287572115, 0.48585743599693343, 0.4874608751952517, 0.4890592760831701, 0.4911398666699461, 0.4920008261951405, 0.4922803650357633, 0.4926219928357332, 0.4931540930350664, 0.4917512744320987, 0.49357697364040587, 0.4936052556286806, 0.49331863414920785, 0.4937922831063249, 0.49396263240821586, 0.49481838628829067, 0.4952532773291267, 0.49561398812081847, 0.4965240413833613, 0.49735253621898057, 0.4976364827409432, 0.4969696444952803, 0.49749091874091056, 0.4980748255176831, 0.49903672089642026, 0.4992000729906139, 0.49909025853610745, 0.4991377769078962, 0.4991717724237092, 0.4985206606011384, 0.498530330072791, 0.4987501788765109, 0.4991841294789613, 0.49927084511741016, 0.49928526443389276, 0.4996874907481781, 0.5006473211677023, 0.5007188634955488, 0.500274022850721, 0.5011072849867497, 0.501333154263725, 0.5029082146015705, 0.5032459673755963, 0.5035215755226552, 0.5038502114158676, 0.5040802786173962, 0.5042271780682813, 0.5042141928613796, 0.5042270428235129, 0.5042550526360547, 0.5042697469450151, 0.505087834942278, 0.5052441025199989, 0.5057032819044652, 0.5063370385480505, 0.5081055717563691, 0.508363155491376, 0.508363155491376, 0.5084224354809983, 0.5084428961263013]\n",
      "all hvs for seed 3 : [0.024862285938703196, 0.18095916750402374, 0.20256069893388445, 0.23853278654705057, 0.25076713743145945, 0.26419709799608276, 0.2863237156316292, 0.31687519781384527, 0.3284461501291708, 0.33953843738080264, 0.34270938016591995, 0.348580535071821, 0.3563774476435927, 0.36495348452382803, 0.3770702350372409, 0.38516710972992524, 0.39366852690136334, 0.40573034378044887, 0.41190442265698973, 0.41490310527748364, 0.41949234290002374, 0.42094611097359946, 0.425218530980293, 0.4257834435555935, 0.42673684107064536, 0.4269860022507229, 0.428207887850654, 0.4331460719772824, 0.4322875913697795, 0.4380506266574528, 0.4382752262553465, 0.44159868746203296, 0.44426407764898546, 0.44565376142575935, 0.4468587697914906, 0.44770729745713694, 0.4482723640673303, 0.44910693465790713, 0.4492754125702836, 0.44927685307747267, 0.44968429068835875, 0.4499402044516906, 0.4505548300640018, 0.4510457212839419, 0.45260629949206577, 0.4532974450809592, 0.45655698752999835, 0.46090474053843233, 0.4624197246354447, 0.4633339373355645, 0.4637587238880156, 0.4650351537829601, 0.4658722160575523, 0.4668846974474209, 0.46726436316643316, 0.46746444707478846, 0.468204348919099, 0.46943921361313823, 0.47076521706003266, 0.4712024389611748, 0.47212440200176486, 0.474839930429436, 0.47567707289034133, 0.48179037932235497, 0.48485373841379514, 0.4872282960218341, 0.48926392282520814, 0.4900394723898446, 0.49084834760176294, 0.4940950546002305, 0.49648108442748573, 0.49707524512359125, 0.4980790120390865, 0.49931895524304815, 0.49743365347225477, 0.5014417721946169, 0.5016465887211216, 0.5020835684756477, 0.5022408560993927, 0.5013742813499477, 0.5051877423387963, 0.5056879678357464, 0.5062971131323616, 0.5072579435729884, 0.5076556558698929, 0.5095196899251598, 0.5078351246637396, 0.5122830885276319, 0.5127482766946817, 0.5146526411075792, 0.5153575939228874, 0.5154510866213208, 0.5165193583709765, 0.5172928320946815, 0.5178712221126397, 0.5169949031942686, 0.5184382569785998, 0.5182700434411636, 0.5189902630961076, 0.5198899881083051, 0.5204701623618956, 0.5206869424104846, 0.524154579999733, 0.5242100289402531, 0.5243828765807197, 0.5246495964240013, 0.5248922574160327, 0.524962256816104, 0.524925097525312, 0.5249403730900686, 0.5255577742844605, 0.5257948271246774, 0.5259388625144907, 0.5248336873058126, 0.5251005002704981, 0.5256984362682403, 0.5247141235228268, 0.5248398128853901, 0.5249258201763484, 0.5250621117492617, 0.5252354906512813, 0.5251359269889428, 0.524523523143559, 0.5274774358561444, 0.5270916507300639, 0.5273394869633831, 0.5278491621487388, 0.5280818135504683, 0.5289758348778077, 0.5296029715684643, 0.5296142432561316, 0.5297531614896945, 0.5298168222323326]\n",
      "all hvs for seed 4 : [0.04541390075775402, 0.2219132328071084, 0.2506843106672594, 0.2671668561938085, 0.2880580001601643, 0.30924049173118695, 0.3284928247262725, 0.351016317692749, 0.36066838031378384, 0.3668920747130805, 0.3687360857441509, 0.3699447859289818, 0.3767655492517306, 0.38195649851632485, 0.3854644588735494, 0.38806201297098714, 0.39148086000471966, 0.3954157327358132, 0.39729344446129333, 0.3977547055245065, 0.40454713270482257, 0.40536532880164783, 0.40604380473911783, 0.4070817856232694, 0.40734754899281045, 0.41077644987949574, 0.4114368668004537, 0.4120948845040651, 0.4126611189773288, 0.41867560808196885, 0.41627734174355585, 0.4166265212281025, 0.41605810063746146, 0.4181080064378475, 0.419073578439922, 0.42015700512515586, 0.425352806717164, 0.42568834578427833, 0.42595935172016, 0.42481853141770987, 0.42511638549546876, 0.42660321436672183, 0.42884052967329184, 0.42922082768535114, 0.4308783747488946, 0.43109830630819773, 0.43112845823591334, 0.43326739722862717, 0.4346040481738836, 0.43990526942922753, 0.43957042753129133, 0.43965914687126595, 0.43985754668207044, 0.4399412719803191, 0.44450334875280717, 0.44569909036415395, 0.4457283344291022, 0.4458623701920421, 0.44663523041091524, 0.44655503510328276, 0.44507846751825947, 0.44507846751825947, 0.4435454160956731, 0.444047091300417, 0.4445210506910432, 0.4472109354170794, 0.44765221772022606, 0.44787284942032546, 0.44906420660787666, 0.45138657913238733, 0.4522919331121099, 0.4526608642268401, 0.4559434580136602, 0.45489371664770906, 0.45702746806123923, 0.4574670678804881, 0.4603920198666706, 0.46255022061848217, 0.46251484355399936, 0.46257267636596594, 0.4624353490421288, 0.4630263781461817, 0.46302760737472415, 0.46394388879786846, 0.4637794745858179, 0.4642700203348698, 0.46520585233557343, 0.4662557280635648, 0.46772748819455273, 0.46844715840166606, 0.46886930299842733, 0.4693190216386362, 0.46967796641958653, 0.4701026505549332, 0.4700570569737076, 0.47048639286584987, 0.47145701316099964, 0.4717993944976114, 0.4722201090991867, 0.47228656247234435, 0.4728564584023379, 0.47323181495184424, 0.4735568723243345, 0.47392988431133803, 0.47408082698544546, 0.47450994891094106, 0.47697169922868027, 0.4773006237657274, 0.4796802370029704, 0.4800427134139322, 0.48412210492817875, 0.48460770702665, 0.48496941927973436, 0.48512464499078345, 0.48178244819507243, 0.48192972360307906, 0.48229416288418536, 0.48372793821143123, 0.4840307900254395, 0.4850125957600827, 0.48504168735417347, 0.48521597321905063, 0.4853032230632008, 0.4885610956917518, 0.48865687787620593, 0.48880376196414876, 0.4888701657238873, 0.4897558401754477, 0.4899985332150528, 0.4902916114781965, 0.49172911696734645, 0.49179435328578613, 0.4921213826858804, 0.49446259242051993, 0.49455826140415715, 0.49592880784750326, 0.49594324861500994, 0.4960477582059413, 0.49642156905713347, 0.49614199131432957, 0.49653665551098297]\n"
     ]
    },
    {
     "data": {
      "text/plain": [
       "{100: 0.05859680804296931,\n",
       " 1187: 0.22339904424987242,\n",
       " 2281: 0.2431898686676698,\n",
       " 3378: 0.2516984972737058,\n",
       " 4478: 0.25895542127925864,\n",
       " 5572: 0.269439114468086,\n",
       " 6671: 0.28318679665388014,\n",
       " 7770: 0.29975391223029174,\n",
       " 8775: 0.31626680864683215,\n",
       " 9776: 0.32293722434984595,\n",
       " 10912: 0.3306147713146773,\n",
       " 11929: 0.3342472531571058,\n",
       " 12948: 0.3492307983403071,\n",
       " 13971: 0.3513948734820536,\n",
       " 14993: 0.3571366732193635,\n",
       " 16014: 0.3607600559568287,\n",
       " 17032: 0.3657801253417064,\n",
       " 18054: 0.36716172435179206,\n",
       " 19076: 0.3706645220400718,\n",
       " 20096: 0.37339356823218056,\n",
       " 21118: 0.37479804903033526,\n",
       " 22137: 0.3769626454220653,\n",
       " 23159: 0.37821113615703905,\n",
       " 24180: 0.3788823234735423,\n",
       " 25201: 0.3791165236678129,\n",
       " 26222: 0.3816504577972845,\n",
       " 27243: 0.3822224545469284,\n",
       " 28265: 0.3821166193583696,\n",
       " 29286: 0.38367851778429996,\n",
       " 30306: 0.3944922899087597,\n",
       " 31324: 0.3955760911873892,\n",
       " 32344: 0.3962584518694595,\n",
       " 33366: 0.40107768303681307,\n",
       " 34387: 0.4015170427306527,\n",
       " 35408: 0.402956001684666,\n",
       " 36428: 0.40336737519941085,\n",
       " 37447: 0.4044105110417618,\n",
       " 38467: 0.4076885640403782,\n",
       " 39488: 0.4088048132587707,\n",
       " 40510: 0.4114660174031965,\n",
       " 41531: 0.4115961304473726,\n",
       " 42551: 0.4128288633585284,\n",
       " 43570: 0.41325106603753853,\n",
       " 45031: 0.4136218264080927,\n",
       " 46071: 0.4155961658314076,\n",
       " 47110: 0.4164565428919157,\n",
       " 48150: 0.41941968940162017,\n",
       " 49188: 0.42123504399855094,\n",
       " 50228: 0.42105243645390145,\n",
       " 51268: 0.4235806581220848,\n",
       " 52307: 0.4271523873500905,\n",
       " 53347: 0.4291101819148922,\n",
       " 54387: 0.42931384337188866,\n",
       " 55426: 0.429904897357774,\n",
       " 56466: 0.43089188938010536,\n",
       " 57507: 0.4305132101812698,\n",
       " 58547: 0.4340664966317622,\n",
       " 59587: 0.43506998680578896,\n",
       " 60628: 0.4382759577728412,\n",
       " 61667: 0.4397560284803081,\n",
       " 62706: 0.44013751688133784,\n",
       " 63744: 0.44011255469439775,\n",
       " 64784: 0.4411565214804187,\n",
       " 65825: 0.44141563358460884,\n",
       " 66863: 0.4426835360751927,\n",
       " 67904: 0.4438397661223719,\n",
       " 68945: 0.4445855507106165,\n",
       " 69984: 0.4447672197474699,\n",
       " 71024: 0.44604869030585964,\n",
       " 72063: 0.4462117116852453,\n",
       " 73103: 0.4471889140842513,\n",
       " 74143: 0.4495047525707903,\n",
       " 75183: 0.44974803745919245,\n",
       " 76223: 0.4505878303717267,\n",
       " 77264: 0.45271879505669954,\n",
       " 78305: 0.45221979123274403,\n",
       " 79345: 0.4528667781903443,\n",
       " 80384: 0.44718659296373453,\n",
       " 81424: 0.4481205770292314,\n",
       " 82461: 0.44935235905581017,\n",
       " 83500: 0.44938908683716167,\n",
       " 84540: 0.44935919706558725,\n",
       " 85579: 0.45038643776485676,\n",
       " 86617: 0.45052032181838203,\n",
       " 87656: 0.4517357270458729,\n",
       " 88696: 0.45187734819744496,\n",
       " 89736: 0.45203543641419214,\n",
       " 90776: 0.4523003271599075,\n",
       " 91815: 0.45321827158045863,\n",
       " 92854: 0.45336222895334227,\n",
       " 93891: 0.4537039569167617,\n",
       " 94931: 0.45415020201391776,\n",
       " 95971: 0.4558878406662602,\n",
       " 97010: 0.4559636077284257,\n",
       " 98049: 0.4561862829619154,\n",
       " 99089: 0.460356346113319,\n",
       " 100129: 0.4609669516431062,\n",
       " 101169: 0.46172397445884944,\n",
       " 102210: 0.4616894276185748,\n",
       " 103250: 0.46201646042132777,\n",
       " 104289: 0.46245888493109194,\n",
       " 105328: 0.463285582133527,\n",
       " 106367: 0.4636372945956948,\n",
       " 107406: 0.463968000556821,\n",
       " 108446: 0.46538938449554945,\n",
       " 109486: 0.46548215728752895,\n",
       " 110527: 0.4664918196881579,\n",
       " 111567: 0.46674498297502426,\n",
       " 112608: 0.4670829961670919,\n",
       " 113648: 0.46879575668280415,\n",
       " 114689: 0.4695225085804184,\n",
       " 115729: 0.4703064453189377,\n",
       " 116767: 0.470734921819127,\n",
       " 117805: 0.47124325006464607,\n",
       " 118845: 0.47252346586703486,\n",
       " 119886: 0.4725954535681467,\n",
       " 120927: 0.47295151722602424,\n",
       " 121968: 0.47333629314947595,\n",
       " 123007: 0.47373838801050266,\n",
       " 124048: 0.4737431574423862,\n",
       " 125088: 0.47329683947616713,\n",
       " 126127: 0.4768601721875069,\n",
       " 127166: 0.47727427681652224,\n",
       " 128207: 0.4779835772645591,\n",
       " 129247: 0.47801102826853537,\n",
       " 130287: 0.4780838438067598,\n",
       " 131327: 0.4785020947137736,\n",
       " 132366: 0.47861755919190424,\n",
       " 133406: 0.4786646890589793,\n",
       " 134446: 0.47873511899605237,\n",
       " 135485: 0.47907178226526415,\n",
       " 136523: 0.4809917620631825,\n",
       " 137563: 0.4810104614399726,\n",
       " 138603: 0.48164617199006765,\n",
       " 139644: 0.4816721116417656,\n",
       " 140684: 0.4816941075535603,\n",
       " 141724: 0.4821255038995968,\n",
       " 142763: 0.48230800059420775,\n",
       " 143802: 0.482343357287012,\n",
       " 144842: 0.482757338052108,\n",
       " 145883: 0.4827548832244824,\n",
       " 146923: 0.48278979781198744,\n",
       " 147963: 0.4828670720868792,\n",
       " 149002: 0.48317279931264423,\n",
       " 150730: 0.48317279931264423,\n",
       " 153034: 0.48788196243405363,\n",
       " 155338: 0.49253264154893106,\n",
       " 157639: 0.49539513594756546,\n",
       " 159941: 0.4987384746876717,\n",
       " 162244: 0.5038212516203395,\n",
       " 164547: 0.5055189646728532,\n",
       " 166850: 0.5094571707905952,\n",
       " 169153: 0.5119756458174939,\n",
       " 171456: 0.5131135951664125,\n",
       " 173758: 0.5143618286922801,\n",
       " 176061: 0.5156786463123502,\n",
       " 178362: 0.515436553170493,\n",
       " 180664: 0.517942806773504,\n",
       " 182966: 0.5180061643298458,\n",
       " 185268: 0.5186773662489326,\n",
       " 187571: 0.5192946851433264,\n",
       " 189876: 0.5189548214732936,\n",
       " 192180: 0.519857222291381,\n",
       " 194484: 0.5204404918389112,\n",
       " 196787: 0.5201341191392401,\n",
       " 199089: 0.5215410310693993,\n",
       " 201392: 0.5223765434609884}"
      ]
     },
     "execution_count": 270,
     "metadata": {},
     "output_type": "execute_result"
    }
   ],
   "source": [
    "# Load the archives\n",
    "#all_archives = []\n",
    "#all_hvs = {}\n",
    "all_norm_hvs = []\n",
    "norm_hvs_dict = {}\n",
    "norm_hvs_dict_0 = {}\n",
    "norm_hvs_dict_1 = {}\n",
    "norm_hvs_dict_2 = {}\n",
    "norm_hvs_dict_3 = {}\n",
    "norm_hvs_dict_4 = {}\n",
    "norm_hvs_dict_5 = {}\n",
    "\n",
    "hvs_dict_0 = {}\n",
    "hvs_dict_1 = {}\n",
    "hvs_dict_2 = {}\n",
    "hvs_dict_3 = {}\n",
    "hvs_dict_4 = {}\n",
    "hvs_dict_5 = {}\n",
    "\n",
    "for i in range(seeds):\n",
    "    norm_hvs_this_seed = []\n",
    "    archives, normalized_archives, norm_archives = ArchiveLogger.load_archives(f\"archives/{i}.csv\")\n",
    "\n",
    "    norm_sorted_archives = dict(sorted(norm_archives.items()))\n",
    "    for key, value in norm_sorted_archives.items():\n",
    "\n",
    "        o = value.values\n",
    "\n",
    "        norm_objs = np.ascontiguousarray(o)\n",
    "\n",
    "        norm_hv = hvwfg.wfg(norm_objs, \n",
    "                       norm_worst_array)\n",
    "\n",
    "        norm_hvs_this_seed.append(norm_hv)\n",
    "        \n",
    "        if i == 0 :\n",
    "            norm_hvs_dict_0[int(key)] = norm_hv\n",
    "\n",
    "        if i == 1 :\n",
    "            norm_hvs_dict_1[int(key)] = norm_hv\n",
    "\n",
    "        if i == 2 :\n",
    "            norm_hvs_dict_2[int(key)] = norm_hv\n",
    "\n",
    "        if i == 3 :\n",
    "            norm_hvs_dict_3[int(key)] = norm_hv\n",
    "\n",
    "        if i == 4 :\n",
    "            norm_hvs_dict_4[int(key)] = norm_hv\n",
    "\n",
    "        if i == 5 :\n",
    "            norm_hvs_dict_5[int(key)] = norm_hv\n",
    "\n",
    "    print('all hvs for seed', i, ':', norm_hvs_this_seed)\n",
    "norm_hvs_dict_0\n"
   ]
  },
  {
   "cell_type": "code",
   "execution_count": 272,
   "id": "85effb93-33db-4edc-aafc-8130bc9a9f41",
   "metadata": {},
   "outputs": [
    {
     "name": "stdout",
     "output_type": "stream",
     "text": [
      "C:\\Users\\whitl\\OneDrive\\Documenten\\MASTER\\Year 2\\THESIS\\16.02.22.Multiobjective\\Multiobjective-multi-reservoir-control-d50e4da0f6a9a9c852b4904e640299adc96714bb\\ZambeziSmashPython\\runs\\HYD_e4647_200000nfe_5seed\n"
     ]
    },
    {
     "data": {
      "image/png": "[encoded data removed]",
      "text/plain": [
       "<Figure size 640x480 with 1 Axes>"
      ]
     },
     "metadata": {},
     "output_type": "display_data"
    }
   ],
   "source": [
    "norm_hvs_dicts = [norm_hvs_dict_0, norm_hvs_dict_1, norm_hvs_dict_2, norm_hvs_dict_3, norm_hvs_dict_4]\n",
    "\n",
    "# Iterate through dictionaries and plot lines\n",
    "for i, norm_hvs_dict in enumerate(norm_hvs_dicts, start=1):\n",
    "    lists = norm_hvs_dict.items()\n",
    "    x, y = zip(*lists)\n",
    "    plt.plot(x, y, label=f'Seed {i-1}')\n",
    "\n",
    "plt.title('Hypervolume hydrology case')\n",
    "plt.legend()\n",
    "\n",
    "print(os.getcwd())\n",
    "relative_path = '../../plots'\n",
    "filename = 'hyd_hv.png'\n",
    "\n",
    "plt.savefig(os.path.join(relative_path, filename))\n",
    "\n",
    "plt.show()\n"
   ]
  },
  {
   "cell_type": "code",
   "execution_count": null,
   "id": "109afad8-751c-4538-9fc0-ba58ddce22da",
   "metadata": {},
   "outputs": [],
   "source": []
  },
  {
   "cell_type": "code",
   "execution_count": null,
   "id": "89b9af18-a90b-483b-9ad3-943de704540d",
   "metadata": {},
   "outputs": [],
   "source": []
  },
  {
   "cell_type": "markdown",
   "id": "0039ae3c-57fe-4e72-ae66-c1d8e69402ad",
   "metadata": {},
   "source": [
    "# FULL DISAGGREGATION CASE"
   ]
  },
  {
   "cell_type": "code",
   "execution_count": 20,
   "id": "b3ad9037-6de3-4f70-a800-5cbbc983e78a",
   "metadata": {
    "tags": []
   },
   "outputs": [
    {
     "data": {
      "text/plain": [
       "'C:\\\\Users\\\\whitl\\\\OneDrive\\\\Documenten\\\\MASTER\\\\Year 2\\\\THESIS\\\\16.02.22.Multiobjective\\\\Multiobjective-multi-reservoir-control-d50e4da0f6a9a9c852b4904e640299adc96714bb\\\\ZambeziSmashPython\\\\src'"
      ]
     },
     "execution_count": 20,
     "metadata": {},
     "output_type": "execute_result"
    }
   ],
   "source": [
    "if not os.path.exists(\"../src\"):\n",
    "    os.chdir(\"../../src\")\n",
    "else:\n",
    "    os.chdir('../src')\n",
    "os.getcwd()"
   ]
  },
  {
   "cell_type": "code",
   "execution_count": 21,
   "id": "71d3d1d0-310f-4d4a-9fab-40b4dc464af0",
   "metadata": {
    "collapsed": false,
    "jupyter": {
     "outputs_hidden": false
    },
    "tags": []
   },
   "outputs": [],
   "source": [
    "from model_zambezi_OPT_irr import ModelZambezi\n",
    "\n",
    "ZambeziProblem = ModelZambezi()\n",
    "\n",
    "def model_wrapper(**kwargs):\n",
    "    input = [kwargs['v' + str(i)] for i in range(len(kwargs))]\n",
    "    Hydropower, Environment, Irrigation, Irrigation2, Irrigation3, Irrigation4, Irrigation5, Irrigation6, Irrigation7,\\\n",
    "        Irrigation8, Irrigation9, HydropowerITT, HydropowerKGU, HydropowerKA, HydropowerCB, HydropowerKGL = \\\n",
    "        tuple(ZambeziProblem.evaluate(np.array(input)))\n",
    "    return Hydropower, Environment, Irrigation, Irrigation2, Irrigation3, Irrigation4, Irrigation5, Irrigation6, \\\n",
    "        Irrigation7, Irrigation8, Irrigation9, HydropowerITT, HydropowerKGU, HydropowerKA, HydropowerCB, HydropowerKGL\n",
    "\n",
    "# specify model\n",
    "model = Model('zambeziproblem', function=model_wrapper)\n",
    "\n",
    "# levers\n",
    "model.levers = [RealParameter('v' + str(i), -1, 1) for i in range(ZambeziProblem.Nvar)]\n",
    "\n",
    "# specify outcomes\n",
    "model.outcomes = [ScalarOutcome('Hydropower', ScalarOutcome.MINIMIZE),  # Minimize, because deficits\n",
    "                  ScalarOutcome('Environment', ScalarOutcome.MINIMIZE),\n",
    "                  ScalarOutcome('Irrigation', ScalarOutcome.MINIMIZE),\n",
    "                  ScalarOutcome('Irrigation2', ScalarOutcome.MINIMIZE),\n",
    "                  ScalarOutcome('Irrigation3', ScalarOutcome.MINIMIZE),\n",
    "                  ScalarOutcome('Irrigation4', ScalarOutcome.MINIMIZE),\n",
    "                  ScalarOutcome('Irrigation5', ScalarOutcome.MINIMIZE),\n",
    "                  ScalarOutcome('Irrigation6', ScalarOutcome.MINIMIZE),\n",
    "                  ScalarOutcome('Irrigation7', ScalarOutcome.MINIMIZE),\n",
    "                  ScalarOutcome('Irrigation8', ScalarOutcome.MINIMIZE),\n",
    "                  ScalarOutcome('Irrigation9', ScalarOutcome.MINIMIZE),\n",
    "                  ScalarOutcome('HydropowerITT', ScalarOutcome.MINIMIZE),\n",
    "                  ScalarOutcome('HydropowerKGU', ScalarOutcome.MINIMIZE),\n",
    "                  ScalarOutcome('HydropowerKA', ScalarOutcome.MINIMIZE),\n",
    "                  ScalarOutcome('HydropowerCB', ScalarOutcome.MINIMIZE),\n",
    "                  ScalarOutcome('HydropowerKGL', ScalarOutcome.MINIMIZE),\n",
    "                  ]\n"
   ]
  },
  {
   "cell_type": "code",
   "execution_count": 22,
   "id": "669d3edd-aafe-4d24-9e03-783b0f5e6812",
   "metadata": {
    "collapsed": false,
    "jupyter": {
     "outputs_hidden": false
    },
    "tags": []
   },
   "outputs": [],
   "source": [
    "#Problem definitionv\n",
    "problem = to_problem(model, searchover=\"levers\")"
   ]
  },
  {
   "cell_type": "markdown",
   "id": "d4b6d510-b2f8-4a2b-8f74-95f113045ff1",
   "metadata": {},
   "source": [
    "Run definition"
   ]
  },
  {
   "cell_type": "code",
   "execution_count": 23,
   "id": "a0b2f16b-eadb-40f7-b0ee-982117a72d84",
   "metadata": {
    "tags": []
   },
   "outputs": [
    {
     "data": {
      "text/plain": [
       "'C:\\\\Users\\\\whitl\\\\OneDrive\\\\Documenten\\\\MASTER\\\\Year 2\\\\THESIS\\\\16.02.22.Multiobjective\\\\Multiobjective-multi-reservoir-control-d50e4da0f6a9a9c852b4904e640299adc96714bb\\\\ZambeziSmashPython\\\\src'"
      ]
     },
     "execution_count": 23,
     "metadata": {},
     "output_type": "execute_result"
    }
   ],
   "source": [
    "os.getcwd()"
   ]
  },
  {
   "cell_type": "code",
   "execution_count": 24,
   "id": "4e5633ee-6bdc-4754-9587-7ca0519e66c3",
   "metadata": {
    "collapsed": false,
    "jupyter": {
     "outputs_hidden": false
    },
    "tags": []
   },
   "outputs": [
    {
     "data": {
      "text/plain": [
       "'C:\\\\Users\\\\whitl\\\\OneDrive\\\\Documenten\\\\MASTER\\\\Year 2\\\\THESIS\\\\16.02.22.Multiobjective\\\\Multiobjective-multi-reservoir-control-d50e4da0f6a9a9c852b4904e640299adc96714bb\\\\ZambeziSmashPython\\\\runs\\\\IR_hv_feb_10000nfe_1seed'"
      ]
     },
     "execution_count": 24,
     "metadata": {},
     "output_type": "execute_result"
    }
   ],
   "source": [
    "if not os.path.exists(\"../src\"):\n",
    "    os.chdir(\"../../src\")\n",
    "else:\n",
    "    os.chdir('../src')\n",
    "os.getcwd()\n",
    "\n",
    "\n",
    "nfe = 10 #\n",
    "seeds = 1\n",
    "run_comment = 'test'\n",
    "run_label = f\"FULL_{run_comment}_{nfe}nfe_{seeds}seed\"\n",
    "\n",
    "os.chdir(f'../runs/{run_label}')\n",
    "os.getcwd()"
   ]
  },
  {
   "cell_type": "markdown",
   "id": "5bc5347e-31a2-4cfb-a756-4fa9e907cc82",
   "metadata": {},
   "source": [
    "Change the load archives method of the ArchiveLogger class"
   ]
  },
  {
   "cell_type": "code",
   "execution_count": 25,
   "id": "62f3cb26-e1c1-4402-b751-8a6f503dfed6",
   "metadata": {
    "collapsed": false,
    "jupyter": {
     "outputs_hidden": false
    },
    "tags": []
   },
   "outputs": [],
   "source": [
    "import tarfile \n",
    "def alternative_load_archives(filename): #cls,\n",
    "    archives = {}\n",
    "    with tarfile.open(os.path.abspath(filename)) as fh:\n",
    "        for entry in fh.getmembers():\n",
    "            if entry.name.endswith(\"csv\"):\n",
    "                key = entry.name.split(\"/\")[1][:-4]\n",
    "                archives[int(key)] = pd.read_csv(fh.extractfile(entry), index_col=0)\n",
    "    return archives\n",
    "\n",
    "ArchiveLogger.load_archives = alternative_load_archives"
   ]
  },
  {
   "cell_type": "markdown",
   "id": "891a175e-8902-4cdf-ad78-0f3f475212e6",
   "metadata": {},
   "source": [
    "Merge convergences "
   ]
  },
  {
   "cell_type": "code",
   "execution_count": 26,
   "id": "a1046b69-0893-4e20-8cad-20dcf059d142",
   "metadata": {
    "collapsed": false,
    "jupyter": {
     "outputs_hidden": false
    },
    "tags": []
   },
   "outputs": [],
   "source": [
    "convergences = []\n",
    "for i in range(seeds):\n",
    "    df = pd.read_csv(f\"convergence{i}.csv\")\n",
    "    convergences.append(df)\n",
    "    #f'convergence{i}' = pd.read_csv(f\"{run_name}/convergence{i}.csv\") "
   ]
  },
  {
   "cell_type": "code",
   "execution_count": 27,
   "id": "e0f97087-df4a-4cb5-884a-6f7501ea440f",
   "metadata": {
    "collapsed": false,
    "jupyter": {
     "outputs_hidden": false
    },
    "tags": []
   },
   "outputs": [],
   "source": [
    "# Load the archives\n",
    "all_archives = []\n",
    "for i in range(seeds):\n",
    "    archives = ArchiveLogger.load_archives(f\"archives/{i}.csv\")\n",
    "        #archives.items()[nfe] =\n",
    "        #archives = archives.loc[:, ~archives.columns.str.contains('^Unnamed')]\n",
    "    all_archives.append(archives)"
   ]
  },
  {
   "cell_type": "code",
   "execution_count": 28,
   "id": "8764db86-5b51-4bb1-9960-8c738f458bc4",
   "metadata": {
    "collapsed": false,
    "jupyter": {
     "outputs_hidden": false
    },
    "tags": []
   },
   "outputs": [],
   "source": [
    "# Create the results list\n",
    "results_list = []\n",
    "for i in range(seeds):\n",
    "    result = pd.read_csv(f\"results_seed{i}.csv\")\n",
    "        #archives.items()[nfe] =\n",
    "        #archives = archives.loc[:, ~archives.columns.str.contains('^Unnamed')]\n",
    "    results_list.append(result)"
   ]
  },
  {
   "cell_type": "code",
   "execution_count": 29,
   "id": "00ec01a1-1843-4e48-8c5c-546b7c51ff30",
   "metadata": {
    "collapsed": false,
    "jupyter": {
     "outputs_hidden": false
    },
    "tags": []
   },
   "outputs": [],
   "source": [
    "# Define the reference list\n",
    "reference_set = epsilon_nondominated(results_list, [0.05] * len(model.outcomes), problem)  # [0.05]\n",
    "#print('reference_set', reference_set)\n",
    "#print('reference_set type is', type(reference_set))"
   ]
  },
  {
   "cell_type": "code",
   "execution_count": 30,
   "id": "084df623-84a9-4688-9651-0d03fec99279",
   "metadata": {
    "collapsed": false,
    "jupyter": {
     "outputs_hidden": false
    },
    "tags": []
   },
   "outputs": [],
   "source": [
    "#Define the hypervolumemetric\n",
    "hv = HypervolumeMetric(reference_set, problem)"
   ]
  },
  {
   "cell_type": "code",
   "execution_count": null,
   "id": "347649b1-d1ac-4ffa-a548-9aea50dd219c",
   "metadata": {
    "collapsed": false,
    "jupyter": {
     "outputs_hidden": false
    },
    "tags": []
   },
   "outputs": [],
   "source": [
    "# Calculate the metrics\n",
    "metrics_by_seed = []\n",
    "for archives in all_archives:\n",
    "    metrics = []\n",
    "    for nfe, archive in archives.items():\n",
    "        scores = {\n",
    "            \"hypervolume\": hv.calculate(archive),\n",
    "            \"nfe\": int(nfe),\n",
    "        }\n",
    "        metrics.append(scores)\n",
    "    metrics = pd.DataFrame.from_dict(metrics)\n",
    "\n",
    "    # sort metrics by number of function evaluations\n",
    "    metrics.sort_values(by=\"nfe\", inplace=True)\n",
    "\n",
    "    metrics_by_seed.append(metrics)"
   ]
  },
  {
   "cell_type": "code",
   "execution_count": null,
   "id": "af0464c2-9720-43ab-a425-8e446544414c",
   "metadata": {
    "collapsed": false,
    "jupyter": {
     "outputs_hidden": false
    },
    "tags": []
   },
   "outputs": [],
   "source": [
    "# Visualize convergence metrics\n",
    "sns.set_style(\"white\")\n",
    "fig, axes = plt.subplots(nrows=2, figsize=(8, 12), sharex=True)\n",
    "\n",
    "ax1, ax2 = axes\n",
    "\n",
    "for metrics, convergence in zip(metrics_by_seed, convergences):\n",
    "    ax1.plot(metrics.nfe, metrics.hypervolume)\n",
    "    ax1.set_ylabel(\"hypervolume\")\n",
    "\n",
    "    ax2.plot(convergence.nfe, convergence.epsilon_progress)\n",
    "    ax2.set_ylabel(\"$\\epsilon$ progress\")\n",
    "    \n",
    "sns.despine(fig)\n",
    "\n",
    "plt.show()"
   ]
  }
 ],
 "metadata": {
  "kernelspec": {
   "display_name": "Python 3 (ipykernel)",
   "language": "python",
   "name": "python3"
  },
  "language_info": {
   "codemirror_mode": {
    "name": "ipython",
    "version": 3
   },
   "file_extension": ".py",
   "mimetype": "text/x-python",
   "name": "python",
   "nbconvert_exporter": "python",
   "pygments_lexer": "ipython3",
   "version": "3.9.18"
  }
 },
 "nbformat": 4,
 "nbformat_minor": 5
}
