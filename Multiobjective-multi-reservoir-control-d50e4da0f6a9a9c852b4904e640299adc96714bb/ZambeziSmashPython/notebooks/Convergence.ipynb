{
 "cells": [
  {
   "cell_type": "markdown",
   "metadata": {},
   "source": [
    "# Convergence"
   ]
  },
  {
   "cell_type": "code",
   "execution_count": 1,
   "metadata": {
    "collapsed": false,
    "jupyter": {
     "outputs_hidden": false
    },
    "tags": []
   },
   "outputs": [],
   "source": [
    "import pandas as pd \n",
    "import matplotlib.pyplot as plt\n",
    "import seaborn as sns\n",
    "import os\n",
    "from ema_workbench import (MultiprocessingEvaluator, ema_logging, RealParameter, ScalarOutcome, Constant,\n",
    "                           Model, HypervolumeMetric, save_results)\n",
    "from ema_workbench.em_framework.optimization import (GenerationalBorg, epsilon_nondominated, to_problem, ArchiveLogger,\n",
    "                                                     EpsilonProgress)"
   ]
  },
  {
   "cell_type": "code",
   "execution_count": 2,
   "metadata": {
    "collapsed": false,
    "jupyter": {
     "outputs_hidden": false
    },
    "tags": []
   },
   "outputs": [],
   "source": [
    "os.chdir('../src')"
   ]
  },
  {
   "cell_type": "markdown",
   "metadata": {},
   "source": [
    "### BASE CASE"
   ]
  },
  {
   "cell_type": "markdown",
   "metadata": {},
   "source": [
    "Model definition"
   ]
  },
  {
   "cell_type": "code",
   "execution_count": 3,
   "metadata": {
    "collapsed": false,
    "jupyter": {
     "outputs_hidden": false
    }
   },
   "outputs": [],
   "source": [
    "from model_zambezi_OPT import ModelZambezi\n",
    "\n",
    "ZambeziProblem = ModelZambezi()\n",
    "\n",
    "def model_wrapper(**kwargs):\n",
    "    input = [kwargs['v' + str(i)] for i in range(len(kwargs))]\n",
    "    # print('len kwargs is', len(kwargs)) = 230\n",
    "    Hydropower, Environment, Irrigation = tuple(ZambeziProblem.evaluate(np.array(input)))\n",
    "    return Hydropower, Environment, Irrigation\n",
    "\n",
    "# specify model\n",
    "model = Model('zambeziproblem', function=model_wrapper)\n",
    "\n",
    "# levers\n",
    "model.levers = [RealParameter('v' + str(i), -1, 1) for i in range(ZambeziProblem.Nvar)]\n",
    "\n",
    "# specify outcomes\n",
    "model.outcomes = [ScalarOutcome('Hydropower', ScalarOutcome.MINIMIZE),  # Minimize, because deficits\n",
    "                  ScalarOutcome('Environment', ScalarOutcome.MINIMIZE),\n",
    "                  ScalarOutcome('Irrigation', ScalarOutcome.MINIMIZE)]\n"
   ]
  },
  {
   "cell_type": "code",
   "execution_count": 4,
   "metadata": {
    "collapsed": false,
    "jupyter": {
     "outputs_hidden": false
    }
   },
   "outputs": [],
   "source": [
    "#Problem definition\n",
    "problem = to_problem(model, searchover=\"levers\")"
   ]
  },
  {
   "cell_type": "markdown",
   "metadata": {},
   "source": [
    "Run definition"
   ]
  },
  {
   "cell_type": "code",
   "execution_count": 5,
   "metadata": {
    "collapsed": false,
    "jupyter": {
     "outputs_hidden": false
    }
   },
   "outputs": [
    {
     "data": {
      "text/plain": [
       "'C:\\\\Users\\\\whitl\\\\OneDrive\\\\Documenten\\\\MASTER\\\\Year 2\\\\THESIS\\\\16.02.22.Multiobjective\\\\Multiobjective-multi-reservoir-control-d50e4da0f6a9a9c852b4904e640299adc96714bb\\\\ZambeziSmashPython\\\\runs\\\\BaseCase_35000nfe_5seed'"
      ]
     },
     "execution_count": 5,
     "metadata": {},
     "output_type": "execute_result"
    }
   ],
   "source": [
    "nfe = 35000 #\n",
    "seeds = 5\n",
    "run_comment = 'BaseCase'\n",
    "run_label = f\"{run_comment}_{nfe}nfe_{seeds}seed\"\n",
    "\n",
    "os.chdir(f'../runs/{run_label}')\n",
    "os.getcwd()"
   ]
  },
  {
   "cell_type": "markdown",
   "metadata": {},
   "source": [
    "Change the load archives method of the ArchiveLogger class"
   ]
  },
  {
   "cell_type": "code",
   "execution_count": 6,
   "metadata": {
    "collapsed": false,
    "jupyter": {
     "outputs_hidden": false
    }
   },
   "outputs": [],
   "source": [
    "import tarfile \n",
    "def alternative_load_archives(filename): #cls,\n",
    "    archives = {}\n",
    "    with tarfile.open(os.path.abspath(filename)) as fh:\n",
    "        for entry in fh.getmembers():\n",
    "            if entry.name.endswith(\"csv\"):\n",
    "                key = entry.name.split(\"/\")[1][:-4]\n",
    "                archives[int(key)] = pd.read_csv(fh.extractfile(entry), index_col=0)\n",
    "    return archives\n",
    "\n",
    "ArchiveLogger.load_archives = alternative_load_archives"
   ]
  },
  {
   "cell_type": "markdown",
   "metadata": {},
   "source": [
    "Merge convergences "
   ]
  },
  {
   "cell_type": "code",
   "execution_count": 7,
   "metadata": {
    "collapsed": false,
    "jupyter": {
     "outputs_hidden": false
    }
   },
   "outputs": [],
   "source": [
    "convergences = []\n",
    "for i in range(seeds):\n",
    "    df = pd.read_csv(f\"convergence{i}.csv\")\n",
    "    convergences.append(df)\n",
    "    #f'convergence{i}' = pd.read_csv(f\"{run_name}/convergence{i}.csv\") \n",
    "    #print(f'convergence{i}')"
   ]
  },
  {
   "cell_type": "code",
   "execution_count": 8,
   "metadata": {
    "collapsed": false,
    "jupyter": {
     "outputs_hidden": false
    }
   },
   "outputs": [],
   "source": [
    "# Load the archives\n",
    "all_archives = []\n",
    "for i in range(seeds):\n",
    "    archives = ArchiveLogger.load_archives(f\"archives/{i}.csv\")\n",
    "        #archives.items()[nfe] =\n",
    "        #archives = archives.loc[:, ~archives.columns.str.contains('^Unnamed')]\n",
    "    all_archives.append(archives)\n"
   ]
  },
  {
   "cell_type": "code",
   "execution_count": 9,
   "metadata": {
    "collapsed": false,
    "jupyter": {
     "outputs_hidden": false
    }
   },
   "outputs": [],
   "source": [
    "# Create the results list\n",
    "results_list = []\n",
    "for i in range(seeds):\n",
    "    result = pd.read_csv(f\"results_seed{i}.csv\")\n",
    "        #archives.items()[nfe] =\n",
    "        #archives = archives.loc[:, ~archives.columns.str.contains('^Unnamed')]\n",
    "    results_list.append(result)"
   ]
  },
  {
   "cell_type": "code",
   "execution_count": 10,
   "metadata": {
    "collapsed": false,
    "jupyter": {
     "outputs_hidden": false
    }
   },
   "outputs": [],
   "source": [
    "# Define the reference list\n",
    "reference_set = epsilon_nondominated(results_list, [0.05] * len(model.outcomes), problem)  # [0.05]\n",
    "#print('reference_set', reference_set)\n",
    "#print('reference_set type is', type(reference_set))"
   ]
  },
  {
   "cell_type": "code",
   "execution_count": 11,
   "metadata": {
    "collapsed": false,
    "jupyter": {
     "outputs_hidden": false
    }
   },
   "outputs": [],
   "source": [
    "#Define the hypervolumemetric\n",
    "hv = HypervolumeMetric(reference_set, problem)"
   ]
  },
  {
   "cell_type": "code",
   "execution_count": 12,
   "metadata": {
    "collapsed": false,
    "jupyter": {
     "outputs_hidden": false
    }
   },
   "outputs": [],
   "source": [
    "# Calculate the metrics\n",
    "metrics_by_seed = []\n",
    "for archives in all_archives:\n",
    "    metrics = []\n",
    "    for nfe, archive in archives.items():\n",
    "        scores = {\n",
    "            \"hypervolume\": hv.calculate(archive),\n",
    "            \"nfe\": int(nfe),\n",
    "        }\n",
    "        metrics.append(scores)\n",
    "    metrics = pd.DataFrame.from_dict(metrics)\n",
    "\n",
    "    # sort metrics by number of function evaluations\n",
    "    metrics.sort_values(by=\"nfe\", inplace=True)\n",
    "    metrics_name = 'metrics.csv'\n",
    "    #metrics.to_csv(os.path.join(cwd, metrics_name))\n",
    "\n",
    "    metrics_by_seed.append(metrics)"
   ]
  },
  {
   "cell_type": "code",
   "execution_count": 13,
   "metadata": {
    "collapsed": false,
    "jupyter": {
     "outputs_hidden": false
    }
   },
   "outputs": [
    {
     "data": {
      "image/png": "[encoded data removed]",
      "text/plain": [
       "<Figure size 800x1200 with 2 Axes>"
      ]
     },
     "metadata": {},
     "output_type": "display_data"
    }
   ],
   "source": [
    "# Visualize convergence metrics\n",
    "sns.set_style(\"white\")\n",
    "fig, axes = plt.subplots(nrows=2, figsize=(8, 12), sharex=True)\n",
    "\n",
    "ax1, ax2 = axes\n",
    "\n",
    "for metrics, convergence in zip(metrics_by_seed, convergences):\n",
    "    ax1.plot(metrics.nfe, metrics.hypervolume)\n",
    "    ax1.set_ylabel(\"hypervolume\")\n",
    "\n",
    "    ax2.plot(convergence.nfe, convergence.epsilon_progress)\n",
    "    ax2.set_ylabel(\"$\\epsilon$ progress\")\n",
    "    \n",
    "sns.despine(fig)\n",
    "\n",
    "plt.show()"
   ]
  },
  {
   "cell_type": "code",
   "execution_count": 14,
   "metadata": {
    "collapsed": false,
    "jupyter": {
     "outputs_hidden": false
    }
   },
   "outputs": [],
   "source": [
    "#print(metrics_by_seed)"
   ]
  },
  {
   "cell_type": "code",
   "execution_count": null,
   "metadata": {
    "collapsed": false,
    "jupyter": {
     "outputs_hidden": false
    }
   },
   "outputs": [],
   "source": []
  },
  {
   "cell_type": "code",
   "execution_count": 15,
   "metadata": {
    "collapsed": false,
    "jupyter": {
     "outputs_hidden": false
    },
    "tags": []
   },
   "outputs": [
    {
     "data": {
      "text/plain": [
       "'C:\\\\Users\\\\whitl\\\\OneDrive\\\\Documenten\\\\MASTER\\\\Year 2\\\\THESIS\\\\16.02.22.Multiobjective\\\\Multiobjective-multi-reservoir-control-d50e4da0f6a9a9c852b4904e640299adc96714bb\\\\ZambeziSmashPython\\\\runs\\\\BaseCase_35000nfe_5seed'"
      ]
     },
     "execution_count": 15,
     "metadata": {},
     "output_type": "execute_result"
    }
   ],
   "source": [
    "os.getcwd()"
   ]
  },
  {
   "cell_type": "markdown",
   "metadata": {},
   "source": [
    "# IRRIGATION CASE"
   ]
  },
  {
   "cell_type": "code",
   "execution_count": 53,
   "metadata": {
    "tags": []
   },
   "outputs": [
    {
     "data": {
      "text/plain": [
       "'C:\\\\Users\\\\whitl\\\\OneDrive\\\\Documenten\\\\MASTER\\\\Year 2\\\\THESIS\\\\16.02.22.Multiobjective\\\\Multiobjective-multi-reservoir-control-d50e4da0f6a9a9c852b4904e640299adc96714bb\\\\ZambeziSmashPython\\\\src'"
      ]
     },
     "execution_count": 53,
     "metadata": {},
     "output_type": "execute_result"
    }
   ],
   "source": [
    "if not os.path.exists(\"../src\"):\n",
    "    os.chdir(\"../../src\")\n",
    "else:\n",
    "    os.chdir('../src')\n",
    "os.getcwd()"
   ]
  },
  {
   "cell_type": "code",
   "execution_count": 54,
   "metadata": {
    "collapsed": false,
    "jupyter": {
     "outputs_hidden": false
    },
    "tags": []
   },
   "outputs": [],
   "source": [
    "from model_zambezi_OPT_irr import ModelZambezi\n",
    "\n",
    "ZambeziProblem = ModelZambezi()\n",
    "\n",
    "def model_wrapper(**kwargs):\n",
    "    input = [kwargs['v' + str(i)] for i in range(len(kwargs))]\n",
    "    Hydropower, Environment, Irrigation, Irrigation2, Irrigation3, Irrigation4, Irrigation5, Irrigation6, Irrigation7, \\\n",
    "        Irrigation8, Irrigation9 = tuple(ZambeziProblem.evaluate(np.array(input)))\n",
    "    return Hydropower, Environment, Irrigation, Irrigation2, Irrigation3, Irrigation4, Irrigation5, Irrigation6, \\\n",
    "        Irrigation7, Irrigation8, Irrigation9\n",
    "# specify model\n",
    "model = Model('zambeziproblem', function=model_wrapper)\n",
    "\n",
    "# levers\n",
    "model.levers = [RealParameter('v' + str(i), -1, 1) for i in range(ZambeziProblem.Nvar)]\n",
    "\n",
    "# specify outcomes\n",
    "model.outcomes = [ScalarOutcome('Hydropower', ScalarOutcome.MINIMIZE),  # Minimize, because deficits\n",
    "                  ScalarOutcome('Environment', ScalarOutcome.MINIMIZE),\n",
    "                  ScalarOutcome('Irrigation', ScalarOutcome.MINIMIZE),\n",
    "                  ScalarOutcome('Irrigation2', ScalarOutcome.MINIMIZE),\n",
    "                  ScalarOutcome('Irrigation3', ScalarOutcome.MINIMIZE),\n",
    "                  ScalarOutcome('Irrigation4', ScalarOutcome.MINIMIZE),\n",
    "                  ScalarOutcome('Irrigation5', ScalarOutcome.MINIMIZE),\n",
    "                  ScalarOutcome('Irrigation6', ScalarOutcome.MINIMIZE),\n",
    "                  ScalarOutcome('Irrigation7', ScalarOutcome.MINIMIZE),\n",
    "                  ScalarOutcome('Irrigation8', ScalarOutcome.MINIMIZE),\n",
    "                  ScalarOutcome('Irrigation9', ScalarOutcome.MINIMIZE),\n",
    "                  ]\n"
   ]
  },
  {
   "cell_type": "code",
   "execution_count": 55,
   "metadata": {
    "collapsed": false,
    "jupyter": {
     "outputs_hidden": false
    },
    "tags": []
   },
   "outputs": [],
   "source": [
    "#Problem definition\n",
    "problem = to_problem(model, searchover=\"levers\")"
   ]
  },
  {
   "cell_type": "markdown",
   "metadata": {},
   "source": [
    "Run definition"
   ]
  },
  {
   "cell_type": "code",
   "execution_count": 56,
   "metadata": {
    "tags": []
   },
   "outputs": [
    {
     "data": {
      "text/plain": [
       "'C:\\\\Users\\\\whitl\\\\OneDrive\\\\Documenten\\\\MASTER\\\\Year 2\\\\THESIS\\\\16.02.22.Multiobjective\\\\Multiobjective-multi-reservoir-control-d50e4da0f6a9a9c852b4904e640299adc96714bb\\\\ZambeziSmashPython\\\\src'"
      ]
     },
     "execution_count": 56,
     "metadata": {},
     "output_type": "execute_result"
    }
   ],
   "source": [
    "os.getcwd()"
   ]
  },
  {
   "cell_type": "code",
   "execution_count": 57,
   "metadata": {
    "collapsed": false,
    "jupyter": {
     "outputs_hidden": false
    },
    "tags": []
   },
   "outputs": [
    {
     "data": {
      "text/plain": [
       "'C:\\\\Users\\\\whitl\\\\OneDrive\\\\Documenten\\\\MASTER\\\\Year 2\\\\THESIS\\\\16.02.22.Multiobjective\\\\Multiobjective-multi-reservoir-control-d50e4da0f6a9a9c852b4904e640299adc96714bb\\\\ZambeziSmashPython\\\\runs\\\\irr_test_cwd_10000nfe_1seed'"
      ]
     },
     "execution_count": 57,
     "metadata": {},
     "output_type": "execute_result"
    }
   ],
   "source": [
    "\n",
    "nfe = 10000 #\n",
    "seeds = 1\n",
    "run_comment = 'irr_test_cwd'\n",
    "run_label = f\"{run_comment}_{nfe}nfe_{seeds}seed\"\n",
    "\n",
    "os.chdir(f'../runs/{run_label}')\n",
    "os.getcwd()"
   ]
  },
  {
   "cell_type": "markdown",
   "metadata": {},
   "source": [
    "Change the load archives method of the ArchiveLogger class"
   ]
  },
  {
   "cell_type": "code",
   "execution_count": 58,
   "metadata": {
    "collapsed": false,
    "jupyter": {
     "outputs_hidden": false
    },
    "tags": []
   },
   "outputs": [],
   "source": [
    "import tarfile \n",
    "def alternative_load_archives(filename): #cls,\n",
    "    archives = {}\n",
    "    with tarfile.open(os.path.abspath(filename)) as fh:\n",
    "        for entry in fh.getmembers():\n",
    "            if entry.name.endswith(\"csv\"):\n",
    "                key = entry.name.split(\"/\")[1][:-4]\n",
    "                archives[int(key)] = pd.read_csv(fh.extractfile(entry), index_col=0)\n",
    "    return archives\n",
    "\n",
    "ArchiveLogger.load_archives = alternative_load_archives"
   ]
  },
  {
   "cell_type": "markdown",
   "metadata": {},
   "source": [
    "Merge convergences "
   ]
  },
  {
   "cell_type": "code",
   "execution_count": 59,
   "metadata": {
    "collapsed": false,
    "jupyter": {
     "outputs_hidden": false
    },
    "tags": []
   },
   "outputs": [],
   "source": [
    "convergences = []\n",
    "for i in range(seeds):\n",
    "    df = pd.read_csv(f\"convergence{i}.csv\")\n",
    "    convergences.append(df)\n",
    "    #f'convergence{i}' = pd.read_csv(f\"{run_name}/convergence{i}.csv\") \n",
    "    #print(f'convergence{i}')"
   ]
  },
  {
   "cell_type": "code",
   "execution_count": 60,
   "metadata": {
    "collapsed": false,
    "jupyter": {
     "outputs_hidden": false
    },
    "tags": []
   },
   "outputs": [],
   "source": [
    "# Load the archives\n",
    "all_archives = []\n",
    "for i in range(seeds):\n",
    "    archives = ArchiveLogger.load_archives(f\"archives/{i}.csv\")\n",
    "        #archives.items()[nfe] =\n",
    "        #archives = archives.loc[:, ~archives.columns.str.contains('^Unnamed')]\n",
    "    all_archives.append(archives)\n"
   ]
  },
  {
   "cell_type": "code",
   "execution_count": 61,
   "metadata": {
    "collapsed": false,
    "jupyter": {
     "outputs_hidden": false
    },
    "tags": []
   },
   "outputs": [],
   "source": [
    "# Create the results list\n",
    "results_list = []\n",
    "for i in range(seeds):\n",
    "    result = pd.read_csv(f\"results_seed{i}.csv\")\n",
    "        #archives.items()[nfe] =\n",
    "        #archives = archives.loc[:, ~archives.columns.str.contains('^Unnamed')]\n",
    "    results_list.append(result)"
   ]
  },
  {
   "cell_type": "code",
   "execution_count": 62,
   "metadata": {
    "collapsed": false,
    "jupyter": {
     "outputs_hidden": false
    },
    "tags": []
   },
   "outputs": [
    {
     "name": "stdout",
     "output_type": "stream",
     "text": [
      "reference_set           v0        v1        v2        v3        v4        v5        v6  \\\n",
      "0   0.618462  0.300936  0.830693  0.221726  0.460580  0.293211 -0.649920   \n",
      "1   0.317297 -0.135432  0.365170  0.111741  0.321154  0.387522  0.593641   \n",
      "2   0.497472  0.484828  0.589403  0.469855  0.704133  0.662675  0.834885   \n",
      "3  -0.038023  0.275601  0.554190  0.390606  0.158641  0.475079  0.946037   \n",
      "4   0.511902  0.567968  0.758168  0.591860  0.699604  0.449488  0.788364   \n",
      "5   0.429025  0.380007  0.396391  0.416820  0.639434  0.333335  0.681193   \n",
      "6   1.000000  0.098761  1.000000  0.788224  0.387861  0.209325  0.971578   \n",
      "7  -0.038229  0.678442  0.545053  0.400278  0.819312  0.396992  0.950745   \n",
      "8   0.697727  0.426228  0.584873  0.570928  0.699993  0.237313  0.685455   \n",
      "9   1.000000 -0.676300  1.000000  1.000000  1.000000  0.492220  0.870853   \n",
      "10  1.000000  0.072192  0.872818  0.793554  0.394645  0.229975  0.958903   \n",
      "11  0.798826  0.392017  0.761265  0.458390  0.823791  0.339181  0.783849   \n",
      "12 -0.383767  0.307429 -0.005549 -0.104385 -0.123770 -0.169017  0.384832   \n",
      "13 -0.383767  0.982505 -0.009448 -0.122627 -0.123770  0.926098  0.384832   \n",
      "14  0.999287  0.999445  0.999407 -0.506798  0.405369  0.835552  0.958763   \n",
      "15  0.999287  0.999662  0.999377  0.793132  0.405369  0.994368  0.958764   \n",
      "16  0.968415  0.363022  0.996583  0.096648  0.579875  0.995961  0.540779   \n",
      "17  0.637607  0.172952  0.651311  0.413192  0.663118  0.537110  0.579424   \n",
      "18  0.999287  0.999445  0.999407 -0.525732  0.405369  0.835552  0.958763   \n",
      "19  0.687059  0.358922  0.859892  0.982072  0.724878  0.999929  0.663610   \n",
      "20  1.000000  0.806546  1.000000 -0.695689  0.371049  0.908120  1.000000   \n",
      "21  0.985147  0.034734  0.950917  0.844802  0.380866  0.232496  0.966981   \n",
      "22 -0.401535  0.385481 -0.027497 -0.128438 -0.124195  0.902442  0.384730   \n",
      "23  0.717394  0.786541  0.839030  0.842733  0.619093  0.913725  0.614429   \n",
      "24  0.795317  0.542152  0.973206  0.385615  0.762229  0.394879  0.890745   \n",
      "25  0.999287  0.999445  0.999407  0.876934  0.539186  0.976988  0.958763   \n",
      "26  1.000000 -0.581793  0.910687 -0.448367  0.930024  0.967527  1.000000   \n",
      "\n",
      "          v7        v8        v9  ...   Environment  Irrigation  Irrigation2  \\\n",
      "0  -0.405483 -0.963136  0.449908  ...  2.099602e+06    1.716191     0.267928   \n",
      "1  -0.145344  0.713605  0.129892  ...  2.387039e+06    1.042421     0.020446   \n",
      "2   0.121839  0.628748  0.233040  ...  2.237486e+06    2.837523     0.374265   \n",
      "3   0.814753 -0.965952 -0.840182  ...  3.341798e+06    1.497428     0.023072   \n",
      "4   0.261603  0.520557  0.722293  ...  2.271860e+06    2.650567     0.470022   \n",
      "5  -0.313312  0.652451  0.327890  ...  2.621066e+06    1.733819     0.268754   \n",
      "6   0.442344  0.603706 -0.243839  ...  1.357940e+06    2.425406     0.122871   \n",
      "7  -0.932592  0.625091  0.264618  ...  3.712763e+06    1.655332     0.023072   \n",
      "8   0.079034  0.418987  0.451328  ...  2.350220e+06    2.168487     0.432526   \n",
      "9  -0.141231  0.793174  0.787503  ...  2.089166e+06    3.200706     0.000000   \n",
      "10 -0.522630  0.303491  0.817573  ...  1.728557e+06    2.312487     0.071991   \n",
      "11  0.505512  0.824005  0.607268  ...  2.963202e+06    2.666730     0.432773   \n",
      "12 -0.946320  0.903612 -0.312125  ...  3.357847e+06    0.702887     0.023072   \n",
      "13 -0.946320  0.903612 -0.312125  ...  2.647014e+06    0.594553     0.023072   \n",
      "14  0.442046  0.589498  0.788390  ...  1.348782e+06    3.389393     0.800028   \n",
      "15  0.442046  0.589498  0.786691  ...  1.438966e+06    3.770888     0.800028   \n",
      "16  0.437591  0.906710  1.000000  ...  2.258381e+06    3.347649     0.440301   \n",
      "17  0.323278  0.659011  0.324691  ...  2.507482e+06    2.108383     0.191092   \n",
      "18  0.442046  0.589498  0.788390  ...  1.463761e+06    3.334095     0.800028   \n",
      "19  0.982703  0.906710  1.000000  ...  2.047047e+06    3.949994     0.345269   \n",
      "20  0.536544  0.953002  1.000000  ...  1.217171e+06    4.119880     0.733095   \n",
      "21  0.370916  0.602220  0.980603  ...  1.949590e+06    2.644066     0.029897   \n",
      "22 -0.910571  0.921297  0.300026  ...  3.275397e+06    0.741415     0.023072   \n",
      "23  0.961420  0.895487  0.874093  ...  3.416423e+06    3.723146     0.657530   \n",
      "24  0.704091  1.000000  0.318794  ...  2.301428e+06    2.931788     0.568492   \n",
      "25  0.971361  0.724044  0.998118  ...  1.920469e+06    4.086585     0.800028   \n",
      "26  0.505563  1.000000  0.404786  ...  1.340381e+06    3.392409     0.000000   \n",
      "\n",
      "    Irrigation3  Irrigation4  Irrigation5   Irrigation6  Irrigation7  \\\n",
      "0      0.382455     0.095402     0.088623  4.855976e-03     0.500000   \n",
      "1      0.021538     0.093032     0.023350  2.874103e-02     0.495833   \n",
      "2      0.464633     0.423516     0.122327  1.088261e-01     0.483333   \n",
      "3      0.152803     0.036972     0.427982  1.182614e-03     0.500000   \n",
      "4      0.264225     0.303607     0.172503  1.763668e-01     0.458333   \n",
      "5      0.062166     0.164784     0.000185  7.802595e-02     0.466667   \n",
      "6      0.605029     0.085709     0.286356  1.368684e-01     0.225000   \n",
      "7      0.151640     0.262298     0.000000  7.012237e-02     0.500000   \n",
      "8      0.253368     0.111001     0.104882  8.702359e-02     0.487500   \n",
      "9      0.702808     0.396284     0.002063  4.946316e-01     0.500000   \n",
      "10     0.605332     0.100145     0.004368  4.030307e-01     0.245833   \n",
      "11     0.242465     0.214134     0.269396  2.851571e-01     0.491667   \n",
      "12     0.009103     0.001954     0.188700  1.092342e-06     0.250000   \n",
      "13     0.009103     0.001954     0.188700  8.536098e-07     0.150000   \n",
      "14     0.503885     0.446481     0.295222  4.143706e-01     0.170833   \n",
      "15     0.576968     0.507113     0.294541  3.886911e-01     0.212500   \n",
      "16     0.043361     0.580456     0.212458  5.607112e-01     0.408333   \n",
      "17     0.172280     0.318955     0.178750  8.448493e-02     0.454167   \n",
      "18     0.425499     0.455003     0.297604  3.961641e-01     0.183333   \n",
      "19     0.654194     0.631548     0.381289  5.954939e-01     0.404167   \n",
      "20     0.529058     0.434103     0.338533  6.139740e-01     0.325000   \n",
      "21     0.619992     0.076335     0.275076  4.820116e-01     0.208333   \n",
      "22     0.009103     0.001954     0.196951  1.636113e-01     0.179167   \n",
      "23     0.462441     0.551721     0.371441  4.430779e-01     0.491667   \n",
      "24     0.209823     0.244738     0.369830  1.283031e-01     0.487500   \n",
      "25     0.561625     0.592949     0.425756  4.162186e-01     0.475000   \n",
      "26     0.508080     0.739336     0.293858  3.500401e-01     0.250000   \n",
      "\n",
      "    Irrigation8  Irrigation9  \n",
      "0      0.367529     0.009398  \n",
      "1      0.345663     0.013817  \n",
      "2      0.371641     0.488981  \n",
      "3      0.355416     0.000000  \n",
      "4      0.310352     0.495158  \n",
      "5      0.336180     0.357057  \n",
      "6      0.384125     0.579447  \n",
      "7      0.356962     0.291237  \n",
      "8      0.313238     0.378948  \n",
      "9      0.351712     0.753208  \n",
      "10     0.325113     0.556674  \n",
      "11     0.414031     0.317107  \n",
      "12     0.220833     0.009222  \n",
      "13     0.212500     0.009222  \n",
      "14     0.270833     0.487741  \n",
      "15     0.283333     0.707714  \n",
      "16     0.360029     0.742000  \n",
      "17     0.348288     0.360367  \n",
      "18     0.275000     0.501465  \n",
      "19     0.395610     0.542423  \n",
      "20     0.723350     0.422767  \n",
      "21     0.295585     0.656837  \n",
      "22     0.158333     0.009222  \n",
      "23     0.443626     0.301643  \n",
      "24     0.557966     0.365137  \n",
      "25     0.320833     0.494174  \n",
      "26     0.523950     0.727145  \n",
      "\n",
      "[27 rows x 241 columns]\n",
      "reference_set type is <class 'pandas.core.frame.DataFrame'>\n"
     ]
    }
   ],
   "source": [
    "# Define the reference list\n",
    "reference_set = epsilon_nondominated(results_list, [0.05] * len(model.outcomes), problem)  # [0.05]\n",
    "print('reference_set', reference_set)\n",
    "print('reference_set type is', type(reference_set))"
   ]
  },
  {
   "cell_type": "code",
   "execution_count": 63,
   "metadata": {
    "collapsed": false,
    "jupyter": {
     "outputs_hidden": false
    },
    "tags": []
   },
   "outputs": [],
   "source": [
    "#Define the hypervolumemetric\n",
    "hv = HypervolumeMetric(reference_set, problem)"
   ]
  },
  {
   "cell_type": "code",
   "execution_count": null,
   "metadata": {
    "collapsed": false,
    "jupyter": {
     "outputs_hidden": false
    },
    "tags": []
   },
   "outputs": [],
   "source": [
    "# Calculate the metrics\n",
    "metrics_by_seed = []\n",
    "for archives in all_archives:\n",
    "    metrics = []\n",
    "    for nfe, archive in archives.items():\n",
    "        scores = {\n",
    "            \"hypervolume\": hv.calculate(archive),\n",
    "            \"nfe\": int(nfe),\n",
    "        }\n",
    "        metrics.append(scores)\n",
    "    metrics = pd.DataFrame.from_dict(metrics)\n",
    "\n",
    "    # sort metrics by number of function evaluations\n",
    "    metrics.sort_values(by=\"nfe\", inplace=True)\n",
    "    metrics_name = 'metrics.csv'\n",
    "    #metrics.to_csv(os.path.join(cwd, metrics_name))\n",
    "\n",
    "    metrics_by_seed.append(metrics)"
   ]
  },
  {
   "cell_type": "code",
   "execution_count": null,
   "metadata": {
    "collapsed": false,
    "jupyter": {
     "outputs_hidden": false
    },
    "tags": []
   },
   "outputs": [],
   "source": [
    "# Visualize convergence metrics\n",
    "sns.set_style(\"white\")\n",
    "fig, axes = plt.subplots(nrows=2, figsize=(8, 12), sharex=True)\n",
    "\n",
    "ax1, ax2 = axes\n",
    "\n",
    "for metrics, convergence in zip(metrics_by_seed, convergences):\n",
    "    ax1.plot(metrics.nfe, metrics.hypervolume)\n",
    "    ax1.set_ylabel(\"hypervolume\")\n",
    "\n",
    "    ax2.plot(convergence.nfe, convergence.epsilon_progress)\n",
    "    ax2.set_ylabel(\"$\\epsilon$ progress\")\n",
    "    \n",
    "sns.despine(fig)\n",
    "\n",
    "plt.show()"
   ]
  },
  {
   "cell_type": "code",
   "execution_count": null,
   "metadata": {
    "collapsed": false,
    "jupyter": {
     "outputs_hidden": false
    }
   },
   "outputs": [],
   "source": []
  }
 ],
 "metadata": {
  "kernelspec": {
   "display_name": "Python 3 (ipykernel)",
   "language": "python",
   "name": "python3"
  },
  "language_info": {
   "codemirror_mode": {
    "name": "ipython",
    "version": 3
   },
   "file_extension": ".py",
   "mimetype": "text/x-python",
   "name": "python",
   "nbconvert_exporter": "python",
   "pygments_lexer": "ipython3",
   "version": "3.9.18"
  }
 },
 "nbformat": 4,
 "nbformat_minor": 4
}
