{
 "cells": [
  {
   "cell_type": "markdown",
   "metadata": {},
   "source": [
    "# Convergence"
   ]
  },
  {
   "cell_type": "code",
   "execution_count": 1,
   "metadata": {
    "tags": []
   },
   "outputs": [],
   "source": [
    "import pandas as pd \n",
    "import matplotlib.pyplot as plt\n",
    "import seaborn as sns\n",
    "import os\n",
    "from ema_workbench import (MultiprocessingEvaluator, ema_logging, RealParameter, ScalarOutcome, Constant,\n",
    "                           Model, HypervolumeMetric, save_results)\n",
    "from ema_workbench.em_framework.optimization import (GenerationalBorg, epsilon_nondominated, to_problem, ArchiveLogger,\n",
    "                                                     EpsilonProgress)"
   ]
  },
  {
   "cell_type": "code",
   "execution_count": 2,
   "metadata": {
    "tags": []
   },
   "outputs": [],
   "source": [
    "os.chdir('../src')"
   ]
  },
  {
   "cell_type": "markdown",
   "metadata": {},
   "source": [
    "Model definition"
   ]
  },
  {
   "cell_type": "code",
   "execution_count": 3,
   "metadata": {
    "tags": []
   },
   "outputs": [],
   "source": [
    "from model_zambezi_OPT import ModelZambezi\n",
    "\n",
    "ZambeziProblem = ModelZambezi()\n",
    "\n",
    "def model_wrapper(**kwargs):\n",
    "    input = [kwargs['v' + str(i)] for i in range(len(kwargs))]\n",
    "    # print('len kwargs is', len(kwargs)) = 230\n",
    "    Hydropower, Environment, Irrigation = tuple(ZambeziProblem.evaluate(np.array(input)))\n",
    "    return Hydropower, Environment, Irrigation\n",
    "\n",
    "# specify model\n",
    "model = Model('zambeziproblem', function=model_wrapper)\n",
    "\n",
    "# levers\n",
    "model.levers = [RealParameter('v' + str(i), -1, 1) for i in range(ZambeziProblem.Nvar)]\n",
    "\n",
    "# specify outcomes\n",
    "model.outcomes = [ScalarOutcome('Hydropower', ScalarOutcome.MINIMIZE),  # Minimize, because deficits\n",
    "                  ScalarOutcome('Environment', ScalarOutcome.MINIMIZE),\n",
    "                  ScalarOutcome('Irrigation', ScalarOutcome.MINIMIZE)]\n"
   ]
  },
  {
   "cell_type": "code",
   "execution_count": 4,
   "metadata": {
    "tags": []
   },
   "outputs": [],
   "source": [
    "#Problem definition\n",
    "problem = to_problem(model, searchover=\"levers\")"
   ]
  },
  {
   "cell_type": "markdown",
   "metadata": {},
   "source": [
    "Run definition"
   ]
  },
  {
   "cell_type": "code",
   "execution_count": 5,
   "metadata": {
    "tags": []
   },
   "outputs": [
    {
     "data": {
      "text/plain": [
       "'C:\\\\Users\\\\whitl\\\\OneDrive\\\\Documenten\\\\MASTER\\\\Year 2\\\\THESIS\\\\16.02.22.Multiobjective\\\\Multiobjective-multi-reservoir-control-d50e4da0f6a9a9c852b4904e640299adc96714bb\\\\ZambeziSmashPython\\\\runs\\\\nologgerfunc_200nfe_2seed'"
      ]
     },
     "execution_count": 5,
     "metadata": {},
     "output_type": "execute_result"
    }
   ],
   "source": [
    "nfe = 200 #\n",
    "seeds = 2\n",
    "run_comment = 'nologgerfunc'\n",
    "run_label = f\"{run_comment}_{nfe}nfe_{seeds}seed\"\n",
    "\n",
    "os.chdir(f'../runs/{run_label}')\n",
    "os.getcwd()"
   ]
  },
  {
   "cell_type": "markdown",
   "metadata": {},
   "source": [
    "Change the load archives method of the ArchiveLogger class"
   ]
  },
  {
   "cell_type": "code",
   "execution_count": 6,
   "metadata": {
    "tags": []
   },
   "outputs": [],
   "source": [
    "import tarfile \n",
    "def alternative_load_archives(filename): #cls,\n",
    "    archives = {}\n",
    "    with tarfile.open(os.path.abspath(filename)) as fh:\n",
    "        for entry in fh.getmembers():\n",
    "            if entry.name.endswith(\"csv\"):\n",
    "                key = entry.name.split(\"/\")[1][:-4]\n",
    "                archives[int(key)] = pd.read_csv(fh.extractfile(entry), index_col=0)\n",
    "    return archives\n",
    "\n",
    "ArchiveLogger.load_archives = alternative_load_archives"
   ]
  },
  {
   "cell_type": "markdown",
   "metadata": {},
   "source": [
    "Merge convergences "
   ]
  },
  {
   "cell_type": "code",
   "execution_count": 7,
   "metadata": {
    "tags": []
   },
   "outputs": [],
   "source": [
    "convergences = []\n",
    "for i in range(seeds):\n",
    "    df = pd.read_csv(f\"convergence{i}.csv\")\n",
    "    convergences.append(df)\n",
    "    #f'convergence{i}' = pd.read_csv(f\"{run_name}/convergence{i}.csv\") \n",
    "    #print(f'convergence{i}')"
   ]
  },
  {
   "cell_type": "code",
   "execution_count": 8,
   "metadata": {
    "tags": []
   },
   "outputs": [],
   "source": [
    "# Load the archives\n",
    "all_archives = []\n",
    "for i in range(seeds):\n",
    "    archives = ArchiveLogger.load_archives(f\"archives/{i}.csv\")\n",
    "        #archives.items()[nfe] =\n",
    "        #archives = archives.loc[:, ~archives.columns.str.contains('^Unnamed')]\n",
    "    all_archives.append(archives)\n"
   ]
  },
  {
   "cell_type": "code",
   "execution_count": 9,
   "metadata": {
    "tags": []
   },
   "outputs": [],
   "source": [
    "# Create the results list\n",
    "results_list = []\n",
    "for i in range(seeds):\n",
    "    result = pd.read_csv(f\"results_seed{i}.csv\")\n",
    "        #archives.items()[nfe] =\n",
    "        #archives = archives.loc[:, ~archives.columns.str.contains('^Unnamed')]\n",
    "    results_list.append(result)"
   ]
  },
  {
   "cell_type": "code",
   "execution_count": 10,
   "metadata": {
    "tags": []
   },
   "outputs": [
    {
     "name": "stdout",
     "output_type": "stream",
     "text": [
      "reference_set          v0        v1        v2        v3        v4        v5        v6  \\\n",
      "0 -0.585331 -0.512826  0.011481 -0.578277 -0.210124 -0.625810  0.092790   \n",
      "1  0.038016 -0.058333  0.260364 -0.113002  0.283033 -0.059263  0.218423   \n",
      "\n",
      "         v7        v8        v9  ...      v223      v224     v225      v226  \\\n",
      "0  0.952882  0.350645  0.632807  ...  0.535201  0.815185  0.60855  0.461293   \n",
      "1 -0.170923 -0.172600  0.114783  ... -0.451806 -0.078900  0.14283  0.019696   \n",
      "\n",
      "       v227      v228      v229  Hydropower   Environment  Irrigation  \n",
      "0 -0.313176  0.020283 -0.853192   14.369320  2.855703e+06    1.122790  \n",
      "1 -0.242858 -0.027748 -0.092569   16.972215  2.094243e+06    1.362495  \n",
      "\n",
      "[2 rows x 233 columns]\n",
      "reference_set type is <class 'pandas.core.frame.DataFrame'>\n"
     ]
    }
   ],
   "source": [
    "# Define the reference list\n",
    "reference_set = epsilon_nondominated(results_list, [0.8] * len(model.outcomes), problem)  # [0.05]\n",
    "print('reference_set', reference_set)\n",
    "print('reference_set type is', type(reference_set))"
   ]
  },
  {
   "cell_type": "code",
   "execution_count": 11,
   "metadata": {
    "tags": []
   },
   "outputs": [],
   "source": [
    "#Define the hypervolumemetric\n",
    "hv = HypervolumeMetric(reference_set, problem)"
   ]
  },
  {
   "cell_type": "code",
   "execution_count": 12,
   "metadata": {},
   "outputs": [],
   "source": [
    "# Calculate the metrics\n",
    "metrics_by_seed = []\n",
    "for archives in all_archives:\n",
    "    metrics = []\n",
    "    for nfe, archive in archives.items():\n",
    "        scores = {\n",
    "            \"hypervolume\": hv.calculate(archive),\n",
    "            \"nfe\": int(nfe),\n",
    "        }\n",
    "        metrics.append(scores)\n",
    "    metrics = pd.DataFrame.from_dict(metrics)\n",
    "\n",
    "    # sort metrics by number of function evaluations\n",
    "    metrics.sort_values(by=\"nfe\", inplace=True)\n",
    "    metrics_name = 'metrics.csv'\n",
    "    #metrics.to_csv(os.path.join(cwd, metrics_name))\n",
    "\n",
    "    metrics_by_seed.append(metrics)"
   ]
  },
  {
   "cell_type": "code",
   "execution_count": 13,
   "metadata": {
    "tags": []
   },
   "outputs": [
    {
     "data": {
      "image/png": "[encoded data removed]",
      "text/plain": [
       "<Figure size 800x1200 with 2 Axes>"
      ]
     },
     "metadata": {},
     "output_type": "display_data"
    }
   ],
   "source": [
    "# Visualize convergence metrics\n",
    "sns.set_style(\"white\")\n",
    "fig, axes = plt.subplots(nrows=2, figsize=(8, 12), sharex=True)\n",
    "\n",
    "ax1, ax2 = axes\n",
    "\n",
    "for metrics, convergence in zip(metrics_by_seed, convergences):\n",
    "    ax1.plot(metrics.nfe, metrics.hypervolume)\n",
    "    ax1.set_ylabel(\"hypervolume\")\n",
    "\n",
    "    ax2.plot(convergence.nfe, convergence.epsilon_progress)\n",
    "    ax2.set_ylabel(\"$\\epsilon$ progress\")\n",
    "    \n",
    "sns.despine(fig)\n",
    "\n",
    "plt.show()"
   ]
  },
  {
   "cell_type": "code",
   "execution_count": 14,
   "metadata": {},
   "outputs": [
    {
     "name": "stdout",
     "output_type": "stream",
     "text": [
      "[   hypervolume  nfe\n",
      "0     0.000000    0\n",
      "1     0.000893  100\n",
      "2     0.000893  291,    hypervolume  nfe\n",
      "0          0.0    0\n",
      "1          0.0  100\n",
      "2          0.0  291]\n"
     ]
    }
   ],
   "source": [
    "print(metrics_by_seed)"
   ]
  },
  {
   "cell_type": "code",
   "execution_count": null,
   "metadata": {},
   "outputs": [],
   "source": []
  },
  {
   "cell_type": "code",
   "execution_count": null,
   "metadata": {},
   "outputs": [],
   "source": []
  }
 ],
 "metadata": {
  "kernelspec": {
   "display_name": "Python 3 (ipykernel)",
   "language": "python",
   "name": "python3"
  },
  "language_info": {
   "codemirror_mode": {
    "name": "ipython",
    "version": 3
   },
   "file_extension": ".py",
   "mimetype": "text/x-python",
   "name": "python",
   "nbconvert_exporter": "python",
   "pygments_lexer": "ipython3",
   "version": "3.9.18"
  }
 },
 "nbformat": 4,
 "nbformat_minor": 4
}
