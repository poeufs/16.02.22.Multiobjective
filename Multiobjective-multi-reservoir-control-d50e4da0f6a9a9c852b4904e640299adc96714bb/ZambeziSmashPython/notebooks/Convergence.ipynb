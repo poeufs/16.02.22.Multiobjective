{
 "cells": [
  {
   "cell_type": "markdown",
   "metadata": {},
   "source": [
    "# Convergence"
   ]
  },
  {
   "cell_type": "code",
   "execution_count": 1,
   "metadata": {
    "tags": []
   },
   "outputs": [],
   "source": [
    "import pandas as pd \n",
    "import matplotlib.pyplot as plt\n",
    "import seaborn as sns\n",
    "import os\n",
    "from ema_workbench import (MultiprocessingEvaluator, ema_logging, RealParameter, ScalarOutcome, Constant,\n",
    "                           Model, HypervolumeMetric, save_results)\n",
    "from ema_workbench.em_framework.optimization import (GenerationalBorg, epsilon_nondominated, to_problem, ArchiveLogger,\n",
    "                                                     EpsilonProgress)"
   ]
  },
  {
   "cell_type": "code",
   "execution_count": 2,
   "metadata": {
    "tags": []
   },
   "outputs": [],
   "source": [
    "os.chdir('../src')"
   ]
  },
  {
   "cell_type": "markdown",
   "metadata": {},
   "source": [
    "Model definition"
   ]
  },
  {
   "cell_type": "code",
   "execution_count": 3,
   "metadata": {
    "tags": []
   },
   "outputs": [],
   "source": [
    "from model_zambezi_OPT import ModelZambezi\n",
    "\n",
    "ZambeziProblem = ModelZambezi()\n",
    "\n",
    "def model_wrapper(**kwargs):\n",
    "    input = [kwargs['v' + str(i)] for i in range(len(kwargs))]\n",
    "    # print('len kwargs is', len(kwargs)) = 230\n",
    "    Hydropower, Environment, Irrigation = tuple(ZambeziProblem.evaluate(np.array(input)))\n",
    "    return Hydropower, Environment, Irrigation\n",
    "\n",
    "# specify model\n",
    "model = Model('zambeziproblem', function=model_wrapper)\n",
    "\n",
    "# levers\n",
    "model.levers = [RealParameter('v' + str(i), -1, 1) for i in range(ZambeziProblem.Nvar)]\n",
    "\n",
    "# specify outcomes\n",
    "model.outcomes = [ScalarOutcome('Hydropower', ScalarOutcome.MINIMIZE),  # Minimize, because deficits\n",
    "                  ScalarOutcome('Environment', ScalarOutcome.MINIMIZE),\n",
    "                  ScalarOutcome('Irrigation', ScalarOutcome.MINIMIZE)]\n"
   ]
  },
  {
   "cell_type": "code",
   "execution_count": 4,
   "metadata": {
    "tags": []
   },
   "outputs": [],
   "source": [
    "#Problem definition\n",
    "problem = to_problem(model, searchover=\"levers\")"
   ]
  },
  {
   "cell_type": "markdown",
   "metadata": {},
   "source": [
    "Run definition"
   ]
  },
  {
   "cell_type": "code",
   "execution_count": 5,
   "metadata": {
    "tags": []
   },
   "outputs": [
    {
     "data": {
      "text/plain": [
       "'C:\\\\Users\\\\whitl\\\\OneDrive\\\\Documenten\\\\MASTER\\\\Year 2\\\\THESIS\\\\16.02.22.Multiobjective\\\\Multiobjective-multi-reservoir-control-d50e4da0f6a9a9c852b4904e640299adc96714bb\\\\ZambeziSmashPython\\\\runs\\\\HPCtest1_200nfe_2seed'"
      ]
     },
     "execution_count": 5,
     "metadata": {},
     "output_type": "execute_result"
    }
   ],
   "source": [
    "nfe = 200 #\n",
    "seeds = 2\n",
    "run_comment = 'HPCtest1'\n",
    "run_label = f\"{run_comment}_{nfe}nfe_{seeds}seed\"\n",
    "\n",
    "os.chdir(f'../runs/{run_label}')\n",
    "os.getcwd()"
   ]
  },
  {
   "cell_type": "markdown",
   "metadata": {},
   "source": [
    "Change the load archives method of the ArchiveLogger class"
   ]
  },
  {
   "cell_type": "code",
   "execution_count": 6,
   "metadata": {
    "tags": []
   },
   "outputs": [],
   "source": [
    "import tarfile \n",
    "def alternative_load_archives(filename): #cls,\n",
    "    archives = {}\n",
    "    with tarfile.open(os.path.abspath(filename)) as fh:\n",
    "        for entry in fh.getmembers():\n",
    "            if entry.name.endswith(\"csv\"):\n",
    "                key = entry.name.split(\"/\")[1][:-4]\n",
    "                archives[int(key)] = pd.read_csv(fh.extractfile(entry), index_col=0)\n",
    "    return archives\n",
    "\n",
    "ArchiveLogger.load_archives = alternative_load_archives"
   ]
  },
  {
   "cell_type": "markdown",
   "metadata": {},
   "source": [
    "Merge convergences "
   ]
  },
  {
   "cell_type": "code",
   "execution_count": 7,
   "metadata": {
    "tags": []
   },
   "outputs": [],
   "source": [
    "convergences = []\n",
    "for i in range(seeds):\n",
    "    df = pd.read_csv(f\"convergence{i}.csv\")\n",
    "    convergences.append(df)\n",
    "    #f'convergence{i}' = pd.read_csv(f\"{run_name}/convergence{i}.csv\") \n",
    "    #print(f'convergence{i}')"
   ]
  },
  {
   "cell_type": "code",
   "execution_count": 8,
   "metadata": {
    "tags": []
   },
   "outputs": [],
   "source": [
    "# Load the archives\n",
    "all_archives = []\n",
    "for i in range(seeds):\n",
    "    archives = ArchiveLogger.load_archives(f\"archives/{i}.csv\")\n",
    "        #archives.items()[nfe] =\n",
    "        #archives = archives.loc[:, ~archives.columns.str.contains('^Unnamed')]\n",
    "    all_archives.append(archives)\n"
   ]
  },
  {
   "cell_type": "code",
   "execution_count": 9,
   "metadata": {
    "tags": []
   },
   "outputs": [],
   "source": [
    "# Create the results list\n",
    "results_list = []\n",
    "for i in range(seeds):\n",
    "    result = pd.read_csv(f\"results_seed{i}.csv\")\n",
    "        #archives.items()[nfe] =\n",
    "        #archives = archives.loc[:, ~archives.columns.str.contains('^Unnamed')]\n",
    "    results_list.append(result)"
   ]
  },
  {
   "cell_type": "code",
   "execution_count": 10,
   "metadata": {
    "tags": []
   },
   "outputs": [
    {
     "name": "stdout",
     "output_type": "stream",
     "text": [
      "reference_set          v0        v1        v2        v3        v4        v5        v6  \\\n",
      "0 -0.325469 -0.577795 -0.175057 -0.448714 -0.578928 -0.085247  0.726441   \n",
      "1  0.231317  0.004498  0.833010  0.092232 -0.088696  0.415264  0.835388   \n",
      "2 -1.000000  0.434930  0.806612  0.013797  0.173865  0.153885 -0.188325   \n",
      "3  0.233911 -0.361372 -0.390672 -0.851481 -0.095891  0.670568  0.136934   \n",
      "4  0.107047 -1.000000 -1.000000  0.551301  0.537492  0.418799 -0.316820   \n",
      "5  0.217190  0.082346  0.157060  0.236828 -0.089487  0.123352 -0.005203   \n",
      "6 -0.154739 -0.010442 -0.307944 -0.068954 -0.064165 -0.000049  0.006625   \n",
      "\n",
      "         v7        v8        v9  ...      v223      v224      v225      v226  \\\n",
      "0  0.414060 -0.264437 -0.637177  ...  0.543476 -0.812506  0.627552 -0.145285   \n",
      "1 -0.427779  0.612264  0.980438  ...  0.117421  0.439603 -0.389140 -0.671116   \n",
      "2  0.329232  0.221989 -0.058193  ... -1.000000 -0.475153  1.000000 -0.358205   \n",
      "3 -0.454027  0.445447 -0.363317  ... -0.882609  0.840847  0.969780 -0.766155   \n",
      "4  0.459070 -0.015054 -1.000000  ...  1.000000 -0.235420  0.943457 -1.000000   \n",
      "5  0.490206 -0.007152 -0.108224  ...  0.247100 -0.187072  0.135663 -0.402924   \n",
      "6  0.177938  0.353223 -0.380857  ...  0.014937 -0.147959  0.079342 -0.145006   \n",
      "\n",
      "       v227      v228      v229  Hydropower   Environment  Irrigation  \n",
      "0  0.339816  0.437221  0.489673   15.152814  2.840048e+06    1.562261  \n",
      "1 -0.315402 -0.687357  0.900259   19.212641  2.143695e+06    1.930708  \n",
      "2  0.383792  0.307683  0.250851   18.475305  2.165782e+06    1.719956  \n",
      "3 -0.619638 -0.839869  0.505171   17.851673  2.345352e+06    1.009236  \n",
      "4  0.637577  1.000000  0.428033   18.913433  2.206427e+06    1.497295  \n",
      "5 -0.142403 -0.166914 -0.152791   14.307000  3.309455e+06    1.017374  \n",
      "6 -0.166676  0.001478  0.050450   15.725651  2.393330e+06    1.009736  \n",
      "\n",
      "[7 rows x 233 columns]\n",
      "reference_set type is <class 'pandas.core.frame.DataFrame'>\n"
     ]
    }
   ],
   "source": [
    "# Define the reference list\n",
    "reference_set = epsilon_nondominated(results_list, [0.8] * len(model.outcomes), problem)  # [0.05]\n",
    "print('reference_set', reference_set)\n",
    "print('reference_set type is', type(reference_set))"
   ]
  },
  {
   "cell_type": "code",
   "execution_count": 11,
   "metadata": {
    "tags": []
   },
   "outputs": [],
   "source": [
    "#Define the hypervolumemetric\n",
    "hv = HypervolumeMetric(reference_set, problem)"
   ]
  },
  {
   "cell_type": "code",
   "execution_count": 12,
   "metadata": {},
   "outputs": [],
   "source": [
    "# Calculate the metrics\n",
    "metrics_by_seed = []\n",
    "for archives in all_archives:\n",
    "    metrics = []\n",
    "    for nfe, archive in archives.items():\n",
    "        scores = {\n",
    "            \"hypervolume\": hv.calculate(archive),\n",
    "            \"nfe\": int(nfe),\n",
    "        }\n",
    "        metrics.append(scores)\n",
    "    metrics = pd.DataFrame.from_dict(metrics)\n",
    "\n",
    "    # sort metrics by number of function evaluations\n",
    "    metrics.sort_values(by=\"nfe\", inplace=True)\n",
    "    metrics_name = 'metrics.csv'\n",
    "    #metrics.to_csv(os.path.join(cwd, metrics_name))\n",
    "\n",
    "    metrics_by_seed.append(metrics)"
   ]
  },
  {
   "cell_type": "code",
   "execution_count": 13,
   "metadata": {
    "tags": []
   },
   "outputs": [
    {
     "data": {
      "image/png": "[encoded data removed]",
      "text/plain": [
       "<Figure size 800x1200 with 2 Axes>"
      ]
     },
     "metadata": {},
     "output_type": "display_data"
    }
   ],
   "source": [
    "# Visualize convergence metrics\n",
    "sns.set_style(\"white\")\n",
    "fig, axes = plt.subplots(nrows=2, figsize=(8, 12), sharex=True)\n",
    "\n",
    "ax1, ax2 = axes\n",
    "\n",
    "for metrics, convergence in zip(metrics_by_seed, convergences):\n",
    "    ax1.plot(metrics.nfe, metrics.hypervolume)\n",
    "    ax1.set_ylabel(\"hypervolume\")\n",
    "\n",
    "    ax2.plot(convergence.nfe, convergence.epsilon_progress)\n",
    "    ax2.set_ylabel(\"$\\epsilon$ progress\")\n",
    "    \n",
    "sns.despine(fig)\n",
    "\n",
    "plt.show()"
   ]
  },
  {
   "cell_type": "code",
   "execution_count": 14,
   "metadata": {},
   "outputs": [
    {
     "name": "stdout",
     "output_type": "stream",
     "text": [
      "[   hypervolume  nfe\n",
      "0     0.000000    0\n",
      "1     0.359602  100\n",
      "2     0.529927  295,    hypervolume  nfe\n",
      "0     0.000000    0\n",
      "1     0.326479  100\n",
      "2     0.573456  292]\n"
     ]
    }
   ],
   "source": [
    "print(metrics_by_seed)"
   ]
  },
  {
   "cell_type": "code",
   "execution_count": null,
   "metadata": {},
   "outputs": [],
   "source": []
  },
  {
   "cell_type": "code",
   "execution_count": null,
   "metadata": {},
   "outputs": [],
   "source": []
  }
 ],
 "metadata": {
  "kernelspec": {
   "display_name": "Python 3 (ipykernel)",
   "language": "python",
   "name": "python3"
  },
  "language_info": {
   "codemirror_mode": {
    "name": "ipython",
    "version": 3
   },
   "file_extension": ".py",
   "mimetype": "text/x-python",
   "name": "python",
   "nbconvert_exporter": "python",
   "pygments_lexer": "ipython3",
   "version": "3.9.18"
  }
 },
 "nbformat": 4,
 "nbformat_minor": 4
}
